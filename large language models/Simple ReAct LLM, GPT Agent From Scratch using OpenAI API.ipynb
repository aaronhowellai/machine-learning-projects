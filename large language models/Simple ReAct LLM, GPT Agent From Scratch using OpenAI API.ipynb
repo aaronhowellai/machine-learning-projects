{
  "nbformat": 4,
  "nbformat_minor": 0,
  "metadata": {
    "colab": {
      "provenance": [],
      "authorship_tag": "ABX9TyOCLlfjVr7HB6+WMiZsFP50",
      "include_colab_link": true
    },
    "kernelspec": {
      "name": "python3",
      "display_name": "Python 3"
    },
    "language_info": {
      "name": "python"
    }
  },
  "cells": [
    {
      "cell_type": "markdown",
      "metadata": {
        "id": "view-in-github",
        "colab_type": "text"
      },
      "source": [
        "<a href=\"https://colab.research.google.com/github/aaronhowellai/machine-learning-projects/blob/main/large%20language%20models/Simple%20ReAct%20LLM%2C%20GPT%20Agent%20From%20Scratch%20using%20OpenAI%20API.ipynb\" target=\"_parent\"><img src=\"https://colab.research.google.com/assets/colab-badge.svg\" alt=\"Open In Colab\"/></a>"
      ]
    },
    {
      "cell_type": "markdown",
      "source": [
        "# **🤖 Simple ReAct Agent From Scratch using OpenAI Assistants API**\n",
        "This notebook follows teaching content from the **Deeplearning.AI** course on [AI Agents in LangGraph](https://www.deeplearning.ai/short-courses/ai-agents-in-langgraph/), that encourages its students to code along with the lectures. The following code will be my implementation of the teaching material.\n",
        "\n",
        "## **✅ The Objective:**\n",
        "* **Build an agent from scratch**, and understand the division of tasks between the LLM and the code around the LLM.\n",
        "\n",
        "\n"
      ],
      "metadata": {
        "id": "lLxKFz9jNnuI"
      }
    },
    {
      "cell_type": "markdown",
      "source": [
        "_______"
      ],
      "metadata": {
        "id": "ZN7LIZp0PfQ9"
      }
    },
    {
      "cell_type": "markdown",
      "source": [
        "# **Key Design Patterns of Agentic Workflows** via Andrew Ng\n",
        "1. Planning\n",
        "2. Knowing what tools to use\n",
        "3. Reflection\n",
        "4. Multi-agent Communication\n",
        "  * Role playing\n",
        "5. Memory\n",
        "  * Tracking results and progress over multiple steps"
      ],
      "metadata": {
        "id": "Hp_tZuJRQ3x_"
      }
    },
    {
      "cell_type": "markdown",
      "source": [
        "  * Helpful capabiliies for building agents:\n",
        "    * Human-in-the-loop input\n",
        "    * Persistent memory to save states of information, building what is similar to a context window in an LLM chat window"
      ],
      "metadata": {
        "id": "GCritKSdS-wB"
      }
    },
    {
      "cell_type": "markdown",
      "source": [
        "*  **OpenAI Assistants API** (client.beta.threads).\n",
        "  * Simulate ReAct agent using threads, assistant creation, and message sequencing."
      ],
      "metadata": {
        "id": "DMoUCpzRVQn_"
      }
    },
    {
      "cell_type": "code",
      "execution_count": 17,
      "metadata": {
        "id": "HoyHf56YNger"
      },
      "outputs": [],
      "source": [
        "# import packages\n",
        "import openai\n",
        "import re\n",
        "import time\n",
        "\n",
        "import httpx\n",
        "from openai import OpenAI\n",
        "client = OpenAI(\n",
        "    api_key=\" \" # redacted for privacy\n",
        ")"
      ]
    },
    {
      "cell_type": "code",
      "source": [
        "# example response\n",
        "response = client.responses.create(\n",
        "    model='gpt-4o-mini',\n",
        "    input='Write a one-sentence Haiku about Ai Engineering'\n",
        ")\n",
        "\n",
        "print(response.output_text)"
      ],
      "metadata": {
        "colab": {
          "base_uri": "https://localhost:8080/",
          "height": 0
        },
        "id": "oKyndCIlWcrp",
        "outputId": "2d3899c8-6715-450a-aa61-945930d1d57e"
      },
      "execution_count": 11,
      "outputs": [
        {
          "output_type": "stream",
          "name": "stdout",
          "text": [
            "Lines of code entwined,  \n",
            "Dreams forged in silicon's glow,  \n",
            "Future's mind awakens.  \n"
          ]
        }
      ]
    },
    {
      "cell_type": "markdown",
      "source": [
        "## **Breakdown of Sports Car Weight Assistant**\n",
        "1. **Agent class**: Handles the loop logic and prompt structure\n",
        "2. **Actions**: `calculate`, `average_car_weight` as callable Python functions.\n",
        "3. **Regex Action Detection**\n",
        "4. **Prompt format**: `assistant.instructions`\n",
        "5. **Loop**: Driven by `Observation:` inputs and re-running the assistant with each new mesaage"
      ],
      "metadata": {
        "id": "GFXCTASlf3yL"
      }
    },
    {
      "cell_type": "code",
      "source": [
        "# actions\n",
        "def calculate(what):\n",
        "  return str(eval(what))\n",
        "\n",
        "def average_car_weight(name):\n",
        "  name = name.lower()\n",
        "  if \"mazda mx-5\" in name:\n",
        "    return \"A Mazda MX-5 weighs around 2,400 lbs\"\n",
        "  elif \"porsche 911\" in name:\n",
        "    return \"A Porsche 911 weighs around 3,400 lbs\"\n",
        "  elif \"lamborghini aventador\" in name:\n",
        "    return \"A Lamborghini Aventador weighs around 3,500 lbs\"\n",
        "  else:\n",
        "    return \"An average sports car weighs about 3,000 lbs\"\n",
        "\n",
        "known_actions = {\n",
        "    'calculate': calculate,\n",
        "    'average_car_weight': average_car_weight\n",
        "}\n",
        "\n",
        "# prompt\n",
        "base_prompt = \"\"\"\n",
        "You run in a loop of Thought, Action, PAUSE, Observation.\n",
        "At the end of the loop, you output an Answer.\n",
        "\n",
        "Use Thought to describe your thoughts about the question you have been asked.\n",
        "Use one or more Action steps to get the information you need - then return PAUSE.\n",
        "Observation will be the result of running those actions.\n",
        "\n",
        "Your available actions are:\n",
        "\n",
        "calculate:\n",
        "e.g. calculate: 3400 + 2400\n",
        "\n",
        "average_car_weight:\n",
        "e.g. average_car_weight: Porsche 911\n",
        "\n",
        "Example session:\n",
        "\n",
        "Question: How much does a Lamborghini Aventador weigh?\n",
        "Thought: I should look up the car's weight using average_car_weight\n",
        "Action: average_car_weight: Lamborghini Aventador\n",
        "PAUSE\n",
        "\n",
        "You will be called again with this:\n",
        "Observation: A Lamborghini Aventador weighs around 3,500 lbs\n",
        "\n",
        "Then you output:\n",
        "(When you give the final answer, use this conversational format)\n",
        "Answer: The Mazda MX-5 (2,400 lbs), Porsche 911 (3,400 lbs), and Lamborghini Aventador (3,500 lbs) have a combined weight of 9,300 lbs.\n",
        "\n",
        "\"\"\".strip()\n",
        "\n",
        "# ReAct agent class using assistants api\n",
        "class ReActAgent:\n",
        "  def __init__(self, prompt=base_prompt, model=\"gpt-4o-mini\"):\n",
        "    self.model = model\n",
        "    self.prompt = prompt\n",
        "    self.assistant = client.beta.assistants.create(\n",
        "        name=\"ReActCarWeightAgent\",\n",
        "        instructions=self.prompt,\n",
        "        model=self.model\n",
        "    )\n",
        "    self.thread = client.beta.threads.create()\n",
        "    self.action_re = re.compile(r\"^Action: (\\w+): (.*)$\")\n",
        "\n",
        "  def run(self, question, max_turns=5, poll_delay=1):\n",
        "    print(f\"[User] {question}\")\n",
        "    client.beta.threads.messages.create(\n",
        "        thread_id=self.thread.id,\n",
        "        role='user',\n",
        "        content=question\n",
        "    )\n",
        "\n",
        "    for turn in range(max_turns):\n",
        "      run = client.beta.threads.runs.create(\n",
        "          thread_id=self.thread.id,\n",
        "          assistant_id=self.assistant.id,\n",
        "      )\n",
        "\n",
        "      # poll for completion\n",
        "      while True:\n",
        "        time.sleep(poll_delay)\n",
        "        run_status = client.beta.threads.runs.retrieve(\n",
        "            thread_id=self.thread.id,\n",
        "            run_id=run.id\n",
        "        )\n",
        "        if run_status.status in {'completed', 'failed'}:\n",
        "          break\n",
        "\n",
        "      if run_status.status == 'failed':\n",
        "        print('[!] Run failed.')\n",
        "        return\n",
        "\n",
        "      # get assistant's latest message\n",
        "      messages = client.beta.threads.messages.list(thread_id=self.thread.id)\n",
        "      message_content = messages.data[0].content[0].text.value\n",
        "      print(f'[Assistant] {message_content}')\n",
        "\n",
        "      # check for action\n",
        "      matches = self.action_re.findall(message_content)\n",
        "      if matches:\n",
        "        for action, arg in matches:\n",
        "          if action in known_actions:\n",
        "            result = known_actions[action](arg)\n",
        "            print(f'[Observation] {result}')\n",
        "            client.beta.threads.messages.create(\n",
        "                thread_id=self.thread.id,\n",
        "                role='user',\n",
        "                content=f'Observation {result}'\n",
        "            )\n",
        "        else:\n",
        "          print(f'[!] Unknown action: {action}')\n",
        "          return\n",
        "\n",
        "      else:\n",
        "          break"
      ],
      "metadata": {
        "id": "cyv0vc9LW4qh"
      },
      "execution_count": 28,
      "outputs": []
    },
    {
      "cell_type": "code",
      "source": [
        "agent = ReActAgent(prompt=base_prompt)\n",
        "agent.run(\"What is the combined weight of a Mazda MX-5, a Porsche 911, and a Lamborghini Aventador?\")"
      ],
      "metadata": {
        "colab": {
          "base_uri": "https://localhost:8080/"
        },
        "id": "DL5uqxGEoU9G",
        "outputId": "bdcb5238-b71a-4e1f-f90d-dc50efbcdc59"
      },
      "execution_count": 25,
      "outputs": [
        {
          "output_type": "stream",
          "name": "stderr",
          "text": [
            "/tmp/ipython-input-24-2531232644.py:62: DeprecationWarning: The Assistants API is deprecated in favor of the Responses API\n",
            "  self.thread = client.beta.threads.create()\n"
          ]
        },
        {
          "output_type": "stream",
          "name": "stdout",
          "text": [
            "[User] What is the combined weight of a Mazda MX-5, a Porsche 911, and a Lamborghini Aventador?\n"
          ]
        },
        {
          "output_type": "stream",
          "name": "stderr",
          "text": [
            "/tmp/ipython-input-24-2531232644.py:67: DeprecationWarning: The Assistants API is deprecated in favor of the Responses API\n",
            "  client.beta.threads.messages.create(\n",
            "/tmp/ipython-input-24-2531232644.py:74: DeprecationWarning: The Assistants API is deprecated in favor of the Responses API\n",
            "  run = client.beta.threads.runs.create(\n",
            "/tmp/ipython-input-24-2531232644.py:82: DeprecationWarning: The Assistants API is deprecated in favor of the Responses API\n",
            "  run_status = client.beta.threads.runs.retrieve(\n",
            "/tmp/ipython-input-24-2531232644.py:94: DeprecationWarning: The Assistants API is deprecated in favor of the Responses API\n",
            "  messages = client.beta.threads.messages.list(thread_id=self.thread.id)\n"
          ]
        },
        {
          "output_type": "stream",
          "name": "stdout",
          "text": [
            "[Assistant] Thought: To find the combined weight of these three cars, I will need to retrieve the individual weights of each car first using the average_car_weight action.\n",
            "\n",
            "Action: average_car_weight: Mazda MX-5  \n",
            "Action: average_car_weight: Porsche 911  \n",
            "Action: average_car_weight: Lamborghini Aventador  \n",
            "PAUSE\n"
          ]
        }
      ]
    },
    {
      "cell_type": "code",
      "source": [
        "agent.run(\"Observation: A Mazda MX-5 weighs around 2,400 lbs\")\n",
        "agent.run(\"Observation: A Porsche 911 weighs around 3,400 lbs\")\n",
        "agent.run(\"Observation: A Lamborghini Aventador weighs around 3,500 lbs\")"
      ],
      "metadata": {
        "colab": {
          "base_uri": "https://localhost:8080/"
        },
        "id": "neGPm1dRoj-k",
        "outputId": "e03bd60a-95a1-496c-8231-7ce7da6a7e18"
      },
      "execution_count": 26,
      "outputs": [
        {
          "output_type": "stream",
          "name": "stdout",
          "text": [
            "[User] Observation: A Mazda MX-5 weighs around 2,400 lbs\n"
          ]
        },
        {
          "output_type": "stream",
          "name": "stderr",
          "text": [
            "/tmp/ipython-input-24-2531232644.py:67: DeprecationWarning: The Assistants API is deprecated in favor of the Responses API\n",
            "  client.beta.threads.messages.create(\n",
            "/tmp/ipython-input-24-2531232644.py:74: DeprecationWarning: The Assistants API is deprecated in favor of the Responses API\n",
            "  run = client.beta.threads.runs.create(\n",
            "/tmp/ipython-input-24-2531232644.py:82: DeprecationWarning: The Assistants API is deprecated in favor of the Responses API\n",
            "  run_status = client.beta.threads.runs.retrieve(\n",
            "/tmp/ipython-input-24-2531232644.py:94: DeprecationWarning: The Assistants API is deprecated in favor of the Responses API\n",
            "  messages = client.beta.threads.messages.list(thread_id=self.thread.id)\n"
          ]
        },
        {
          "output_type": "stream",
          "name": "stdout",
          "text": [
            "[Assistant] Thought: I have the weight of the Mazda MX-5. Now, I still need the weights of the Porsche 911 and Lamborghini Aventador to proceed with the calculations.\n",
            "\n",
            "Action: average_car_weight: Porsche 911  \n",
            "Action: average_car_weight: Lamborghini Aventador  \n",
            "PAUSE\n",
            "[User] Observation: A Porsche 911 weighs around 3,400 lbs\n",
            "[Assistant] Thought: I now have the weights of the Mazda MX-5 and Porsche 911. I still need the weight of the Lamborghini Aventador to find the combined weight of all three cars.\n",
            "\n",
            "Action: average_car_weight: Lamborghini Aventador  \n",
            "PAUSE\n",
            "[User] Observation: A Lamborghini Aventador weighs around 3,500 lbs\n",
            "[Assistant] Thought: Now that I have the weights of all three cars—Mazda MX-5 (2,400 lbs), Porsche 911 (3,400 lbs), and Lamborghini Aventador (3,500 lbs)—I can calculate their combined weight.\n",
            "\n",
            "Action: calculate: 2400 + 3400 + 3500  \n",
            "PAUSE\n"
          ]
        }
      ]
    },
    {
      "cell_type": "code",
      "source": [
        "agent.run(\"Observation: 9300\")"
      ],
      "metadata": {
        "colab": {
          "base_uri": "https://localhost:8080/"
        },
        "id": "kYP9PQSQsxzo",
        "outputId": "2afc3ebb-6fad-4e69-946a-b2166148551e"
      },
      "execution_count": 27,
      "outputs": [
        {
          "output_type": "stream",
          "name": "stdout",
          "text": [
            "[User] Observation: 9300\n"
          ]
        },
        {
          "output_type": "stream",
          "name": "stderr",
          "text": [
            "/tmp/ipython-input-24-2531232644.py:67: DeprecationWarning: The Assistants API is deprecated in favor of the Responses API\n",
            "  client.beta.threads.messages.create(\n",
            "/tmp/ipython-input-24-2531232644.py:74: DeprecationWarning: The Assistants API is deprecated in favor of the Responses API\n",
            "  run = client.beta.threads.runs.create(\n",
            "/tmp/ipython-input-24-2531232644.py:82: DeprecationWarning: The Assistants API is deprecated in favor of the Responses API\n",
            "  run_status = client.beta.threads.runs.retrieve(\n",
            "/tmp/ipython-input-24-2531232644.py:94: DeprecationWarning: The Assistants API is deprecated in favor of the Responses API\n",
            "  messages = client.beta.threads.messages.list(thread_id=self.thread.id)\n"
          ]
        },
        {
          "output_type": "stream",
          "name": "stdout",
          "text": [
            "[Assistant] Answer: The combined weight of a Mazda MX-5, a Porsche 911, and a Lamborghini Aventador is 9,300 lbs.\n"
          ]
        }
      ]
    },
    {
      "cell_type": "code",
      "source": [],
      "metadata": {
        "id": "s86Vkc2Ws6_Q"
      },
      "execution_count": null,
      "outputs": []
    }
  ]
}