{
  "nbformat": 4,
  "nbformat_minor": 0,
  "metadata": {
    "colab": {
      "provenance": [],
      "authorship_tag": "ABX9TyODBipFM4r04rTpQvTZaWoj",
      "include_colab_link": true
    },
    "kernelspec": {
      "name": "python3",
      "display_name": "Python 3"
    },
    "language_info": {
      "name": "python"
    }
  },
  "cells": [
    {
      "cell_type": "markdown",
      "metadata": {
        "id": "view-in-github",
        "colab_type": "text"
      },
      "source": [
        "<a href=\"https://colab.research.google.com/github/aaronhowellai/machine-learning-projects/blob/main/machine%20learning%20algorithms/theory/deep%20learning/computer%20vision/Understanding%20CNNs.ipynb\" target=\"_parent\"><img src=\"https://colab.research.google.com/assets/colab-badge.svg\" alt=\"Open In Colab\"/></a>"
      ]
    },
    {
      "cell_type": "markdown",
      "source": [
        "# **Undestanding CNNs** 🕸️\n",
        "\n",
        "## **Part of a 3-Part Series:** Convolutional Neural Networks, Part Two\n",
        "* An introduction to CNNs, following Pierian Training's online Udemy course \"PyTorch for Deep Learning with Python\" bootcamp.\n",
        "\n",
        "* As part of an introduction to CNNs for image processing and multi-class classification, I explore:\n",
        "  * Image Filters & Kernels\n",
        "  * Convolutional Layers\n",
        "  * Pooling Layers"
      ],
      "metadata": {
        "id": "cCp9UErjLCHq"
      }
    },
    {
      "cell_type": "markdown",
      "source": [
        "## **What is Computer Vision?**\n",
        "* Computer Vision is a general term for the use of computer programs to process image data, and a prominent field in modern artificial intelligence, for tasks such as image classification, object detection and biometric verification.\n",
        "  * [Wikipedia](https://en.wikipedia.org/wiki/Computer_vision)"
      ],
      "metadata": {
        "id": "WrgIjSbmNDxP"
      }
    },
    {
      "cell_type": "markdown",
      "source": [
        "## **What are Convolutional Neural Networks?**\n",
        "* A CNN is a Neural Network Architecture that are extremely effective at processing with image data.\n",
        "#### ***Below is an example of a CNN processing an image being classified to a label from 1000 different labels with a probability score as an output:***\n",
        "\n",
        "![image description](https://raw.githubusercontent.com/aaronhowellai/machine-learning-projects/main/machine%20learning%20concepts/cnn%20architecture.png)\n",
        "\n",
        "#### ***Below is an example of a the AlexNet CNN Architecture:***\n",
        "\n",
        "![image description](https://raw.githubusercontent.com/aaronhowellai/machine-learning-projects/main/machine%20learning%20concepts/alexnet%20architecture.png)\n",
        "\n",
        "* [Link](https://github.com/aaronhowellai/machine-learning-projects/blob/main/machine%20learning%20concepts/cnn%20architecture.png) to image on my \"/machine learning concepts\" GitHub page\n",
        "* [Link](https://github.com/aaronhowellai/machine-learning-projects/tree/main/machine%20learning%20concepts) to other Machine Learning concepts\n",
        "\n"
      ],
      "metadata": {
        "id": "4E1B7FmOMemx"
      }
    },
    {
      "cell_type": "markdown",
      "source": [
        "-------"
      ],
      "metadata": {
        "id": "hCKbiNAZMoKq"
      }
    },
    {
      "cell_type": "markdown",
      "source": [
        "# **Image Filters & Kernels** (Computer Vision)"
      ],
      "metadata": {
        "id": "Bj_aA_iCN_fK"
      }
    },
    {
      "cell_type": "markdown",
      "source": [
        "* Filters are essentially an **image kernel**, which is a small matrix applied to an entire image\n",
        "  * A blur filter is a popular filter that is often used in computer graphics programs and software such as Adobe Photoshop.\n",
        "\n",
        "  $$\n",
        "  \\begin{pmatrix}\n",
        "  0.0625 & 0.125 & 0.0625 \\\\\n",
        "  0.125 & 0.25 & 0.125 \\\\\n",
        "  0.0625 & 0.125 & 0.0625\n",
        "  \\end{pmatrix}\n",
        "  $$\n",
        "* When a filter (image kernel) matrix is applied to a pixel image, the pixel values are multiplied by the weights of the image kernel.\n",
        "  * CNNs choose the weights automatically\n",
        "* The weights are then summed from the entire matrix"
      ],
      "metadata": {
        "id": "UX4HwLcuOJ0N"
      }
    },
    {
      "cell_type": "markdown",
      "source": [
        "### **Convolutions**\n",
        "![image description](https://raw.githubusercontent.com/aaronhowellai/machine-learning-projects/main/machine%20learning%20concepts/convolutions%2C%20convolution%20kernels%2C%20computer%20vision.png)\n",
        "\n",
        "* In the context of CNNs, **image filters** are referred to as **convolutional kernels**\n",
        "* The process of passing them over an image is known as **convolution**.\n",
        "* Padding allows users to retain borders by adding an extra layer around the original pixels, preserving the image size and data.\n",
        "\n"
      ],
      "metadata": {
        "id": "j0Fz-FRCTubF"
      }
    },
    {
      "cell_type": "markdown",
      "source": [
        "# **Convolutional Layer**\n",
        "* **Objective:**\n",
        "  * Understand the architecture of a CNN that allows the network to select the optimal weights for the convolutional kernel in the **convolutional layer**.\n",
        "\n",
        "* In [Part One](https://github.com/aaronhowellai/machine-learning-projects/blob/main/machine%20learning%20algorithms/ANN%20Image%20Classifier%20with%20MNIST.ipynb) of this **3-part series** of notebooks on CNNs:\n",
        "  * I used an ANN to classify handwritten digits with the MNIST Dataset, resulting in >100k parameters for tiny 28x28 pixel images.\n",
        "    * High Definition images at this scale would demand in the 10's of millions of parameters and extremely long training times, which is not as efficient as CNNs.\n",
        "  * All the 2D (matrix) information is lost by flattening the image data into a 1D array.\n",
        "  * ANNs will only work well for image classification of very similar, well centred images.\n",
        "\n",
        "## **How can CNNs avoid restrictions on model performance?**\n",
        "* A CNN can use **convolutional layers** to avoid restrictions and bottlenecks on model performance\n",
        "\n",
        "## **When are convolutional layers created?**\n",
        "* A convolutional layer is created when multiple convolutional kernels are applied to the input image matrices\n",
        "  * The layer will then be trained to compute the best kernel weight values\n",
        "\n",
        "## **How do CNNs reduce the total number of parameters?**\n",
        "\n",
        "![image description](https://raw.githubusercontent.com/aaronhowellai/machine-learning-projects/main/machine%20learning%20concepts/local%20connectivity%2C%20reducing%20parameters%20with%20cnns.png)\n",
        "\n",
        "* CNNs reduce the number of total parameters by focusing on **local connectivity**\n",
        "* Not all neurons in the network get fully connected.\n",
        "  * Instead, neurons are only connected to a subset of local neurons in the next layer, which become the filters.\n",
        "\n",
        "* There can be multiple filters, and the weights are computed by the network."
      ],
      "metadata": {
        "id": "huKiC9E-d2fD"
      }
    },
    {
      "cell_type": "markdown",
      "source": [
        "## **Convolutional Layers for 3D Tensors**\n",
        "* Colour images can be thought of as 3D Tensors consisting of values between 0-255 (256 values) in Red, Green and Blue channels.\n",
        "* Colour photos can be split into 3 dimensions:\n",
        "  * Height (720)\n",
        "  * Width (1080)\n",
        "  * Colour Channels (3) (RGB)\n",
        "\n",
        "* `image.shape()`\n",
        "  * `(720,1280,3)`"
      ],
      "metadata": {
        "id": "mdE2XK1oVwat"
      }
    },
    {
      "cell_type": "markdown",
      "source": [
        "# **Pooling Layers** (aka Downsampling Layers)\n",
        "**What else apart from local connectivity can help reduce the number of parameters in a Convolutional Neural Network?**\n",
        "* Even when dealing with local connectivity, when dealing with color images and possibly 10s or 100s of filters, a CNN can contain a huge number of parameters.\n",
        "  * A dimensionality reduction technique in **Pooling layers** are utilised to perform downsampling operations on convolutional layers and their kernels.\n",
        "\n",
        "**How are convolutional kernel sizes reduced in pooling layers?**\n",
        "* Using subsampling.\n",
        "  * **Max pooling** defines the window size and stride length of a sampling window, and takes the max values within each of them.\n",
        "* `[[0,0,0,0],`\n",
        "* `[0,0,0,0],`\n",
        "* `[0,0,0,0],`\n",
        "* `[0,0,0,0]]`\n",
        "* For a convolutional kernel with 16 parameters like what is shown above, you could use:\n",
        "  * **Max Pooling:**\n",
        "    * Window: 2x2\n",
        "    * Stride: 2\n",
        "  * This would downsample it to the square root of the original parameter size (4).\n",
        "\n",
        "* Some information is lost, but the most important parts are still kept in the subsampling.\n",
        "\n",
        "* **Other types of pooling:**\n",
        "  * Average Pooling (Common)\n",
        "  * Global Pooling\n",
        "  * Sum Pooling\n",
        "  * Mixed Pooling\n",
        "  * LP Pooling\n",
        "  * Multi-scale Order-less Pooling (MOP)\n",
        "  * Super-pixel Pooling\n",
        "  * Compact Bilinear Pooling\n",
        "\n",
        "**What is another common technique to help reduce training times of CNNs?**\n",
        "* Another common technique used for training efficiency is called \"Dropout\".\n",
        "\n",
        "  * Dropout can be thought of as a form of regularization to help prevent overfitting.\n",
        "  * During training, the user can specify a percentage value for units to be  randomly dropped (turned off), along with their connections.\n"
      ],
      "metadata": {
        "id": "wJUxzVm2Y3lV"
      }
    },
    {
      "cell_type": "markdown",
      "source": [
        "# **What are some famous CNN architectures?**\n",
        "* LeNet-5 by Yann LeCun\n",
        "* AlexNet by Alex Krizhevsky et al.\n",
        "* GoogLeNet by Szegedy @ Google Research\n",
        "* ResNet by Kaiming He et al."
      ],
      "metadata": {
        "id": "9dAeAxHkhYbZ"
      }
    }
  ]
}