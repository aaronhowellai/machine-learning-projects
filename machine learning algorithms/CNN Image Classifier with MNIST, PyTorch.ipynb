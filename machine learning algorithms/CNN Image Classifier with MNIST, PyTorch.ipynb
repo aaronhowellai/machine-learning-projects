{
  "nbformat": 4,
  "nbformat_minor": 0,
  "metadata": {
    "colab": {
      "provenance": [],
      "include_colab_link": true
    },
    "kernelspec": {
      "name": "python3",
      "display_name": "Python 3"
    },
    "language_info": {
      "name": "python"
    }
  },
  "cells": [
    {
      "cell_type": "markdown",
      "metadata": {
        "id": "view-in-github",
        "colab_type": "text"
      },
      "source": [
        "<a href=\"https://colab.research.google.com/github/aaronhowellai/machine-learning-projects/blob/main/machine%20learning%20algorithms/CNN%20Image%20Classifier%20with%20MNIST%2C%20PyTorch.ipynb\" target=\"_parent\"><img src=\"https://colab.research.google.com/assets/colab-badge.svg\" alt=\"Open In Colab\"/></a>"
      ]
    },
    {
      "cell_type": "markdown",
      "source": [
        "# **99% Accurate Image Classification CNN with MNIST in PyTorch** 🔥\n",
        "\n",
        "## **Part of a 3-Part Series:** Convolutional Neural Networks, Part Three\n",
        "\n",
        "* [Link to Part One](https://github.com/aaronhowellai/machine-learning-projects/blob/main/machine%20learning%20algorithms/ANN%20Image%20Classifier%20with%20MNIST.ipynb)\n",
        "  * Introduction to CNNs\n",
        "  * ANN Image Classification with MNIST\n",
        "\n",
        "* [Link to Part Two](https://github.com/aaronhowellai/machine-learning-projects/blob/main/machine%20learning%20algorithms/theory/deep%20learning/computer%20vision/Understanding%20CNNs.ipynb)\n",
        "  * CNN Architecture Theory\n",
        "    * Image Filters & Kernels\n",
        "    * Convolutional Layers\n",
        "    * Pooling Layers\n",
        "\n",
        "* An introduction to CNNs, following Pierian Training's online Udemy course \"PyTorch for Deep Learning with Python\" bootcamp.\n",
        "\n",
        "  * This notebook focuses on using a Convolutional Neural Network to classify handwritten digits; **Multiclass Image Classification**\n",
        "  * In Part One of the series, I designed an 97% accuracy (on test set) ANN to classify the same handwritten digits that I will use here.\n",
        "    * The goal is to compare the ANN to the CNN to evaluate how CNNs improve upon the methods it uses for image processing and classification.\n",
        "\n",
        "  * **Key Metrics to compare will include:**\n",
        "    * Model Accuracy\n",
        "    * Number of parameters\n",
        "    * Dimensionality Reduction Techniques\n",
        "    * Training Time\n",
        "    * Ability to capture more dimensions of data (capture quality)\n",
        "\n",
        "#### **Results from Model Study**\n",
        "| **Metric** | **ANN Model** | **CNN Model** |\n",
        "| --- | --- | --- |\n",
        "| No. Parameters | ~100k | ~60k |\n",
        "| Training Time | ~2 Mins | ~3 Mins |\n",
        "| Percentage Accuracy | ~97% | ~99% |\n",
        "| Dimensionality Reduction | Not Applicable | (Max Pooling, Local Connectivity) |\n",
        "| Dimension Capture | 1D | 2D |\n",
        "\n",
        "\n"
      ],
      "metadata": {
        "id": "8lPuxbU9OkJL"
      }
    },
    {
      "cell_type": "markdown",
      "source": [
        "----------"
      ],
      "metadata": {
        "id": "ZNm1UzZYuUDV"
      }
    },
    {
      "cell_type": "code",
      "execution_count": 1,
      "metadata": {
        "id": "XL8GLOC_ObPd"
      },
      "outputs": [],
      "source": [
        "# import packages\n",
        "import numpy as np\n",
        "import pandas as pd\n",
        "import matplotlib.pyplot as plt\n",
        "%matplotlib inline\n",
        "import time\n",
        "import os\n",
        "from pathlib import Path\n",
        "\n",
        "# machine learning packages\n",
        "from sklearn.metrics import confusion_matrix\n",
        "\n",
        "# deep learning packages\n",
        "import torch, torch.nn as nn, torch.nn.functional as F\n",
        "import torchvision, torch.optim as optim\n",
        "from torchvision import datasets, transforms\n",
        "from torchvision.utils import make_grid\n",
        "from torch.utils.data import DataLoader, TensorDataset\n",
        "\n",
        "# settings\n",
        "# torch.set_printoptions(edgeitems=2)\n",
        "np.set_printoptions(formatter=dict(int=lambda x: f'{x:4}'))"
      ]
    },
    {
      "cell_type": "code",
      "source": [
        "# utils\n",
        "def plot_digit(image_data):\n",
        "  image = image_data.reshape(28,28)\n",
        "  plt.imshow(image, cmap='binary')\n",
        "  plt.axis('off')"
      ],
      "metadata": {
        "id": "28FTZND6SJTO"
      },
      "execution_count": 2,
      "outputs": []
    },
    {
      "cell_type": "markdown",
      "source": [
        "# **1. Download Data**"
      ],
      "metadata": {
        "id": "shkrd2u6Cs6O"
      }
    },
    {
      "cell_type": "code",
      "source": [
        "transform = transforms.ToTensor()"
      ],
      "metadata": {
        "id": "RzGFFZlxSMM7"
      },
      "execution_count": 3,
      "outputs": []
    },
    {
      "cell_type": "code",
      "source": [
        "# error handling for downloading data to a working dir (Training Set)\n",
        "try:\n",
        "  train_data = datasets.MNIST(root='/content',train=True,download=True,transform=transform) # for running in colab\n",
        "except Exception as e:\n",
        "  print(f'Error downloading MNIST dataset to /content: {e}')\n",
        "  print(f'Attempting to save to desktop instead...')\n",
        "\n",
        "  # get path to user desktop\n",
        "  desk_path = str(Path.home() / \"Desktop\")\n",
        "\n",
        "  # save the dataset to the desktop\n",
        "  train_data = datasets.MNIST(root=desk_path,train=True,download=True,transform=transform)\n",
        "  print(f'Train Dataset saved to: {desk_path}')"
      ],
      "metadata": {
        "id": "FFz4dFS3A7qN",
        "outputId": "f15cac6f-cb15-4a09-c9a6-e43146749d4d",
        "colab": {
          "base_uri": "https://localhost:8080/"
        }
      },
      "execution_count": 4,
      "outputs": [
        {
          "output_type": "stream",
          "name": "stderr",
          "text": [
            "100%|██████████| 9.91M/9.91M [00:00<00:00, 37.1MB/s]\n",
            "100%|██████████| 28.9k/28.9k [00:00<00:00, 1.05MB/s]\n",
            "100%|██████████| 1.65M/1.65M [00:00<00:00, 9.79MB/s]\n",
            "100%|██████████| 4.54k/4.54k [00:00<00:00, 6.00MB/s]\n"
          ]
        }
      ]
    },
    {
      "cell_type": "code",
      "source": [
        "# error handling for downloading data to a working dir (Test Set)\n",
        "try:\n",
        "  test_data = datasets.MNIST(root='/content',train=False,download=True,transform=transform) # for running in colab\n",
        "except Exception as e:\n",
        "  print(f'Error downloading MNIST dataset to /content: {e}')\n",
        "  print(f'Attempting to save to desktop instead...')\n",
        "\n",
        "  # get path to user desktop\n",
        "  desk_path = str(Path.home() / \"Desktop\")\n",
        "\n",
        "  # save the dataset to the desktop\n",
        "  test_data = datasets.MNIST(root=desk_path,train=False,download=True,transform=transform)\n",
        "  print(f'Test Dataset saved to: {desk_path}')"
      ],
      "metadata": {
        "id": "NmJu_Lc-CSNE"
      },
      "execution_count": 5,
      "outputs": []
    },
    {
      "cell_type": "code",
      "source": [
        "train_data"
      ],
      "metadata": {
        "colab": {
          "base_uri": "https://localhost:8080/"
        },
        "id": "JRQXOxgZCk7v",
        "outputId": "462695e5-a880-455d-f9bb-8de8876f5419"
      },
      "execution_count": 6,
      "outputs": [
        {
          "output_type": "execute_result",
          "data": {
            "text/plain": [
              "Dataset MNIST\n",
              "    Number of datapoints: 60000\n",
              "    Root location: /content\n",
              "    Split: Train\n",
              "    StandardTransform\n",
              "Transform: ToTensor()"
            ]
          },
          "metadata": {},
          "execution_count": 6
        }
      ]
    },
    {
      "cell_type": "code",
      "source": [
        "test_data"
      ],
      "metadata": {
        "colab": {
          "base_uri": "https://localhost:8080/"
        },
        "id": "T1K7wRtlCnVW",
        "outputId": "6cabc3bf-d16b-4681-f123-7bde19928f41"
      },
      "execution_count": 7,
      "outputs": [
        {
          "output_type": "execute_result",
          "data": {
            "text/plain": [
              "Dataset MNIST\n",
              "    Number of datapoints: 10000\n",
              "    Root location: /content\n",
              "    Split: Test\n",
              "    StandardTransform\n",
              "Transform: ToTensor()"
            ]
          },
          "metadata": {},
          "execution_count": 7
        }
      ]
    },
    {
      "cell_type": "markdown",
      "source": [
        "## **Set Batch Sizes**"
      ],
      "metadata": {
        "id": "ip6MH6MTCwYy"
      }
    },
    {
      "cell_type": "code",
      "source": [
        "train_loader = DataLoader(train_data, batch_size=10, shuffle=True)\n",
        "test_loader = DataLoader(test_data, batch_size=10, shuffle=False)"
      ],
      "metadata": {
        "id": "3cDMS2n3Cokc"
      },
      "execution_count": 8,
      "outputs": []
    },
    {
      "cell_type": "markdown",
      "source": [
        "# **2. Define a Convolutional Model**"
      ],
      "metadata": {
        "id": "FEUeJPX5DY5W"
      }
    },
    {
      "cell_type": "markdown",
      "source": [
        "## **Manual Convolutions**"
      ],
      "metadata": {
        "id": "2cFNshniFSER"
      }
    },
    {
      "cell_type": "markdown",
      "source": [
        "![image description](https://raw.githubusercontent.com/aaronhowellai/machine-learning-projects/main/machine%20learning%20concepts/convolutions%2C%20convolution%20kernels%2C%20computer%20vision.png)"
      ],
      "metadata": {
        "id": "lKxfY7OMILis"
      }
    },
    {
      "cell_type": "code",
      "source": [
        "# defining convoluional layers manually: for disambiguation when building the model class later on\n",
        "\n",
        "# 1. '1': 1 colour input channel: grayscale, normalised values\n",
        "# 2. '6': 6 output channels: feature extraction via layers such as edge detection\n",
        "# 3. '3': 3x3 kernel filter\n",
        "# 4. '1': stride = 1\n",
        "conv1 = nn.Conv2d(1,6,3,1) # ---> 6 convolutional kernels ---> pooling layer ---> conv2\n",
        "conv2 = nn.Conv2d(6,16,3,1)"
      ],
      "metadata": {
        "id": "uMIBKn7mDNuV"
      },
      "execution_count": 9,
      "outputs": []
    },
    {
      "cell_type": "code",
      "source": [
        "for i, (X_train, y_train) in enumerate(train_data):\n",
        "  break"
      ],
      "metadata": {
        "id": "Z50jCLCYGdvs"
      },
      "execution_count": 10,
      "outputs": []
    },
    {
      "cell_type": "code",
      "source": [
        "# reshape\n",
        "x = X_train.view(1,1,28,28)\n",
        "x.shape"
      ],
      "metadata": {
        "colab": {
          "base_uri": "https://localhost:8080/"
        },
        "id": "Pjrz3LnEGoWK",
        "outputId": "d33539f8-ddff-4816-8793-013e2c9fdab6"
      },
      "execution_count": 11,
      "outputs": [
        {
          "output_type": "execute_result",
          "data": {
            "text/plain": [
              "torch.Size([1, 1, 28, 28])"
            ]
          },
          "metadata": {},
          "execution_count": 11
        }
      ]
    },
    {
      "cell_type": "code",
      "source": [
        "# peform first convolution\n",
        "x = F.relu(conv1(x))"
      ],
      "metadata": {
        "id": "Nl2ZTwePGzsh"
      },
      "execution_count": 12,
      "outputs": []
    },
    {
      "cell_type": "code",
      "source": [
        "# border is reduced by pooling layer\n",
        "x.shape"
      ],
      "metadata": {
        "colab": {
          "base_uri": "https://localhost:8080/"
        },
        "id": "u2-5U-rjHTL_",
        "outputId": "580f637d-82a8-4aec-c390-b6bc89d8e3fe"
      },
      "execution_count": 13,
      "outputs": [
        {
          "output_type": "execute_result",
          "data": {
            "text/plain": [
              "torch.Size([1, 6, 26, 26])"
            ]
          },
          "metadata": {},
          "execution_count": 13
        }
      ]
    },
    {
      "cell_type": "code",
      "source": [
        "# kernel size = 2x2\n",
        "# stride = 2\n",
        "x = F.max_pool2d(x,2,2)"
      ],
      "metadata": {
        "id": "7tK7xZPlHU9t"
      },
      "execution_count": 14,
      "outputs": []
    },
    {
      "cell_type": "code",
      "source": [
        "x.shape"
      ],
      "metadata": {
        "colab": {
          "base_uri": "https://localhost:8080/"
        },
        "id": "VShbQXjqJ4sp",
        "outputId": "cb31cafb-fdeb-4049-96db-385306533aad"
      },
      "execution_count": 15,
      "outputs": [
        {
          "output_type": "execute_result",
          "data": {
            "text/plain": [
              "torch.Size([1, 6, 13, 13])"
            ]
          },
          "metadata": {},
          "execution_count": 15
        }
      ]
    },
    {
      "cell_type": "code",
      "source": [
        "x = F.relu(conv2(x))"
      ],
      "metadata": {
        "id": "8ArNBhDdJ6EV"
      },
      "execution_count": 16,
      "outputs": []
    },
    {
      "cell_type": "code",
      "source": [
        "x.shape"
      ],
      "metadata": {
        "colab": {
          "base_uri": "https://localhost:8080/"
        },
        "id": "xOUhWm39KKcq",
        "outputId": "7451a15c-c746-4c39-8ecd-46977e9f3d25"
      },
      "execution_count": 17,
      "outputs": [
        {
          "output_type": "execute_result",
          "data": {
            "text/plain": [
              "torch.Size([1, 16, 11, 11])"
            ]
          },
          "metadata": {},
          "execution_count": 17
        }
      ]
    },
    {
      "cell_type": "code",
      "source": [
        "x = F.max_pool2d(x,2,2)"
      ],
      "metadata": {
        "id": "UOKVFMCjKLK5"
      },
      "execution_count": 18,
      "outputs": []
    },
    {
      "cell_type": "code",
      "source": [
        "x.shape"
      ],
      "metadata": {
        "colab": {
          "base_uri": "https://localhost:8080/"
        },
        "id": "y9JOm5b7KWY9",
        "outputId": "3e175909-d62b-4cc7-a4b0-41ca9193b054"
      },
      "execution_count": 19,
      "outputs": [
        {
          "output_type": "execute_result",
          "data": {
            "text/plain": [
              "torch.Size([1, 16, 5, 5])"
            ]
          },
          "metadata": {},
          "execution_count": 19
        }
      ]
    },
    {
      "cell_type": "code",
      "source": [
        "# floor division\n",
        "11//2"
      ],
      "metadata": {
        "colab": {
          "base_uri": "https://localhost:8080/"
        },
        "id": "3_T-W-PFKYbS",
        "outputId": "e140161f-5f1d-4d66-f5ad-318c44fba810"
      },
      "execution_count": 20,
      "outputs": [
        {
          "output_type": "execute_result",
          "data": {
            "text/plain": [
              "5"
            ]
          },
          "metadata": {},
          "execution_count": 20
        }
      ]
    },
    {
      "cell_type": "code",
      "source": [
        "# flatten the data to be passed into fully connected layers for the multiclass classification\n",
        "x.view(-1,16*5*5).shape"
      ],
      "metadata": {
        "colab": {
          "base_uri": "https://localhost:8080/"
        },
        "id": "tD735hk0KaT1",
        "outputId": "e3bd1e9b-2dfe-4a5c-af79-4ac0ad45dd63"
      },
      "execution_count": 21,
      "outputs": [
        {
          "output_type": "execute_result",
          "data": {
            "text/plain": [
              "torch.Size([1, 400])"
            ]
          },
          "metadata": {},
          "execution_count": 21
        }
      ]
    },
    {
      "cell_type": "markdown",
      "source": [
        "## **Define a CNN Class**"
      ],
      "metadata": {
        "id": "qnRFHNFxLRVi"
      }
    },
    {
      "cell_type": "code",
      "source": [
        "class CNN(nn.Module):\n",
        "\n",
        "  def __init__(self):\n",
        "    super().__init__()\n",
        "    self.conv1 = nn.Conv2d(1,6,3,1)\n",
        "    self.conv2 = nn.Conv2d(6,16,3,1)\n",
        "    self.fc1 = nn.Linear(5*5*16,120)\n",
        "    self.fc2 = nn.Linear(120,84)\n",
        "    self.fc3 = nn.Linear(84,10) # 10 output classes\n",
        "\n",
        "  def forward(self,X):\n",
        "    X = F.relu(self.conv1(X))\n",
        "    X = F.max_pool2d(X,2,2)\n",
        "    X = F.relu(self.conv2(X))\n",
        "    X = F.max_pool2d(X,2,2)\n",
        "    X = X.view(-1,16*5*5)\n",
        "    X = F.relu(self.fc1(X))\n",
        "    X = F.relu(self.fc2(X))\n",
        "    X = self.fc3(X)\n",
        "    return F.log_softmax(X,dim=1)"
      ],
      "metadata": {
        "id": "wxdqgRNFLbQh"
      },
      "execution_count": 22,
      "outputs": []
    },
    {
      "cell_type": "code",
      "source": [
        "torch.manual_seed(42)\n",
        "model = CNN()\n",
        "model"
      ],
      "metadata": {
        "colab": {
          "base_uri": "https://localhost:8080/"
        },
        "id": "3t018TRJK5L9",
        "outputId": "61652d17-09ef-48e3-daaf-d8340610ec31"
      },
      "execution_count": 23,
      "outputs": [
        {
          "output_type": "execute_result",
          "data": {
            "text/plain": [
              "CNN(\n",
              "  (conv1): Conv2d(1, 6, kernel_size=(3, 3), stride=(1, 1))\n",
              "  (conv2): Conv2d(6, 16, kernel_size=(3, 3), stride=(1, 1))\n",
              "  (fc1): Linear(in_features=400, out_features=120, bias=True)\n",
              "  (fc2): Linear(in_features=120, out_features=84, bias=True)\n",
              "  (fc3): Linear(in_features=84, out_features=10, bias=True)\n",
              ")"
            ]
          },
          "metadata": {},
          "execution_count": 23
        }
      ]
    },
    {
      "cell_type": "code",
      "source": [
        "[print(param.numel()) for param in model.parameters()];"
      ],
      "metadata": {
        "colab": {
          "base_uri": "https://localhost:8080/"
        },
        "id": "MrvPIuL9P-zA",
        "outputId": "d1c392a7-dd06-441b-bfb4-7ca715094238"
      },
      "execution_count": 24,
      "outputs": [
        {
          "output_type": "stream",
          "name": "stdout",
          "text": [
            "54\n",
            "6\n",
            "864\n",
            "16\n",
            "48000\n",
            "120\n",
            "10080\n",
            "84\n",
            "840\n",
            "10\n"
          ]
        }
      ]
    },
    {
      "cell_type": "code",
      "source": [
        "cnn_param_numel = sum([54,\n",
        "6,\n",
        "864,\n",
        "16,\n",
        "48000,\n",
        "120,\n",
        "10080,\n",
        "84,\n",
        "840,\n",
        "10])"
      ],
      "metadata": {
        "id": "eNJqmm4eQUVh"
      },
      "execution_count": 25,
      "outputs": []
    },
    {
      "cell_type": "code",
      "source": [
        "print(f'This CNN has {cnn_param_numel} parameters instead of over 100k that was used in the ANN in Part One of this CNN series.')"
      ],
      "metadata": {
        "colab": {
          "base_uri": "https://localhost:8080/"
        },
        "id": "LUGABjAkQkwG",
        "outputId": "447613e1-da68-42e2-f7e2-da299d06c19c"
      },
      "execution_count": 26,
      "outputs": [
        {
          "output_type": "stream",
          "name": "stdout",
          "text": [
            "This CNN has 60074 parameters instead of over 100k that was used in the ANN in Part One of this CNN series.\n"
          ]
        }
      ]
    },
    {
      "cell_type": "code",
      "source": [
        "# define loss function optimizer\n",
        "criterion = nn.CrossEntropyLoss()\n",
        "optimizer = torch.optim.Adam(model.parameters(),lr=.001)"
      ],
      "metadata": {
        "id": "x6fdOpfbRVvp"
      },
      "execution_count": 27,
      "outputs": []
    },
    {
      "cell_type": "markdown",
      "source": [
        "# **3. Model Training**"
      ],
      "metadata": {
        "id": "OrJuevZOMfou"
      }
    },
    {
      "cell_type": "code",
      "source": [
        "start_time = time.time()\n",
        "\n",
        "# trackers\n",
        "n = 5\n",
        "epochs = n\n",
        "\n",
        "train_losses = []\n",
        "test_losses = []\n",
        "train_correct = []\n",
        "test_correct = []\n",
        "\n",
        "# for loop, epochs\n",
        "for i in range(epochs):\n",
        "\n",
        "  trn_corr = 0\n",
        "  tst_corr = 0\n",
        "\n",
        "  # train batches\n",
        "  for b,(X_train, y_train) in enumerate(train_loader):\n",
        "    b+=1\n",
        "\n",
        "    # apply the model to make predictions\n",
        "    y_pred = model(X_train)\n",
        "    loss = criterion(y_pred, y_train)\n",
        "\n",
        "    predicted = torch.max(y_pred.data,1)[1]\n",
        "    # true = 1, false = 0\n",
        "    batch_corr = (predicted == y_train).sum()\n",
        "    trn_corr+=batch_corr\n",
        "\n",
        "    # backprop\n",
        "    optimizer.zero_grad()\n",
        "    loss.backward()\n",
        "    optimizer.step()\n",
        "\n",
        "    # print every 600 images\n",
        "    accuracy = trn_corr.item()*100/(10*b)\n",
        "    if b%600==0:\n",
        "      print(f'Epoch: {i:2}  Batch: {b:4}  Loss: {loss.item():10.8f}  Accuracy: {accuracy:7.3f}%')\n",
        "\n",
        "  train_losses.append(loss)\n",
        "  train_correct.append(trn_corr)\n",
        "\n",
        "  # test batches\n",
        "  with torch.no_grad():\n",
        "    for b,(X_test,y_test) in enumerate(test_loader):\n",
        "\n",
        "      # apply the model\n",
        "      y_val = model(X_test)\n",
        "\n",
        "      # trackers\n",
        "      predicted = torch.max(y_val.data,1)[1]\n",
        "      tst_corr+=(predicted==y_test).sum()\n",
        "\n",
        "  loss = criterion(y_val,y_test)\n",
        "  test_losses.append(loss)\n",
        "  test_correct.append(tst_corr)\n",
        "\n",
        "\n",
        "# how long did training take\n",
        "current_time = time.time()\n",
        "total = current_time - start_time\n",
        "print(f'\\nDuration: {total/60:.0f} minutes')"
      ],
      "metadata": {
        "colab": {
          "base_uri": "https://localhost:8080/"
        },
        "id": "R9ZxVpbyPnqV",
        "outputId": "1de52535-80e6-4423-cc90-2c17a5dd1fd3"
      },
      "execution_count": 28,
      "outputs": [
        {
          "output_type": "stream",
          "name": "stdout",
          "text": [
            "Epoch:  0  Batch:  600  Loss: 0.04732788  Accuracy:  78.450%\n",
            "Epoch:  0  Batch: 1200  Loss: 0.07334672  Accuracy:  85.775%\n",
            "Epoch:  0  Batch: 1800  Loss: 0.31517217  Accuracy:  88.706%\n",
            "Epoch:  0  Batch: 2400  Loss: 0.02660071  Accuracy:  90.517%\n",
            "Epoch:  0  Batch: 3000  Loss: 0.00546683  Accuracy:  91.670%\n",
            "Epoch:  0  Batch: 3600  Loss: 0.00174800  Accuracy:  92.481%\n",
            "Epoch:  0  Batch: 4200  Loss: 0.53577399  Accuracy:  93.138%\n",
            "Epoch:  0  Batch: 4800  Loss: 0.05639455  Accuracy:  93.604%\n",
            "Epoch:  0  Batch: 5400  Loss: 0.00626617  Accuracy:  94.035%\n",
            "Epoch:  0  Batch: 6000  Loss: 0.02795628  Accuracy:  94.340%\n",
            "Epoch:  1  Batch:  600  Loss: 0.04767468  Accuracy:  97.650%\n",
            "Epoch:  1  Batch: 1200  Loss: 0.04082408  Accuracy:  97.775%\n",
            "Epoch:  1  Batch: 1800  Loss: 0.00163909  Accuracy:  97.878%\n",
            "Epoch:  1  Batch: 2400  Loss: 0.08794123  Accuracy:  97.825%\n",
            "Epoch:  1  Batch: 3000  Loss: 0.32062823  Accuracy:  97.813%\n",
            "Epoch:  1  Batch: 3600  Loss: 0.00038606  Accuracy:  97.847%\n",
            "Epoch:  1  Batch: 4200  Loss: 0.00096912  Accuracy:  97.912%\n",
            "Epoch:  1  Batch: 4800  Loss: 0.00044831  Accuracy:  97.900%\n",
            "Epoch:  1  Batch: 5400  Loss: 0.00225496  Accuracy:  97.930%\n",
            "Epoch:  1  Batch: 6000  Loss: 0.00681242  Accuracy:  97.935%\n",
            "Epoch:  2  Batch:  600  Loss: 0.00074814  Accuracy:  98.917%\n",
            "Epoch:  2  Batch: 1200  Loss: 0.00515039  Accuracy:  98.808%\n",
            "Epoch:  2  Batch: 1800  Loss: 0.00056845  Accuracy:  98.633%\n",
            "Epoch:  2  Batch: 2400  Loss: 0.00292042  Accuracy:  98.688%\n",
            "Epoch:  2  Batch: 3000  Loss: 0.35200140  Accuracy:  98.600%\n",
            "Epoch:  2  Batch: 3600  Loss: 0.01660297  Accuracy:  98.550%\n",
            "Epoch:  2  Batch: 4200  Loss: 0.00533875  Accuracy:  98.564%\n",
            "Epoch:  2  Batch: 4800  Loss: 0.00207869  Accuracy:  98.546%\n",
            "Epoch:  2  Batch: 5400  Loss: 0.00024359  Accuracy:  98.539%\n",
            "Epoch:  2  Batch: 6000  Loss: 0.00012401  Accuracy:  98.523%\n",
            "Epoch:  3  Batch:  600  Loss: 0.00041566  Accuracy:  98.733%\n",
            "Epoch:  3  Batch: 1200  Loss: 0.00554095  Accuracy:  98.867%\n",
            "Epoch:  3  Batch: 1800  Loss: 0.00038977  Accuracy:  98.939%\n",
            "Epoch:  3  Batch: 2400  Loss: 0.00001204  Accuracy:  98.854%\n",
            "Epoch:  3  Batch: 3000  Loss: 0.00153270  Accuracy:  98.883%\n",
            "Epoch:  3  Batch: 3600  Loss: 0.00734454  Accuracy:  98.878%\n",
            "Epoch:  3  Batch: 4200  Loss: 0.00015826  Accuracy:  98.905%\n",
            "Epoch:  3  Batch: 4800  Loss: 0.00652676  Accuracy:  98.900%\n",
            "Epoch:  3  Batch: 5400  Loss: 0.01615567  Accuracy:  98.881%\n",
            "Epoch:  3  Batch: 6000  Loss: 0.04241204  Accuracy:  98.877%\n",
            "Epoch:  4  Batch:  600  Loss: 0.00208809  Accuracy:  99.067%\n",
            "Epoch:  4  Batch: 1200  Loss: 0.21129768  Accuracy:  99.050%\n",
            "Epoch:  4  Batch: 1800  Loss: 0.00001116  Accuracy:  99.061%\n",
            "Epoch:  4  Batch: 2400  Loss: 0.00003326  Accuracy:  99.079%\n",
            "Epoch:  4  Batch: 3000  Loss: 0.00480663  Accuracy:  99.057%\n",
            "Epoch:  4  Batch: 3600  Loss: 0.00141370  Accuracy:  99.053%\n",
            "Epoch:  4  Batch: 4200  Loss: 0.00197850  Accuracy:  99.079%\n",
            "Epoch:  4  Batch: 4800  Loss: 0.00096106  Accuracy:  99.067%\n",
            "Epoch:  4  Batch: 5400  Loss: 0.00005880  Accuracy:  99.037%\n",
            "Epoch:  4  Batch: 6000  Loss: 0.00348863  Accuracy:  99.050%\n",
            "\n",
            "Duration: 2 minutes\n"
          ]
        }
      ]
    },
    {
      "cell_type": "code",
      "source": [
        "plt.style.use('dark_background')\n",
        "plt.figure(figsize=(6,4))\n",
        "np_train_losses = [loss.detach().cpu().numpy() for loss in train_losses]\n",
        "np_test_losses = [loss.detach().cpu().numpy() for loss in test_losses]\n",
        "\n",
        "plt.plot(np_train_losses,\n",
        "         marker='o',\n",
        "         color='purple',\n",
        "         label='Training Loss')\n",
        "plt.plot(test_losses,\n",
        "         marker='o',\n",
        "         color='green',\n",
        "         label='Test/Validation Loss')\n",
        "\n",
        "plt.xlabel('Epoch')\n",
        "plt.ylabel('Loss (Cross Entropy)')\n",
        "plt.title('Train & Test Losses over 5 Epochs')\n",
        "plt.legend()\n",
        "plt.grid(alpha=.2)\n",
        "plt.show()"
      ],
      "metadata": {
        "colab": {
          "base_uri": "https://localhost:8080/",
          "height": 410
        },
        "id": "bAyyH8gQZPCo",
        "outputId": "a2b7cef6-9ac0-46d9-de7c-656579129a62"
      },
      "execution_count": 29,
      "outputs": [
        {
          "output_type": "display_data",
          "data": {
            "text/plain": [
              "<Figure size 600x400 with 1 Axes>"
            ],
            "image/png": "[encoded data removed]"
          },
          "metadata": {}
        }
      ]
    },
    {
      "cell_type": "code",
      "source": [
        "plt.plot([t/600 for t in train_correct],\n",
        "         marker='o',\n",
        "         color='purple',\n",
        "         label='Training Accuracy')\n",
        "plt.plot([t/100 for t in test_correct],\n",
        "         marker='o',\n",
        "         color='green',\n",
        "         label='Test/Validation Accuracy')\n",
        "\n",
        "plt.xlabel('Epoch')\n",
        "plt.ylabel('Accuracy %')\n",
        "plt.title('Accuracy % over 5 Epochs')\n",
        "plt.legend(loc='lower right')\n",
        "plt.grid(alpha=.2)\n",
        "plt.show()"
      ],
      "metadata": {
        "colab": {
          "base_uri": "https://localhost:8080/",
          "height": 472
        },
        "id": "YiWXUuGAes9d",
        "outputId": "46387f79-ccf5-48c9-9c74-4caef9f7bd9a"
      },
      "execution_count": 30,
      "outputs": [
        {
          "output_type": "display_data",
          "data": {
            "text/plain": [
              "<Figure size 640x480 with 1 Axes>"
            ],
            "image/png": "[encoded data removed]"
          },
          "metadata": {}
        }
      ]
    },
    {
      "cell_type": "markdown",
      "source": [
        "# **4. Evaluate The Test Data**"
      ],
      "metadata": {
        "id": "YT5nl_OMkRlN"
      }
    },
    {
      "cell_type": "code",
      "source": [
        "test_load_all = DataLoader(test_data, batch_size=10000, shuffle=False)"
      ],
      "metadata": {
        "id": "PvvRQnoyjpER"
      },
      "execution_count": 31,
      "outputs": []
    },
    {
      "cell_type": "code",
      "source": [
        "with torch.no_grad():\n",
        "  correct = 0\n",
        "  for (X_test,y_test) in test_load_all:\n",
        "    y_val = model(X_test)\n",
        "    predicted = torch.max(y_val,1)[1]\n",
        "    correct += (predicted == y_test).sum()"
      ],
      "metadata": {
        "id": "Y1p51jHNluBt"
      },
      "execution_count": 32,
      "outputs": []
    },
    {
      "cell_type": "code",
      "source": [
        "# total correct\n",
        "t = len(test_data)\n",
        "p = correct.item()"
      ],
      "metadata": {
        "id": "0fo9x7nQmb8j"
      },
      "execution_count": 33,
      "outputs": []
    },
    {
      "cell_type": "code",
      "source": [
        "# calculate test accuracy\n",
        "corr_perc = p/t*100\n",
        "print(f'The Accuracy Percentage on the full test set is {corr_perc}% with 4 epochs at 60k parameters.')"
      ],
      "metadata": {
        "colab": {
          "base_uri": "https://localhost:8080/"
        },
        "id": "tSI5LLa4mTvC",
        "outputId": "e95513ce-eaa1-467b-c5b6-079c7ea8ac05"
      },
      "execution_count": 34,
      "outputs": [
        {
          "output_type": "stream",
          "name": "stdout",
          "text": [
            "The Accuracy Percentage on the full test set is 98.79% with 4 epochs at 60k parameters.\n"
          ]
        }
      ]
    },
    {
      "cell_type": "code",
      "source": [
        "# display the confusion matrix\n",
        "np.set_printoptions(formatter=dict(int=lambda x: f'{x:4}'))\n",
        "print(np.arange(10).reshape(1,10))\n",
        "print()\n",
        "\n",
        "print(confusion_matrix(predicted.view(-1), y_test.view(-1)))"
      ],
      "metadata": {
        "colab": {
          "base_uri": "https://localhost:8080/"
        },
        "id": "yCreAV9imrkn",
        "outputId": "f321ccb1-88c3-4b70-8200-1e9b0bf93815"
      },
      "execution_count": 35,
      "outputs": [
        {
          "output_type": "stream",
          "name": "stdout",
          "text": [
            "[[   0    1    2    3    4    5    6    7    8    9]]\n",
            "\n",
            "[[ 974    0    0    0    0    2    2    0    2    0]\n",
            " [   0 1134    1    0    1    0    3   10    0    3]\n",
            " [   2    0 1028    0    1    0    1   11    1    0]\n",
            " [   0    0    0 1004    0   17    0    0    3    1]\n",
            " [   0    0    1    0  972    0    1    1    0    7]\n",
            " [   0    0    0    1    0  866    4    0    0    3]\n",
            " [   3    1    0    0    2    2  945    0    0    1]\n",
            " [   1    0    2    2    0    1    0 1004    1    4]\n",
            " [   0    0    0    3    1    4    2    1  966    4]\n",
            " [   0    0    0    0    5    0    0    1    1  986]]\n"
          ]
        }
      ]
    },
    {
      "cell_type": "markdown",
      "source": [
        "## **4.2 Run a new image through the network**\n"
      ],
      "metadata": {
        "id": "xp_9XVApoJgx"
      }
    },
    {
      "cell_type": "code",
      "source": [
        "# new image\n",
        "new_image = test_data[2019][0].reshape(28,28)\n",
        "new_image_label = test_data[2019][1]\n",
        "print('label:',new_image_label)\n",
        "plot_digit(new_image)"
      ],
      "metadata": {
        "colab": {
          "base_uri": "https://localhost:8080/",
          "height": 423
        },
        "id": "OV2sr7JUn1nW",
        "outputId": "24bdaf30-d494-4663-bf8f-d690eafed550"
      },
      "execution_count": 36,
      "outputs": [
        {
          "output_type": "stream",
          "name": "stdout",
          "text": [
            "label: 9\n"
          ]
        },
        {
          "output_type": "display_data",
          "data": {
            "text/plain": [
              "<Figure size 640x480 with 1 Axes>"
            ],
            "image/png": "[encoded data removed]"
          },
          "metadata": {}
        }
      ]
    },
    {
      "cell_type": "markdown",
      "source": [
        "### **Pass Through Model**"
      ],
      "metadata": {
        "id": "uJ1cCGVapxgB"
      }
    },
    {
      "cell_type": "code",
      "source": [
        "model.eval()\n",
        "with torch.no_grad():\n",
        "  new_prediction = model(new_image.view(1,1,28,28))"
      ],
      "metadata": {
        "id": "LaprZF7eo8Ol"
      },
      "execution_count": 37,
      "outputs": []
    },
    {
      "cell_type": "code",
      "source": [
        "result = new_prediction.argmax().item()\n",
        "print('The Model Prediction for the new image is: ',result)\n",
        "if result == new_image_label:\n",
        "  print('The result is correct!')"
      ],
      "metadata": {
        "colab": {
          "base_uri": "https://localhost:8080/"
        },
        "id": "y5-LlNc8qK_I",
        "outputId": "ee8b29b4-7fc2-494a-8672-cf513af94bf4"
      },
      "execution_count": 38,
      "outputs": [
        {
          "output_type": "stream",
          "name": "stdout",
          "text": [
            "The Model Prediction for the new image is:  9\n",
            "The result is correct!\n"
          ]
        }
      ]
    },
    {
      "cell_type": "markdown",
      "source": [
        "## **Results from Model Study**\n",
        "| **Metric** | **ANN Model** | **CNN Model** |\n",
        "| --- | --- | --- |\n",
        "| No. Parameters | ~100k | ~60k |\n",
        "| Training Time | ~2 Mins | ~3 Mins |\n",
        "| Percentage Accuracy | ~97% | ~99% |\n",
        "| Dimensionality Reduction | Not Applicable | (Max Pooling, Local Connectivity) |\n",
        "| Dimension Capture | 1D | 2D |"
      ],
      "metadata": {
        "id": "6MOaYi5etlxl"
      }
    },
    {
      "cell_type": "markdown",
      "source": [
        "* [Link to Part One](https://github.com/aaronhowellai/machine-learning-projects/blob/main/machine%20learning%20algorithms/ANN%20Image%20Classifier%20with%20MNIST.ipynb) for ANN Image Classification"
      ],
      "metadata": {
        "id": "_yC2V38QtxUy"
      }
    },
    {
      "cell_type": "code",
      "source": [],
      "metadata": {
        "id": "SEigqng2twWg"
      },
      "execution_count": 38,
      "outputs": []
    }
  ]
}