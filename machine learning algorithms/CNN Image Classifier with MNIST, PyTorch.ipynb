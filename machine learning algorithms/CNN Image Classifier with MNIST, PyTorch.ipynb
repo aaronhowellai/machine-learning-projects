{
  "nbformat": 4,
  "nbformat_minor": 0,
  "metadata": {
    "colab": {
      "provenance": [],
      "authorship_tag": "ABX9TyMNd3wHRZCKj/1Q65O6iKQN",
      "include_colab_link": true
    },
    "kernelspec": {
      "name": "python3",
      "display_name": "Python 3"
    },
    "language_info": {
      "name": "python"
    }
  },
  "cells": [
    {
      "cell_type": "markdown",
      "metadata": {
        "id": "view-in-github",
        "colab_type": "text"
      },
      "source": [
        "<a href=\"https://colab.research.google.com/github/aaronhowellai/machine-learning-projects/blob/main/machine%20learning%20algorithms/CNN%20Image%20Classifier%20with%20MNIST%2C%20PyTorch.ipynb\" target=\"_parent\"><img src=\"https://colab.research.google.com/assets/colab-badge.svg\" alt=\"Open In Colab\"/></a>"
      ]
    },
    {
      "cell_type": "markdown",
      "source": [
        "# **99% Accurate Image Classification CNN with MNIST in PyTorch** 🔥\n",
        "\n",
        "## **Part of a 3-Part Series:** Convolutional Neural Networks, Part Three\n",
        "\n",
        "* [Link to Part One](https://github.com/aaronhowellai/machine-learning-projects/blob/main/machine%20learning%20algorithms/ANN%20Image%20Classifier%20with%20MNIST.ipynb)\n",
        "  * Introduction to CNNs\n",
        "  * ANN Image Classification with MNIST\n",
        "\n",
        "* [Link to Part Two](https://github.com/aaronhowellai/machine-learning-projects/blob/main/machine%20learning%20algorithms/theory/deep%20learning/computer%20vision/Understanding%20CNNs.ipynb)\n",
        "  * CNN Architecture Theory\n",
        "    * Image Filters & Kernels\n",
        "    * Convolutional Layers\n",
        "    * Pooling Layers\n",
        "\n",
        "* An introduction to CNNs, following Pierian Training's online Udemy course \"PyTorch for Deep Learning with Python\" bootcamp.\n",
        "\n",
        "  * This notebook focuses on using a Convolutional Neural Network to classify handwritten digits; **Multiclass Image Classification**\n",
        "  * In Part One of the series, I designed an 97% accuracy (on test set) ANN to classify the same handwritten digits that I will use here.\n",
        "    * The goal is to compare the ANN to the CNN to evaluate how CNNs improve upon the methods it uses for image processing and classification.\n",
        "\n",
        "  * **Key Metrics to compare will include:**\n",
        "    * Model Accuracy\n",
        "    * Number of parameters\n",
        "    * Dimensionality Reduction Techniques\n",
        "    * Training Time\n",
        "    * Ability to capture more dimensions of data (capture quality)\n",
        "\n",
        "#### **Results from Model Study**\n",
        "| **Metric** | **ANN Model** | **CNN Model** |\n",
        "| --- | --- | --- |\n",
        "| No. Parameters | ~100k | ~60k |\n",
        "| Training Time | ~2 Mins | ~3 Mins |\n",
        "| Percentage Accuracy | ~97% | ~99% |\n",
        "| Dimensionality Reduction | Not Applicable | (Max Pooling, Local Connectivity) |\n",
        "| Dimension Capture | 1D | 2D |\n",
        "\n",
        "\n"
      ],
      "metadata": {
        "id": "8lPuxbU9OkJL"
      }
    },
    {
      "cell_type": "markdown",
      "source": [
        "----------"
      ],
      "metadata": {
        "id": "ZNm1UzZYuUDV"
      }
    },
    {
      "cell_type": "code",
      "execution_count": 1,
      "metadata": {
        "id": "XL8GLOC_ObPd"
      },
      "outputs": [],
      "source": [
        "# import packages\n",
        "import numpy as np\n",
        "import pandas as pd\n",
        "import matplotlib.pyplot as plt\n",
        "%matplotlib inline\n",
        "import time\n",
        "import os\n",
        "from pathlib import Path\n",
        "\n",
        "# machine learning packages\n",
        "from sklearn.metrics import confusion_matrix\n",
        "\n",
        "# deep learning packages\n",
        "import torch, torch.nn as nn, torch.nn.functional as F\n",
        "import torchvision, torch.optim as optim\n",
        "from torchvision import datasets, transforms\n",
        "from torchvision.utils import make_grid\n",
        "from torch.utils.data import DataLoader, TensorDataset\n",
        "\n",
        "# settings\n",
        "# torch.set_printoptions(edgeitems=2)\n",
        "np.set_printoptions(formatter=dict(int=lambda x: f'{x:4}'))"
      ]
    },
    {
      "cell_type": "code",
      "source": [
        "# utils\n",
        "def plot_digit(image_data):\n",
        "  image = image_data.reshape(28,28)\n",
        "  plt.imshow(image, cmap='binary')\n",
        "  plt.axis('off')"
      ],
      "metadata": {
        "id": "28FTZND6SJTO"
      },
      "execution_count": 2,
      "outputs": []
    },
    {
      "cell_type": "markdown",
      "source": [
        "# **1. Download Data**"
      ],
      "metadata": {
        "id": "shkrd2u6Cs6O"
      }
    },
    {
      "cell_type": "code",
      "source": [
        "transform = transforms.ToTensor()"
      ],
      "metadata": {
        "id": "RzGFFZlxSMM7"
      },
      "execution_count": 3,
      "outputs": []
    },
    {
      "cell_type": "code",
      "source": [
        "# error handling for downloading data to a working dir (Training Set)\n",
        "try:\n",
        "  train_data = datasets.MNIST(root='/content',train=True,download=True,transform=transform) # for running in colab\n",
        "except Exception as e:\n",
        "  print(f'Error downloading MNIST dataset to /content: {e}')\n",
        "  print(f'Attempting to save to desktop instead...')\n",
        "\n",
        "  # get path to user desktop\n",
        "  desk_path = str(Path.home() / \"Desktop\")\n",
        "\n",
        "  # save the dataset to the desktop\n",
        "  train_data = datasets.MNIST(root=desk_path,train=True,download=True,transform=transform)\n",
        "  print(f'Train Dataset saved to: {desk_path}')"
      ],
      "metadata": {
        "id": "FFz4dFS3A7qN"
      },
      "execution_count": 4,
      "outputs": []
    },
    {
      "cell_type": "code",
      "source": [
        "# error handling for downloading data to a working dir (Test Set)\n",
        "try:\n",
        "  test_data = datasets.MNIST(root='/content',train=False,download=True,transform=transform) # for running in colab\n",
        "except Exception as e:\n",
        "  print(f'Error downloading MNIST dataset to /content: {e}')\n",
        "  print(f'Attempting to save to desktop instead...')\n",
        "\n",
        "  # get path to user desktop\n",
        "  desk_path = str(Path.home() / \"Desktop\")\n",
        "\n",
        "  # save the dataset to the desktop\n",
        "  test_data = datasets.MNIST(root=desk_path,train=False,download=True,transform=transform)\n",
        "  print(f'Test Dataset saved to: {desk_path}')"
      ],
      "metadata": {
        "id": "NmJu_Lc-CSNE"
      },
      "execution_count": 5,
      "outputs": []
    },
    {
      "cell_type": "code",
      "source": [
        "train_data"
      ],
      "metadata": {
        "colab": {
          "base_uri": "https://localhost:8080/"
        },
        "id": "JRQXOxgZCk7v",
        "outputId": "6197ce16-b890-46fe-ad8d-c9c7e18acf98"
      },
      "execution_count": 6,
      "outputs": [
        {
          "output_type": "execute_result",
          "data": {
            "text/plain": [
              "Dataset MNIST\n",
              "    Number of datapoints: 60000\n",
              "    Root location: /content\n",
              "    Split: Train\n",
              "    StandardTransform\n",
              "Transform: ToTensor()"
            ]
          },
          "metadata": {},
          "execution_count": 6
        }
      ]
    },
    {
      "cell_type": "code",
      "source": [
        "test_data"
      ],
      "metadata": {
        "colab": {
          "base_uri": "https://localhost:8080/"
        },
        "id": "T1K7wRtlCnVW",
        "outputId": "7718fb57-65e8-4725-978a-6f5bfcd0c27b"
      },
      "execution_count": 7,
      "outputs": [
        {
          "output_type": "execute_result",
          "data": {
            "text/plain": [
              "Dataset MNIST\n",
              "    Number of datapoints: 10000\n",
              "    Root location: /content\n",
              "    Split: Test\n",
              "    StandardTransform\n",
              "Transform: ToTensor()"
            ]
          },
          "metadata": {},
          "execution_count": 7
        }
      ]
    },
    {
      "cell_type": "markdown",
      "source": [
        "## **Set Batch Sizes**"
      ],
      "metadata": {
        "id": "ip6MH6MTCwYy"
      }
    },
    {
      "cell_type": "code",
      "source": [
        "train_loader = DataLoader(train_data, batch_size=10, shuffle=True)\n",
        "test_loader = DataLoader(test_data, batch_size=10, shuffle=False)"
      ],
      "metadata": {
        "id": "3cDMS2n3Cokc"
      },
      "execution_count": 8,
      "outputs": []
    },
    {
      "cell_type": "markdown",
      "source": [
        "# **2. Define a Convolutional Model**"
      ],
      "metadata": {
        "id": "FEUeJPX5DY5W"
      }
    },
    {
      "cell_type": "markdown",
      "source": [
        "## **Manual Convolutions**"
      ],
      "metadata": {
        "id": "2cFNshniFSER"
      }
    },
    {
      "cell_type": "markdown",
      "source": [
        "![image description](https://raw.githubusercontent.com/aaronhowellai/machine-learning-projects/main/machine%20learning%20concepts/convolutions%2C%20convolution%20kernels%2C%20computer%20vision.png)"
      ],
      "metadata": {
        "id": "lKxfY7OMILis"
      }
    },
    {
      "cell_type": "code",
      "source": [
        "# defining convoluional layers manually: for disambiguation when building the model class later on\n",
        "\n",
        "# 1. '1': 1 colour input channel: grayscale, normalised values\n",
        "# 2. '6': 6 ouput channels: feature extraction via layers such as edge detection\n",
        "# 3. '3': 3x3 kernel filter\n",
        "# 4. '1': stride = 1\n",
        "conv1 = nn.Conv2d(1,6,3,1) # ---> 6 convolutional kernels ---> pooling layer ---> conv2\n",
        "conv2 = nn.Conv2d(6,16,3,1)"
      ],
      "metadata": {
        "id": "uMIBKn7mDNuV"
      },
      "execution_count": 9,
      "outputs": []
    },
    {
      "cell_type": "code",
      "source": [
        "for i, (X_train, y_train) in enumerate(train_data):\n",
        "  break"
      ],
      "metadata": {
        "id": "Z50jCLCYGdvs"
      },
      "execution_count": 10,
      "outputs": []
    },
    {
      "cell_type": "code",
      "source": [
        "# reshape\n",
        "x = X_train.view(1,1,28,28)\n",
        "x.shape"
      ],
      "metadata": {
        "colab": {
          "base_uri": "https://localhost:8080/"
        },
        "id": "Pjrz3LnEGoWK",
        "outputId": "b1ee57f4-9cba-4547-c9f2-0b53c9200b69"
      },
      "execution_count": 11,
      "outputs": [
        {
          "output_type": "execute_result",
          "data": {
            "text/plain": [
              "torch.Size([1, 1, 28, 28])"
            ]
          },
          "metadata": {},
          "execution_count": 11
        }
      ]
    },
    {
      "cell_type": "code",
      "source": [
        "# peform first convolution\n",
        "x = F.relu(conv1(x))"
      ],
      "metadata": {
        "id": "Nl2ZTwePGzsh"
      },
      "execution_count": 12,
      "outputs": []
    },
    {
      "cell_type": "code",
      "source": [
        "# border is reduced by pooling layer\n",
        "x.shape"
      ],
      "metadata": {
        "colab": {
          "base_uri": "https://localhost:8080/"
        },
        "id": "u2-5U-rjHTL_",
        "outputId": "faa7743d-afb9-42e8-cc16-f58e92208c3a"
      },
      "execution_count": 13,
      "outputs": [
        {
          "output_type": "execute_result",
          "data": {
            "text/plain": [
              "torch.Size([1, 6, 26, 26])"
            ]
          },
          "metadata": {},
          "execution_count": 13
        }
      ]
    },
    {
      "cell_type": "code",
      "source": [
        "# kernel size = 2x2\n",
        "# stride = 2\n",
        "x = F.max_pool2d(x,2,2)"
      ],
      "metadata": {
        "id": "7tK7xZPlHU9t"
      },
      "execution_count": 14,
      "outputs": []
    },
    {
      "cell_type": "code",
      "source": [
        "x.shape"
      ],
      "metadata": {
        "colab": {
          "base_uri": "https://localhost:8080/"
        },
        "id": "VShbQXjqJ4sp",
        "outputId": "cf67f17f-d02b-4254-b285-f19aa073e41d"
      },
      "execution_count": 15,
      "outputs": [
        {
          "output_type": "execute_result",
          "data": {
            "text/plain": [
              "torch.Size([1, 6, 13, 13])"
            ]
          },
          "metadata": {},
          "execution_count": 15
        }
      ]
    },
    {
      "cell_type": "code",
      "source": [
        "x = F.relu(conv2(x))"
      ],
      "metadata": {
        "id": "8ArNBhDdJ6EV"
      },
      "execution_count": 16,
      "outputs": []
    },
    {
      "cell_type": "code",
      "source": [
        "x.shape"
      ],
      "metadata": {
        "colab": {
          "base_uri": "https://localhost:8080/"
        },
        "id": "xOUhWm39KKcq",
        "outputId": "5ec3178c-9b2f-49fe-954c-541b4fb9e3d6"
      },
      "execution_count": 17,
      "outputs": [
        {
          "output_type": "execute_result",
          "data": {
            "text/plain": [
              "torch.Size([1, 16, 11, 11])"
            ]
          },
          "metadata": {},
          "execution_count": 17
        }
      ]
    },
    {
      "cell_type": "code",
      "source": [
        "x = F.max_pool2d(x,2,2)"
      ],
      "metadata": {
        "id": "UOKVFMCjKLK5"
      },
      "execution_count": 18,
      "outputs": []
    },
    {
      "cell_type": "code",
      "source": [
        "x.shape"
      ],
      "metadata": {
        "colab": {
          "base_uri": "https://localhost:8080/"
        },
        "id": "y9JOm5b7KWY9",
        "outputId": "fe412c4c-0e2e-4598-83a6-82de82674a18"
      },
      "execution_count": 19,
      "outputs": [
        {
          "output_type": "execute_result",
          "data": {
            "text/plain": [
              "torch.Size([1, 16, 5, 5])"
            ]
          },
          "metadata": {},
          "execution_count": 19
        }
      ]
    },
    {
      "cell_type": "code",
      "source": [
        "# floor division\n",
        "11//2"
      ],
      "metadata": {
        "colab": {
          "base_uri": "https://localhost:8080/"
        },
        "id": "3_T-W-PFKYbS",
        "outputId": "2fb7f930-dcbd-4679-cfd4-cb4ac4081395"
      },
      "execution_count": 20,
      "outputs": [
        {
          "output_type": "execute_result",
          "data": {
            "text/plain": [
              "5"
            ]
          },
          "metadata": {},
          "execution_count": 20
        }
      ]
    },
    {
      "cell_type": "code",
      "source": [
        "# flatten the data to be passed into fully connected layers for the multiclass classification\n",
        "x.view(-1,16*5*5).shape"
      ],
      "metadata": {
        "colab": {
          "base_uri": "https://localhost:8080/"
        },
        "id": "tD735hk0KaT1",
        "outputId": "ce514754-c00d-4567-e221-ab538d30b9d8"
      },
      "execution_count": 21,
      "outputs": [
        {
          "output_type": "execute_result",
          "data": {
            "text/plain": [
              "torch.Size([1, 400])"
            ]
          },
          "metadata": {},
          "execution_count": 21
        }
      ]
    },
    {
      "cell_type": "markdown",
      "source": [
        "## **Define a CNN Class**"
      ],
      "metadata": {
        "id": "qnRFHNFxLRVi"
      }
    },
    {
      "cell_type": "code",
      "source": [
        "class CNN(nn.Module):\n",
        "\n",
        "  def __init__(self):\n",
        "    super().__init__()\n",
        "    self.conv1 = nn.Conv2d(1,6,3,1)\n",
        "    self.conv2 = nn.Conv2d(6,16,3,1)\n",
        "    self.fc1 = nn.Linear(5*5*16,120)\n",
        "    self.fc2 = nn.Linear(120,84)\n",
        "    self.fc3 = nn.Linear(84,10) # 10 output classes\n",
        "\n",
        "  def forward(self,X):\n",
        "    X = F.relu(self.conv1(X))\n",
        "    X = F.max_pool2d(X,2,2)\n",
        "    X = F.relu(self.conv2(X))\n",
        "    X = F.max_pool2d(X,2,2)\n",
        "    X = X.view(-1,16*5*5)\n",
        "    X = F.relu(self.fc1(X))\n",
        "    X = F.relu(self.fc2(X))\n",
        "    X = self.fc3(X)\n",
        "    return F.log_softmax(X,dim=1)"
      ],
      "metadata": {
        "id": "wxdqgRNFLbQh"
      },
      "execution_count": 22,
      "outputs": []
    },
    {
      "cell_type": "code",
      "source": [
        "torch.manual_seed(42)\n",
        "model = CNN()\n",
        "model"
      ],
      "metadata": {
        "colab": {
          "base_uri": "https://localhost:8080/"
        },
        "id": "3t018TRJK5L9",
        "outputId": "f554c7f6-059d-42c9-ab52-ba817c549d8d"
      },
      "execution_count": 23,
      "outputs": [
        {
          "output_type": "execute_result",
          "data": {
            "text/plain": [
              "CNN(\n",
              "  (conv1): Conv2d(1, 6, kernel_size=(3, 3), stride=(1, 1))\n",
              "  (conv2): Conv2d(6, 16, kernel_size=(3, 3), stride=(1, 1))\n",
              "  (fc1): Linear(in_features=400, out_features=120, bias=True)\n",
              "  (fc2): Linear(in_features=120, out_features=84, bias=True)\n",
              "  (fc3): Linear(in_features=84, out_features=10, bias=True)\n",
              ")"
            ]
          },
          "metadata": {},
          "execution_count": 23
        }
      ]
    },
    {
      "cell_type": "code",
      "source": [
        "[print(param.numel()) for param in model.parameters()];"
      ],
      "metadata": {
        "colab": {
          "base_uri": "https://localhost:8080/"
        },
        "id": "MrvPIuL9P-zA",
        "outputId": "5bc7cac2-a8ca-4fcc-b972-a78d62b50b43"
      },
      "execution_count": 24,
      "outputs": [
        {
          "output_type": "stream",
          "name": "stdout",
          "text": [
            "54\n",
            "6\n",
            "864\n",
            "16\n",
            "48000\n",
            "120\n",
            "10080\n",
            "84\n",
            "840\n",
            "10\n"
          ]
        }
      ]
    },
    {
      "cell_type": "code",
      "source": [
        "cnn_param_numel = sum([54,\n",
        "6,\n",
        "864,\n",
        "16,\n",
        "48000,\n",
        "120,\n",
        "10080,\n",
        "84,\n",
        "840,\n",
        "10])"
      ],
      "metadata": {
        "id": "eNJqmm4eQUVh"
      },
      "execution_count": 25,
      "outputs": []
    },
    {
      "cell_type": "code",
      "source": [
        "print(f'This CNN has {cnn_param_numel} parameters instead of over 100k that was used in the ANN in Part One of this CNN series.')"
      ],
      "metadata": {
        "colab": {
          "base_uri": "https://localhost:8080/"
        },
        "id": "LUGABjAkQkwG",
        "outputId": "6b1def24-3135-4b84-ed9d-e200255cf6ae"
      },
      "execution_count": 26,
      "outputs": [
        {
          "output_type": "stream",
          "name": "stdout",
          "text": [
            "This CNN has 60074 parameters instead of over 100k that was used in the ANN in Part One of this CNN series.\n"
          ]
        }
      ]
    },
    {
      "cell_type": "code",
      "source": [
        "# define loss function optimizer\n",
        "criterion = nn.CrossEntropyLoss()\n",
        "optimizer = torch.optim.Adam(model.parameters(),lr=.001)"
      ],
      "metadata": {
        "id": "x6fdOpfbRVvp"
      },
      "execution_count": 27,
      "outputs": []
    },
    {
      "cell_type": "markdown",
      "source": [
        "# **3. Model Training**"
      ],
      "metadata": {
        "id": "OrJuevZOMfou"
      }
    },
    {
      "cell_type": "code",
      "source": [
        "start_time = time.time()\n",
        "\n",
        "# trackers\n",
        "n = 5\n",
        "epochs = n\n",
        "\n",
        "train_losses = []\n",
        "test_losses = []\n",
        "train_correct = []\n",
        "test_correct = []\n",
        "\n",
        "# for loop, epochs\n",
        "for i in range(epochs):\n",
        "\n",
        "  trn_corr = 0\n",
        "  tst_corr = 0\n",
        "\n",
        "  # train batches\n",
        "  for b,(X_train, y_train) in enumerate(train_loader):\n",
        "    b+=1\n",
        "\n",
        "    # apply the model to make predictions\n",
        "    y_pred = model(X_train)\n",
        "    loss = criterion(y_pred, y_train)\n",
        "\n",
        "    predicted = torch.max(y_pred.data,1)[1]\n",
        "    # true = 1, false = 0\n",
        "    batch_corr = (predicted == y_train).sum()\n",
        "    trn_corr+=batch_corr\n",
        "\n",
        "    # backprop\n",
        "    optimizer.zero_grad()\n",
        "    loss.backward()\n",
        "    optimizer.step()\n",
        "\n",
        "    # print every 600 images\n",
        "    accuracy = trn_corr.item()*100/(10*b)\n",
        "    if b%600==0:\n",
        "      print(f'Epoch: {i:2}  Batch: {b:4}  Loss: {loss.item():10.8f}  Accuracy: {accuracy:7.3f}%')\n",
        "\n",
        "  train_losses.append(loss)\n",
        "  train_correct.append(trn_corr)\n",
        "\n",
        "  # test batches\n",
        "  with torch.no_grad():\n",
        "    for b,(X_test,y_test) in enumerate(test_loader):\n",
        "\n",
        "      # apply the model\n",
        "      y_val = model(X_test)\n",
        "\n",
        "      # trackers\n",
        "      predicted = torch.max(y_val.data,1)[1]\n",
        "      tst_corr+=(predicted==y_test).sum()\n",
        "\n",
        "  loss = criterion(y_val,y_test)\n",
        "  test_losses.append(loss)\n",
        "  test_correct.append(tst_corr)\n",
        "\n",
        "\n",
        "# how long did training take\n",
        "current_time = time.time()\n",
        "total = current_time - start_time\n",
        "print(f'\\nDuration: {total/60:.0f} minutes')"
      ],
      "metadata": {
        "colab": {
          "base_uri": "https://localhost:8080/"
        },
        "id": "R9ZxVpbyPnqV",
        "outputId": "b830e398-e806-4bf9-d6d2-e3c47b1b588b"
      },
      "execution_count": 28,
      "outputs": [
        {
          "output_type": "stream",
          "name": "stdout",
          "text": [
            "Epoch:  0  Batch:  600  Loss: 0.04055627  Accuracy:  78.417%\n",
            "Epoch:  0  Batch: 1200  Loss: 0.08253475  Accuracy:  85.800%\n",
            "Epoch:  0  Batch: 1800  Loss: 0.36470491  Accuracy:  88.689%\n",
            "Epoch:  0  Batch: 2400  Loss: 0.01825025  Accuracy:  90.525%\n",
            "Epoch:  0  Batch: 3000  Loss: 0.00806704  Accuracy:  91.650%\n",
            "Epoch:  0  Batch: 3600  Loss: 0.00116694  Accuracy:  92.503%\n",
            "Epoch:  0  Batch: 4200  Loss: 0.52552539  Accuracy:  93.152%\n",
            "Epoch:  0  Batch: 4800  Loss: 0.03260820  Accuracy:  93.617%\n",
            "Epoch:  0  Batch: 5400  Loss: 0.00746816  Accuracy:  94.028%\n",
            "Epoch:  0  Batch: 6000  Loss: 0.03889676  Accuracy:  94.340%\n",
            "Epoch:  1  Batch:  600  Loss: 0.03282820  Accuracy:  97.817%\n",
            "Epoch:  1  Batch: 1200  Loss: 0.04554177  Accuracy:  97.867%\n",
            "Epoch:  1  Batch: 1800  Loss: 0.00578480  Accuracy:  97.939%\n",
            "Epoch:  1  Batch: 2400  Loss: 0.02235614  Accuracy:  97.879%\n",
            "Epoch:  1  Batch: 3000  Loss: 0.21643038  Accuracy:  97.897%\n",
            "Epoch:  1  Batch: 3600  Loss: 0.00501452  Accuracy:  97.906%\n",
            "Epoch:  1  Batch: 4200  Loss: 0.00045869  Accuracy:  97.974%\n",
            "Epoch:  1  Batch: 4800  Loss: 0.00192951  Accuracy:  97.996%\n",
            "Epoch:  1  Batch: 5400  Loss: 0.00085962  Accuracy:  98.004%\n",
            "Epoch:  1  Batch: 6000  Loss: 0.08304359  Accuracy:  98.007%\n",
            "Epoch:  2  Batch:  600  Loss: 0.00063734  Accuracy:  98.683%\n",
            "Epoch:  2  Batch: 1200  Loss: 0.00153934  Accuracy:  98.542%\n",
            "Epoch:  2  Batch: 1800  Loss: 0.00128017  Accuracy:  98.478%\n",
            "Epoch:  2  Batch: 2400  Loss: 0.00139678  Accuracy:  98.533%\n",
            "Epoch:  2  Batch: 3000  Loss: 0.30444741  Accuracy:  98.467%\n",
            "Epoch:  2  Batch: 3600  Loss: 0.01445190  Accuracy:  98.461%\n",
            "Epoch:  2  Batch: 4200  Loss: 0.02198282  Accuracy:  98.483%\n",
            "Epoch:  2  Batch: 4800  Loss: 0.00078029  Accuracy:  98.496%\n",
            "Epoch:  2  Batch: 5400  Loss: 0.00168332  Accuracy:  98.498%\n",
            "Epoch:  2  Batch: 6000  Loss: 0.00020764  Accuracy:  98.492%\n",
            "Epoch:  3  Batch:  600  Loss: 0.00079474  Accuracy:  98.883%\n",
            "Epoch:  3  Batch: 1200  Loss: 0.00203867  Accuracy:  99.017%\n",
            "Epoch:  3  Batch: 1800  Loss: 0.00046899  Accuracy:  99.028%\n",
            "Epoch:  3  Batch: 2400  Loss: 0.00021816  Accuracy:  98.938%\n",
            "Epoch:  3  Batch: 3000  Loss: 0.03142365  Accuracy:  98.933%\n",
            "Epoch:  3  Batch: 3600  Loss: 0.00734946  Accuracy:  98.875%\n",
            "Epoch:  3  Batch: 4200  Loss: 0.00061036  Accuracy:  98.893%\n",
            "Epoch:  3  Batch: 4800  Loss: 0.13828447  Accuracy:  98.902%\n",
            "Epoch:  3  Batch: 5400  Loss: 0.00074584  Accuracy:  98.898%\n",
            "Epoch:  3  Batch: 6000  Loss: 0.02092968  Accuracy:  98.897%\n",
            "Epoch:  4  Batch:  600  Loss: 0.00093785  Accuracy:  99.250%\n",
            "Epoch:  4  Batch: 1200  Loss: 0.19402172  Accuracy:  99.158%\n",
            "Epoch:  4  Batch: 1800  Loss: 0.00067582  Accuracy:  99.067%\n",
            "Epoch:  4  Batch: 2400  Loss: 0.00019682  Accuracy:  99.067%\n",
            "Epoch:  4  Batch: 3000  Loss: 0.00540381  Accuracy:  99.033%\n",
            "Epoch:  4  Batch: 3600  Loss: 0.00058351  Accuracy:  99.056%\n",
            "Epoch:  4  Batch: 4200  Loss: 0.00117376  Accuracy:  99.069%\n",
            "Epoch:  4  Batch: 4800  Loss: 0.00185656  Accuracy:  99.017%\n",
            "Epoch:  4  Batch: 5400  Loss: 0.00024844  Accuracy:  98.993%\n",
            "Epoch:  4  Batch: 6000  Loss: 0.00652279  Accuracy:  99.002%\n",
            "\n",
            "Duration: 3 minutes\n"
          ]
        }
      ]
    },
    {
      "cell_type": "code",
      "source": [
        "plt.style.use('dark_background')\n",
        "plt.figure(figsize=(6,4))\n",
        "np_train_losses = [loss.detach().cpu().numpy() for loss in train_losses]\n",
        "np_test_losses = [loss.detach().cpu().numpy() for loss in test_losses]\n",
        "\n",
        "plt.plot(np_train_losses,\n",
        "         marker='o',\n",
        "         color='purple',\n",
        "         label='Training Loss')\n",
        "plt.plot(test_losses,\n",
        "         marker='o',\n",
        "         color='green',\n",
        "         label='Test/Validation Loss')\n",
        "\n",
        "plt.xlabel('Epoch')\n",
        "plt.ylabel('Loss (Cross Entropy)')\n",
        "plt.title('Train & Test Losses over 4 Epochs')\n",
        "plt.legend()\n",
        "plt.grid(alpha=.2)\n",
        "plt.show()"
      ],
      "metadata": {
        "colab": {
          "base_uri": "https://localhost:8080/",
          "height": 410
        },
        "id": "bAyyH8gQZPCo",
        "outputId": "9a3a1bb7-818e-4563-ec4a-97cfd5b11f79"
      },
      "execution_count": 31,
      "outputs": [
        {
          "output_type": "display_data",
          "data": {
            "text/plain": [
              "<Figure size 600x400 with 1 Axes>"
            ],
            "image/png": "[encoded data removed]"
          },
          "metadata": {}
        }
      ]
    },
    {
      "cell_type": "code",
      "source": [
        "plt.plot([t/600 for t in train_correct],\n",
        "         marker='o',\n",
        "         color='purple',\n",
        "         label='Training Accuracy')\n",
        "plt.plot([t/100 for t in test_correct],\n",
        "         marker='o',\n",
        "         color='green',\n",
        "         label='Test/Validation Accuracy')\n",
        "\n",
        "plt.xlabel('Epoch')\n",
        "plt.ylabel('Accuracy %')\n",
        "plt.title('Accuracy % over 4 Epochs')\n",
        "plt.legend(loc='lower right')\n",
        "plt.grid(alpha=.2)\n",
        "plt.show()"
      ],
      "metadata": {
        "colab": {
          "base_uri": "https://localhost:8080/",
          "height": 472
        },
        "id": "YiWXUuGAes9d",
        "outputId": "f6791ed0-72a4-4707-fee4-3d94145006cb"
      },
      "execution_count": 36,
      "outputs": [
        {
          "output_type": "display_data",
          "data": {
            "text/plain": [
              "<Figure size 640x480 with 1 Axes>"
            ],
            "image/png": "[encoded data removed]"
          },
          "metadata": {}
        }
      ]
    },
    {
      "cell_type": "markdown",
      "source": [
        "# **4. Evaluate The Test Data**"
      ],
      "metadata": {
        "id": "YT5nl_OMkRlN"
      }
    },
    {
      "cell_type": "code",
      "source": [
        "test_load_all = DataLoader(test_data, batch_size=10000, shuffle=False)"
      ],
      "metadata": {
        "id": "PvvRQnoyjpER"
      },
      "execution_count": 37,
      "outputs": []
    },
    {
      "cell_type": "code",
      "source": [
        "with torch.no_grad():\n",
        "  correct = 0\n",
        "  for (X_test,y_test) in test_load_all:\n",
        "    y_val = model(X_test)\n",
        "    predicted = torch.max(y_val,1)[1]\n",
        "    correct += (predicted == y_test).sum()"
      ],
      "metadata": {
        "id": "Y1p51jHNluBt"
      },
      "execution_count": 38,
      "outputs": []
    },
    {
      "cell_type": "code",
      "source": [
        "# total correct\n",
        "t = len(test_data)\n",
        "p = correct.item()"
      ],
      "metadata": {
        "id": "0fo9x7nQmb8j"
      },
      "execution_count": 44,
      "outputs": []
    },
    {
      "cell_type": "code",
      "source": [
        "# calculate test accuracy\n",
        "corr_perc = p/t*100\n",
        "print(f'The Accuracy Percentage on the full test set is {corr_perc}% with 4 epochs at 60k parameters.')"
      ],
      "metadata": {
        "colab": {
          "base_uri": "https://localhost:8080/"
        },
        "id": "tSI5LLa4mTvC",
        "outputId": "e90b8705-b134-42f8-ac48-879db1a69d03"
      },
      "execution_count": 47,
      "outputs": [
        {
          "output_type": "stream",
          "name": "stdout",
          "text": [
            "The Accuracy Percentage on the full test set is 98.89% with 4 epochs at 60k parameters.\n"
          ]
        }
      ]
    },
    {
      "cell_type": "code",
      "source": [
        "# display the confusion matrix\n",
        "np.set_printoptions(formatter=dict(int=lambda x: f'{x:4}'))\n",
        "print(np.arange(10).reshape(1,10))\n",
        "print()\n",
        "\n",
        "print(confusion_matrix(predicted.view(-1), y_test.view(-1)))"
      ],
      "metadata": {
        "colab": {
          "base_uri": "https://localhost:8080/"
        },
        "id": "yCreAV9imrkn",
        "outputId": "36a4adff-7b2b-4cf6-a4e4-49f083728276"
      },
      "execution_count": 48,
      "outputs": [
        {
          "output_type": "stream",
          "name": "stdout",
          "text": [
            "[[   0    1    2    3    4    5    6    7    8    9]]\n",
            "\n",
            "[[ 977    3    1    0    0    2    4    1    4    0]\n",
            " [   0 1130    2    0    0    0    1    4    0    3]\n",
            " [   0    1 1022    0    0    0    0    4    2    0]\n",
            " [   0    0    3 1007    0    7    0    2    2    2]\n",
            " [   0    0    1    0  971    0    1    0    0    5]\n",
            " [   0    0    0    1    0  879    7    0    1    5]\n",
            " [   1    1    0    0    4    2  944    0    1    0]\n",
            " [   1    0    3    0    0    0    0 1013    1    2]\n",
            " [   1    0    0    2    1    1    1    1  962    8]\n",
            " [   0    0    0    0    6    1    0    3    1  984]]\n"
          ]
        }
      ]
    },
    {
      "cell_type": "markdown",
      "source": [
        "## **4.2 Run a new image through the network**\n"
      ],
      "metadata": {
        "id": "xp_9XVApoJgx"
      }
    },
    {
      "cell_type": "code",
      "source": [
        "# new image\n",
        "new_image = test_data[2019][0].reshape(28,28)\n",
        "new_image_label = test_data[2019][1]\n",
        "print('label:',new_image_label)\n",
        "plot_digit(new_image)"
      ],
      "metadata": {
        "colab": {
          "base_uri": "https://localhost:8080/",
          "height": 423
        },
        "id": "OV2sr7JUn1nW",
        "outputId": "cfd74261-f1e7-4dc7-b4a3-8bfe4f3b5e6c"
      },
      "execution_count": 56,
      "outputs": [
        {
          "output_type": "stream",
          "name": "stdout",
          "text": [
            "label: 9\n"
          ]
        },
        {
          "output_type": "display_data",
          "data": {
            "text/plain": [
              "<Figure size 640x480 with 1 Axes>"
            ],
            "image/png": "[encoded data removed]"
          },
          "metadata": {}
        }
      ]
    },
    {
      "cell_type": "markdown",
      "source": [
        "### **Pass Through Model**"
      ],
      "metadata": {
        "id": "uJ1cCGVapxgB"
      }
    },
    {
      "cell_type": "code",
      "source": [
        "model.eval()\n",
        "with torch.no_grad():\n",
        "  new_prediction = model(new_image.view(1,1,28,28))"
      ],
      "metadata": {
        "id": "LaprZF7eo8Ol"
      },
      "execution_count": 57,
      "outputs": []
    },
    {
      "cell_type": "code",
      "source": [
        "result = new_prediction.argmax().item()\n",
        "print('The Model Prediction for the new image is: ',result)\n",
        "if result == new_image_label:\n",
        "  print('The result is correct!')"
      ],
      "metadata": {
        "colab": {
          "base_uri": "https://localhost:8080/"
        },
        "id": "y5-LlNc8qK_I",
        "outputId": "8cee672c-b0c7-482f-df2a-b3eff4cacc0c"
      },
      "execution_count": 60,
      "outputs": [
        {
          "output_type": "stream",
          "name": "stdout",
          "text": [
            "The Model Prediction for the new image is:  9\n",
            "The result is correct!\n"
          ]
        }
      ]
    },
    {
      "cell_type": "markdown",
      "source": [
        "## **Results from Model Study**\n",
        "| **Metric** | **ANN Model** | **CNN Model** |\n",
        "| --- | --- | --- |\n",
        "| No. Parameters | ~100k | ~60k |\n",
        "| Training Time | ~2 Mins | ~3 Mins |\n",
        "| Percentage Accuracy | ~97% | ~99% |\n",
        "| Dimensionality Reduction | Not Applicable | (Max Pooling, Local Connectivity) |\n",
        "| Dimension Capture | 1D | 2D |"
      ],
      "metadata": {
        "id": "6MOaYi5etlxl"
      }
    },
    {
      "cell_type": "markdown",
      "source": [
        "* [Link to Part One](https://github.com/aaronhowellai/machine-learning-projects/blob/main/machine%20learning%20algorithms/ANN%20Image%20Classifier%20with%20MNIST.ipynb) for ANN Image Classification"
      ],
      "metadata": {
        "id": "_yC2V38QtxUy"
      }
    },
    {
      "cell_type": "code",
      "source": [],
      "metadata": {
        "id": "SEigqng2twWg"
      },
      "execution_count": null,
      "outputs": []
    }
  ]
}