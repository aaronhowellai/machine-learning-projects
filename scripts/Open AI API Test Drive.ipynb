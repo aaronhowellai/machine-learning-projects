{
  "nbformat": 4,
  "nbformat_minor": 0,
  "metadata": {
    "colab": {
      "provenance": [],
      "authorship_tag": "ABX9TyPZbfjM8Q0C2NlMIrZLOsyB",
      "include_colab_link": true
    },
    "kernelspec": {
      "name": "python3",
      "display_name": "Python 3"
    },
    "language_info": {
      "name": "python"
    }
  },
  "cells": [
    {
      "cell_type": "markdown",
      "metadata": {
        "id": "view-in-github",
        "colab_type": "text"
      },
      "source": [
        "<a href=\"https://colab.research.google.com/github/aaronhowellai/machine-learning-projects/blob/main/scripts/Open%20AI%20API%20Test%20Drive.ipynb\" target=\"_parent\"><img src=\"https://colab.research.google.com/assets/colab-badge.svg\" alt=\"Open In Colab\"/></a>"
      ]
    },
    {
      "cell_type": "markdown",
      "source": [
        "# **Open AI API Test Drive**\n"
      ],
      "metadata": {
        "id": "g__WD-NMQiuj"
      }
    },
    {
      "cell_type": "markdown",
      "source": [
        "## **Use API Key to authenticate access to model for text generation**"
      ],
      "metadata": {
        "id": "8i0zdyhyRb2q"
      }
    },
    {
      "cell_type": "code",
      "source": [
        "client = OpenAI(\n",
        "  api_key=\"[redacted]\"\n",
        ")\n",
        "\n",
        "completion = client.chat.completions.create(\n",
        "  model=\"gpt-4o-mini\",\n",
        "  store=True,\n",
        "  messages=[\n",
        "    {\"role\": \"user\", \"content\": \"Write a one-sentence bedtime story about a SaaS recruitment company using AI to generate leads\"}\n",
        "  ]\n",
        ")\n",
        "\n",
        "print(completion.choices[0].message);\n"
      ],
      "metadata": {
        "colab": {
          "base_uri": "https://localhost:8080/"
        },
        "id": "xCeVKS3-RBgL",
        "outputId": "57234cb6-5ecf-4b09-b4b8-6bccbe1076fe"
      },
      "execution_count": null,
      "outputs": [
        {
          "output_type": "stream",
          "name": "stdout",
          "text": [
            "ChatCompletionMessage(content='As the stars twinkled above, the clever SaaS recruitment company used its magical AI to effortlessly connect the perfect candidates with their dream jobs, ensuring sweet dreams for talent and employers alike.', refusal=None, role='assistant', annotations=[], audio=None, function_call=None, tool_calls=None)\n"
          ]
        }
      ]
    },
    {
      "cell_type": "markdown",
      "source": [
        "**1st Output:**\n",
        "* \"As the stars twinkled above, the clever SaaS recruitment company used its magical AI to effortlessly connect the perfect candidates with their dream jobs, ensuring sweet dreams for talent and employers alike.'\""
      ],
      "metadata": {
        "id": "48GojQ_5Wj_N"
      }
    },
    {
      "cell_type": "code",
      "source": [],
      "metadata": {
        "id": "XLKXq0OjV70a"
      },
      "execution_count": null,
      "outputs": []
    }
  ]
}