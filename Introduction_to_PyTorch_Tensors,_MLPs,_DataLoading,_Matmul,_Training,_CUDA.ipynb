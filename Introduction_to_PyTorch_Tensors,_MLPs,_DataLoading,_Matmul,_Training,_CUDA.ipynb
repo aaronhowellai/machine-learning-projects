{
  "nbformat": 4,
  "nbformat_minor": 0,
  "metadata": {
    "colab": {
      "provenance": [],
      "gpuType": "T4",
      "authorship_tag": "ABX9TyNiqf9Kfw/SLrMjemYb1Hy7",
      "include_colab_link": true
    },
    "kernelspec": {
      "name": "python3",
      "display_name": "Python 3"
    },
    "language_info": {
      "name": "python"
    },
    "accelerator": "GPU"
  },
  "cells": [
    {
      "cell_type": "markdown",
      "metadata": {
        "id": "view-in-github",
        "colab_type": "text"
      },
      "source": [
        "<a href=\"https://colab.research.google.com/github/aaronhowellai/machine-learning-projects/blob/main/Introduction_to_PyTorch_Tensors%2C_MLPs%2C_DataLoading%2C_Matmul%2C_Training%2C_CUDA.ipynb\" target=\"_parent\"><img src=\"https://colab.research.google.com/assets/colab-badge.svg\" alt=\"Open In Colab\"/></a>"
      ]
    },
    {
      "cell_type": "markdown",
      "source": [
        "# **Introduction PyTorch** (Exploring the Basics)\n",
        "Exploring the basics of PyTorch syntax, tensors, matrix multiplication, and backpropagation with Appendix A from the book Build a Large Language Model (From Scratch) by Sebastian Raschka."
      ],
      "metadata": {
        "id": "-1GmjyhzGJQe"
      }
    },
    {
      "cell_type": "code",
      "execution_count": null,
      "metadata": {
        "colab": {
          "base_uri": "https://localhost:8080/",
          "height": 36
        },
        "id": "HZODRITzF9Id",
        "outputId": "6b23fde3-b04f-4a51-e6e9-e687e456953a"
      },
      "outputs": [
        {
          "output_type": "execute_result",
          "data": {
            "text/plain": [
              "'2.6.0+cu124'"
            ],
            "application/vnd.google.colaboratory.intrinsic+json": {
              "type": "string"
            }
          },
          "metadata": {},
          "execution_count": 1
        }
      ],
      "source": [
        "# importing packages\n",
        "import torch\n",
        "import torch.nn.functional as F\n",
        "from torch.autograd import grad\n",
        "from torch.utils.data import Dataset\n",
        "from torch.utils.data import DataLoader\n",
        "torch.__version__"
      ]
    },
    {
      "cell_type": "code",
      "source": [
        "# is optimization for gpus available?\n",
        "torch.cuda.is_available()"
      ],
      "metadata": {
        "colab": {
          "base_uri": "https://localhost:8080/"
        },
        "id": "F2nVpMEVGIWQ",
        "outputId": "79e6247a-6419-4829-a96c-447c3b92faf7"
      },
      "execution_count": null,
      "outputs": [
        {
          "output_type": "execute_result",
          "data": {
            "text/plain": [
              "True"
            ]
          },
          "metadata": {},
          "execution_count": 2
        }
      ]
    },
    {
      "cell_type": "markdown",
      "source": [
        "# **Basics of Tensor Operations**\n",
        "![image description](https://raw.githubusercontent.com/aaronhowellai/machine-learning-projects/4ca381a4e46d5f6c18bd4cd812c1513c9b99fa70/ranks%20of%20tensors.png)\n",
        "\n"
      ],
      "metadata": {
        "id": "rXTLzu3CMAAi"
      }
    },
    {
      "cell_type": "code",
      "source": [
        "# scalar 0D tensor\n",
        "tensor0 = torch.tensor(1)\n",
        "tensor0"
      ],
      "metadata": {
        "colab": {
          "base_uri": "https://localhost:8080/"
        },
        "id": "5BCijRwSfOUx",
        "outputId": "a914b19c-29ab-4325-9bcb-fd959007b2e8"
      },
      "execution_count": null,
      "outputs": [
        {
          "output_type": "execute_result",
          "data": {
            "text/plain": [
              "tensor(1)"
            ]
          },
          "metadata": {},
          "execution_count": 3
        }
      ]
    },
    {
      "cell_type": "code",
      "source": [
        "# vector 1D tensor\n",
        "tensor1 = torch.tensor([1,2,3])\n",
        "tensor1"
      ],
      "metadata": {
        "colab": {
          "base_uri": "https://localhost:8080/"
        },
        "id": "eAwHI_TIfY7q",
        "outputId": "27a8bce4-94ae-486f-f855-68c8e279476b"
      },
      "execution_count": null,
      "outputs": [
        {
          "output_type": "execute_result",
          "data": {
            "text/plain": [
              "tensor([1, 2, 3])"
            ]
          },
          "metadata": {},
          "execution_count": 4
        }
      ]
    },
    {
      "cell_type": "code",
      "source": [
        "# matrix 2D tensor\n",
        "tensor2 = torch.tensor([\n",
        "    [1,2,3],\n",
        "    [4,5,6]\n",
        "    ])\n",
        "tensor2"
      ],
      "metadata": {
        "colab": {
          "base_uri": "https://localhost:8080/"
        },
        "id": "FR7JiQYqfus_",
        "outputId": "e5e13995-6172-40f2-da97-eab5e5510e04"
      },
      "execution_count": null,
      "outputs": [
        {
          "output_type": "execute_result",
          "data": {
            "text/plain": [
              "tensor([[1, 2, 3],\n",
              "        [4, 5, 6]])"
            ]
          },
          "metadata": {},
          "execution_count": 5
        }
      ]
    },
    {
      "cell_type": "code",
      "source": [
        "# matrix 3D tensor\n",
        "tensor3 = torch.tensor([\n",
        "    [[1,2,3],\n",
        "    [4,5,6]],\n",
        "    [[5,6,7],\n",
        "     [8,9,10]]\n",
        "    ])\n",
        "tensor3"
      ],
      "metadata": {
        "colab": {
          "base_uri": "https://localhost:8080/"
        },
        "id": "pN9T_26Wgge1",
        "outputId": "80d35f3a-2e58-48b5-c687-28231a6d0de2"
      },
      "execution_count": null,
      "outputs": [
        {
          "output_type": "execute_result",
          "data": {
            "text/plain": [
              "tensor([[[ 1,  2,  3],\n",
              "         [ 4,  5,  6]],\n",
              "\n",
              "        [[ 5,  6,  7],\n",
              "         [ 8,  9, 10]]])"
            ]
          },
          "metadata": {},
          "execution_count": 6
        }
      ]
    },
    {
      "cell_type": "code",
      "source": [
        "# check the shape of the 3D tensor\n",
        "tensor3.shape"
      ],
      "metadata": {
        "colab": {
          "base_uri": "https://localhost:8080/"
        },
        "id": "L21w6k-zhI8e",
        "outputId": "42b450f8-284e-48a2-8293-0194a5e133ef"
      },
      "execution_count": null,
      "outputs": [
        {
          "output_type": "execute_result",
          "data": {
            "text/plain": [
              "torch.Size([2, 2, 3])"
            ]
          },
          "metadata": {},
          "execution_count": 7
        }
      ]
    },
    {
      "cell_type": "code",
      "source": [
        "# matrix higher order tensor\n",
        "tensor4 = torch.tensor([\n",
        "    [[1,2,3],\n",
        "    [4,5,6]],\n",
        "    [[5,6,7],\n",
        "    [8,9,10]],\n",
        "    [[11,12,13],\n",
        "     [14,15,16]]\n",
        "])\n",
        "\n",
        "# check the shape\n",
        "tensor4.shape"
      ],
      "metadata": {
        "colab": {
          "base_uri": "https://localhost:8080/"
        },
        "id": "vW9wlC63JMdB",
        "outputId": "e1298d00-8214-4956-dea6-dd09389a4c11"
      },
      "execution_count": null,
      "outputs": [
        {
          "output_type": "execute_result",
          "data": {
            "text/plain": [
              "torch.Size([3, 2, 3])"
            ]
          },
          "metadata": {},
          "execution_count": 8
        }
      ]
    },
    {
      "cell_type": "code",
      "source": [
        "# check the type of the 1D tensor\n",
        "type(tensor1)"
      ],
      "metadata": {
        "colab": {
          "base_uri": "https://localhost:8080/"
        },
        "id": "DC99AlY4hcBP",
        "outputId": "27095661-89cc-4458-bd7b-5eacee943d0f"
      },
      "execution_count": null,
      "outputs": [
        {
          "output_type": "execute_result",
          "data": {
            "text/plain": [
              "torch.Tensor"
            ]
          },
          "metadata": {},
          "execution_count": 9
        }
      ]
    },
    {
      "cell_type": "code",
      "source": [
        "# (3,2) tensor\n",
        "ex2d = torch.tensor([[1,2],[3,4],[5,6]])\n",
        "ex2d"
      ],
      "metadata": {
        "colab": {
          "base_uri": "https://localhost:8080/"
        },
        "id": "4A8YZOwLjBAZ",
        "outputId": "afcb8fb0-33cd-4ba9-942c-bd6f25871a39"
      },
      "execution_count": null,
      "outputs": [
        {
          "output_type": "execute_result",
          "data": {
            "text/plain": [
              "tensor([[1, 2],\n",
              "        [3, 4],\n",
              "        [5, 6]])"
            ]
          },
          "metadata": {},
          "execution_count": 10
        }
      ]
    },
    {
      "cell_type": "code",
      "source": [
        "# transpose of previous tensor, now (2,3)\n",
        "print(ex2d.T)"
      ],
      "metadata": {
        "colab": {
          "base_uri": "https://localhost:8080/"
        },
        "id": "O4Sm3FZLlCro",
        "outputId": "8999b8b1-7623-4074-a363-9e1e739ff028"
      },
      "execution_count": null,
      "outputs": [
        {
          "output_type": "stream",
          "name": "stdout",
          "text": [
            "tensor([[1, 3, 5],\n",
            "        [2, 4, 6]])\n"
          ]
        }
      ]
    },
    {
      "cell_type": "code",
      "source": [
        "# matrix multiplication between the matrix and its transposed counterpart\n",
        "print(ex2d.matmul(ex2d.T))"
      ],
      "metadata": {
        "colab": {
          "base_uri": "https://localhost:8080/"
        },
        "id": "iEs14tpYmfjZ",
        "outputId": "c6863ea3-1882-4d4d-92aa-06074038f423"
      },
      "execution_count": null,
      "outputs": [
        {
          "output_type": "stream",
          "name": "stdout",
          "text": [
            "tensor([[ 5, 11, 17],\n",
            "        [11, 25, 39],\n",
            "        [17, 39, 61]])\n"
          ]
        }
      ]
    },
    {
      "cell_type": "code",
      "source": [
        "# another 2D tensor\n",
        "tensor2d = torch.tensor([[1,2,3],\n",
        "                         [4,5,6]])\n",
        "tensor2d"
      ],
      "metadata": {
        "colab": {
          "base_uri": "https://localhost:8080/"
        },
        "id": "J5mSCLKjnH2L",
        "outputId": "b3b12a03-bd41-410d-8925-c1aafa76d421"
      },
      "execution_count": null,
      "outputs": [
        {
          "output_type": "execute_result",
          "data": {
            "text/plain": [
              "tensor([[1, 2, 3],\n",
              "        [4, 5, 6]])"
            ]
          },
          "metadata": {},
          "execution_count": 13
        }
      ]
    },
    {
      "cell_type": "code",
      "source": [
        "# computing the transpose as a variable\n",
        "tensor2dT = tensor2d.T\n",
        "tensor2dT"
      ],
      "metadata": {
        "colab": {
          "base_uri": "https://localhost:8080/"
        },
        "id": "H47Q_pWGnRpI",
        "outputId": "b088a45b-020f-4bc9-e572-20c5cc29f53c"
      },
      "execution_count": null,
      "outputs": [
        {
          "output_type": "execute_result",
          "data": {
            "text/plain": [
              "tensor([[1, 4],\n",
              "        [2, 5],\n",
              "        [3, 6]])"
            ]
          },
          "metadata": {},
          "execution_count": 14
        }
      ]
    },
    {
      "cell_type": "code",
      "source": [
        "# matmul\n",
        "print(tensor2d.matmul(tensor2dT))"
      ],
      "metadata": {
        "colab": {
          "base_uri": "https://localhost:8080/"
        },
        "id": "wg1GrtWxnX_D",
        "outputId": "9cc59bc9-2712-4629-b1f0-09c6f424c41e"
      },
      "execution_count": null,
      "outputs": [
        {
          "output_type": "stream",
          "name": "stdout",
          "text": [
            "tensor([[14, 32],\n",
            "        [32, 77]])\n"
          ]
        }
      ]
    },
    {
      "cell_type": "code",
      "source": [
        "# another way to compute matrix multiplcation\n",
        "print(tensor2d @ tensor2dT)"
      ],
      "metadata": {
        "colab": {
          "base_uri": "https://localhost:8080/"
        },
        "id": "Tcd5AjnLp46j",
        "outputId": "228d6bce-3a17-41ce-ec85-f948b287d6f8"
      },
      "execution_count": null,
      "outputs": [
        {
          "output_type": "stream",
          "name": "stdout",
          "text": [
            "tensor([[14, 32],\n",
            "        [32, 77]])\n"
          ]
        }
      ]
    },
    {
      "cell_type": "markdown",
      "source": [
        "# **Exploring Simple Neural Networks with FFNs and MLPs**"
      ],
      "metadata": {
        "id": "W6zaFh2PMH5w"
      }
    },
    {
      "cell_type": "code",
      "source": [
        "# feed forward network setup for logistic regression\n",
        "\n",
        "y = torch.tensor([1.0]) # true label\n",
        "x1 = torch.tensor([1.1]) # input feature\n",
        "w1 = torch.tensor([2.2], requires_grad=True) # weight parameter\n",
        "b = torch.tensor([0.0], requires_grad=True) # bias input\n",
        "\n",
        "# net input\n",
        "z = x1 * w1 + b\n",
        "\n",
        "# sigmoid activation function\n",
        "a = torch.sigmoid(z)\n",
        "\n",
        "# output\n",
        "loss = F.binary_cross_entropy(a,y)\n",
        "\n",
        "# computing gradients\n",
        "grad_L_w1 = grad(loss, w1, retain_graph=True) # keep computation graph\n",
        "grad_L_b = grad(loss, b, retain_graph=True)"
      ],
      "metadata": {
        "id": "v8q7JUeoLhF8"
      },
      "execution_count": null,
      "outputs": []
    },
    {
      "cell_type": "code",
      "source": [
        "# compute the values of the loss\n",
        "print('Loss function of w1:',grad_L_w1)\n",
        "print('Loss function of b:',grad_L_b)"
      ],
      "metadata": {
        "colab": {
          "base_uri": "https://localhost:8080/"
        },
        "id": "mJvnPNCJO2EH",
        "outputId": "3fa28d89-c50a-42dd-980f-7873a2971c33"
      },
      "execution_count": null,
      "outputs": [
        {
          "output_type": "stream",
          "name": "stdout",
          "text": [
            "Loss function of w1: (tensor([-0.0898]),)\n",
            "Loss function of b: (tensor([-0.0817]),)\n"
          ]
        }
      ]
    },
    {
      "cell_type": "code",
      "source": [
        "# backward on loss as an attribute\n",
        "loss.backward()"
      ],
      "metadata": {
        "id": "Fp-d2kquV0YC"
      },
      "execution_count": null,
      "outputs": []
    },
    {
      "cell_type": "code",
      "source": [
        "# automatic results\n",
        "print('Loss function of w1:',w1.grad)\n",
        "print('Loss function of b:',b.grad)"
      ],
      "metadata": {
        "colab": {
          "base_uri": "https://localhost:8080/"
        },
        "id": "8KjKKCbKWhpn",
        "outputId": "08d20b96-81ce-44fe-ae2a-64bb9f7c7fdd"
      },
      "execution_count": null,
      "outputs": [
        {
          "output_type": "stream",
          "name": "stdout",
          "text": [
            "Loss function of w1: tensor([-0.0898])\n",
            "Loss function of b: tensor([-0.0817])\n"
          ]
        }
      ]
    },
    {
      "cell_type": "code",
      "source": [
        "# multilayer perceptron with two hidden layers\n",
        "class NeuralNetwork(torch.nn.Module):\n",
        "  def __init__(self, num_inputs, num_outputs):\n",
        "    super().__init__()\n",
        "\n",
        "    self.layers = torch.nn.Sequential(\n",
        "\n",
        "    # 1st hidden layer\n",
        "    torch.nn.Linear(num_inputs, 30),\n",
        "    torch.nn.ReLU(),\n",
        "\n",
        "    # 2nd hidden layer\n",
        "    torch.nn.Linear(30, 20),\n",
        "    torch.nn.ReLU(),\n",
        "\n",
        "    # output layer\n",
        "    torch.nn.Linear(20, num_outputs)\n",
        "\n",
        "    )\n",
        "\n",
        "  def forward(self, x):\n",
        "    logits = self.layers(x)\n",
        "    return logits"
      ],
      "metadata": {
        "id": "QNTl-snUNImr"
      },
      "execution_count": null,
      "outputs": []
    },
    {
      "cell_type": "code",
      "source": [
        "# instantiate a new neural network\n",
        "model = NeuralNetwork(50, 3)\n",
        "\n",
        "print(model)"
      ],
      "metadata": {
        "colab": {
          "base_uri": "https://localhost:8080/"
        },
        "id": "dp9hr0AUPR-B",
        "outputId": "5b67e477-af0d-4fd4-a393-ce4160426e7f"
      },
      "execution_count": null,
      "outputs": [
        {
          "output_type": "stream",
          "name": "stdout",
          "text": [
            "NeuralNetwork(\n",
            "  (layers): Sequential(\n",
            "    (0): Linear(in_features=50, out_features=30, bias=True)\n",
            "    (1): ReLU()\n",
            "    (2): Linear(in_features=30, out_features=20, bias=True)\n",
            "    (3): ReLU()\n",
            "    (4): Linear(in_features=20, out_features=3, bias=True)\n",
            "  )\n",
            ")\n"
          ]
        }
      ]
    },
    {
      "cell_type": "code",
      "source": [
        "# check the number of trainable parameters in this model\n",
        "num_params = sum(p.numel() for p in model.parameters() if p.requires_grad)\n",
        "print(\"Total number of trainable model parameters:\", num_params)"
      ],
      "metadata": {
        "colab": {
          "base_uri": "https://localhost:8080/"
        },
        "id": "wFCu2KfbG1T6",
        "outputId": "2433061b-3bbc-46b1-bcf3-39ae1ec8f801"
      },
      "execution_count": null,
      "outputs": [
        {
          "output_type": "stream",
          "name": "stdout",
          "text": [
            "Total number of trainable model parameters: 2213\n"
          ]
        }
      ]
    },
    {
      "cell_type": "code",
      "source": [
        "# access Linear layer at idx 0\n",
        "print(model.layers[0].weight)"
      ],
      "metadata": {
        "colab": {
          "base_uri": "https://localhost:8080/"
        },
        "id": "wpFW0WBLIN38",
        "outputId": "d37ca5a4-1687-45e3-b783-b80fb3e4971a"
      },
      "execution_count": null,
      "outputs": [
        {
          "output_type": "stream",
          "name": "stdout",
          "text": [
            "Parameter containing:\n",
            "tensor([[-0.0842, -0.0894, -0.0503,  ...,  0.0909,  0.0059,  0.1195],\n",
            "        [ 0.0767,  0.0866, -0.0182,  ...,  0.1335, -0.0243, -0.0421],\n",
            "        [-0.0731, -0.0866, -0.0313,  ..., -0.1188, -0.0511,  0.1353],\n",
            "        ...,\n",
            "        [-0.1058, -0.0454,  0.0523,  ...,  0.0103, -0.1246,  0.0234],\n",
            "        [ 0.1052, -0.0829,  0.0643,  ..., -0.0337,  0.0725,  0.0059],\n",
            "        [ 0.0122, -0.0581, -0.0625,  ..., -0.0168, -0.0615,  0.1057]],\n",
            "       requires_grad=True)\n"
          ]
        }
      ]
    },
    {
      "cell_type": "code",
      "source": [
        "# show its dimensions\n",
        "print(model.layers[0].weight.shape)"
      ],
      "metadata": {
        "colab": {
          "base_uri": "https://localhost:8080/"
        },
        "id": "LfEV50UWIcP_",
        "outputId": "8e163600-e6d2-4c34-bd6f-2afacac6a6bd"
      },
      "execution_count": null,
      "outputs": [
        {
          "output_type": "stream",
          "name": "stdout",
          "text": [
            "torch.Size([30, 50])\n"
          ]
        }
      ]
    },
    {
      "cell_type": "code",
      "source": [
        "# access the bias vector\n",
        "print(model.layers[0].bias)"
      ],
      "metadata": {
        "colab": {
          "base_uri": "https://localhost:8080/"
        },
        "id": "qiQ4Lu1sIwOG",
        "outputId": "c0abd106-0fb0-4aff-912e-d56c1f952d44"
      },
      "execution_count": null,
      "outputs": [
        {
          "output_type": "stream",
          "name": "stdout",
          "text": [
            "Parameter containing:\n",
            "tensor([-0.0386, -0.0358,  0.0491,  0.0413, -0.0890,  0.1030, -0.0516,  0.1405,\n",
            "         0.1137, -0.1332, -0.0899, -0.1237,  0.1245,  0.0925, -0.0469,  0.0179,\n",
            "         0.0634,  0.1312, -0.1269,  0.0375,  0.0918, -0.1243, -0.0291,  0.1386,\n",
            "        -0.0277,  0.0167, -0.1267,  0.0379,  0.0358,  0.1376],\n",
            "       requires_grad=True)\n"
          ]
        }
      ]
    },
    {
      "cell_type": "code",
      "source": [
        "# weight matrix random number seed\n",
        "torch.manual_seed(123)\n",
        "model = NeuralNetwork(50, 3)\n",
        "print(model.layers[0].weight)"
      ],
      "metadata": {
        "colab": {
          "base_uri": "https://localhost:8080/"
        },
        "id": "fvf7mzAIKLZy",
        "outputId": "c8fe1d72-b739-413b-995c-102a527847af"
      },
      "execution_count": null,
      "outputs": [
        {
          "output_type": "stream",
          "name": "stdout",
          "text": [
            "Parameter containing:\n",
            "tensor([[-0.0577,  0.0047, -0.0702,  ...,  0.0222,  0.1260,  0.0865],\n",
            "        [ 0.0502,  0.0307,  0.0333,  ...,  0.0951,  0.1134, -0.0297],\n",
            "        [ 0.1077, -0.1108,  0.0122,  ...,  0.0108, -0.1049, -0.1063],\n",
            "        ...,\n",
            "        [-0.0787,  0.1259,  0.0803,  ...,  0.1218,  0.1303, -0.1351],\n",
            "        [ 0.1359,  0.0175, -0.0673,  ...,  0.0674,  0.0676,  0.1058],\n",
            "        [ 0.0790,  0.1343, -0.0293,  ...,  0.0344, -0.0971, -0.0509]],\n",
            "       requires_grad=True)\n"
          ]
        }
      ]
    },
    {
      "cell_type": "markdown",
      "source": [
        "## `NeuralNetwork()` with Forward Pass\n",
        "Below shows a single random training example X as a dummy input, fed to the model, returning 3 scores."
      ],
      "metadata": {
        "id": "HxlKPrbULTcS"
      }
    },
    {
      "cell_type": "code",
      "source": [
        "# forward pass\n",
        "torch.manual_seed(123)\n",
        "X = torch.rand((1,50))\n",
        "out = model(X)\n",
        "print(out)"
      ],
      "metadata": {
        "colab": {
          "base_uri": "https://localhost:8080/"
        },
        "id": "zOyqQM2cK8Bu",
        "outputId": "fb21c487-ea7d-41de-e98f-603ccec04532"
      },
      "execution_count": null,
      "outputs": [
        {
          "output_type": "stream",
          "name": "stdout",
          "text": [
            "tensor([[-0.1262,  0.1080, -0.1792]], grad_fn=<AddmmBackward0>)\n"
          ]
        }
      ]
    },
    {
      "cell_type": "code",
      "source": [
        "# compute the class-membership probabilities for predictions\n",
        "\n",
        "# call softmax function\n",
        "with torch.no_grad():\n",
        "  out = torch.softmax(model(X), dim=1)\n",
        "\n",
        "print(out)"
      ],
      "metadata": {
        "colab": {
          "base_uri": "https://localhost:8080/"
        },
        "id": "cucflhN9Jq_3",
        "outputId": "c8ed5175-2a4b-407b-f30b-5085df6047dc"
      },
      "execution_count": null,
      "outputs": [
        {
          "output_type": "stream",
          "name": "stdout",
          "text": [
            "tensor([[0.3113, 0.3934, 0.2952]])\n"
          ]
        }
      ]
    },
    {
      "cell_type": "markdown",
      "source": [
        "# **Setting up Efficient Data Loaders**\n",
        "![image description](https://raw.githubusercontent.com/aaronhowellai/machine-learning-projects/main/efficient%20data%20loaders.png)\n",
        "\n",
        "I will now implement a `Dataset()` class, which I will use to create a training and test dataset that I'll then use to create dataloaders."
      ],
      "metadata": {
        "id": "-0mijOxEK2Hs"
      }
    },
    {
      "cell_type": "code",
      "source": [
        "# create a toy dataset\n",
        "X_train = torch.tensor([\n",
        "    [-1.2,3.1],\n",
        "    [-0.9,2.9],\n",
        "    [-0.5,2.6],\n",
        "    [2.3,-1.1],\n",
        "    [2.7,-1.5]\n",
        "])\n",
        "\n",
        "y_train = torch.tensor([0,0,0,1,1])\n",
        "\n",
        "X_test = torch.tensor([\n",
        "    [-0.8,2.8],\n",
        "    [2.6,-1.6],\n",
        "])\n",
        "\n",
        "y_test = torch.tensor([0,1])"
      ],
      "metadata": {
        "id": "BeTPtzW2Mhlo"
      },
      "execution_count": null,
      "outputs": []
    },
    {
      "cell_type": "code",
      "source": [
        "# defining a dataset class\n",
        "class ToyDataset(Dataset):\n",
        "  def __init__(self, X,y):\n",
        "    self.features = X\n",
        "    self.labels = y\n",
        "\n",
        "  def __getitem__(self, index): # instructions for retrieving exactly one data record and the corresponding label\n",
        "    one_x = self.features[index]\n",
        "    one_y = self.labels[index]\n",
        "    return one_x, one_y\n",
        "\n",
        "  def __len__(self): # instructions for returning the total length of the dataset\n",
        "    return self.labels.shape[0]\n",
        "\n",
        "train_ds = ToyDataset(X_train, y_train)\n",
        "test_ds = ToyDataset(X_test, y_test)"
      ],
      "metadata": {
        "id": "odg8-1W7Qn3a"
      },
      "execution_count": null,
      "outputs": []
    },
    {
      "cell_type": "code",
      "source": [
        "print(len(train_ds))"
      ],
      "metadata": {
        "colab": {
          "base_uri": "https://localhost:8080/"
        },
        "id": "kQc0tbH2VcJ5",
        "outputId": "34524dfc-14ef-4bbe-fade-77d42fdfb02f"
      },
      "execution_count": null,
      "outputs": [
        {
          "output_type": "stream",
          "name": "stdout",
          "text": [
            "5\n"
          ]
        }
      ]
    },
    {
      "cell_type": "code",
      "source": [
        "# instantiating data loader class to sample from ToyDataset\n",
        "torch.manual_seed(123)\n",
        "\n",
        "train_loader = DataLoader(\n",
        "    dataset=train_ds,\n",
        "    batch_size=2,\n",
        "    shuffle=True,\n",
        "    num_workers=0, # number of background processes\n",
        "    drop_last=True\n",
        ")\n",
        "\n",
        "test_loader = DataLoader(\n",
        "    dataset=test_ds,\n",
        "    batch_size=2,\n",
        "    shuffle=False,\n",
        "    num_workers=0\n",
        ")"
      ],
      "metadata": {
        "id": "hs2LRQbOVtuW"
      },
      "execution_count": null,
      "outputs": []
    },
    {
      "cell_type": "code",
      "source": [
        "# iterate over the training data loader\n",
        "for idx, (x,y) in enumerate(train_loader):\n",
        "  print(f\"Batch {idx+1}:\", x,y)"
      ],
      "metadata": {
        "colab": {
          "base_uri": "https://localhost:8080/"
        },
        "id": "WH5QvM0hW5BQ",
        "outputId": "d049c8f8-ae18-4e57-c7fe-808e0848fef8"
      },
      "execution_count": null,
      "outputs": [
        {
          "output_type": "stream",
          "name": "stdout",
          "text": [
            "Batch 1: tensor([[ 2.3000, -1.1000],\n",
            "        [-0.9000,  2.9000]]) tensor([1, 0])\n",
            "Batch 2: tensor([[-1.2000,  3.1000],\n",
            "        [-0.5000,  2.6000]]) tensor([0, 0])\n"
          ]
        }
      ]
    },
    {
      "cell_type": "markdown",
      "source": [
        "# **Typical Training Loop**"
      ],
      "metadata": {
        "id": "1A3XqE2c_2w8"
      }
    },
    {
      "cell_type": "code",
      "source": [
        "# typical training loop\n",
        "torch.manual_seed(123)\n",
        "model = NeuralNetwork(num_inputs=2,num_outputs=2)\n",
        "optimizer = torch.optim.SGD(\n",
        "    model.parameters(), lr=.5\n",
        ")\n",
        "\n",
        "num_epochs = 3\n",
        "for epoch in range(num_epochs):\n",
        "  model.train()\n",
        "\n",
        "  for batch_idx, (features, labels) in enumerate(train_loader):\n",
        "    logits = model(features)\n",
        "    loss = F.cross_entropy(logits, labels)\n",
        "\n",
        "    optimizer.zero_grad() # reset the gradients to zero to prevent accumulation\n",
        "    loss.backward()\n",
        "    optimizer.step()\n",
        "\n",
        "    ### logging\n",
        "    print(f\"Epoch: {epoch+1:03d}/{num_epochs:03d}\"\n",
        "          f\" | Batch {batch_idx+1:03d}/{len(train_loader):03d}\"\n",
        "          f\" | Train Loss: {loss:.2f}\")\n",
        "print(\"\\n\")\n",
        "model.eval()"
      ],
      "metadata": {
        "colab": {
          "base_uri": "https://localhost:8080/"
        },
        "id": "oDPECtrCAA33",
        "outputId": "8913683c-299d-4eda-a84d-650eed0aa20d"
      },
      "execution_count": null,
      "outputs": [
        {
          "output_type": "stream",
          "name": "stdout",
          "text": [
            "Epoch: 001/003 | Batch 001/002 | Train Loss: 0.75\n",
            "Epoch: 001/003 | Batch 002/002 | Train Loss: 0.65\n",
            "Epoch: 002/003 | Batch 001/002 | Train Loss: 0.44\n",
            "Epoch: 002/003 | Batch 002/002 | Train Loss: 0.13\n",
            "Epoch: 003/003 | Batch 001/002 | Train Loss: 0.03\n",
            "Epoch: 003/003 | Batch 002/002 | Train Loss: 0.00\n",
            "\n",
            "\n"
          ]
        },
        {
          "output_type": "execute_result",
          "data": {
            "text/plain": [
              "NeuralNetwork(\n",
              "  (layers): Sequential(\n",
              "    (0): Linear(in_features=2, out_features=30, bias=True)\n",
              "    (1): ReLU()\n",
              "    (2): Linear(in_features=30, out_features=20, bias=True)\n",
              "    (3): ReLU()\n",
              "    (4): Linear(in_features=20, out_features=2, bias=True)\n",
              "  )\n",
              ")"
            ]
          },
          "metadata": {},
          "execution_count": 35
        }
      ]
    },
    {
      "cell_type": "code",
      "source": [
        "train_loader.batch_size"
      ],
      "metadata": {
        "colab": {
          "base_uri": "https://localhost:8080/"
        },
        "id": "Lmu8AgWJClqw",
        "outputId": "d524880e-39df-498a-e129-4337a3ce18d4"
      },
      "execution_count": null,
      "outputs": [
        {
          "output_type": "execute_result",
          "data": {
            "text/plain": [
              "2"
            ]
          },
          "metadata": {},
          "execution_count": 36
        }
      ]
    },
    {
      "cell_type": "code",
      "source": [
        "# Total parameters\n",
        "total_params = sum(p.numel() for p in model.parameters())\n",
        "print(f\"Total parameters: {total_params}\")\n",
        "\n",
        "# Trainable parameters\n",
        "trainable_params = sum(p.numel() for p in model.parameters() if p.requires_grad)\n",
        "print(f\"Trainable parameters: {trainable_params}\")"
      ],
      "metadata": {
        "colab": {
          "base_uri": "https://localhost:8080/"
        },
        "id": "JmTowrhpICtq",
        "outputId": "0d577261-0b61-4c64-e2e6-679c72e640c1"
      },
      "execution_count": null,
      "outputs": [
        {
          "output_type": "stream",
          "name": "stdout",
          "text": [
            "Total parameters: 752\n",
            "Trainable parameters: 752\n"
          ]
        }
      ]
    },
    {
      "cell_type": "code",
      "source": [
        "# make predictions using eval mode\n",
        "model.eval()\n",
        "with torch.no_grad():\n",
        "  outputs = model(X_train)\n",
        "print(outputs)"
      ],
      "metadata": {
        "colab": {
          "base_uri": "https://localhost:8080/"
        },
        "id": "JSEZIf1FQqgo",
        "outputId": "d5023fe9-7ecc-49fd-f377-783e4070d631"
      },
      "execution_count": null,
      "outputs": [
        {
          "output_type": "stream",
          "name": "stdout",
          "text": [
            "tensor([[ 2.8569, -4.1618],\n",
            "        [ 2.5382, -3.7548],\n",
            "        [ 2.0944, -3.1820],\n",
            "        [-1.4814,  1.4816],\n",
            "        [-1.7176,  1.7342]])\n"
          ]
        }
      ]
    },
    {
      "cell_type": "code",
      "source": [
        "# class membership probabilities\n",
        "torch.set_printoptions(sci_mode=False)\n",
        "probas = torch.softmax(outputs, dim=1)\n",
        "print(probas)"
      ],
      "metadata": {
        "colab": {
          "base_uri": "https://localhost:8080/"
        },
        "id": "tQjbg_iLSyuH",
        "outputId": "b2579d32-5a51-450b-f42e-1984c186eef2"
      },
      "execution_count": null,
      "outputs": [
        {
          "output_type": "stream",
          "name": "stdout",
          "text": [
            "tensor([[    0.9991,     0.0009],\n",
            "        [    0.9982,     0.0018],\n",
            "        [    0.9949,     0.0051],\n",
            "        [    0.0491,     0.9509],\n",
            "        [    0.0307,     0.9693]])\n"
          ]
        }
      ]
    },
    {
      "cell_type": "code",
      "source": [
        "# view the class predictions\n",
        "predictions = torch.argmax(outputs,dim=1)\n",
        "print(predictions)"
      ],
      "metadata": {
        "colab": {
          "base_uri": "https://localhost:8080/"
        },
        "id": "D0GECcBSUVtD",
        "outputId": "470c5f63-4db1-4137-88ae-d60df434f0db"
      },
      "execution_count": null,
      "outputs": [
        {
          "output_type": "stream",
          "name": "stdout",
          "text": [
            "tensor([0, 0, 0, 1, 1])\n"
          ]
        }
      ]
    },
    {
      "cell_type": "code",
      "source": [
        "# compare predictions to true labels\n",
        "predictions == y_train"
      ],
      "metadata": {
        "colab": {
          "base_uri": "https://localhost:8080/"
        },
        "id": "LvPa8GXEU8bP",
        "outputId": "4f562e3d-f68f-4717-a57c-778280e11dfd"
      },
      "execution_count": null,
      "outputs": [
        {
          "output_type": "execute_result",
          "data": {
            "text/plain": [
              "tensor([True, True, True, True, True])"
            ]
          },
          "metadata": {},
          "execution_count": 41
        }
      ]
    },
    {
      "cell_type": "code",
      "source": [
        "# compare predictions to true labels\n",
        "len(predictions) == torch.sum(predictions == y_train)"
      ],
      "metadata": {
        "colab": {
          "base_uri": "https://localhost:8080/"
        },
        "id": "BqKiu9aQVlGb",
        "outputId": "ce575a37-3c35-4b13-f7aa-dd2b74e4fe10"
      },
      "execution_count": null,
      "outputs": [
        {
          "output_type": "execute_result",
          "data": {
            "text/plain": [
              "tensor(True)"
            ]
          },
          "metadata": {},
          "execution_count": 42
        }
      ]
    },
    {
      "cell_type": "code",
      "source": [
        "# compare predictions to true labels\n",
        "torch.sum(predictions == y_train)"
      ],
      "metadata": {
        "colab": {
          "base_uri": "https://localhost:8080/"
        },
        "id": "i1ETanvpV6py",
        "outputId": "ed7e15c9-cbe7-4db4-8bae-f7adc0bee547"
      },
      "execution_count": null,
      "outputs": [
        {
          "output_type": "execute_result",
          "data": {
            "text/plain": [
              "tensor(5)"
            ]
          },
          "metadata": {},
          "execution_count": 43
        }
      ]
    },
    {
      "cell_type": "code",
      "source": [
        "# compute the prediction accuracy\n",
        "def compute_accuracy(model, dataloader):\n",
        "  model = model.eval()\n",
        "  correct = 0.0\n",
        "  total_examples = 0\n",
        "\n",
        "  for idx, (features, labels) in enumerate(dataloader):\n",
        "\n",
        "    with torch.no_grad():\n",
        "      logits = model(features)\n",
        "\n",
        "    predictions = torch.argmax(logits, dim=1)\n",
        "    compare = labels == predictions\n",
        "    correct += torch.sum(compare)\n",
        "    total_examples += len(compare)\n",
        "\n",
        "  return (correct / total_examples).item()\n",
        "\n",
        "print(compute_accuracy(model, train_loader))"
      ],
      "metadata": {
        "colab": {
          "base_uri": "https://localhost:8080/"
        },
        "id": "YR1ot-MIWFzg",
        "outputId": "6884cf1a-f291-4ccb-ca1d-3a8ffbc903bf"
      },
      "execution_count": null,
      "outputs": [
        {
          "output_type": "stream",
          "name": "stdout",
          "text": [
            "1.0\n"
          ]
        }
      ]
    },
    {
      "cell_type": "code",
      "source": [
        "# test set\n",
        "print(compute_accuracy(model, test_loader))"
      ],
      "metadata": {
        "colab": {
          "base_uri": "https://localhost:8080/"
        },
        "id": "dOfLbMuFYZhx",
        "outputId": "4f8bd6df-135f-4e6f-fb61-edf78b34d7e7"
      },
      "execution_count": null,
      "outputs": [
        {
          "output_type": "stream",
          "name": "stdout",
          "text": [
            "1.0\n"
          ]
        }
      ]
    },
    {
      "cell_type": "code",
      "source": [
        "# save the model for reuse later\n",
        "torch.save(model.state_dict(), \"model.pth\")"
      ],
      "metadata": {
        "id": "5lbnZzyUYk55"
      },
      "execution_count": null,
      "outputs": []
    },
    {
      "cell_type": "code",
      "source": [
        "# restore and load the model\n",
        "model = NeuralNetwork(2,2)\n",
        "model.load_state_dict(torch.load(\"model.pth\"))"
      ],
      "metadata": {
        "colab": {
          "base_uri": "https://localhost:8080/"
        },
        "id": "nSTxLXRoaLUo",
        "outputId": "f6c2807b-790d-402b-9728-7f6cdd22452c"
      },
      "execution_count": null,
      "outputs": [
        {
          "output_type": "execute_result",
          "data": {
            "text/plain": [
              "<All keys matched successfully>"
            ]
          },
          "metadata": {},
          "execution_count": 47
        }
      ]
    },
    {
      "cell_type": "markdown",
      "source": [
        "# **Optimizing Training Performance with GPUs**\n",
        "Training Deep Neural Networks on a Single GPU and Multiple GPUs"
      ],
      "metadata": {
        "id": "iftMspvhdupr"
      }
    },
    {
      "cell_type": "code",
      "source": [
        "# checking runtime supports gpu computing again\n",
        "torch.cuda.is_available()"
      ],
      "metadata": {
        "colab": {
          "base_uri": "https://localhost:8080/"
        },
        "id": "rqi888KCbCsl",
        "outputId": "20996117-4c8e-4040-9382-c5157871f565"
      },
      "execution_count": null,
      "outputs": [
        {
          "output_type": "execute_result",
          "data": {
            "text/plain": [
              "True"
            ]
          },
          "metadata": {},
          "execution_count": 48
        }
      ]
    },
    {
      "cell_type": "code",
      "source": [
        "# computations with gpu\n",
        "tensor_1 = torch.tensor([1.,2.,3.])\n",
        "tensor_2 = torch.tensor([4.,5.,6.])\n",
        "\n",
        "tensor_1 = tensor_1.to(\"cuda\")\n",
        "tensor_2 = tensor_2.to(\"cuda\")\n",
        "\n",
        "print(tensor_1 + tensor_2)"
      ],
      "metadata": {
        "colab": {
          "base_uri": "https://localhost:8080/"
        },
        "id": "t1cdc40SeSJf",
        "outputId": "1c82b5a7-a3ec-448b-c4fe-4eb0b696ca7f"
      },
      "execution_count": null,
      "outputs": [
        {
          "output_type": "stream",
          "name": "stdout",
          "text": [
            "tensor([5., 7., 9.], device='cuda:0')\n"
          ]
        }
      ]
    },
    {
      "cell_type": "markdown",
      "source": [
        "## **Single-GPU training Example**\n",
        "\n"
      ],
      "metadata": {
        "id": "AcZnzDxLqAuh"
      }
    },
    {
      "cell_type": "code",
      "source": [
        "torch.manual_seed(123)\n",
        "model = NeuralNetwork(num_inputs=2, num_outputs=2)\n",
        "\n",
        "device = torch.device(\"cuda\" if torch.cuda.is_available() else \"cpu\")\n",
        "model = model.to(device)\n",
        "\n",
        "optimizer = torch.optim.SGD(model.parameters(), lr=.5)\n",
        "num_epochs = 3\n",
        "\n",
        "for epoch in range(num_epochs):\n",
        "  model.train()\n",
        "  for batch_idx, (features, labels) in enumerate(train_loader):\n",
        "    features, labels = features.to(device), labels.to(device)\n",
        "    logits = model(features)\n",
        "    loss = F.cross_entropy(logits, labels)\n",
        "\n",
        "    optimizer.zero_grad()\n",
        "    loss.backward()\n",
        "    optimizer.step()\n",
        "\n",
        "    ### logging\n",
        "    print(f\"Epoch: {epoch+1:03d}/{num_epochs:03d}\"\n",
        "          f\" | Batch {batch_idx+1:03d}/{len(train_loader):03d}\"\n",
        "          f\" | Train/Val Loss: {loss:.2f}\"\n",
        "    )"
      ],
      "metadata": {
        "colab": {
          "base_uri": "https://localhost:8080/"
        },
        "id": "KyOAZP9wpKYs",
        "outputId": "260c45b2-3ae1-431f-859b-87d99807e658"
      },
      "execution_count": null,
      "outputs": [
        {
          "output_type": "stream",
          "name": "stdout",
          "text": [
            "Epoch: 001/003 | Batch 001/002 | Train/Val Loss: 0.75\n",
            "Epoch: 001/003 | Batch 002/002 | Train/Val Loss: 0.65\n",
            "Epoch: 002/003 | Batch 001/002 | Train/Val Loss: 0.44\n",
            "Epoch: 002/003 | Batch 002/002 | Train/Val Loss: 0.13\n",
            "Epoch: 003/003 | Batch 001/002 | Train/Val Loss: 0.03\n",
            "Epoch: 003/003 | Batch 002/002 | Train/Val Loss: 0.00\n"
          ]
        }
      ]
    },
    {
      "cell_type": "markdown",
      "source": [
        "## **Matrix Multiplication on GPU vs CPU**\n",
        "Comparing speeds of matrix multiplication with tesnors of different magnitude."
      ],
      "metadata": {
        "id": "G7QphjYK6SR7"
      }
    },
    {
      "cell_type": "code",
      "source": [
        "# compare with time module\n",
        "\n",
        "# (3,2) 2D tensor\n",
        "a_small = torch.tensor([[1,2],[3,4],[5,6]], dtype=torch.float32)\n",
        "b_small = a_small.T\n",
        "\n",
        "# gpu\n",
        "a_small_gpu = a_small.to(\"cuda\")\n",
        "b_small_gpu = b_small.to(\"cuda\")\n",
        "\n",
        "# cpu\n",
        "a_small_cpu = a_small.to(\"cpu\")\n",
        "b_small_cpu = b_small.to(\"cpu\")"
      ],
      "metadata": {
        "id": "bcGYiQVR6QRh"
      },
      "execution_count": null,
      "outputs": []
    },
    {
      "cell_type": "code",
      "source": [
        "%timeit a_small_gpu.matmul(b_small_gpu)"
      ],
      "metadata": {
        "colab": {
          "base_uri": "https://localhost:8080/"
        },
        "id": "dkiKASAr9eE5",
        "outputId": "45fd3cd3-4b5d-4fa0-cff2-6d4f00e3ad68"
      },
      "execution_count": null,
      "outputs": [
        {
          "output_type": "stream",
          "name": "stdout",
          "text": [
            "12.3 µs ± 1.41 µs per loop (mean ± std. dev. of 7 runs, 100000 loops each)\n"
          ]
        }
      ]
    },
    {
      "cell_type": "code",
      "source": [
        "%timeit a_small_cpu.matmul(b_small_cpu)"
      ],
      "metadata": {
        "colab": {
          "base_uri": "https://localhost:8080/"
        },
        "id": "LW-6RWKi7JHL",
        "outputId": "1ab9a151-0589-4073-9038-3cc0acc3a58c"
      },
      "execution_count": null,
      "outputs": [
        {
          "output_type": "stream",
          "name": "stdout",
          "text": [
            "2.41 µs ± 103 ns per loop (mean ± std. dev. of 7 runs, 100000 loops each)\n"
          ]
        }
      ]
    },
    {
      "cell_type": "markdown",
      "source": [
        "### **Performance Improvment with GPU**"
      ],
      "metadata": {
        "id": "rF87LAEv_Nck"
      }
    },
    {
      "cell_type": "code",
      "source": [
        "a = torch.randn(1000, 1000)\n",
        "b = a.T"
      ],
      "metadata": {
        "id": "dVrRsEMk-HHd"
      },
      "execution_count": null,
      "outputs": []
    },
    {
      "cell_type": "code",
      "source": [
        "a.shape"
      ],
      "metadata": {
        "colab": {
          "base_uri": "https://localhost:8080/"
        },
        "id": "ShuF2cqlAOvs",
        "outputId": "30c5c678-deca-4aac-92b4-1816b10019ea"
      },
      "execution_count": null,
      "outputs": [
        {
          "output_type": "execute_result",
          "data": {
            "text/plain": [
              "torch.Size([1000, 1000])"
            ]
          },
          "metadata": {},
          "execution_count": 80
        }
      ]
    },
    {
      "cell_type": "markdown",
      "source": [
        "**Numbers:**\n",
        "* GPU: ~779 µs (microseconds)\n",
        "\n",
        "* CPU: ~24 ms (milliseconds = 24,000 µs)\n",
        "\n",
        "The computation is ~30x faster on GPU"
      ],
      "metadata": {
        "id": "OOjdN4Ge_JdZ"
      }
    },
    {
      "cell_type": "code",
      "source": [
        "a_gpu = a.to(\"cuda\")\n",
        "b_gpu = b.to(\"cuda\")\n",
        "%timeit a_gpu.matmul(b_gpu)"
      ],
      "metadata": {
        "colab": {
          "base_uri": "https://localhost:8080/"
        },
        "id": "ihVnYnrM-Jmo",
        "outputId": "26f6f6ec-ffbc-4e88-a69e-317b9f6e40a0"
      },
      "execution_count": null,
      "outputs": [
        {
          "output_type": "stream",
          "name": "stdout",
          "text": [
            "779 µs ± 11.1 µs per loop (mean ± std. dev. of 7 runs, 1000 loops each)\n"
          ]
        }
      ]
    },
    {
      "cell_type": "code",
      "source": [
        "a_cpu = a.to(\"cpu\")\n",
        "b_cpu = b.to(\"cpu\")\n",
        "%timeit a_cpu.matmul(b_cpu)"
      ],
      "metadata": {
        "colab": {
          "base_uri": "https://localhost:8080/"
        },
        "id": "rVds3Drt-N-v",
        "outputId": "2667abc7-15ac-4224-8314-84073442c472"
      },
      "execution_count": null,
      "outputs": [
        {
          "output_type": "stream",
          "name": "stdout",
          "text": [
            "24 ms ± 1.75 ms per loop (mean ± std. dev. of 7 runs, 10 loops each)\n"
          ]
        }
      ]
    },
    {
      "cell_type": "markdown",
      "source": [
        "**Explanation:**\n",
        "* GPU cores handle many operations in parallel.\n",
        "\n",
        "* CPU handles fewer threads at a time — but with lower overhead.\n",
        "\n",
        "* With larger tensors, data transfer time becomes negligible vs compute gain."
      ],
      "metadata": {
        "id": "t3tZIvUO_aoX"
      }
    }
  ]
}
