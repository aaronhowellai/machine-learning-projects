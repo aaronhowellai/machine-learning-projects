{
  "nbformat": 4,
  "nbformat_minor": 0,
  "metadata": {
    "colab": {
      "provenance": [],
      "toc_visible": true,
      "authorship_tag": "ABX9TyOvCLncseixzPLk3s+E+01k",
      "include_colab_link": true
    },
    "kernelspec": {
      "name": "python3",
      "display_name": "Python 3"
    },
    "language_info": {
      "name": "python"
    }
  },
  "cells": [
    {
      "cell_type": "markdown",
      "metadata": {
        "id": "view-in-github",
        "colab_type": "text"
      },
      "source": [
        "<a href=\"https://colab.research.google.com/github/aaronhowellai/machine-learning-projects/blob/main/95%20Percent%20Accuracy%20Email%20Spam%20Classifier.ipynb\" target=\"_parent\"><img src=\"https://colab.research.google.com/assets/colab-badge.svg\" alt=\"Open In Colab\"/></a>"
      ]
    },
    {
      "cell_type": "markdown",
      "source": [
        "# **Email Spam Classifier**\n",
        "\n",
        "This notebook is divided into 2 parts:\n",
        "\n",
        "\n",
        "\n",
        "## 👍 **Part 1 - 96.3% Accurate Email Spam Classifier**:  \n",
        "\n",
        "A classification project to build a spam detection system based on a code-along example outlined in Chapter 3 of \"Hands-on Machine Learning with Scikit-Learn, Keras & TensorFlow\" by Aurélien Géron.\n"
      ],
      "metadata": {
        "id": "3_VS0F24SyuO"
      }
    },
    {
      "cell_type": "markdown",
      "source": [
        "## 🔥 **Part 2 - 94.5% Accurate Email Spam Classifier** (with harder dataset)\n",
        "\n",
        "A self-directed extension of the project in Part 1 using a harder dataset that will require a more thorough model selection and fine-tuning process.\n",
        "\n",
        "\n",
        "---"
      ],
      "metadata": {
        "id": "UZWFVIRrvtt3"
      }
    },
    {
      "cell_type": "markdown",
      "source": [
        "# 🟢 **Part 1:** Guided Case Study"
      ],
      "metadata": {
        "id": "nLEm4f5hS-y4"
      }
    },
    {
      "cell_type": "markdown",
      "source": [
        "**Brief:**\n",
        "* Download examples of spam and ham from [Apache SpamAssassin's public datasets](https://homl.info/spamassassin).\n",
        "* Unzip the datasets into training set and test set\n",
        "* Write a data preprocessing pipeline to convert each email into a feature vector. It should transform an email into a sparse vector that indicates the presence or absence of each possible word.\n",
        "* If all emails were to only ever contain the following 4-word sentence structure: \" 'Hello', 'how', 'are', 'you' \", then the email \" 'Hello','you', 'Hello', 'you' \" would be converted into a boolean vector [1,0,0,1]."
      ],
      "metadata": {
        "id": "nrJXKgK-__sE"
      }
    },
    {
      "cell_type": "markdown",
      "source": [
        "## 📦 **Import Packages**"
      ],
      "metadata": {
        "id": "6ucURSh9Of80"
      }
    },
    {
      "cell_type": "code",
      "execution_count": 100,
      "metadata": {
        "id": "Vx7Nq03O_j-3"
      },
      "outputs": [],
      "source": [
        "# import packages\n",
        "import tarfile\n",
        "import email\n",
        "import email.policy\n",
        "from collections import Counter\n",
        "import numpy as np\n",
        "import matplotlib.pyplot as plt\n",
        "from pathlib import Path\n",
        "import pandas as pd\n",
        "import re\n",
        "from html import unescape\n",
        "from scipy.sparse import csr_matrix\n",
        "import sys\n",
        "import urllib\n",
        "\n",
        "# url replacement\n",
        "try:\n",
        "   import urlextract\n",
        "except ImportError:\n",
        "  if \"google.colab\" in sys.modules:\n",
        "    %pip install -q -U urlextract\n",
        "\n",
        "# beautiful soup\n",
        "try:\n",
        "  from bs4 import BeautifulSoup\n",
        "except ImportError:\n",
        "  import subprocess\n",
        "  subprocess.check_call(['pip', 'install', 'beautifulsoup4'])\n",
        "  from bs4 import BeautifulSoup\n",
        "\n",
        "# machine learning packages\n",
        "import nltk\n",
        "from sklearn.pipeline import Pipeline\n",
        "from sklearn.base import BaseEstimator, TransformerMixin\n",
        "# models, model selection, feature engineering\n",
        "from sklearn.linear_model import LogisticRegression\n",
        "from sklearn.ensemble import RandomForestClassifier\n",
        "from sklearn.svm import SVC\n",
        "from sklearn.naive_bayes import MultinomialNB\n",
        "from sklearn.feature_extraction.text import TfidfVectorizer\n",
        "from sklearn.model_selection import train_test_split, cross_val_score, GridSearchCV\n",
        "# metrics\n",
        "from sklearn.metrics import precision_score, recall_score, accuracy_score, classification_report\n",
        "from sklearn.metrics import confusion_matrix, ConfusionMatrixDisplay"
      ]
    },
    {
      "cell_type": "markdown",
      "source": [
        "## 🔧 **Utils & Functions**"
      ],
      "metadata": {
        "id": "KbEf0eFZErHJ"
      }
    },
    {
      "cell_type": "code",
      "source": [
        "# +----------------------------------------------------------------------+\n",
        "\n",
        "# (1) fetch spam data\n",
        "def fetch_spam_data():\n",
        "  spam_root = \"https://spamassassin.apache.org/old/publiccorpus/\"\n",
        "  ham_url = spam_root + \"20030228_easy_ham.tar.bz2\"\n",
        "  spam_url = spam_root + \"20030228_spam.tar.bz2\"\n",
        "\n",
        "  spam_path = Path() / \"datasets\" / \"spam\"\n",
        "  spam_path.mkdir(\n",
        "      parents=True,\n",
        "      exist_ok=True\n",
        "      ),\n",
        "\n",
        "  for dir_name, tar_name, url in (\n",
        "      (\"easy_ham\", \"ham\", ham_url),\n",
        "       (\"spam\",\"spam\", spam_url)\n",
        "       ):\n",
        "    if not (spam_path / dir_name).is_dir():\n",
        "      path = (spam_path / tar_name).with_suffix(\".tar.bz2\")\n",
        "      print(\"Downloading\", path)\n",
        "      urllib.request.urlretrieve(url, path)\n",
        "      tar_bz2_file = tarfile.open(path)\n",
        "      tar_bz2_file.extractall(path=spam_path)\n",
        "      tar_bz2_file.close()\n",
        "  return [spam_path / dir_name for dir_name in (\"easy_ham\", \"spam\")]\n",
        "\n",
        "# +----------------------------------------------------------------------+\n",
        "\n",
        "# (2) load email\n",
        "def load_email(filepath):\n",
        "  with open(filepath, \"rb\") as f:\n",
        "    return email.parser.BytesParser(policy=email.policy.default).parse(f)\n",
        "\n",
        "# +----------------------------------------------------------------------+\n",
        "\n",
        "# (3) get email structure\n",
        "def get_email_structure(email):\n",
        "  if isinstance(email, str):\n",
        "      return email\n",
        "  payload = email.get_payload()\n",
        "  if isinstance(payload, list):\n",
        "    multipart = \", \".join(\n",
        "        [\n",
        "        get_email_structure(sub_email) for sub_email in payload\n",
        "        ]\n",
        "    )\n",
        "    return f\"multipart({multipart})\"\n",
        "  else:\n",
        "    return email.get_content_type()\n",
        "\n",
        "# +----------------------------------------------------------------------+\n",
        "\n",
        "# (4) structures counter\n",
        "def structures_counter(emails):\n",
        "  structures = Counter()\n",
        "  for email in emails:\n",
        "    structure = get_email_structure(email)\n",
        "    structures[structure] += 1\n",
        "  return structures\n",
        "\n",
        "# +----------------------------------------------------------------------+\n",
        "\n",
        "# (5) random state value\n",
        "random_state = 42"
      ],
      "metadata": {
        "id": "PtY-50EJAUGJ"
      },
      "execution_count": 24,
      "outputs": []
    },
    {
      "cell_type": "markdown",
      "source": [
        "## 📤 **Examples of Spam & Ham**\n",
        "* From [Apache SpamAssassin's public datasets](https://spamassassin.apache.org/old/publiccorpus/)."
      ],
      "metadata": {
        "id": "xEZ0X9NADWJP"
      }
    },
    {
      "cell_type": "code",
      "source": [
        "# download data\n",
        "ham_dir, spam_dir = fetch_spam_data()"
      ],
      "metadata": {
        "id": "1WGK1ao-D56j"
      },
      "execution_count": 25,
      "outputs": []
    },
    {
      "cell_type": "code",
      "source": [
        "# load emails\n",
        "ham_filenames = [f for f in sorted(ham_dir.iterdir()) if len(f.name) > 20]\n",
        "spam_filenames = [f for f in sorted(spam_dir.iterdir()) if len(f.name) > 20]\n",
        "print(\n",
        "    f\"Ham Filename Length: {len(ham_filenames)}\\n\"\n",
        "    f\"Spam Filename Length: {len(spam_filenames)}\"\n",
        ")"
      ],
      "metadata": {
        "colab": {
          "base_uri": "https://localhost:8080/"
        },
        "id": "ZBfclp2YD52C",
        "outputId": "56c0faea-864e-4077-bd8f-7553b8d1ce01"
      },
      "execution_count": 26,
      "outputs": [
        {
          "output_type": "stream",
          "name": "stdout",
          "text": [
            "Ham Filename Length: 2500\n",
            "Spam Filename Length: 500\n"
          ]
        }
      ]
    },
    {
      "cell_type": "code",
      "source": [
        "# parse the emails\n",
        "ham_emails = [load_email(filepath) for filepath in ham_filenames]\n",
        "spam_emails = [load_email(filepath) for filepath in spam_filenames]"
      ],
      "metadata": {
        "id": "Y54cbFk0D98I"
      },
      "execution_count": 27,
      "outputs": []
    },
    {
      "cell_type": "markdown",
      "source": [
        "Looking at one example from both ham and spam, to get a feel of what the data looks like:"
      ],
      "metadata": {
        "id": "dJreBTPMJBYT"
      }
    },
    {
      "cell_type": "code",
      "source": [
        "# viewing an example of ham\n",
        "print(ham_emails[1].get_content().strip())"
      ],
      "metadata": {
        "colab": {
          "base_uri": "https://localhost:8080/"
        },
        "id": "gqBHfQudD94T",
        "outputId": "604c4505-19dc-468a-9345-31d0ae541513"
      },
      "execution_count": 28,
      "outputs": [
        {
          "output_type": "stream",
          "name": "stdout",
          "text": [
            "Martin A posted:\n",
            "Tassos Papadopoulos, the Greek sculptor behind the plan, judged that the\n",
            " limestone of Mount Kerdylio, 70 miles east of Salonika and not far from the\n",
            " Mount Athos monastic community, was ideal for the patriotic sculpture. \n",
            " \n",
            " As well as Alexander's granite features, 240 ft high and 170 ft wide, a\n",
            " museum, a restored amphitheatre and car park for admiring crowds are\n",
            "planned\n",
            "---------------------\n",
            "So is this mountain limestone or granite?\n",
            "If it's limestone, it'll weather pretty fast.\n",
            "\n",
            "------------------------ Yahoo! Groups Sponsor ---------------------~-->\n",
            "4 DVDs Free +s&p Join Now\n",
            "http://us.click.yahoo.com/pt6YBB/NXiEAA/mG3HAA/7gSolB/TM\n",
            "---------------------------------------------------------------------~->\n",
            "\n",
            "To unsubscribe from this group, send an email to:\n",
            "forteana-unsubscribe@egroups.com\n",
            "\n",
            " \n",
            "\n",
            "Your use of Yahoo! Groups is subject to http://docs.yahoo.com/info/terms/\n"
          ]
        }
      ]
    },
    {
      "cell_type": "code",
      "source": [
        "# viewing an example of spam\n",
        "print(spam_emails[6].get_content().strip())"
      ],
      "metadata": {
        "colab": {
          "base_uri": "https://localhost:8080/"
        },
        "id": "PtENnLNqD9zE",
        "outputId": "bee346e7-5657-410b-acd6-981b57d97dc2"
      },
      "execution_count": 29,
      "outputs": [
        {
          "output_type": "stream",
          "name": "stdout",
          "text": [
            "Help wanted.  We are a 14 year old fortune 500 company, that is\n",
            "growing at a tremendous rate.  We are looking for individuals who\n",
            "want to work from home.\n",
            "\n",
            "This is an opportunity to make an excellent income.  No experience\n",
            "is required.  We will train you.\n",
            "\n",
            "So if you are looking to be employed from home with a career that has\n",
            "vast opportunities, then go:\n",
            "\n",
            "http://www.basetel.com/wealthnow\n",
            "\n",
            "We are looking for energetic and self motivated people.  If that is you\n",
            "than click on the link and fill out the form, and one of our\n",
            "employement specialist will contact you.\n",
            "\n",
            "To be removed from our link simple go to:\n",
            "\n",
            "http://www.basetel.com/remove.html\n",
            "\n",
            "\n",
            "4139vOLW7-758DoDY1425FRhM1-764SMFc8513fCsLl40\n"
          ]
        }
      ]
    },
    {
      "cell_type": "markdown",
      "source": [
        "Because some emails are multipart, with images and attachments, it is useful to look at the various types of structures within the imported dataset:"
      ],
      "metadata": {
        "id": "CJK1fEqbKoJ6"
      }
    },
    {
      "cell_type": "code",
      "source": [
        "# viewing email structures\n",
        "structures_counter(ham_emails).most_common()"
      ],
      "metadata": {
        "colab": {
          "base_uri": "https://localhost:8080/"
        },
        "id": "Ov6ptnOKD9ur",
        "outputId": "23602038-e8fe-4c03-e6de-c2d6cd9e718f"
      },
      "execution_count": 30,
      "outputs": [
        {
          "output_type": "execute_result",
          "data": {
            "text/plain": [
              "[('text/plain', 2408),\n",
              " ('multipart(text/plain, application/pgp-signature)', 66),\n",
              " ('multipart(text/plain, text/html)', 8),\n",
              " ('multipart(text/plain, text/plain)', 4),\n",
              " ('multipart(text/plain)', 3),\n",
              " ('multipart(text/plain, application/octet-stream)', 2),\n",
              " ('multipart(text/plain, text/enriched)', 1),\n",
              " ('multipart(text/plain, application/ms-tnef, text/plain)', 1),\n",
              " ('multipart(multipart(text/plain, text/plain, text/plain), application/pgp-signature)',\n",
              "  1),\n",
              " ('multipart(text/plain, video/mng)', 1),\n",
              " ('multipart(text/plain, multipart(text/plain))', 1),\n",
              " ('multipart(text/plain, application/x-pkcs7-signature)', 1),\n",
              " ('multipart(text/plain, multipart(text/plain, text/plain), text/rfc822-headers)',\n",
              "  1),\n",
              " ('multipart(text/plain, multipart(text/plain, text/plain), multipart(multipart(text/plain, application/x-pkcs7-signature)))',\n",
              "  1),\n",
              " ('multipart(text/plain, application/x-java-applet)', 1)]"
            ]
          },
          "metadata": {},
          "execution_count": 30
        }
      ]
    },
    {
      "cell_type": "code",
      "source": [
        "# viewing spam email structures\n",
        "structures_counter(spam_emails).most_common()"
      ],
      "metadata": {
        "id": "m3QDqaL8D9rn",
        "colab": {
          "base_uri": "https://localhost:8080/"
        },
        "outputId": "9fa75063-fb9a-4bdf-d9fa-d4b65dda3d77"
      },
      "execution_count": 31,
      "outputs": [
        {
          "output_type": "execute_result",
          "data": {
            "text/plain": [
              "[('text/plain', 218),\n",
              " ('text/html', 183),\n",
              " ('multipart(text/plain, text/html)', 45),\n",
              " ('multipart(text/html)', 20),\n",
              " ('multipart(text/plain)', 19),\n",
              " ('multipart(multipart(text/html))', 5),\n",
              " ('multipart(text/plain, image/jpeg)', 3),\n",
              " ('multipart(text/html, application/octet-stream)', 2),\n",
              " ('multipart(text/plain, application/octet-stream)', 1),\n",
              " ('multipart(text/html, text/plain)', 1),\n",
              " ('multipart(multipart(text/html), application/octet-stream, image/jpeg)', 1),\n",
              " ('multipart(multipart(text/plain, text/html), image/gif)', 1),\n",
              " ('multipart/alternative', 1)]"
            ]
          },
          "metadata": {},
          "execution_count": 31
        }
      ]
    },
    {
      "cell_type": "markdown",
      "source": [
        "**Analysis of Email Structure**\n",
        "\n",
        "* **Ham:** The ham emails seem to be overwhelmingly structured in plain text\n",
        "* **Spam:** A large portion of the spam emails are structured with text and Hypertext Markup Language, as the second largest category."
      ],
      "metadata": {
        "id": "C8da41Et7NfH"
      }
    },
    {
      "cell_type": "markdown",
      "source": [
        "**View an Example Email Header**"
      ],
      "metadata": {
        "id": "wbucZyWw9kAu"
      }
    },
    {
      "cell_type": "code",
      "source": [
        "# viewing the email headers\n",
        "for header, value in spam_emails[0].items():\n",
        "  print(header, \":\", value)"
      ],
      "metadata": {
        "colab": {
          "base_uri": "https://localhost:8080/"
        },
        "id": "-EWcRiNQ8gU0",
        "outputId": "af56745c-c7e2-47d6-be51-a770ba815863"
      },
      "execution_count": 32,
      "outputs": [
        {
          "output_type": "stream",
          "name": "stdout",
          "text": [
            "Return-Path : <12a1mailbot1@web.de>\n",
            "Delivered-To : zzzz@localhost.spamassassin.taint.org\n",
            "Received : from localhost (localhost [127.0.0.1])\tby phobos.labs.spamassassin.taint.org (Postfix) with ESMTP id 136B943C32\tfor <zzzz@localhost>; Thu, 22 Aug 2002 08:17:21 -0400 (EDT)\n",
            "Received : from mail.webnote.net [193.120.211.219]\tby localhost with POP3 (fetchmail-5.9.0)\tfor zzzz@localhost (single-drop); Thu, 22 Aug 2002 13:17:21 +0100 (IST)\n",
            "Received : from dd_it7 ([210.97.77.167])\tby webnote.net (8.9.3/8.9.3) with ESMTP id NAA04623\tfor <zzzz@spamassassin.taint.org>; Thu, 22 Aug 2002 13:09:41 +0100\n",
            "From : 12a1mailbot1@web.de\n",
            "Received : from r-smtp.korea.com - 203.122.2.197 by dd_it7  with Microsoft SMTPSVC(5.5.1775.675.6);\t Sat, 24 Aug 2002 09:42:10 +0900\n",
            "To : dcek1a1@netsgo.com\n",
            "Subject : Life Insurance - Why Pay More?\n",
            "Date : Wed, 21 Aug 2002 20:31:57 -1600\n",
            "MIME-Version : 1.0\n",
            "Message-ID : <0103c1042001882DD_IT7@dd_it7>\n",
            "Content-Type : text/html; charset=\"iso-8859-1\"\n",
            "Content-Transfer-Encoding : quoted-printable\n"
          ]
        }
      ]
    },
    {
      "cell_type": "markdown",
      "source": [
        "One of the standout pieces of information here is the email address: 12a1mailbot1@web.de sounds quite suspicious"
      ],
      "metadata": {
        "id": "1YUvCH4z9vTd"
      }
    },
    {
      "cell_type": "markdown",
      "source": [
        "**View The Email Subject Header**"
      ],
      "metadata": {
        "id": "nMLMwKQt-Iit"
      }
    },
    {
      "cell_type": "code",
      "source": [
        "spam_emails[0]['subject']"
      ],
      "metadata": {
        "colab": {
          "base_uri": "https://localhost:8080/",
          "height": 36
        },
        "id": "dU2AujbB-TiI",
        "outputId": "a905e2cb-7574-49a9-83e0-6e67d23599a8"
      },
      "execution_count": 33,
      "outputs": [
        {
          "output_type": "execute_result",
          "data": {
            "text/plain": [
              "'Life Insurance - Why Pay More?'"
            ],
            "application/vnd.google.colaboratory.intrinsic+json": {
              "type": "string"
            }
          },
          "metadata": {},
          "execution_count": 33
        }
      ]
    },
    {
      "cell_type": "markdown",
      "source": [
        "## 🧹 **Preprocessing**"
      ],
      "metadata": {
        "id": "IZi92rnwLQyb"
      }
    },
    {
      "cell_type": "markdown",
      "source": [
        "### 📊 **Train-test Split on Dataset**"
      ],
      "metadata": {
        "id": "t3OVElIM-sW4"
      }
    },
    {
      "cell_type": "code",
      "source": [
        "# train-test split\n",
        "X = np.array(ham_emails + spam_emails, dtype=object)\n",
        "y = np.array([0] * len(ham_emails) + [1] * len(spam_emails))\n",
        "\n",
        "X_train, X_test, y_train, y_test = train_test_split(\n",
        "    X, y, test_size=.2, random_state=random_state\n",
        "    )"
      ],
      "metadata": {
        "id": "xGo7quS28gSz"
      },
      "execution_count": 34,
      "outputs": []
    },
    {
      "cell_type": "markdown",
      "source": [
        "**Train-test Split Code Summary:**\n",
        "\n",
        "The dataset is being explicitly labeled and merged so that it can be split consistently into training and test sets. Both `x` and `y` must correspond 1-to-1.\n",
        "\n",
        "```\n",
        "X = np.array(ham_emails + spam_emails, dtype=object)\n",
        "```\n",
        "* Combines the two lists (`ham_emails` and `spam_emails`) into one array `X`\n",
        "* `dtype=object` is used because the emails are text strings\n",
        "\n",
        "```\n",
        "y = np.array([0] * len(ham_emails) + [1] * len(spam_emails))\n",
        "```\n",
        "Creates the labels (`y`) for the classification task:\n",
        "* `0` for **ham** (not spam)\n",
        "* `1` for **spam**"
      ],
      "metadata": {
        "id": "M6SlAfbzIwpa"
      }
    },
    {
      "cell_type": "markdown",
      "source": [
        "### 🛠️ **Preprocessing Functions**"
      ],
      "metadata": {
        "id": "FhEhsT6JLcZF"
      }
    },
    {
      "cell_type": "markdown",
      "source": [
        "**Function to convert HTML to plain text**"
      ],
      "metadata": {
        "id": "UflyROL3QQPr"
      }
    },
    {
      "cell_type": "code",
      "source": [
        "# function that converts HTML to plain text\n",
        "def html_to_plain_text(html):\n",
        "  soup = BeautifulSoup(html, \"html.parser\")\n",
        "\n",
        "  # remove unwanted tags like <head>, <style>, <script>, etc.\n",
        "  for tag in soup(['head','style','script']):\n",
        "    tag.decompose()\n",
        "\n",
        "  # replace links with the word 'HYPERLINK'\n",
        "  for a in soup.find_all('a'):\n",
        "    a.replace_with('HYPERLINK')\n",
        "\n",
        "  # get text and unescape HTML entities\n",
        "  text = soup.get_text(separator='\\n')\n",
        "  text = unescape(text)\n",
        "\n",
        "  # normalize excessive whitespace\n",
        "  return '\\n'.join(line.strip() for line in text.splitlines() if line.strip())"
      ],
      "metadata": {
        "id": "-eA1t9j48gO6"
      },
      "execution_count": 35,
      "outputs": []
    },
    {
      "cell_type": "code",
      "source": [
        "# testing the function with spam\n",
        "html_spam_emails = [\n",
        "    email for email in X_train[y_train==1] if get_email_structure(email) == 'text/html'\n",
        "    ]\n",
        "sample_html_spam = html_spam_emails[7]\n",
        "print(sample_html_spam.get_content()[:1000], \"...\")"
      ],
      "metadata": {
        "colab": {
          "base_uri": "https://localhost:8080/"
        },
        "id": "i3uRNAcC8gM_",
        "outputId": "0ee9c412-1a00-4cd8-dea1-84c721a1b6e0"
      },
      "execution_count": 36,
      "outputs": [
        {
          "output_type": "stream",
          "name": "stdout",
          "text": [
            "<HTML><HEAD><TITLE></TITLE><META http-equiv=\"Content-Type\" content=\"text/html; charset=windows-1252\"><STYLE>A:link {TEX-DECORATION: none}A:active {TEXT-DECORATION: none}A:visited {TEXT-DECORATION: none}A:hover {COLOR: #0033ff; TEXT-DECORATION: underline}</STYLE><META content=\"MSHTML 6.00.2713.1100\" name=\"GENERATOR\"></HEAD>\n",
            "<BODY text=\"#000000\" vLink=\"#0033ff\" link=\"#0033ff\" bgColor=\"#CCCC99\"><TABLE borderColor=\"#660000\" cellSpacing=\"0\" cellPadding=\"0\" border=\"0\" width=\"100%\"><TR><TD bgColor=\"#CCCC99\" valign=\"top\" colspan=\"2\" height=\"27\">\n",
            "<font size=\"6\" face=\"Arial, Helvetica, sans-serif\" color=\"#660000\">\n",
            "<b>OTC</b></font></TD></TR><TR><TD height=\"2\" bgcolor=\"#6a694f\">\n",
            "<font size=\"5\" face=\"Times New Roman, Times, serif\" color=\"#FFFFFF\">\n",
            "<b>&nbsp;Newsletter</b></font></TD><TD height=\"2\" bgcolor=\"#6a694f\"><div align=\"right\"><font color=\"#FFFFFF\">\n",
            "<b>Discover Tomorrow's Winners&nbsp;</b></font></div></TD></TR><TR><TD height=\"25\" colspan=\"2\" bgcolor=\"#CCCC99\"><table width=\"100%\" border=\"0\"  ...\n"
          ]
        }
      ]
    },
    {
      "cell_type": "code",
      "source": [
        "# see the resulting plain text\n",
        "print(html_to_plain_text(sample_html_spam.get_content())[:1000],\"...\")"
      ],
      "metadata": {
        "colab": {
          "base_uri": "https://localhost:8080/"
        },
        "id": "YsyO5cyxROD7",
        "outputId": "9c5b7219-7d96-48e7-c512-e548c8630b4d"
      },
      "execution_count": 37,
      "outputs": [
        {
          "output_type": "stream",
          "name": "stdout",
          "text": [
            "OTC\n",
            "Newsletter\n",
            "Discover Tomorrow's Winners\n",
            "For Immediate Release\n",
            "Cal-Bay (Stock Symbol: CBYI)\n",
            "Watch for analyst \"Strong Buy Recommendations\" and several advisory newsletters picking CBYI.  CBYI has filed to be traded on the OTCBB, share prices historically INCREASE when companies get listed on this larger trading exchange. CBYI is trading around 25 cents and should skyrocket to $2.66 - $3.25 a share in the near future.\n",
            "Put CBYI on your watch list, acquire a position TODAY.\n",
            "REASONS TO INVEST IN CBYI\n",
            "A profitable company and is on track to beat ALL earnings estimates!\n",
            "One of the FASTEST growing distributors in environmental & safety equipment instruments.\n",
            "Excellent management team, several EXCLUSIVE contracts.  IMPRESSIVE client list including the U.S. Air Force, Anheuser-Busch, Chevron Refining and Mitsubishi Heavy Industries, GE-Energy & Environmental Research.\n",
            "RAPIDLY GROWING INDUSTRY\n",
            "Industry revenues exceed $900 million, estimates indicate that there could be as much as $25 billion  ...\n"
          ]
        }
      ]
    },
    {
      "cell_type": "code",
      "source": [
        "# function that takes email as input, returning it as plain text\n",
        "def email_to_text(email):\n",
        "  html = None\n",
        "  for part in email.walk():\n",
        "    ctype = part.get_content_type()\n",
        "    if not ctype in ('text/plain', 'text/html'):\n",
        "      continue\n",
        "    try:\n",
        "      content = part.get_content()\n",
        "    except:\n",
        "      content = str(part.get_payload())\n",
        "    if ctype == 'text/plain':\n",
        "      return content\n",
        "    else:\n",
        "      html = content\n",
        "  if html:\n",
        "    return html_to_plain_text(html)\n",
        "\n",
        "result = email_to_text(sample_html_spam)\n",
        "print(result[:100], '...')"
      ],
      "metadata": {
        "colab": {
          "base_uri": "https://localhost:8080/"
        },
        "id": "F34vZHyHRN_b",
        "outputId": "ce2acbe8-65ce-46ef-927d-9c3dcad11a81"
      },
      "execution_count": 38,
      "outputs": [
        {
          "output_type": "stream",
          "name": "stdout",
          "text": [
            "OTC\n",
            "Newsletter\n",
            "Discover Tomorrow's Winners\n",
            "For Immediate Release\n",
            "Cal-Bay (Stock Symbol: CBYI)\n",
            "Watch  ...\n"
          ]
        }
      ]
    },
    {
      "cell_type": "markdown",
      "source": [
        "**Stemming using Natural Language Toolkit**\n",
        "* The process of reducing a word to its base or root form, usually by chopping off its suffixes.\n",
        "* A common preprocessing step in natural language processing to help algorithms treat related words (like compute, computing and computed) as equivalent, allowing it to be treated as one token and to reduce vocabulary size and improve generalization."
      ],
      "metadata": {
        "id": "7_Ty_AX3WYoA"
      }
    },
    {
      "cell_type": "code",
      "source": [
        "# stemming using nltk\n",
        "stemmer = nltk.PorterStemmer()\n",
        "for word in (\n",
        "    \"Computations\",\n",
        "    \"Computation\",\n",
        "    \"Computing\",\n",
        "    \"Computed\",\n",
        "    \"Compute\",\n",
        "    \"Compusive\"\n",
        "):\n",
        "  print(word, \"=>\", stemmer.stem(word))"
      ],
      "metadata": {
        "colab": {
          "base_uri": "https://localhost:8080/"
        },
        "id": "w_dazbSHRN9_",
        "outputId": "c40575e6-5840-4520-c691-e865e3dff401"
      },
      "execution_count": 39,
      "outputs": [
        {
          "output_type": "stream",
          "name": "stdout",
          "text": [
            "Computations => comput\n",
            "Computation => comput\n",
            "Computing => comput\n",
            "Computed => comput\n",
            "Compute => comput\n",
            "Compusive => compus\n"
          ]
        }
      ]
    },
    {
      "cell_type": "code",
      "source": [
        "# replace urls\n",
        "url_extractor = urlextract.URLExtract()\n",
        "some_text = \"Will it detect github.com and https://www.youtube.com/watch?v=dQw4w9WgXcQ\"\n",
        "(url_extractor.find_urls(some_text))"
      ],
      "metadata": {
        "colab": {
          "base_uri": "https://localhost:8080/"
        },
        "id": "-L86PpVTRNwr",
        "outputId": "9b01b8af-3ca6-44ab-e3de-7b3812dd110c"
      },
      "execution_count": 40,
      "outputs": [
        {
          "output_type": "execute_result",
          "data": {
            "text/plain": [
              "['github.com', 'https://www.youtube.com/watch?v=dQw4w9WgXcQ']"
            ]
          },
          "metadata": {},
          "execution_count": 40
        }
      ]
    },
    {
      "cell_type": "markdown",
      "source": [
        "**Note:**\n",
        "* You can click the link to make sure that it is valid and working properly"
      ],
      "metadata": {
        "id": "FEqmxPCmd2kh"
      }
    },
    {
      "cell_type": "markdown",
      "source": [
        "#### 🔤 **Email to Word-Counter Transformer**\n",
        "\n",
        "📦 **Class Purpose:**\n",
        "\n",
        "A transformer that takes in raw email objects (likely from the Python email library), converts them to plain text, and outputs a Counter-style word frequency dictionary for each email."
      ],
      "metadata": {
        "id": "dL0W0594dl42"
      }
    },
    {
      "cell_type": "markdown",
      "source": [
        "🔧 **Initialization** (`__init__`)\n",
        "These parameters control the preprocessing behavior:\n",
        "\n",
        "* `strip_headers`: Remove email headers (not implemented in the shown code — but assumed available via email_to_text)\n",
        "\n",
        "* `lower_case`: Convert text to lowercase\n",
        "\n",
        "* `remove_punctuation`: Strip punctuation\n",
        "\n",
        "* `replace_urls`: Replace URLs with placeholder \" URL \"\n",
        "\n",
        "* `replace_numbers`: Replace numbers with \"NUMBER\"\n",
        "\n",
        "* `stemming`: Apply stemming using an NLTK stemmer\n",
        "\n",
        "These settings allow easy tuning and `GridSearchCV` compatibility."
      ],
      "metadata": {
        "id": "JBaOEMAzkyep"
      }
    },
    {
      "cell_type": "code",
      "source": [
        "class EmailToWordCounterTransformer(BaseEstimator, TransformerMixin):\n",
        "  def __init__(\n",
        "      self,\n",
        "      strip_headers=True,\n",
        "      lower_case=True,\n",
        "      remove_punctuation=True,\n",
        "      replace_urls=True,\n",
        "      replace_numbers=True,\n",
        "      stemming=True\n",
        "      ):\n",
        "    self.strip_headers = strip_headers\n",
        "    self.lower_case = lower_case\n",
        "    self.remove_punctuation = remove_punctuation\n",
        "    self.replace_urls = replace_urls\n",
        "    self.replace_numbers = replace_numbers\n",
        "    self.stemming = stemming\n",
        "  def fit(self, X, y=None):\n",
        "    return self\n",
        "  def transform(self, X, y=None):\n",
        "    X_transformed = []\n",
        "    for email in X:\n",
        "      text = email_to_text(email) or \"\"\n",
        "      if self.lower_case:\n",
        "        text = text.lower()\n",
        "      if self.replace_urls and url_extractor is not None:\n",
        "        urls = list(set(url_extractor.find_urls(text)))\n",
        "        urls.sort(key=lambda url: len(url), reverse=True)\n",
        "        for url in urls:\n",
        "          text = text.replace(url, \" URL \")\n",
        "      if self.replace_numbers:\n",
        "        text = re.sub(r'\\d+(?:\\.\\d*)?(?:[eE][+-]?\\d+)?','NUMBER', text)\n",
        "      if self.remove_punctuation:\n",
        "        text = re.sub(r'\\W+', ' ', text, flags=re.M)\n",
        "      word_counts = Counter(text.split())\n",
        "      if self.stemming and stemmer is not None:\n",
        "        stemmed_word_counts = Counter()\n",
        "        for word, count in word_counts.items():\n",
        "          stemmed_word = stemmer.stem(word)\n",
        "          stemmed_word_counts[stemmed_word] += count\n",
        "        word_counts = stemmed_word_counts\n",
        "      X_transformed.append(word_counts)\n",
        "    return np.array(X_transformed)"
      ],
      "metadata": {
        "id": "epNjhMBlRNsG"
      },
      "execution_count": 41,
      "outputs": []
    },
    {
      "cell_type": "markdown",
      "source": [
        "🔁 `transform()` **Email to Text**:"
      ],
      "metadata": {
        "id": "5aARnOXXSdcQ"
      }
    },
    {
      "cell_type": "markdown",
      "source": [
        "1️⃣ **Extract Text** - Converts the structured email into plain text\n",
        "```\n",
        "text = email_to_text(email)\n",
        "```\n",
        "\n",
        "\n",
        "2️⃣ **Lowercase Conversion** - Reduces vocabulary size by normalizing word casing.\n",
        "```\n",
        "if self.lower_case:\n",
        "    text = text.lower()\n",
        "```\n",
        "\n",
        "3️⃣ **URL Replacement** - Replaces detected URLs with the token `\" URL \"` — useful for treating all links uniformly.\n",
        "```\n",
        "if self.replace_urls:\n",
        "    urls = url_extractor.find_urls(text)\n",
        "    urls.sort(key=lambda url: len(url), reverse=True)\n",
        "    for url in urls:\n",
        "        text = text.replace(url, \" URL \")\n",
        "```\n",
        "\n",
        "4️⃣ **Number Replacement** - Uses regex to replace both integers and decimals (including scientific notation) with `\"NUMBER\"`.\n",
        "```\n",
        "if self.replace_numbers:\n",
        "    text = re.sub(r'\\d+(?:\\.\\d+)?(?:[Ee][+-]?\\d+)?', 'NUMBER', text)\n",
        "```\n",
        "\n",
        "5️⃣ **Punctuation Removal** - Replaces non-word characters with space.\n",
        "```\n",
        "if self.remove_punctuation:\n",
        "    text = re.sub(r'\\W+', ' ', text)\n",
        "```\n",
        "\n",
        "6️⃣ **Tokenization and Word Counting** - Splits text into words and counts occurrences with `Counter`.\n",
        "```\n",
        "word_counts = Counter(text.split())\n",
        "```\n",
        "\n",
        "7️⃣ **Stemming** - Applies stemming to each word and recomputes counts on the stemmed versions.\n",
        "```\n",
        "if self.stemming:\n",
        "    stemmed_word_counts = Counter()\n",
        "    for word, count in word_counts.items():\n",
        "        stemmed_word = stemmer.stem(word)\n",
        "        stemmed_word_counts[stemmed_word] += count\n",
        "    word_counts = stemmed_word_counts\n",
        "```\n",
        "\n",
        "🔚 Final Output\n",
        "```\n",
        "X_transformed.append(word_counts)\n",
        "```\n",
        "At the end, the method returns:\n",
        "```\n",
        "return np.array(X_transformed)\n",
        "```\n",
        "\n",
        "Where each entry is a `Counter` dictionary of stemmed, cleaned word frequencies for one email."
      ],
      "metadata": {
        "id": "PveIGTSaocnu"
      }
    },
    {
      "cell_type": "code",
      "source": [
        "# trying the transformer on a few emails\n",
        "X_few = X_train[:3]\n",
        "X_few_wordcounts = EmailToWordCounterTransformer().fit_transform(X_few)\n",
        "X_few_wordcounts"
      ],
      "metadata": {
        "colab": {
          "base_uri": "https://localhost:8080/"
        },
        "id": "mPPKE5uCkIDN",
        "outputId": "2100670a-627a-4782-ee28-6c6db6c47ea8"
      },
      "execution_count": 42,
      "outputs": [
        {
          "output_type": "execute_result",
          "data": {
            "text/plain": [
              "array([Counter({'chuck': 1, 'murcko': 1, 'wrote': 1, 'stuff': 1, 'yawn': 1, 'r': 1}),\n",
              "       Counter({'the': 11, 'of': 9, 'and': 8, 'all': 3, 'christian': 3, 'to': 3, 'by': 3, 'jefferson': 2, 'i': 2, 'have': 2, 'superstit': 2, 'one': 2, 'on': 2, 'been': 2, 'ha': 2, 'half': 2, 'rogueri': 2, 'teach': 2, 'jesu': 2, 'some': 1, 'interest': 1, 'quot': 1, 'url': 1, 'thoma': 1, 'examin': 1, 'known': 1, 'word': 1, 'do': 1, 'not': 1, 'find': 1, 'in': 1, 'our': 1, 'particular': 1, 'redeem': 1, 'featur': 1, 'they': 1, 'are': 1, 'alik': 1, 'found': 1, 'fabl': 1, 'mytholog': 1, 'million': 1, 'innoc': 1, 'men': 1, 'women': 1, 'children': 1, 'sinc': 1, 'introduct': 1, 'burnt': 1, 'tortur': 1, 'fine': 1, 'imprison': 1, 'what': 1, 'effect': 1, 'thi': 1, 'coercion': 1, 'make': 1, 'world': 1, 'fool': 1, 'other': 1, 'hypocrit': 1, 'support': 1, 'error': 1, 'over': 1, 'earth': 1, 'six': 1, 'histor': 1, 'american': 1, 'john': 1, 'e': 1, 'remsburg': 1, 'letter': 1, 'william': 1, 'short': 1, 'again': 1, 'becom': 1, 'most': 1, 'pervert': 1, 'system': 1, 'that': 1, 'ever': 1, 'shone': 1, 'man': 1, 'absurd': 1, 'untruth': 1, 'were': 1, 'perpetr': 1, 'upon': 1, 'a': 1, 'larg': 1, 'band': 1, 'dupe': 1, 'import': 1, 'led': 1, 'paul': 1, 'first': 1, 'great': 1, 'corrupt': 1}),\n",
              "       Counter({'url': 4, 's': 3, 'group': 3, 'to': 3, 'in': 2, 'forteana': 2, 'martin': 2, 'an': 2, 'and': 2, 'we': 2, 'is': 2, 'yahoo': 2, 'unsubscrib': 2, 'y': 1, 'adamson': 1, 'wrote': 1, 'for': 1, 'altern': 1, 'rather': 1, 'more': 1, 'factual': 1, 'base': 1, 'rundown': 1, 'on': 1, 'hamza': 1, 'career': 1, 'includ': 1, 'hi': 1, 'belief': 1, 'that': 1, 'all': 1, 'non': 1, 'muslim': 1, 'yemen': 1, 'should': 1, 'be': 1, 'murder': 1, 'outright': 1, 'know': 1, 'how': 1, 'unbias': 1, 'memri': 1, 'don': 1, 't': 1, 'html': 1, 'rob': 1, 'sponsor': 1, 'number': 1, 'dvd': 1, 'free': 1, 'p': 1, 'join': 1, 'now': 1, 'from': 1, 'thi': 1, 'send': 1, 'email': 1, 'egroup': 1, 'com': 1, 'your': 1, 'use': 1, 'of': 1, 'subject': 1})],\n",
              "      dtype=object)"
            ]
          },
          "metadata": {},
          "execution_count": 42
        }
      ]
    },
    {
      "cell_type": "markdown",
      "source": [
        "#### 🔢 **Word-Counter to Vector Transformer**\n",
        "\n",
        "📦 **Class Purpose:**\n",
        "\n",
        "A transformer that converts word counts to vectors whose `fit()` method builds the vocabulary (an ordered list of the common words) and whose `transform()` method will use the vocabulary to convert word counts to vectors. The output is a sparse matrix."
      ],
      "metadata": {
        "id": "voiTFVJ5xc9B"
      }
    },
    {
      "cell_type": "markdown",
      "source": [
        "🔧 **Initialization** (__init__) These parameters control the preprocessing behavior:\n",
        "* `vocabulary_size`: The number of top most frequent words to keep in the vocabulary. All other words will be ignored during transformation.\n",
        " *(Default = 1000)*\n",
        "\n",
        "This setup makes it compatible with pipelines and tools like `GridSearchCV` for parameter tuning."
      ],
      "metadata": {
        "id": "z5gpQXYf90Un"
      }
    },
    {
      "cell_type": "code",
      "source": [
        "class WordCounterToVectorTransformer(BaseEstimator, TransformerMixin):\n",
        "  def __init__(self, vocabulary_size=1000):\n",
        "    self.vocabulary_size = vocabulary_size\n",
        "  def fit(self, X, y=None):\n",
        "    total_count = Counter()\n",
        "    for word_count in X:\n",
        "      for word, count in word_count.items():\n",
        "        total_count[word] += min(count, 10)\n",
        "    most_common = total_count.most_common()[:self.vocabulary_size]\n",
        "    self.vocabulary_ = {word: index + 1\n",
        "                        for index, (word, count) in enumerate(most_common)}\n",
        "    return self\n",
        "  def transform(self, X, y=None):\n",
        "    rows = []\n",
        "    cols = []\n",
        "    data = []\n",
        "    for row, word_count in enumerate(X):\n",
        "      for word,count in word_count.items():\n",
        "        rows.append(row)\n",
        "        cols.append(self.vocabulary_.get(word, 0))\n",
        "        data.append(count)\n",
        "    return csr_matrix((data, (rows, cols)),\n",
        "                      shape=(len(X), self.vocabulary_size + 1))"
      ],
      "metadata": {
        "id": "ue7fRfuDkIBs"
      },
      "execution_count": 43,
      "outputs": []
    },
    {
      "cell_type": "markdown",
      "source": [
        "🧾 `fit()` – **Vocabulary Building**\n",
        "* **Step 1:** Accumulate word frequencies across all emails, capping each word’s count at 10 to avoid overweighting frequent words.\n",
        "\n",
        "* **Step 2:** Select the `vocabulary_size` most common words.\n",
        "\n",
        "* **Step 3:** Build a vocabulary dictionary mapping each word to a unique index, starting from `1`.\n",
        "\n",
        "**Note:** Index `0` is reserved for unknown words during transformation."
      ],
      "metadata": {
        "id": "ORNUQbhn-I0k"
      }
    },
    {
      "cell_type": "markdown",
      "source": [
        "🔁 `transform()` – **Vector Conversion**\n",
        "* Converts each `Counter` into a sparse vector of word counts.\n",
        "* Unknown words are placed in column index `0`.\n",
        "* Output is a SciPy `csr_matrix`, ready for training ML models."
      ],
      "metadata": {
        "id": "XBqTfIdWRXfJ"
      }
    },
    {
      "cell_type": "code",
      "source": [
        "# testing the vocabulary transformer\n",
        "vocab_transformer = WordCounterToVectorTransformer(vocabulary_size=10)\n",
        "X_few_vectors = vocab_transformer.fit_transform(X_few_wordcounts)\n",
        "X_few_vectors"
      ],
      "metadata": {
        "colab": {
          "base_uri": "https://localhost:8080/"
        },
        "id": "qX01uPgERW-3",
        "outputId": "f74abf32-7bd5-42a7-884f-08b80ebca4a8"
      },
      "execution_count": 44,
      "outputs": [
        {
          "output_type": "execute_result",
          "data": {
            "text/plain": [
              "<Compressed Sparse Row sparse matrix of dtype 'int64'\n",
              "\twith 20 stored elements and shape (3, 11)>"
            ]
          },
          "metadata": {},
          "execution_count": 44
        }
      ]
    },
    {
      "cell_type": "code",
      "source": [
        "X_few_vectors.toarray()"
      ],
      "metadata": {
        "colab": {
          "base_uri": "https://localhost:8080/"
        },
        "id": "iCM2JTajRW7d",
        "outputId": "72ff9130-750d-49b9-ec2c-66afdcfb9d52"
      },
      "execution_count": 45,
      "outputs": [
        {
          "output_type": "execute_result",
          "data": {
            "text/plain": [
              "array([[ 6,  0,  0,  0,  0,  0,  0,  0,  0,  0,  0],\n",
              "       [99, 11,  9,  8,  3,  1,  3,  1,  3,  2,  3],\n",
              "       [67,  0,  1,  2,  3,  4,  1,  2,  0,  1,  0]])"
            ]
          },
          "metadata": {},
          "execution_count": 45
        }
      ]
    },
    {
      "cell_type": "markdown",
      "source": [
        "**Analysis**\n",
        "\n",
        "* **99:** The 99 in the second row at index 0 means that the second email contains 99 words that are not a part of the vocabulary.\n",
        "* **11:** The 11 next to it means that the first word in the vocab appears 11 times in the email.\n",
        "* **9**: The 9 next to it means that the second word is present 9 times\n",
        "\n",
        "so on..."
      ],
      "metadata": {
        "id": "8zhO21h6UTtF"
      }
    },
    {
      "cell_type": "code",
      "source": [
        "vocab_transformer.vocabulary_"
      ],
      "metadata": {
        "colab": {
          "base_uri": "https://localhost:8080/"
        },
        "id": "lgs1KUdiRW2t",
        "outputId": "fd19090a-4336-422c-f262-915e775b3e60"
      },
      "execution_count": 46,
      "outputs": [
        {
          "output_type": "execute_result",
          "data": {
            "text/plain": [
              "{'the': 1,\n",
              " 'of': 2,\n",
              " 'and': 3,\n",
              " 'to': 4,\n",
              " 'url': 5,\n",
              " 'all': 6,\n",
              " 'in': 7,\n",
              " 'christian': 8,\n",
              " 'on': 9,\n",
              " 'by': 10}"
            ]
          },
          "metadata": {},
          "execution_count": 46
        }
      ]
    },
    {
      "cell_type": "markdown",
      "source": [
        "## 🏋️ **Model Training**"
      ],
      "metadata": {
        "id": "MYun7IPEYMkt"
      }
    },
    {
      "cell_type": "code",
      "source": [
        "# create a preprocessing pipeline for training\n",
        "preprocess_pipeline = Pipeline([\n",
        "     ('email_to_wordcount', EmailToWordCounterTransformer()),\n",
        "     ('wordcount_to_vector', WordCounterToVectorTransformer())\n",
        " ])\n",
        "\n",
        "X_train_transformed = preprocess_pipeline.fit_transform(X_train)"
      ],
      "metadata": {
        "id": "_dA8mfz1RW0O"
      },
      "execution_count": 47,
      "outputs": []
    },
    {
      "cell_type": "markdown",
      "source": [
        "### 🧪 **98.6% Mean Score on Training Set**"
      ],
      "metadata": {
        "id": "cnnAOqiIduw8"
      }
    },
    {
      "cell_type": "code",
      "source": [
        "# model instantiation\n",
        "log_clf = LogisticRegression(max_iter=1000, random_state=random_state)\n",
        "score = cross_val_score(\n",
        "    log_clf, X_train_transformed,\n",
        "    y_train, cv=3\n",
        "    )\n",
        "print(f'Cross Validation Score (Accuracy) of Logistic Regression Classifier: {score.mean():.1%}')"
      ],
      "metadata": {
        "colab": {
          "base_uri": "https://localhost:8080/"
        },
        "id": "mOa_phfRRWqM",
        "outputId": "0592a97f-7653-446c-fb8a-bd136be8ed86"
      },
      "execution_count": 48,
      "outputs": [
        {
          "output_type": "stream",
          "name": "stdout",
          "text": [
            "Cross Validation Score (Accuracy) of Logistic Regression Classifier: 98.6%\n"
          ]
        }
      ]
    },
    {
      "cell_type": "markdown",
      "source": [
        "### 🧪 **96.9% Precision / 97.9% Recall on Test Set**"
      ],
      "metadata": {
        "id": "UInCm-Mbc-_z"
      }
    },
    {
      "cell_type": "markdown",
      "source": [
        "#### **Note on Precision/Recall Trade-off:**\n",
        "\n",
        "According to ChatGPT, In most spam‐filtering scenarios, **precision** tends to be the more critical metric:\n",
        "\n",
        "* **Precision** (97.7%) tells you “of all the emails we flagged as spam, 97.7% truly were spam.”\n",
        "\n",
        "  * A **high precision** means very few ham messages get mis-labeled and sent to the spam folder by mistake. Losing legitimate mail is usually more painful for users than letting a few spam messages slip through.\n",
        "\n",
        "* **Recall** (89.9%) tells you “of all the actual spam emails, we caught 89.9%.”\n",
        "\n",
        "  * A **slightly lower recall** means you’ll miss about 10% of spam (it lands in the inbox), which is annoying but generally less harmful than false positives.\n",
        "\n",
        "Because **false positives** (**ham** → **spam**) risk losing or hiding important mail, you’ll typically **optimize** for **precision first**.\n",
        "\n",
        "You can then **tune the decision threshold** (or explore cost-sensitive training) to nudge recall higher without letting precision drop below an acceptable floor.\n",
        "\n",
        "\n",
        "\n",
        "\n",
        "\n",
        "\n",
        "\n"
      ],
      "metadata": {
        "id": "L-bHdq4YVKpU"
      }
    },
    {
      "cell_type": "code",
      "source": [
        "X_test_transformed = preprocess_pipeline.transform(X_test)\n",
        "\n",
        "log_clf = LogisticRegression(max_iter=1000, random_state=random_state)\n",
        "log_clf.fit(X_train_transformed, y_train)\n",
        "\n",
        "y_pred = log_clf.predict(X_test_transformed)\n",
        "\n",
        "print(f'Precision: {precision_score(y_test, y_pred):.1%}')\n",
        "print(f'Recall: {recall_score(y_test, y_pred):.1%}')"
      ],
      "metadata": {
        "colab": {
          "base_uri": "https://localhost:8080/"
        },
        "id": "5WLuojbic9bu",
        "outputId": "a8a96dbf-069b-428e-db04-a1a9298084f3"
      },
      "execution_count": 49,
      "outputs": [
        {
          "output_type": "stream",
          "name": "stdout",
          "text": [
            "Precision: 96.9%\n",
            "Recall: 97.9%\n"
          ]
        }
      ]
    },
    {
      "cell_type": "markdown",
      "source": [
        "### 🧪 **96.3% Mean Score on Test Set**"
      ],
      "metadata": {
        "id": "XLp6ivp9igOT"
      }
    },
    {
      "cell_type": "code",
      "source": [
        "# model instantiation\n",
        "log_clf = LogisticRegression(max_iter=1000, random_state=random_state)\n",
        "score = cross_val_score(\n",
        "    log_clf, X_test_transformed,\n",
        "    y_test, cv=3\n",
        "    )\n",
        "print(f'Cross Validation Score (Accuracy) of Logistic Regression Classifier (Test Set): {score.mean():.1%}')"
      ],
      "metadata": {
        "colab": {
          "base_uri": "https://localhost:8080/"
        },
        "id": "nl9cjbyBg-A9",
        "outputId": "ff34a729-288c-435e-c191-b93807d190dc"
      },
      "execution_count": 50,
      "outputs": [
        {
          "output_type": "stream",
          "name": "stdout",
          "text": [
            "Cross Validation Score (Accuracy) of Logistic Regression Classifier (Test Set): 96.3%\n"
          ]
        }
      ]
    },
    {
      "cell_type": "markdown",
      "source": [
        "* The results are very strong across the board for the logistic regression classifier on the **easy dataset** and can serve as a benchmark for performance on the **hard dataset**."
      ],
      "metadata": {
        "id": "cCFmrFjfr7qG"
      }
    },
    {
      "cell_type": "markdown",
      "source": [
        "-----------"
      ],
      "metadata": {
        "id": "hgKCiQaKD6xR"
      }
    },
    {
      "cell_type": "markdown",
      "source": [
        "# 🔴 **Part 2:** Self-directed Case Study"
      ],
      "metadata": {
        "id": "Bqch9_EnTTja"
      }
    },
    {
      "cell_type": "markdown",
      "source": [
        "## 🚨 **Using The Hard Dataset**\n",
        "\n",
        "So far, the results from the Logistic Regression classifier have had their performance evaluated on one of the more light-hearted datasets from [Apache SpamAssassin's public datasets](https://homl.info/spamassassin).\n",
        "\n",
        "I will now import a **hard** dataset and perform a full process of model selection, fine-tuning (using cross-validation) and performance evaluation to attempt to reach results near to that of the first dataset.\n",
        "\n",
        "**Brief**\n",
        "\n",
        "1. Import Hard Dataset\n",
        "2. Inspect The Data\n",
        "3. Preprocessing\n",
        "4. Model Selection\n",
        "5. Fine-tuning\n",
        "6. Results\n",
        "7. Summary"
      ],
      "metadata": {
        "id": "GueS1SzxEYAn"
      }
    },
    {
      "cell_type": "markdown",
      "source": [
        "## **🔧 Utils & Functions** (Round 2)"
      ],
      "metadata": {
        "id": "3fe1w0MwI_-T"
      }
    },
    {
      "cell_type": "code",
      "source": [
        "# +----------------------------------------------------------------------+\n",
        "\n",
        "# (1) fetch spam data\n",
        "def fetch_spam_data():\n",
        "  spam_root = \"https://spamassassin.apache.org/old/publiccorpus/\"\n",
        "  ham_url = spam_root + \"20030228_hard_ham.tar.bz2\"\n",
        "  spam_url = spam_root + \"20030228_spam_2.tar.bz2\"\n",
        "\n",
        "  spam_path = Path() / \"datasets\" / \"spam\"\n",
        "  spam_path.mkdir(\n",
        "      parents=True,\n",
        "      exist_ok=True\n",
        "      ),\n",
        "\n",
        "  for dir_name, tar_name, url in (\n",
        "      (\"hard_ham\", \"ham\", ham_url),\n",
        "       (\"spam_2\",\"spam\", spam_url)\n",
        "       ):\n",
        "    if not (spam_path / dir_name).is_dir():\n",
        "      path = (spam_path / tar_name).with_suffix(\".tar.bz2\")\n",
        "      print(\"Downloading\", path)\n",
        "      urllib.request.urlretrieve(url, path)\n",
        "      tar_bz2_file = tarfile.open(path)\n",
        "      tar_bz2_file.extractall(path=spam_path)\n",
        "      tar_bz2_file.close()\n",
        "  return [spam_path / dir_name for dir_name in (\"hard_ham\", \"spam_2\")]\n",
        "\n",
        "# +----------------------------------------------------------------------+"
      ],
      "metadata": {
        "id": "q9yLMPQPEkpv"
      },
      "execution_count": 68,
      "outputs": []
    },
    {
      "cell_type": "markdown",
      "source": [
        "## 📤 **Examples of Spam & Ham** (Round 2)\n",
        "* From Hard [Apache SpamAssassin's public datasets](https://spamassassin.apache.org/old/publiccorpus/).\n",
        "* `20030228_hard_ham.tar.bz2`\n",
        "* `20030228_spam_2.tar.bz2`"
      ],
      "metadata": {
        "id": "ZXR7nzK2YLju"
      }
    },
    {
      "cell_type": "code",
      "source": [
        "# download data\n",
        "ham_dir, spam_dir = fetch_spam_data()"
      ],
      "metadata": {
        "id": "WvDZANh6VJyI"
      },
      "execution_count": 61,
      "outputs": []
    },
    {
      "cell_type": "code",
      "source": [
        "# load emails\n",
        "ham_filenames = [f for f in sorted(ham_dir.iterdir()) if len(f.name) > 20]\n",
        "spam_filenames = [f for f in sorted(spam_dir.iterdir()) if len(f.name) > 20]\n",
        "print(\n",
        "    f\"Ham Filename Length: {len(ham_filenames)}\\n\"\n",
        "    f\"Spam Filename Length: {len(spam_filenames)}\"\n",
        ")"
      ],
      "metadata": {
        "colab": {
          "base_uri": "https://localhost:8080/"
        },
        "id": "m-f3b4itY0-A",
        "outputId": "faa54adf-6a38-46e9-a6c1-31da7654dcaa"
      },
      "execution_count": 62,
      "outputs": [
        {
          "output_type": "stream",
          "name": "stdout",
          "text": [
            "Ham Filename Length: 250\n",
            "Spam Filename Length: 1397\n"
          ]
        }
      ]
    },
    {
      "cell_type": "markdown",
      "source": [
        "**Note:**\n",
        "* There seems to be a lot more spam than ham."
      ],
      "metadata": {
        "id": "OmSx-TgkaC8I"
      }
    },
    {
      "cell_type": "code",
      "source": [
        "# parse the emails\n",
        "ham_emails = [load_email(filepath) for filepath in ham_filenames]\n",
        "spam_emails = [load_email(filepath) for filepath in spam_filenames]"
      ],
      "metadata": {
        "id": "Sy1Ux-e8Zu1O"
      },
      "execution_count": 63,
      "outputs": []
    },
    {
      "cell_type": "code",
      "source": [
        "# viewing an example of ham\n",
        "print(ham_emails[1].get_content().strip())"
      ],
      "metadata": {
        "colab": {
          "base_uri": "https://localhost:8080/"
        },
        "collapsed": true,
        "id": "a_sNfnbfa0YM",
        "outputId": "c9b10354-e219-49ca-d02a-99c60f446a24"
      },
      "execution_count": 64,
      "outputs": [
        {
          "output_type": "stream",
          "name": "stdout",
          "text": [
            "May 7, 2002\n",
            "\n",
            "\n",
            "Dear rod-3ds@arsecandle.org:\n",
            "\n",
            "\n",
            "Congratulations!  On behalf of Frito-Lay, Inc., we are pleased to advise you\n",
            " that you've won Fourth Prize in the 3D's(R) Malcolm in the Middle(TM)\n",
            " Sweepstakes.   Fourth Prize consists of 1 manufacturer's coupon redeemable at\n",
            " participating retailers for 1 free bag of 3D's(R) brand snacks (up to 7 oz.\n",
            " size), with an approximate retail value of $2.59 and an expiration date of\n",
            " 12/31/02.\n",
            "\n",
            "Follow these instructions to claim your prize:\n",
            "\n",
            "1.\tPrint out this email message.\n",
            "\n",
            "2.\tComplete ALL of the information requested.  Print clearly and legibly.  Sign\n",
            " where indicated.\n",
            "\n",
            "3.\tIf you are under 18 or otherwise under the legal age of majority in your\n",
            " state, your parent or legal guardian must co-sign where indicated below.\n",
            "\n",
            "4.\tMail the completed and signed form to:  3D's(R) Malcolm in the Middle(TM)\n",
            " Sweepstakes, Redemption Center, PO Box 1520, Elmhurst IL 60126.  WE MUST\n",
            " RECEIVE THIS FORM NO LATER THAN MAY 28, 2002 IN ORDER TO SEND YOU THE PRIZE.\n",
            "\n",
            "PLEASE DO NOT ATTEMPT TO REPLY TO THIS EMAIL.  THE ONLY WAY TO CLAIM THE PRIZE\n",
            " IS TO FOLLOW THE INSTRUCTIONS ABOVE.  YOUR PRIZE WILL BE MAILED TO YOU WITHIN 6\n",
            " TO 8 WEEKS OF RECEIPT OF THIS FORM.\n",
            "\n",
            "Once again, on behalf of Frito-Lay, Inc., congratulations and thank you for\n",
            " participating in the Game.\n",
            "\n",
            "\t\t\t\t\t\n",
            "Sincerely,\n",
            "\n",
            "\n",
            "Game Security Services\n",
            "\n",
            "\n",
            "\n",
            "\n",
            "\n",
            "\n",
            "\n",
            "\n",
            "\n",
            "\n",
            "PRIZE ACCEPTANCE/RELEASE AND INDEMNIFICATION FORM\n",
            "3D's(R) Malcolm in the Middle(TM) Sweepstakes\n",
            "\n",
            "\n",
            "1.\tMy social security number is:  _______________________________\n",
            "\n",
            "2.\tMy date of birth is:   _______________________________________\n",
            "\n",
            "3.\tMy telephone number is:   __________________________________\n",
            "\n",
            "4.\tMy home address is:   _____________________________________\n",
            "\n",
            "\t\t\t      _____________________________________\n",
            "\n",
            "5.\tMy email address is:   _____________________________________\n",
            "\n",
            "6.\tI am a legal resident of the State of:   _________________________\n",
            "\n",
            "7.\tI am above the legal age of majority in my state of residence or my parent or\n",
            " legal guardian has co-signed below.\n",
            "\n",
            "8.\tI represent that I (1) have fully complied with all of the Official Rules of\n",
            " the Sweepstakes, and (2) have not committed any fraud or deception in\n",
            " participating in the Sweepstakes or in accepting the Prize.\n",
            "\n",
            "9.\tBy accepting the prize, I (and my parent/legal guardian if I am a minor)\n",
            " agree to release Frito-Lay, Inc. (\"Sponsor\"), FOX Broadcasting Company, 20th\n",
            " Century FOX Television, Regency Entertainment, their respective parent,\n",
            " subsidiary or affiliated companies, distributors, printing suppliers for this\n",
            " promotion, advertising, fulfillment, judging or promotion agencies,\n",
            " participating retailers, and all of their respective officers, directors,\n",
            " employees, representatives and agents from any liability for, and to hold them\n",
            " harmless against, any liability for injuries, losses or damages of any kind to\n",
            " persons or property resulting in whole or in part, directly or indirectly, from\n",
            " participation in the sweepstakes or acceptance, possession, misuse or use of\n",
            " any prize. \n",
            "\n",
            "\n",
            "\n",
            "Name [print full name]:\t_______________________________\n",
            "\n",
            "Signature:\t\t_______________________________\n",
            "\n",
            "Date:\t\t\t_______________________________\n",
            "\n",
            "\n",
            "\n",
            "IF WINNER IS A MINOR IN HIS OR HER STATE OF RESIDENCE, WINNER'S PARENT OR LEGAL\n",
            " GUARDIAN MUST COMPLETE THE INFORMATION BELOW: \n",
            "\n",
            "I am the parent or legal guardian of the winner who has signed the foregoing\n",
            " Release. I AGREE TO THE TERMS OF THE RELEASE AND CONSENT TO THE ACCEPTANCE OF\n",
            " THE PRIZE ON THE WINNER'S BEHALF.\n",
            "\n",
            "\n",
            "\n",
            "Parent/Guardian's Name [print full name]:\t_______________________________\n",
            "\n",
            "Parent/Guardian's Signature:\t\t\t_______________________________\n",
            "\n",
            "Date:\t\t\t\t\t\t_______________________________\n",
            "\n",
            "\n",
            "\n",
            "\n",
            "\n",
            "\n",
            "\n",
            "2002 OFFICIAL RULES\n",
            "3D's(R) Malcolm in the Middle(TM) Sweepstakes\n",
            "\n",
            "OPEN ONLY TO LEGAL U.S. RESIDENTS LOCATED IN THE U.S. AT THE TIME OF ENTRY. VOID\n",
            " ELSEWHERE AND WHEREVER PROHIBITED BY LAW, INCLUDING BUT NOT LIMITED TO,\n",
            " FLORIDA, PUERTO RICO, U.S. VIRGIN ISLANDS AND U.S. MILITARY INSTALLATIONS\n",
            " LOCATED IN A FOREIGN COUNTRY.\n",
            "\n",
            "NO PURCHASE NECESSARY. PURCHASE DOES NOT IMPROVE CHANCE OF WINNING. MANY WILL\n",
            " ENTER. FEW WILL WIN. ODDS DEPEND ON NUMBER OF ENTRIES RECEIVED.\n",
            "\n",
            "1. ELIGIBILITY: Open only to legal U.S. residents located in the U.S. at the\n",
            " time of entry, excluding residents of Florida, Puerto Rico, the U.S. Virgin\n",
            " Islands and U.S. military installations located in a foreign country, who had\n",
            " online access on or before 1/26/02. Employees, contractors, directors and\n",
            " officers of Frito-Lay, Inc. (\"Sponsor\"), FOX Broadcasting Company, 20th Century\n",
            " FOX Television, Regency Entertainment, their respective parent, subsidiary and\n",
            " affiliated companies, distributors, printing suppliers for this promotion,\n",
            " advertising, fulfillment, judging and promotion agencies (collectively,\n",
            " \"Promotion Parties\"), and their immediate family members and those living in\n",
            " their same households are not eligible.\n",
            "\n",
            "2. TO ENTER: Beginning 12:00:01 a.m. E.T. 1/27/02, log on to www.3DsFun.com and\n",
            " click on the link on the home page to locate the official entry form. Follow\n",
            " on-screen directions to properly complete an entry form and send it\n",
            " electronically by 11:59:59 p.m. E.T. 2/11/02. In order for entry to be valid,\n",
            " entrants must click on the \"I accept\" button on the web site. All entries must\n",
            " be received no later than 11:59:59 p.m. E.T. on 2/13/02. LIMIT ONE ENTRY PER\n",
            " PERSON AND/OR E-MAIL ADDRESS. SUBSEQUENT ENTRIES WILL BE DISQUALIFIED.\n",
            " Promotion Parties assume no responsibility for lost, late, misdirected, stolen,\n",
            " undelivered, garbled, damaged, or incomplete entries, or for any computer,\n",
            " online, telephone or technical malfunctions that may occur. Promotion Parties\n",
            " also assume no responsibility for any technical problems in connection with\n",
            " transmission or receipt of online entries including faulty electronic data\n",
            " transmission, traffic congestion on the Internet or on the web site, hardware\n",
            " or software error, equipment failure or malfunction, or other online\n",
            " communications problems. In the event of a dispute regarding the identity of\n",
            " the person submitting an online entry, entries will be declared made by the\n",
            " authorized account holder of the e-mail address submitted at the time of entry.\n",
            " \"Authorized account holder\" is defined as the natural person who is assigned to\n",
            " an e-mail address by an Internet Access provider, online service provider, or\n",
            " other organization (e.g., business, educational institution, etc.) responsible\n",
            " for assigning e-mail addresses for the domain associated with the submitted\n",
            " e-mail address. All entries become the property of Sponsor and will not be\n",
            " returned to entrant. Automated entries (including but not limited to entries\n",
            " made using any script, macro, bot, or sweepstakes service) and facsimiles are\n",
            " not allowed. Potential winner may be requested to provide Sponsor with proof\n",
            " that the potential winner is the authorized account holder of the e-mail\n",
            " address associated with the winning entry.\n",
            "\n",
            "3. WINNER SELECTION: Winners will be selected in a random drawing to take place\n",
            " on or about 2/28/02 by an independent judging organization, the judge, whose\n",
            " decisions are final and binding on all matters related to the sweepstakes. Odds\n",
            " of winning depend on the number of eligible entries received. Winners will be\n",
            " notified by e-mail. If any prize or correspondence (including e-mail) regarding\n",
            " any prize is returned as non-deliverable, prize may be forfeited and an\n",
            " alternate winner selected.  Winners (or winner's parent or legal guardian, if\n",
            " winner is a minor) and Grand Prize winner's travel companions (or companion's\n",
            " parent or legal guardian for any companion who is a minor) will be required to\n",
            " complete, sign and return either a Prize Acceptance/Release and Indemnification\n",
            " form or an Affidavit of Eligibility/Liability Release (as directed by Sponsor),\n",
            " and, where lawful, a Publicity Release within twenty-one (21) days of winners'\n",
            " receipt of documents via e-mail or prize may be forfeited. Grand prize winner\n",
            " (or winner's parent or legal guardian, if winner is a minor) and winner's\n",
            " travel companions will also be required to complete, sign and return a set\n",
            " visit release together with completed I-9 and W-4 forms in order to visit the\n",
            " set of Malcolm in the Middle(TM) as described below in paragraph 4. Prizes won\n",
            " by minors will be awarded to a parent or legal guardian who must sign all\n",
            " required documents.\n",
            "\n",
            "4. PRIZES: ONE (1) GRAND PRIZE: One trip for winner and 3 travel companions of\n",
            " winner's choosing to Los Angeles, CA to be completed on or before 12/31/02.\n",
            " Trip is for 4 persons but can include up to 8 persons under the following\n",
            " conditions: Among winner and the 3 selected travel companions, each traveler\n",
            " who is a minor in his/her state of residence must be accompanied by a parent or\n",
            " legal guardian of such minor at all times; Sponsor will provide trip\n",
            " accommodations for one parent or legal guardian to accompany him/her. Trip\n",
            " includes round-trip coach air transportation from a major gateway airport near\n",
            " winner's residence within the U.S.; 3 days/2 nights double occupancy standard\n",
            " hotel accommodations in the Los Angeles, CA metropolitan area (airport, carrier\n",
            " and hotel to be selected by Sponsor); accompanied admission to the set of FOX's\n",
            " Malcolm in the Middle(TM) (\"MIM\") during a non-filming period selected by FOX\n",
            " to meet Frankie Muniz; and ground transportation between the California airport\n",
            " and hotel, and between the hotel and the MIM set. Grand Prize winner will also\n",
            " receive a check for $2,500, 1 MIM script autographed by Frankie Muniz, one\n",
            " MIM/3D's(R) brand snacks VIP pack (including 1 backpack, 1 book, 1 hat, 1\n",
            " t-shirt, and 1 case consisting of fifteen 7 oz. bags of RUFFLES(R) 3D's(R)\n",
            " brand Maximum Cheddar flavored snacks). Approximate Retail Value (\"ARV\"):\n",
            " Between $7,500 and $15,000, depending on winner's point of travel origin and\n",
            " how many persons (up to 8) take the trip. All meals, gratuities, and other\n",
            " expenses associated with prize trip not specifically mentioned in these rules\n",
            " are the winner's sole responsibility. All travel must be taken by the date\n",
            " specified; no alternative travel dates are available. Winner, travel\n",
            " companions, and any necessary parent(s)/legal guardian(s) (the \"travel party\")\n",
            " must travel on same itinerary. In the event that circumstances prevent the\n",
            " travel party from being able to attend the set visit or meet Frankie Muniz, or\n",
            " limit this portion of the Grand Prize in any way, the winner agrees that the\n",
            " Promotion Parties shall have no obligations other than to deliver the remainder\n",
            " of the Grand Prize. FIVE (5) FIRST PRIZES: Manufacturer's coupons redeemable at\n",
            " participating retailers for 52 free 7 oz. bags of any 3D'S(R) brand snacks\n",
            " (with a retail value up to $2.59). ARV: $135. TEN (10) SECOND PRIZES: One\n",
            " MIM/3D's(R) brand snacks VIP pack (including 1 backpack, 1 book, 1 hat, ,1\n",
            " t-shirt, and 1 case consisting of fifteen 7 oz. bags of RUFFLES(R) 3D's(R)\n",
            " brand Maximum Cheddar flavored snacks). ARV: $100. TWENTY (20) THIRD PRIZES:\n",
            " One MIM t-shirt and one MIM hat. ARV: $30. 100 FOURTH PRIZES: One\n",
            " manufacturer's coupon redeemable at participating retailers for 1 free bag of\n",
            " 3D's(R) brand snacks (up to 7 oz. size). ARV: $2.59. Free product coupons\n",
            " expire and must be redeemed by 12/31/02. No substitution, cash redemptions or\n",
            " transfer of prizes is permitted except at Sponsor's sole discretion. If a prize\n",
            " cannot be awarded for any reason, Sponsor reserves the right to substitute any\n",
            " prize with another prize of equal or greater value. Any portion of a prize not\n",
            " accepted by a winner shall be forfeited. All prizes will be awarded.\n",
            "\n",
            "5. GENERAL CONDITIONS: Sweepstakes is not to be used in connection with any form\n",
            " of gambling. Prizes will be awarded and/or delivered only to addresses within\n",
            " the United States. Prize winners are solely responsible for any taxes on\n",
            " Prizes. This sweepstakes is subject to all federal, state and local laws, and\n",
            " Grand Prize winner will receive an IRS Form 1099 for the approximate retail\n",
            " value of the prize. By participating, entrants (and their parent(s)/legal\n",
            " guardian(s) if entrants are minors) agree to these Official Rules, Sponsor's\n",
            " Privacy Policy (available at www.3DsFun.com) and to the decisions of the judge,\n",
            " which are final and binding in all respects. If for any reason the sweepstakes\n",
            " is not capable of running as planned; including infection by computer virus,\n",
            " bugs, tampering, unauthorized intervention, fraud, technical failures, or any\n",
            " other causes which corrupt or affect the administration, security, fairness,\n",
            " integrity or proper conduct of the sweepstakes, Sponsor reserves the right, at\n",
            " its sole discretion, to disqualify any individual who is responsible or who\n",
            " tampers with the entry process, and to cancel or terminate the sweepstakes and\n",
            " select the winners from all eligible entries received prior to the cancellation\n",
            " or termination. This sweepstakes is offered only in the United States and is\n",
            " governed by the laws of the state of Texas, with venue in Dallas County, Texas,\n",
            " and all claims must be resolved in the federal or state courts of Dallas\n",
            " County, Texas.\n",
            "\n",
            "6. LIMITATIONS OF LIABILITY AND RELEASE: By accepting prize, winners (and\n",
            " winners' parent(s)/legal guardian(s) if winners are minors) agree that the\n",
            " Promotion Parties, participating retailers, and all of their respective\n",
            " officers, directors, employees, representatives and agents will have no\n",
            " liability whatsoever for, and shall be held harmless by winners against, any\n",
            " liability for injuries, losses or damages of any kind to persons or property\n",
            " resulting in whole or in part, directly or indirectly, from participation in\n",
            " the sweepstakes or acceptance, possession, misuse or use of any prize. Except\n",
            " if winners are residents of TN or where prohibited by law, winners (and\n",
            " winners' parent(s)/legal guardian(s) if winners are minors) grant (and agree to\n",
            " confirm this grant in writing, if requested) permission for Sponsor and those\n",
            " acting under its authority to use his/her name, photograph, voice and/or\n",
            " likeness, for advertising and/or publicity purposes without additional\n",
            " compensation.\n",
            "\n",
            "7. WINNERS' LIST: For a list of winners of prizes valued over $25, mail a\n",
            " self-addressed, stamped envelope to be postmarked by 2/11/02 and received by\n",
            " 2/18/02 to: Malcolm in the Middle(TM) Sweepstakes, Winners' List Requests, P.O.\n",
            " Box 1518, Elmhurst, IL 60126.\n",
            "\n",
            "8. SPONSOR: Frito-Lay, Inc., 7701 Legacy Drive, Plano, TX 75024-4099.\n",
            "\n",
            "(c)2002. Frito-Lay, Inc. All rights reserved.\n",
            "\n",
            "Malcolm in the Middle(TM) and (c)2002 Twentieth Century Fox Film Corporation,\n",
            " Regency Entertainment (USA) Inc. and Monarchy Enterprises S.a.r.l. All rights\n",
            " reserved.\n",
            "(c)2002. FOX BROADCASTING COMPANY\n"
          ]
        }
      ]
    },
    {
      "cell_type": "markdown",
      "source": [
        "**Note:**\n",
        "* This email is much longer than the example loaded in Part 1."
      ],
      "metadata": {
        "id": "k1qan46KbBn-"
      }
    },
    {
      "cell_type": "code",
      "source": [
        "# viewing an example of spam\n",
        "print(spam_emails[6].get_content().strip())"
      ],
      "metadata": {
        "colab": {
          "base_uri": "https://localhost:8080/"
        },
        "id": "LCiJpY2ha4O1",
        "outputId": "0b576f4c-aa0d-4625-f3b1-f7b422d918e6"
      },
      "execution_count": 65,
      "outputs": [
        {
          "output_type": "stream",
          "name": "stdout",
          "text": [
            "NEW PRODUCT ANNOUNCEMENT\n",
            "\n",
            "From: OUTSOURCE ENG.& MFG. INC.\n",
            "\n",
            "\n",
            "Sir/Madam;\n",
            "\n",
            "This note is to inform you of new watchdog board technology for maintaining\n",
            "continuous unattended operation of PC/Servers etc. that we have released for\n",
            "distribution.\n",
            "  \n",
            "We are proud to announce Watchdog Control Center featuring MAM (Multiple\n",
            "Applications Monitor) capability.\n",
            "The key feature of this application enables you to monitor as many\n",
            "applications as you\n",
            "have resident on any computer as well as the operating system for\n",
            "continuous unattended operation.  The Watchdog Control Center featuring\n",
            "MAM capability expands third party application \"control\" of a Watchdog as\n",
            "access to the application's\n",
            "source code is no longer needed.\n",
            "\n",
            "Here is how it all works:\n",
            "Upon installation of the application and Watchdog, the user may select\n",
            "many configuration options, based on their model of Watchdog, to fit their\n",
            "operational needs.  If the MAM feature is enabled, the user may select any\n",
            "executable program that they wish for monitoring.\n",
            "\n",
            "A lock up of the operating system or if any one of the selected\n",
            "applications is not running, the MAM feature, in\n",
            "conjunction with the Watchdog, will reset the system allowing for\n",
            "continuous operation.\n",
            "\n",
            "It's that simple!\n",
            "\n",
            "Watchdog Control Center is supported on most Microsoft Windows platforms\n",
            "(Win9x/WinNT/Win2k) and includes a Linux version for PCI Programmable\n",
            "Watchdogs.\n",
            "\n",
            "Watchdog Control Center Features:\n",
            "- Automated installation\n",
            "- Controls all Outsource Engineering Watchdogs\n",
            "- User selectable Watchdog timeout period\n",
            "- User selectable Watchdog stroke interval\n",
            "- Multiple Application Monitoring\n",
            "\n",
            "Included on the Installation CD:\n",
            "- Watchdog Control Center\n",
            "- Watchdog Drivers\n",
            "- Documentation\n",
            "\n",
            "For more information, please visit out website at\n",
            "http://www.outsrc-em.com/ or send an e-mail to sales@outsrc-em.com\n"
          ]
        }
      ]
    },
    {
      "cell_type": "markdown",
      "source": [
        "**Most Common Email Structures**\n",
        "\n",
        "As seen below, the most common email structures in the hard ham dataset is now `text/html` and very near to the most common for the new spam data."
      ],
      "metadata": {
        "id": "Z6Svzgamb43e"
      }
    },
    {
      "cell_type": "code",
      "source": [
        "# viewing email structures\n",
        "structures_counter(ham_emails).most_common()"
      ],
      "metadata": {
        "colab": {
          "base_uri": "https://localhost:8080/"
        },
        "id": "5xnitjF_bjhJ",
        "outputId": "51de227e-d319-40ea-8d28-97f38581856f"
      },
      "execution_count": 66,
      "outputs": [
        {
          "output_type": "execute_result",
          "data": {
            "text/plain": [
              "[('text/html', 118),\n",
              " ('text/plain', 81),\n",
              " ('multipart(text/plain, text/html)', 43),\n",
              " ('multipart(text/html)', 2),\n",
              " ('multipart(text/plain, image/bmp)', 1),\n",
              " ('multipart(multipart(text/plain, text/html))', 1),\n",
              " ('multipart(text/plain, application/x-pkcs7-signature)', 1),\n",
              " ('multipart(text/plain, image/png, image/png)', 1),\n",
              " ('multipart(multipart(text/plain, text/html), image/gif, image/gif, image/gif, image/gif, image/gif, image/gif, image/gif, image/gif, image/gif, image/gif, image/gif, image/jpeg, image/gif, image/gif, image/gif, image/gif, image/gif, image/gif)',\n",
              "  1),\n",
              " ('multipart(text/plain, text/plain)', 1)]"
            ]
          },
          "metadata": {},
          "execution_count": 66
        }
      ]
    },
    {
      "cell_type": "code",
      "source": [
        "# viewing spam email structures\n",
        "structures_counter(spam_emails).most_common()"
      ],
      "metadata": {
        "colab": {
          "base_uri": "https://localhost:8080/"
        },
        "id": "gCAD3dc-byL0",
        "outputId": "2c01344a-d239-461d-8217-9ebdf5517cc9"
      },
      "execution_count": 67,
      "outputs": [
        {
          "output_type": "execute_result",
          "data": {
            "text/plain": [
              "[('text/plain', 598),\n",
              " ('text/html', 589),\n",
              " ('multipart(text/plain, text/html)', 114),\n",
              " ('multipart(text/html)', 29),\n",
              " ('multipart(text/plain)', 25),\n",
              " ('multipart(multipart(text/html))', 18),\n",
              " ('multipart(multipart(text/plain, text/html))', 5),\n",
              " ('multipart(text/plain, application/octet-stream, text/plain)', 3),\n",
              " ('multipart(text/html, text/plain)', 2),\n",
              " ('multipart(text/html, image/jpeg)', 2),\n",
              " ('multipart(multipart(text/plain), application/octet-stream)', 2),\n",
              " ('multipart(text/plain, application/octet-stream)', 2),\n",
              " ('multipart(text/plain, multipart(text/plain))', 1),\n",
              " ('multipart(multipart(text/plain, text/html), image/jpeg, image/jpeg, image/jpeg, image/jpeg, image/jpeg)',\n",
              "  1),\n",
              " ('multipart(multipart(text/plain, text/html), image/jpeg, image/jpeg, image/jpeg, image/jpeg, image/gif)',\n",
              "  1),\n",
              " ('text/plain charset=us-ascii', 1),\n",
              " ('multipart(multipart(text/html), image/gif)', 1),\n",
              " ('multipart(multipart(text/plain, text/html), application/octet-stream, application/octet-stream, application/octet-stream, application/octet-stream)',\n",
              "  1),\n",
              " ('multipart(multipart(text/plain, text/html), image/gif, image/jpeg)', 1),\n",
              " ('multipart/alternative', 1)]"
            ]
          },
          "metadata": {},
          "execution_count": 67
        }
      ]
    },
    {
      "cell_type": "markdown",
      "source": [
        "**View an Example Email Header**"
      ],
      "metadata": {
        "id": "Pt36vEOocngx"
      }
    },
    {
      "cell_type": "code",
      "source": [
        "# viewing the email headers\n",
        "for header, value in spam_emails[0].items():\n",
        "  print(header, \":\", value)"
      ],
      "metadata": {
        "colab": {
          "base_uri": "https://localhost:8080/"
        },
        "id": "pHH0cLA2cZO7",
        "outputId": "d1dc21bc-c6cd-4070-e321-c7ea72be6f21"
      },
      "execution_count": 69,
      "outputs": [
        {
          "output_type": "stream",
          "name": "stdout",
          "text": [
            "Return-Path : <ilug-admin@linux.ie>\n",
            "Delivered-To : yyyy@localhost.netnoteinc.com\n",
            "Received : from localhost (localhost [127.0.0.1])\tby phobos.labs.netnoteinc.com (Postfix) with ESMTP id 9E1F5441DD\tfor <jm@localhost>; Tue,  6 Aug 2002 06:48:09 -0400 (EDT)\n",
            "Received : from phobos [127.0.0.1]\tby localhost with IMAP (fetchmail-5.9.0)\tfor jm@localhost (single-drop); Tue, 06 Aug 2002 11:48:09 +0100 (IST)\n",
            "Received : from lugh.tuatha.org (root@lugh.tuatha.org [194.125.145.45]) by    dogma.slashnull.org (8.11.6/8.11.6) with ESMTP id g72LqWv13294 for    <jm-ilug@jmason.org>; Fri, 2 Aug 2002 22:52:32 +0100\n",
            "Received : from lugh (root@localhost [127.0.0.1]) by lugh.tuatha.org    (8.9.3/8.9.3) with ESMTP id WAA31224; Fri, 2 Aug 2002 22:50:17 +0100\n",
            "Received : from bettyjagessar.com (w142.z064000057.nyc-ny.dsl.cnc.net    [64.0.57.142]) by lugh.tuatha.org (8.9.3/8.9.3) with ESMTP id WAA31201 for    <ilug@linux.ie>; Fri, 2 Aug 2002 22:50:11 +0100\n",
            "X-Authentication-Warning : lugh.tuatha.org: Host w142.z064000057.nyc-ny.dsl.cnc.net    [64.0.57.142] claimed to be bettyjagessar.com\n",
            "Received : from 64.0.57.142 [202.63.165.34] by bettyjagessar.com    (SMTPD32-7.06 EVAL) id A42A7FC01F2; Fri, 02 Aug 2002 02:18:18 -0400\n",
            "Message-Id : <1028311679.886@0.57.142>\n",
            "Date : Fri, 02 Aug 2002 23:37:59 +0530\n",
            "To : ilug@linux.ie\n",
            "From : Start Now <startnow2002@hotmail.com>\n",
            "MIME-Version : 1.0\n",
            "Content-Type : text/plain; charset=\"US-ASCII\"; format=\"flowed\"\n",
            "Subject : [ILUG] STOP THE MLM INSANITY\n",
            "Sender : ilug-admin@linux.ie\n",
            "Errors-To : ilug-admin@linux.ie\n",
            "X-Mailman-Version : 1.1\n",
            "Precedence : bulk\n",
            "List-Id : Irish Linux Users' Group <ilug.linux.ie>\n",
            "X-Beenthere : ilug@linux.ie\n"
          ]
        }
      ]
    },
    {
      "cell_type": "markdown",
      "source": [
        "**View The Email Subject Header**"
      ],
      "metadata": {
        "id": "SbrvqXCndtXI"
      }
    },
    {
      "cell_type": "code",
      "source": [
        "spam_emails[0]['subject']"
      ],
      "metadata": {
        "colab": {
          "base_uri": "https://localhost:8080/",
          "height": 36
        },
        "id": "hOavVZpAdiEr",
        "outputId": "fda219a6-a24b-44a3-fe94-7a1f50aa218a"
      },
      "execution_count": 70,
      "outputs": [
        {
          "output_type": "execute_result",
          "data": {
            "text/plain": [
              "'[ILUG] STOP THE MLM INSANITY'"
            ],
            "application/vnd.google.colaboratory.intrinsic+json": {
              "type": "string"
            }
          },
          "metadata": {},
          "execution_count": 70
        }
      ]
    },
    {
      "cell_type": "markdown",
      "source": [
        "**Note:**\n",
        "* **MLM** - presumably Multi-level marketing (MLM) refering to the controversial marketing strategy where a company sells products or services through a network of distributors who earn commissions not only from their sales but also from the sales of their recruits and their recruits' recruits."
      ],
      "metadata": {
        "id": "f_ovgEW3d-H6"
      }
    },
    {
      "cell_type": "markdown",
      "source": [
        "## 🧹 **Preprocessing** (Round 2)"
      ],
      "metadata": {
        "id": "eXl0FCt_emvW"
      }
    },
    {
      "cell_type": "markdown",
      "source": [
        "### 📊 **Train-test Split on Dataset** (Round 2)"
      ],
      "metadata": {
        "id": "3X403uxBeuSO"
      }
    },
    {
      "cell_type": "code",
      "source": [
        "# train-test split\n",
        "X = np.array(ham_emails + spam_emails, dtype=object)\n",
        "y = np.array([0] * len(ham_emails) + [1] * len(spam_emails))\n",
        "\n",
        "X_train, X_test, y_train, y_test = train_test_split(\n",
        "    X, y, test_size=.2, random_state=random_state\n",
        "    )"
      ],
      "metadata": {
        "id": "DNVEn4gbdxd7"
      },
      "execution_count": 71,
      "outputs": []
    },
    {
      "cell_type": "markdown",
      "source": [
        "**Train-test Split Code Summary:** (As done in Part 1 of the notebook)\n",
        "\n",
        "The dataset is being explicitly labeled and merged so that it can be split consistently into training and test sets. Both `x` and `y` must correspond 1-to-1.\n",
        "\n",
        "```\n",
        "X = np.array(ham_emails + spam_emails, dtype=object)\n",
        "```\n",
        "* Combines the two lists (`ham_emails` and `spam_emails`) into one array `X`\n",
        "* `dtype=object` is used because the emails are text strings\n",
        "\n",
        "```\n",
        "y = np.array([0] * len(ham_emails) + [1] * len(spam_emails))\n",
        "```\n",
        "Creates the labels (`y`) for the classification task:\n",
        "* `0` for **ham** (not spam)\n",
        "* `1` for **spam**"
      ],
      "metadata": {
        "id": "K1r9H3LGf3l5"
      }
    },
    {
      "cell_type": "markdown",
      "source": [
        "### 🛠️ **Preprocessing Functions** (Round 2)"
      ],
      "metadata": {
        "id": "-RzxZMlXgDAP"
      }
    },
    {
      "cell_type": "code",
      "source": [
        "# testing the HTML to plain text function on the new spam data\n",
        "html_spam_emails = [\n",
        "    email for email in X_train[y_train==1] if get_email_structure(email) == 'text/html'\n",
        "    ]\n",
        "sample_html_spam = html_spam_emails[7]\n",
        "print(sample_html_spam.get_content()[:1000], \"...\")"
      ],
      "metadata": {
        "colab": {
          "base_uri": "https://localhost:8080/"
        },
        "id": "XAaBLHZofzM7",
        "outputId": "48b37633-ff16-47d8-8938-ff8853e3753d"
      },
      "execution_count": 72,
      "outputs": [
        {
          "output_type": "stream",
          "name": "stdout",
          "text": [
            "<html>\n",
            "<head>\n",
            "<title>Foreclosure Toolkit</title>\n",
            "<meta http-equiv=\"Content-Type\" content=\"text/html; charset=iso-8859-1\">\n",
            "<style type=\"text/css\">\n",
            "\t<!--\n",
            "\n",
            "\ttd {  font-family: Arial, Helvetica, sans-serif}\n",
            "\n",
            "\t-->\n",
            "\t</style>\n",
            "</head>\n",
            "\n",
            "<body>\n",
            "\n",
            "<p>Great News webmaster,</p>\n",
            "\n",
            "<p><b>FINALLY  -  A Foreclosure Tycoon Reveals His Most Closely Guarded Secrets! </b><br>\n",
            "<br>\n",
            "For the first time ever, we are proud to bring you Foreclosure's most closely guarded secrets - a complete, turn-key system to either owning your own home or making a fortune in Foreclosure Real Estate without tenants, headaches and bankers. <br>\n",
            "<br>\n",
            "FREE information for a revolutionary brand-new approach to show you exactly how to buy a foreclosure or make a fortune in foreclosure real estate in today's market.<br>\n",
            "<br>\n",
            "Are you ready to take advantage of this amazing information?<br>\n",
            "webmaster,  take this first step to improving your life in the next 2 minutes!</p>\n",
            "\n",
            "<p><b>For <font color=\"#FF0000\">FREE</font> Information <a href= ...\n"
          ]
        }
      ]
    },
    {
      "cell_type": "code",
      "source": [
        "# see the resulting plain text\n",
        "print(html_to_plain_text(sample_html_spam.get_content())[:1000],\"...\")"
      ],
      "metadata": {
        "colab": {
          "base_uri": "https://localhost:8080/"
        },
        "id": "6n8HqUddgUkv",
        "outputId": "c76e4c52-07e3-4536-833a-ac443f726973"
      },
      "execution_count": 73,
      "outputs": [
        {
          "output_type": "stream",
          "name": "stdout",
          "text": [
            "Great News webmaster,\n",
            "FINALLY  -  A Foreclosure Tycoon Reveals His Most Closely Guarded Secrets!\n",
            "For the first time ever, we are proud to bring you Foreclosure's most closely guarded secrets - a complete, turn-key system to either owning your own home or making a fortune in Foreclosure Real Estate without tenants, headaches and bankers.\n",
            "FREE information for a revolutionary brand-new approach to show you exactly how to buy a foreclosure or make a fortune in foreclosure real estate in today's market.\n",
            "Are you ready to take advantage of this amazing information?\n",
            "webmaster,  take this first step to improving your life in the next 2 minutes!\n",
            "For\n",
            "FREE\n",
            "Information\n",
            "HYPERLINK\n",
            "http://www.foreclosureworld.net/cgi-bin/click.cgi?c=12\n",
            "HYPERLINK\n",
            "To unsubscribe or change subscriber options click:\n",
            "HYPERLINK\n",
            "--DeathToSpamDeathToSpamDeathToSpam--\n",
            "-------------------------------------------------------\n",
            "This sf.net email is sponsored by:ThinkGeek\n",
            "Welcome to geek heaven.\n",
            "http://thinkgeek.com/sf\n",
            "_____________ ...\n"
          ]
        }
      ]
    },
    {
      "cell_type": "code",
      "source": [
        "result = email_to_text(sample_html_spam)\n",
        "print(result[:100], '...')"
      ],
      "metadata": {
        "colab": {
          "base_uri": "https://localhost:8080/"
        },
        "id": "wMZJo34jgbpU",
        "outputId": "934ec436-fcff-4ae2-ed65-0e3644fa06de"
      },
      "execution_count": 77,
      "outputs": [
        {
          "output_type": "stream",
          "name": "stdout",
          "text": [
            "Great News webmaster,\n",
            "FINALLY  -  A Foreclosure Tycoon Reveals His Most Closely Guarded Secrets!\n",
            "For ...\n"
          ]
        }
      ]
    },
    {
      "cell_type": "markdown",
      "source": [
        "#### **Testing Previous Preprocessing Transformers on New Data**"
      ],
      "metadata": {
        "id": "0OjzfQo4ijPu"
      }
    },
    {
      "cell_type": "markdown",
      "source": [
        "##### 🔤 **Email to Word-Counter Transformer**\n",
        "\n",
        "📦 **Class Purpose:**\n",
        "\n",
        "A transformer that takes in raw email objects (likely from the Python email library), converts them to plain text, and outputs a Counter-style word frequency dictionary for each email."
      ],
      "metadata": {
        "id": "yPvzhxkmiuHg"
      }
    },
    {
      "cell_type": "code",
      "source": [
        "# testing transformer on 3 emails from the new data\n",
        "X_few = X_train[:3]\n",
        "X_few_wordcounts = EmailToWordCounterTransformer().fit_transform(X_few)\n",
        "X_few_wordcounts"
      ],
      "metadata": {
        "colab": {
          "base_uri": "https://localhost:8080/"
        },
        "collapsed": true,
        "id": "CxZDtnujgndv",
        "outputId": "9fc96eb6-efb4-4c13-e009-0231865822aa"
      },
      "execution_count": 81,
      "outputs": [
        {
          "output_type": "execute_result",
          "data": {
            "text/plain": [
              "array([Counter({'the': 11, 'number': 11, 'you': 8, 'to': 7, 'of': 5, 'have': 4, 'new': 4, 'are': 3, 'them': 3, 'or': 3, 'for': 3, 'in': 3, 'life': 3, 'and': 3, 'thi': 3, 'there': 2, 'more': 2, 'opportun': 2, 'that': 2, 'don': 2, 't': 2, 'go': 2, 'is': 2, 'a': 2, 'year': 2, 'your': 2, 'home': 2, 'our': 2, 'busi': 2, 'incom': 2, 'from': 2, 'inform': 2, 'pleas': 2, 'no': 2, 'north': 2, 'carolina': 2, 'dakota': 2, 'south': 2, 'virginia': 2, 'e': 2, 'mail': 2, 'subject': 2, 'financi': 1, 'out': 1, 'than': 1, 'ever': 1, 'befor': 1, 'major': 1, 'those': 1, 'succeed': 1, 'follow': 1, 'rule': 1, 'they': 1, 'bend': 1, 'avoid': 1, 'around': 1, 'freedom': 1, 'sucker': 1, 'work': 1, 'hour': 1, 'week': 1, 'all': 1, 'make': 1, 'someon': 1, 'els': 1, 'wealthi': 1, 'we': 1, 'better': 1, 'way': 1, 'interest': 1, 'creat': 1, 'immedi': 1, 'wealth': 1, 'consid': 1, 'improv': 1, 'qualiti': 1, 'do': 1, 'current': 1, 'car': 1, 'style': 1, 'dream': 1, 'develop': 1, 'figur': 1, 'earner': 1, 'quickli': 1, 'easili': 1, 'let': 1, 'us': 1, 'show': 1, 'how': 1, 'can': 1, 'just': 1, 'get': 1, 'by': 1, 'earn': 1, 'over': 1, 'first': 1, 'about': 1, 'incred': 1, 'chang': 1, 'complet': 1, 'form': 1, 'below': 1, 'free': 1, 'confidenti': 1, 'under': 1, 'risk': 1, 'oblig': 1, 'name': 1, 'address': 1, 'citi': 1, 'state': 1, 'alabama': 1, 'alaska': 1, 'arizona': 1, 'arkansa': 1, 'california': 1, 'colorado': 1, 'connecticut': 1, 'delawar': 1, 'dist': 1, 'columbia': 1, 'florida': 1, 'georgia': 1, 'hawaii': 1, 'idaho': 1, 'illinoi': 1, 'indiana': 1, 'iowa': 1, 'kansa': 1, 'kentucki': 1, 'louisiana': 1, 'main': 1, 'maryland': 1, 'massachusett': 1, 'michigan': 1, 'minnesota': 1, 'mississippi': 1, 'missouri': 1, 'montana': 1, 'nebraska': 1, 'nevada': 1, 'hampshir': 1, 'jersey': 1, 'mexico': 1, 'york': 1, 'ohio': 1, 'oklahoma': 1, 'oregon': 1, 'pennsylvania': 1, 'rhode': 1, 'island': 1, 'tennesse': 1, 'texa': 1, 'utah': 1, 'vermont': 1, 'washington': 1, 'west': 1, 'wisconsin': 1, 'wyom': 1, 'zip': 1, 'code': 1, 'phone': 1, 'time': 1, 'contact': 1, 'desir': 1, 'monthli': 1, 'receiv': 1, 'further': 1, 'offer': 1, 'compani': 1, 'regard': 1, 'ani': 1, 'other': 1, 'repli': 1, 'with': 1, 'word': 1, 'remov': 1, 'line': 1, 'vagnumberpu': 1}),\n",
              "       Counter({'hyperlink': 2, 'congratul': 1, 'your': 1, 'mortgag': 1, 'ha': 1, 'been': 1, 'approv': 1, 'to': 1, 'be': 1, 'remov': 1}),\n",
              "       Counter({'a': 12, 'you': 9, 'the': 7, 'or': 6, 'of': 5, 'to': 5, 'in': 4, 'receiv': 3, 'servic': 3, 'onli': 3, 'sign': 3, 'had': 3, 'with': 3, 'up': 3, 'can': 2, 'for': 2, 'penni': 2, 'day': 2, 'one': 2, 'wa': 2, 'an': 2, 'contract': 2, 'collect': 2, 'been': 2, 'involv': 2, 'get': 2, 'attorney': 2, 'have': 2, 'at': 2, 'rate': 2, 'same': 2, 'from': 2, 'hyperlink': 2, 'email': 2, 'consum': 2, 'media': 2, 'thousand': 1, 'dollar': 1, 'legal': 1, 'us': 1, 'canada': 1, 'if': 1, 'answer': 1, 'ye': 1, 'more': 1, 'follow': 1, 'question': 1, 'traffic': 1, 'ticket': 1, 'thought': 1, 'unjustifi': 1, 'paid': 1, 'bill': 1, 'knew': 1, 'unfair': 1, 'lost': 1, 'secur': 1, 'deposit': 1, 'bought': 1, 'home': 1, 'purchas': 1, 'car': 1, 'employ': 1, 'difficulti': 1, 'insur': 1, 'claim': 1, 'troubl': 1, 'your': 1, 'credit': 1, 'report': 1, 'landlord': 1, 'properti': 1, 'disput': 1, 'separ': 1, 'divorc': 1, 'child': 1, 'support': 1, 'prepar': 1, 'will': 1, 'want': 1, 'all': 1, 'these': 1, 'handl': 1, 'by': 1, 'some': 1, 'best': 1, 'countri': 1, 'whi': 1, 'wait': 1, 'until': 1, 'catastroph': 1, 'and': 1, 'pay': 1, 'nose': 1, 'per': 1, 'hour': 1, 'first': 1, 'top': 1, 'notch': 1, 'thi': 1, 'becaus': 1, 's': 1, 'websit': 1, 'parti': 1, 'that': 1, 'ha': 1, 'unsubscrib': 1, 'our': 1, 'newslett': 1, 'pleas': 1, 'visit': 1})],\n",
              "      dtype=object)"
            ]
          },
          "metadata": {},
          "execution_count": 81
        }
      ]
    },
    {
      "cell_type": "markdown",
      "source": [
        "##### 🔢 **Word-Counter to Vector Transformer**\n",
        "\n",
        "📦 **Class Purpose:**\n",
        "\n",
        "A transformer that converts word counts to vectors whose `fit()` method builds the vocabulary (an ordered list of the common words) and whose `transform()` method will use the vocabulary to convert word counts to vectors. The output is a sparse matrix."
      ],
      "metadata": {
        "id": "epmL1eGfjUgJ"
      }
    },
    {
      "cell_type": "code",
      "source": [
        "# testing Word-Counter to Vector Transformer on the new data\n",
        "vocab_transformer = WordCounterToVectorTransformer(vocabulary_size=10)\n",
        "X_few_vectors = vocab_transformer.fit_transform(X_few_wordcounts)\n",
        "X_few_vectors"
      ],
      "metadata": {
        "colab": {
          "base_uri": "https://localhost:8080/"
        },
        "id": "av_ykkoBjA-N",
        "outputId": "fc4e36b7-ebd1-4819-b3f5-babb7df5f9fa"
      },
      "execution_count": 82,
      "outputs": [
        {
          "output_type": "execute_result",
          "data": {
            "text/plain": [
              "<Compressed Sparse Row sparse matrix of dtype 'int64'\n",
              "\twith 23 stored elements and shape (3, 11)>"
            ]
          },
          "metadata": {},
          "execution_count": 82
        }
      ]
    },
    {
      "cell_type": "code",
      "source": [
        "X_few_vectors.toarray()"
      ],
      "metadata": {
        "colab": {
          "base_uri": "https://localhost:8080/"
        },
        "id": "Hd_kpkmZjfst",
        "outputId": "13cc114e-72cf-4864-f1b9-278fa8598887"
      },
      "execution_count": 83,
      "outputs": [
        {
          "output_type": "execute_result",
          "data": {
            "text/plain": [
              "array([[209,  11,   8,   7,   2,   5,  11,   3,   3,   4,   3],\n",
              "       [ 10,   0,   0,   1,   0,   0,   0,   0,   0,   0,   0],\n",
              "       [136,   7,   9,   5,  12,   5,   0,   6,   4,   2,   2]])"
            ]
          },
          "metadata": {},
          "execution_count": 83
        }
      ]
    },
    {
      "cell_type": "code",
      "source": [
        "vocab_transformer.vocabulary_"
      ],
      "metadata": {
        "colab": {
          "base_uri": "https://localhost:8080/"
        },
        "id": "DHE5w72TjiFS",
        "outputId": "678e0c2c-48cd-4801-c2b0-348911dd813e"
      },
      "execution_count": 84,
      "outputs": [
        {
          "output_type": "execute_result",
          "data": {
            "text/plain": [
              "{'the': 1,\n",
              " 'you': 2,\n",
              " 'to': 3,\n",
              " 'a': 4,\n",
              " 'of': 5,\n",
              " 'number': 6,\n",
              " 'or': 7,\n",
              " 'in': 8,\n",
              " 'have': 9,\n",
              " 'for': 10}"
            ]
          },
          "metadata": {},
          "execution_count": 84
        }
      ]
    },
    {
      "cell_type": "markdown",
      "source": [
        "##### 🧮 **Top 20 Most Common Words in Training Data**"
      ],
      "metadata": {
        "id": "WV0NHo9Mvduu"
      }
    },
    {
      "cell_type": "code",
      "source": [
        "# see the most common words in all emails\n",
        "counters = EmailToWordCounterTransformer(\n",
        "    lower_case=True,\n",
        "    replace_urls=True,\n",
        "    replace_numbers=True,\n",
        "    remove_punctuation=True,\n",
        "    stemming=False\n",
        ").fit_transform(X_train)\n",
        "\n",
        "# sum them all into one big Counter\n",
        "total_counts = Counter()\n",
        "for ct in counters:\n",
        "    total_counts.update(ct)\n",
        "\n",
        "# top 20 most common\n",
        "most_common = total_counts.most_common(20)\n",
        "\n",
        "print(\"Top 20 tokens across dataset:\")\n",
        "for token, freq in most_common:\n",
        "    print(f\"{token:>12s}  —  {freq}\")"
      ],
      "metadata": {
        "colab": {
          "base_uri": "https://localhost:8080/"
        },
        "id": "PY2e-o2WuhtB",
        "outputId": "95525ae0-0766-4758-cae0-516e28d068ea"
      },
      "execution_count": 90,
      "outputs": [
        {
          "output_type": "stream",
          "name": "stdout",
          "text": [
            "Top 20 tokens across dataset:\n",
            "      NUMBER  —  25100\n",
            "         the  —  17603\n",
            "          to  —  14330\n",
            "         and  —  10617\n",
            "           a  —  9485\n",
            "          of  —  9383\n",
            "         you  —  8990\n",
            "   hyperlink  —  7317\n",
            "          in  —  6249\n",
            "         for  —  6068\n",
            "        your  —  5645\n",
            "          is  —  5151\n",
            "         URL  —  4931\n",
            "        this  —  4527\n",
            "           i  —  3784\n",
            "        font  —  3772\n",
            "           s  —  3574\n",
            "          on  —  3496\n",
            "          it  —  3420\n",
            "        that  —  3353\n"
          ]
        }
      ]
    },
    {
      "cell_type": "markdown",
      "source": [
        "## 🏋️ **Model Training** (Round 2)"
      ],
      "metadata": {
        "id": "5ZE9AcugkNpw"
      }
    },
    {
      "cell_type": "code",
      "source": [
        "# use previously created pipeline to transform the new training set\n",
        "X_train_transformed = preprocess_pipeline.fit_transform(X_train)"
      ],
      "metadata": {
        "id": "-Vd2s-P8jojk"
      },
      "execution_count": 85,
      "outputs": []
    },
    {
      "cell_type": "markdown",
      "source": [
        "### ⚖️ **Logistic Regression**\n",
        "Benchmark model"
      ],
      "metadata": {
        "id": "MEMBT8ufkkpF"
      }
    },
    {
      "cell_type": "markdown",
      "source": [
        "#### 🧪 **96.1% Mean Score on Training Set** (Logistic Regression)"
      ],
      "metadata": {
        "id": "KnBe3mHQlNwF"
      }
    },
    {
      "cell_type": "code",
      "source": [
        "# model instantiation\n",
        "log_clf = LogisticRegression(max_iter=1000, random_state=random_state)\n",
        "score = cross_val_score(\n",
        "    log_clf, X_train_transformed,\n",
        "    y_train, cv=3\n",
        "    )\n",
        "print(f'Cross Validation Score (Accuracy) of Logistic Regression Classifier: {score.mean():.1%}')"
      ],
      "metadata": {
        "colab": {
          "base_uri": "https://localhost:8080/"
        },
        "id": "xjhBhNLCkgfZ",
        "outputId": "c115e002-cdde-4ffa-f0e4-5103ad0f9d27"
      },
      "execution_count": 86,
      "outputs": [
        {
          "output_type": "stream",
          "name": "stdout",
          "text": [
            "Cross Validation Score (Accuracy) of Logistic Regression Classifier: 96.1%\n"
          ]
        }
      ]
    },
    {
      "cell_type": "markdown",
      "source": [
        "#### 🧪 **93.9% Mean Score on Test Set** (Logistic Regression)"
      ],
      "metadata": {
        "id": "J3lhzLD1l09Q"
      }
    },
    {
      "cell_type": "code",
      "source": [
        "# model instantiation\n",
        "log_clf = LogisticRegression(max_iter=1000, random_state=random_state)\n",
        "score = cross_val_score(\n",
        "    log_clf, X_test_transformed,\n",
        "    y_test, cv=3\n",
        "    )\n",
        "print(f'Cross Validation Score (Accuracy) of Logistic Regression Classifier (Test Set): {score.mean():.1%}')"
      ],
      "metadata": {
        "colab": {
          "base_uri": "https://localhost:8080/"
        },
        "id": "OxfoJ-fal3Au",
        "outputId": "49cf6e86-c793-4b3d-fef3-81dbb5b8aceb"
      },
      "execution_count": 88,
      "outputs": [
        {
          "output_type": "stream",
          "name": "stdout",
          "text": [
            "Cross Validation Score (Accuracy) of Logistic Regression Classifier (Test Set): 93.9%\n"
          ]
        }
      ]
    },
    {
      "cell_type": "markdown",
      "source": [
        "#### 🧪 **96.8% Precision / 98.2% Recall Score on Test Set** (Logistic Regression)"
      ],
      "metadata": {
        "id": "Lpr9E5hFloVQ"
      }
    },
    {
      "cell_type": "code",
      "source": [
        "X_test_transformed = preprocess_pipeline.transform(X_test)\n",
        "\n",
        "log_clf = LogisticRegression(max_iter=1000, random_state=random_state)\n",
        "log_clf.fit(X_train_transformed, y_train)\n",
        "\n",
        "y_pred = log_clf.predict(X_test_transformed)\n",
        "\n",
        "print(f'Precision: {precision_score(y_test, y_pred):.1%}')\n",
        "print(f'Recall: {recall_score(y_test, y_pred):.1%}')"
      ],
      "metadata": {
        "colab": {
          "base_uri": "https://localhost:8080/"
        },
        "id": "G1C6-UZUlugq",
        "outputId": "00fbc103-c5e4-4b95-e0fe-9a70a76aa999"
      },
      "execution_count": 87,
      "outputs": [
        {
          "output_type": "stream",
          "name": "stdout",
          "text": [
            "Precision: 96.8%\n",
            "Recall: 98.2%\n"
          ]
        }
      ]
    },
    {
      "cell_type": "markdown",
      "source": [
        "### 🎲 **Multinomial Naive Bayes**\n",
        "   * **Why use this model?**\n",
        "   \n",
        "   A classic for text—very fast, often a strong baseline on bag-of-words or TF–IDF features.\n",
        "   * **Technique:**\n",
        "\n",
        "     * Vectorize with `TfidfVectorizer(ngram_range=(1,2))`\n",
        "     * Fit `MultinomialNB(alpha=1.0)`\n",
        "     * Tune `alpha` via CV to control smoothing"
      ],
      "metadata": {
        "id": "WJnds33wn3GA"
      }
    },
    {
      "cell_type": "markdown",
      "source": [
        "#### **🧪 88.2% Acc Train, 89.7% Acc Test (Multinomial Naive Bayes)**"
      ],
      "metadata": {
        "id": "F8u-AJEv0jRg"
      }
    },
    {
      "cell_type": "code",
      "source": [
        "# alpha hyperparameter tuning\n",
        "param_grid = {\n",
        "    \"alpha\":[\n",
        "        0.01, 0.1, 0.5, 1.0, 1.5, 2, 2.5, 3.5, 4.5, 5\n",
        "    ]\n",
        "}\n",
        "\n",
        "# GridSearchCV\n",
        "grid = GridSearchCV(\n",
        "    MultinomialNB(),\n",
        "    param_grid=param_grid,\n",
        "    cv=3,\n",
        "    scoring='accuracy',\n",
        "    n_jobs=-1\n",
        ")\n",
        "\n",
        "# fit on training set\n",
        "grid.fit(X_train_transformed, y_train)\n",
        "\n",
        "# best cross validation score\n",
        "print(f'Best Cross Validation Score Accuracy: {grid.best_score_:.1%}')\n",
        "\n",
        "# retrieve best estimator\n",
        "best_mnb = grid.best_estimator_\n",
        "\n",
        "# evaluate on test set\n",
        "test_acc = best_mnb.score(X_test_transformed, y_test)\n",
        "print(f'Test Set Accuracy of MNB: {test_acc:.1%}')"
      ],
      "metadata": {
        "colab": {
          "base_uri": "https://localhost:8080/"
        },
        "id": "277sVa28muHt",
        "outputId": "64f1c362-02d7-4c72-8a97-c329c411914f"
      },
      "execution_count": 96,
      "outputs": [
        {
          "output_type": "stream",
          "name": "stdout",
          "text": [
            "Best Cross Validation Score Accuracy: 88.2%\n",
            "Test Set Accuracy of MNB: 89.7%\n"
          ]
        }
      ]
    },
    {
      "cell_type": "markdown",
      "source": [
        "#### 🧪 **97.7% Precision / 89.9% Recall Score on Test Set** (Multinomial NB)"
      ],
      "metadata": {
        "id": "fkrY1D929SfS"
      }
    },
    {
      "cell_type": "code",
      "source": [
        "# predict on the test set\n",
        "y_pred = best_mnb.predict(X_test_transformed)\n",
        "\n",
        "# precision and recall\n",
        "precision = precision_score(y_test, y_pred)\n",
        "recall = recall_score(y_test, y_pred)\n",
        "\n",
        "print(f'Precision of MNB on Test Set: {precision:.1%}')\n",
        "print(f'Recall of MNB on Test Set:    {recall:.1%}')"
      ],
      "metadata": {
        "colab": {
          "base_uri": "https://localhost:8080/"
        },
        "id": "zgnh00Rd9hyX",
        "outputId": "a6894d0d-93cb-4084-9ba2-ce385e10136a"
      },
      "execution_count": 97,
      "outputs": [
        {
          "output_type": "stream",
          "name": "stdout",
          "text": [
            "Precision of MNB on Test Set: 97.7%\n",
            "Recall of MNB on Test Set:    89.9%\n"
          ]
        }
      ]
    },
    {
      "cell_type": "markdown",
      "source": [
        "### 🌲**Tree-Based Ensemble (Random Forest Classifier)**"
      ],
      "metadata": {
        "id": "71R3BogzofJj"
      }
    },
    {
      "cell_type": "markdown",
      "source": [
        "#### **🧪 95.5% Acc Train, 94.5% Acc Test (Random Forest Classifier)**"
      ],
      "metadata": {
        "id": "RFG_LCjNbPSy"
      }
    },
    {
      "cell_type": "code",
      "source": [
        "# instantiate\n",
        "rf_clf = RandomForestClassifier(\n",
        "    n_estimators=100,\n",
        "    max_depth=None,\n",
        "    random_state=random_state\n",
        ")\n",
        "\n",
        "# cross-validate on the training set\n",
        "cv_scores = cross_val_score(\n",
        "    rf_clf,\n",
        "    X_train_transformed,\n",
        "    y_train,\n",
        "    cv=3,\n",
        "    scoring='accuracy',\n",
        "    n_jobs=-1\n",
        ")\n",
        "\n",
        "print(f'Random Forest CV Accuracy: {cv_scores.mean():.1%}')"
      ],
      "metadata": {
        "colab": {
          "base_uri": "https://localhost:8080/"
        },
        "id": "r76gGGbHmuCC",
        "outputId": "b9ab7e9f-4812-435f-afd2-3d0f59cf91f0"
      },
      "execution_count": 102,
      "outputs": [
        {
          "output_type": "stream",
          "name": "stdout",
          "text": [
            "Random Forest CV Accuracy: 95.5%\n"
          ]
        }
      ]
    },
    {
      "cell_type": "code",
      "source": [
        "cv_scores_test = cross_val_score(\n",
        "    rf_clf,\n",
        "    X_test_transformed,\n",
        "    y_test,\n",
        "    cv=3,\n",
        "    scoring='accuracy',\n",
        "    n_jobs=-1\n",
        ")\n",
        "\n",
        "print(f'Random Forest CV Test Accuracy: {cv_scores_test.mean():.1%}')"
      ],
      "metadata": {
        "colab": {
          "base_uri": "https://localhost:8080/"
        },
        "id": "4VkFnXytZ8wN",
        "outputId": "fa095228-1786-4ef3-f12c-6939b38c7cc9"
      },
      "execution_count": 105,
      "outputs": [
        {
          "output_type": "stream",
          "name": "stdout",
          "text": [
            "Random Forest CV Test Accuracy: 94.5%\n"
          ]
        }
      ]
    },
    {
      "cell_type": "markdown",
      "source": [
        "#### 🧪 **96.2% Precision / 98.9% Recall Score on Test Set** (Random Forest Classifier)"
      ],
      "metadata": {
        "id": "7BS58bQ4clCP"
      }
    },
    {
      "cell_type": "code",
      "source": [
        "# fit on train, predict on test\n",
        "rf_clf.fit(X_train_transformed, y_train)\n",
        "y_pred = rf_clf.predict(X_test_transformed)\n",
        "\n",
        "# precision and recall on test set\n",
        "precision = precision_score(y_test, y_pred)\n",
        "recall    = recall_score(y_test, y_pred)\n",
        "\n",
        "print(f'Precision of RFC on Test Set: {precision:.1%}')\n",
        "print(f'Recall of RFC on Test Set:    {recall:.1%}')"
      ],
      "metadata": {
        "colab": {
          "base_uri": "https://localhost:8080/"
        },
        "id": "wANk-B9pZ8p5",
        "outputId": "df550fd1-a69e-4a7a-aa80-21d59c4c0235"
      },
      "execution_count": 106,
      "outputs": [
        {
          "output_type": "stream",
          "name": "stdout",
          "text": [
            "Precision of RFC on Test Set: 96.2%\n",
            "Recall of RFC on Test Set:    98.9%\n"
          ]
        }
      ]
    },
    {
      "cell_type": "markdown",
      "source": [
        "## 📈 **Results**"
      ],
      "metadata": {
        "id": "BqCv5N6SeokK"
      }
    },
    {
      "cell_type": "markdown",
      "source": [
        "### 🟢 **Easy Dataset Results**"
      ],
      "metadata": {
        "id": "kmuJIQqsm_IT"
      }
    },
    {
      "cell_type": "code",
      "source": [
        "# easy dataset results using Logistic Regression\n",
        "data_easy = {\n",
        "    'Model': ['Logistic Regression'],\n",
        "    'Train Accuracy (%)': [98.6],    # 98.6% mean score on training set\n",
        "    'Test Accuracy (%)':  [96.3],    # 96.3% mean score on test set\n",
        "    'Precision (%)':      [96.9],    # 96.9% precision on test set\n",
        "    'Recall (%)':         [97.9]     # 97.9% recall on test set\n",
        "}\n",
        "\n",
        "df_easy = pd.DataFrame(data_easy)\n",
        "df_easy"
      ],
      "metadata": {
        "colab": {
          "base_uri": "https://localhost:8080/",
          "height": 89
        },
        "id": "eiocJPT8nJlb",
        "outputId": "4710de7c-5faf-4958-ae61-be41ecc2c565"
      },
      "execution_count": 141,
      "outputs": [
        {
          "output_type": "execute_result",
          "data": {
            "text/plain": [
              "                 Model  Train Accuracy (%)  Test Accuracy (%)  Precision (%)  \\\n",
              "0  Logistic Regression                98.6               96.3           96.9   \n",
              "\n",
              "   Recall (%)  \n",
              "0        97.9  "
            ],
            "text/html": [
              "\n",
              "  <div id=\"df-44fc3232-8c5b-4704-b8da-fa2c2d211c91\" class=\"colab-df-container\">\n",
              "    <div>\n",
              "<style scoped>\n",
              "    .dataframe tbody tr th:only-of-type {\n",
              "        vertical-align: middle;\n",
              "    }\n",
              "\n",
              "    .dataframe tbody tr th {\n",
              "        vertical-align: top;\n",
              "    }\n",
              "\n",
              "    .dataframe thead th {\n",
              "        text-align: right;\n",
              "    }\n",
              "</style>\n",
              "<table border=\"1\" class=\"dataframe\">\n",
              "  <thead>\n",
              "    <tr style=\"text-align: right;\">\n",
              "      <th></th>\n",
              "      <th>Model</th>\n",
              "      <th>Train Accuracy (%)</th>\n",
              "      <th>Test Accuracy (%)</th>\n",
              "      <th>Precision (%)</th>\n",
              "      <th>Recall (%)</th>\n",
              "    </tr>\n",
              "  </thead>\n",
              "  <tbody>\n",
              "    <tr>\n",
              "      <th>0</th>\n",
              "      <td>Logistic Regression</td>\n",
              "      <td>98.6</td>\n",
              "      <td>96.3</td>\n",
              "      <td>96.9</td>\n",
              "      <td>97.9</td>\n",
              "    </tr>\n",
              "  </tbody>\n",
              "</table>\n",
              "</div>\n",
              "    <div class=\"colab-df-buttons\">\n",
              "\n",
              "  <div class=\"colab-df-container\">\n",
              "    <button class=\"colab-df-convert\" onclick=\"convertToInteractive('df-44fc3232-8c5b-4704-b8da-fa2c2d211c91')\"\n",
              "            title=\"Convert this dataframe to an interactive table.\"\n",
              "            style=\"display:none;\">\n",
              "\n",
              "  <svg xmlns=\"http://www.w3.org/2000/svg\" height=\"24px\" viewBox=\"0 -960 960 960\">\n",
              "    <path d=\"M120-120v-720h720v720H120Zm60-500h600v-160H180v160Zm220 220h160v-160H400v160Zm0 220h160v-160H400v160ZM180-400h160v-160H180v160Zm440 0h160v-160H620v160ZM180-180h160v-160H180v160Zm440 0h160v-160H620v160Z\"/>\n",
              "  </svg>\n",
              "    </button>\n",
              "\n",
              "  <style>\n",
              "    .colab-df-container {\n",
              "      display:flex;\n",
              "      gap: 12px;\n",
              "    }\n",
              "\n",
              "    .colab-df-convert {\n",
              "      background-color: #E8F0FE;\n",
              "      border: none;\n",
              "      border-radius: 50%;\n",
              "      cursor: pointer;\n",
              "      display: none;\n",
              "      fill: #1967D2;\n",
              "      height: 32px;\n",
              "      padding: 0 0 0 0;\n",
              "      width: 32px;\n",
              "    }\n",
              "\n",
              "    .colab-df-convert:hover {\n",
              "      background-color: #E2EBFA;\n",
              "      box-shadow: 0px 1px 2px rgba(60, 64, 67, 0.3), 0px 1px 3px 1px rgba(60, 64, 67, 0.15);\n",
              "      fill: #174EA6;\n",
              "    }\n",
              "\n",
              "    .colab-df-buttons div {\n",
              "      margin-bottom: 4px;\n",
              "    }\n",
              "\n",
              "    [theme=dark] .colab-df-convert {\n",
              "      background-color: #3B4455;\n",
              "      fill: #D2E3FC;\n",
              "    }\n",
              "\n",
              "    [theme=dark] .colab-df-convert:hover {\n",
              "      background-color: #434B5C;\n",
              "      box-shadow: 0px 1px 3px 1px rgba(0, 0, 0, 0.15);\n",
              "      filter: drop-shadow(0px 1px 2px rgba(0, 0, 0, 0.3));\n",
              "      fill: #FFFFFF;\n",
              "    }\n",
              "  </style>\n",
              "\n",
              "    <script>\n",
              "      const buttonEl =\n",
              "        document.querySelector('#df-44fc3232-8c5b-4704-b8da-fa2c2d211c91 button.colab-df-convert');\n",
              "      buttonEl.style.display =\n",
              "        google.colab.kernel.accessAllowed ? 'block' : 'none';\n",
              "\n",
              "      async function convertToInteractive(key) {\n",
              "        const element = document.querySelector('#df-44fc3232-8c5b-4704-b8da-fa2c2d211c91');\n",
              "        const dataTable =\n",
              "          await google.colab.kernel.invokeFunction('convertToInteractive',\n",
              "                                                    [key], {});\n",
              "        if (!dataTable) return;\n",
              "\n",
              "        const docLinkHtml = 'Like what you see? Visit the ' +\n",
              "          '<a target=\"_blank\" href=https://colab.research.google.com/notebooks/data_table.ipynb>data table notebook</a>'\n",
              "          + ' to learn more about interactive tables.';\n",
              "        element.innerHTML = '';\n",
              "        dataTable['output_type'] = 'display_data';\n",
              "        await google.colab.output.renderOutput(dataTable, element);\n",
              "        const docLink = document.createElement('div');\n",
              "        docLink.innerHTML = docLinkHtml;\n",
              "        element.appendChild(docLink);\n",
              "      }\n",
              "    </script>\n",
              "  </div>\n",
              "\n",
              "\n",
              "  <div id=\"id_2da7348e-6ec7-4af6-a2b0-ca389f6c201f\">\n",
              "    <style>\n",
              "      .colab-df-generate {\n",
              "        background-color: #E8F0FE;\n",
              "        border: none;\n",
              "        border-radius: 50%;\n",
              "        cursor: pointer;\n",
              "        display: none;\n",
              "        fill: #1967D2;\n",
              "        height: 32px;\n",
              "        padding: 0 0 0 0;\n",
              "        width: 32px;\n",
              "      }\n",
              "\n",
              "      .colab-df-generate:hover {\n",
              "        background-color: #E2EBFA;\n",
              "        box-shadow: 0px 1px 2px rgba(60, 64, 67, 0.3), 0px 1px 3px 1px rgba(60, 64, 67, 0.15);\n",
              "        fill: #174EA6;\n",
              "      }\n",
              "\n",
              "      [theme=dark] .colab-df-generate {\n",
              "        background-color: #3B4455;\n",
              "        fill: #D2E3FC;\n",
              "      }\n",
              "\n",
              "      [theme=dark] .colab-df-generate:hover {\n",
              "        background-color: #434B5C;\n",
              "        box-shadow: 0px 1px 3px 1px rgba(0, 0, 0, 0.15);\n",
              "        filter: drop-shadow(0px 1px 2px rgba(0, 0, 0, 0.3));\n",
              "        fill: #FFFFFF;\n",
              "      }\n",
              "    </style>\n",
              "    <button class=\"colab-df-generate\" onclick=\"generateWithVariable('df_easy')\"\n",
              "            title=\"Generate code using this dataframe.\"\n",
              "            style=\"display:none;\">\n",
              "\n",
              "  <svg xmlns=\"http://www.w3.org/2000/svg\" height=\"24px\"viewBox=\"0 0 24 24\"\n",
              "       width=\"24px\">\n",
              "    <path d=\"M7,19H8.4L18.45,9,17,7.55,7,17.6ZM5,21V16.75L18.45,3.32a2,2,0,0,1,2.83,0l1.4,1.43a1.91,1.91,0,0,1,.58,1.4,1.91,1.91,0,0,1-.58,1.4L9.25,21ZM18.45,9,17,7.55Zm-12,3A5.31,5.31,0,0,0,4.9,8.1,5.31,5.31,0,0,0,1,6.5,5.31,5.31,0,0,0,4.9,4.9,5.31,5.31,0,0,0,6.5,1,5.31,5.31,0,0,0,8.1,4.9,5.31,5.31,0,0,0,12,6.5,5.46,5.46,0,0,0,6.5,12Z\"/>\n",
              "  </svg>\n",
              "    </button>\n",
              "    <script>\n",
              "      (() => {\n",
              "      const buttonEl =\n",
              "        document.querySelector('#id_2da7348e-6ec7-4af6-a2b0-ca389f6c201f button.colab-df-generate');\n",
              "      buttonEl.style.display =\n",
              "        google.colab.kernel.accessAllowed ? 'block' : 'none';\n",
              "\n",
              "      buttonEl.onclick = () => {\n",
              "        google.colab.notebook.generateWithVariable('df_easy');\n",
              "      }\n",
              "      })();\n",
              "    </script>\n",
              "  </div>\n",
              "\n",
              "    </div>\n",
              "  </div>\n"
            ],
            "application/vnd.google.colaboratory.intrinsic+json": {
              "type": "dataframe",
              "variable_name": "df_easy",
              "summary": "{\n  \"name\": \"df_easy\",\n  \"rows\": 1,\n  \"fields\": [\n    {\n      \"column\": \"Model\",\n      \"properties\": {\n        \"dtype\": \"string\",\n        \"num_unique_values\": 1,\n        \"samples\": [\n          \"Logistic Regression\"\n        ],\n        \"semantic_type\": \"\",\n        \"description\": \"\"\n      }\n    },\n    {\n      \"column\": \"Train Accuracy (%)\",\n      \"properties\": {\n        \"dtype\": \"number\",\n        \"std\": null,\n        \"min\": 98.6,\n        \"max\": 98.6,\n        \"num_unique_values\": 1,\n        \"samples\": [\n          98.6\n        ],\n        \"semantic_type\": \"\",\n        \"description\": \"\"\n      }\n    },\n    {\n      \"column\": \"Test Accuracy (%)\",\n      \"properties\": {\n        \"dtype\": \"number\",\n        \"std\": null,\n        \"min\": 96.3,\n        \"max\": 96.3,\n        \"num_unique_values\": 1,\n        \"samples\": [\n          96.3\n        ],\n        \"semantic_type\": \"\",\n        \"description\": \"\"\n      }\n    },\n    {\n      \"column\": \"Precision (%)\",\n      \"properties\": {\n        \"dtype\": \"number\",\n        \"std\": null,\n        \"min\": 96.9,\n        \"max\": 96.9,\n        \"num_unique_values\": 1,\n        \"samples\": [\n          96.9\n        ],\n        \"semantic_type\": \"\",\n        \"description\": \"\"\n      }\n    },\n    {\n      \"column\": \"Recall (%)\",\n      \"properties\": {\n        \"dtype\": \"number\",\n        \"std\": null,\n        \"min\": 97.9,\n        \"max\": 97.9,\n        \"num_unique_values\": 1,\n        \"samples\": [\n          97.9\n        ],\n        \"semantic_type\": \"\",\n        \"description\": \"\"\n      }\n    }\n  ]\n}"
            }
          },
          "metadata": {},
          "execution_count": 141
        }
      ]
    },
    {
      "cell_type": "markdown",
      "source": [
        "### 🔴 **Hard Dataset Results**"
      ],
      "metadata": {
        "id": "pPJiBYIymnGf"
      }
    },
    {
      "cell_type": "code",
      "source": [
        "# prepare the results data of model training (round 2)\n",
        "data = {\n",
        "    'Model': [\n",
        "        'Logistic Regression',\n",
        "        'Multinomial Naive Bayes',\n",
        "        'Random Forest Classifier'\n",
        "    ],\n",
        "    'Train Accuracy (%)': [96.1, 88.2, 95.5],\n",
        "    'Test Accuracy (%)': [93.9, 89.7, 94.5],\n",
        "    'Precision (%)': [96.8, 97.7, 96.2],\n",
        "    'Recall (%)': [98.2, 89.9, 98.9]\n",
        "}\n",
        "\n",
        "# create DataFrame\n",
        "df_results_2 = pd.DataFrame(data)\n",
        "\n",
        "# display it\n",
        "df_results_2"
      ],
      "metadata": {
        "colab": {
          "base_uri": "https://localhost:8080/",
          "height": 144
        },
        "id": "fyVV-09rgdXa",
        "outputId": "10070c5a-d205-49d9-ff5f-dbc01be2497c"
      },
      "execution_count": 107,
      "outputs": [
        {
          "output_type": "execute_result",
          "data": {
            "text/plain": [
              "                      Model  Train Accuracy (%)  Test Accuracy (%)  \\\n",
              "0       Logistic Regression                96.1               93.9   \n",
              "1   Multinomial Naive Bayes                88.2               89.7   \n",
              "2  Random Forest Classifier                95.5               94.5   \n",
              "\n",
              "   Precision (%)  Recall (%)  \n",
              "0           96.8        98.2  \n",
              "1           97.7        89.9  \n",
              "2           96.2        98.9  "
            ],
            "text/html": [
              "\n",
              "  <div id=\"df-51061bdc-ef4d-4fbe-b419-fedf40322898\" class=\"colab-df-container\">\n",
              "    <div>\n",
              "<style scoped>\n",
              "    .dataframe tbody tr th:only-of-type {\n",
              "        vertical-align: middle;\n",
              "    }\n",
              "\n",
              "    .dataframe tbody tr th {\n",
              "        vertical-align: top;\n",
              "    }\n",
              "\n",
              "    .dataframe thead th {\n",
              "        text-align: right;\n",
              "    }\n",
              "</style>\n",
              "<table border=\"1\" class=\"dataframe\">\n",
              "  <thead>\n",
              "    <tr style=\"text-align: right;\">\n",
              "      <th></th>\n",
              "      <th>Model</th>\n",
              "      <th>Train Accuracy (%)</th>\n",
              "      <th>Test Accuracy (%)</th>\n",
              "      <th>Precision (%)</th>\n",
              "      <th>Recall (%)</th>\n",
              "    </tr>\n",
              "  </thead>\n",
              "  <tbody>\n",
              "    <tr>\n",
              "      <th>0</th>\n",
              "      <td>Logistic Regression</td>\n",
              "      <td>96.1</td>\n",
              "      <td>93.9</td>\n",
              "      <td>96.8</td>\n",
              "      <td>98.2</td>\n",
              "    </tr>\n",
              "    <tr>\n",
              "      <th>1</th>\n",
              "      <td>Multinomial Naive Bayes</td>\n",
              "      <td>88.2</td>\n",
              "      <td>89.7</td>\n",
              "      <td>97.7</td>\n",
              "      <td>89.9</td>\n",
              "    </tr>\n",
              "    <tr>\n",
              "      <th>2</th>\n",
              "      <td>Random Forest Classifier</td>\n",
              "      <td>95.5</td>\n",
              "      <td>94.5</td>\n",
              "      <td>96.2</td>\n",
              "      <td>98.9</td>\n",
              "    </tr>\n",
              "  </tbody>\n",
              "</table>\n",
              "</div>\n",
              "    <div class=\"colab-df-buttons\">\n",
              "\n",
              "  <div class=\"colab-df-container\">\n",
              "    <button class=\"colab-df-convert\" onclick=\"convertToInteractive('df-51061bdc-ef4d-4fbe-b419-fedf40322898')\"\n",
              "            title=\"Convert this dataframe to an interactive table.\"\n",
              "            style=\"display:none;\">\n",
              "\n",
              "  <svg xmlns=\"http://www.w3.org/2000/svg\" height=\"24px\" viewBox=\"0 -960 960 960\">\n",
              "    <path d=\"M120-120v-720h720v720H120Zm60-500h600v-160H180v160Zm220 220h160v-160H400v160Zm0 220h160v-160H400v160ZM180-400h160v-160H180v160Zm440 0h160v-160H620v160ZM180-180h160v-160H180v160Zm440 0h160v-160H620v160Z\"/>\n",
              "  </svg>\n",
              "    </button>\n",
              "\n",
              "  <style>\n",
              "    .colab-df-container {\n",
              "      display:flex;\n",
              "      gap: 12px;\n",
              "    }\n",
              "\n",
              "    .colab-df-convert {\n",
              "      background-color: #E8F0FE;\n",
              "      border: none;\n",
              "      border-radius: 50%;\n",
              "      cursor: pointer;\n",
              "      display: none;\n",
              "      fill: #1967D2;\n",
              "      height: 32px;\n",
              "      padding: 0 0 0 0;\n",
              "      width: 32px;\n",
              "    }\n",
              "\n",
              "    .colab-df-convert:hover {\n",
              "      background-color: #E2EBFA;\n",
              "      box-shadow: 0px 1px 2px rgba(60, 64, 67, 0.3), 0px 1px 3px 1px rgba(60, 64, 67, 0.15);\n",
              "      fill: #174EA6;\n",
              "    }\n",
              "\n",
              "    .colab-df-buttons div {\n",
              "      margin-bottom: 4px;\n",
              "    }\n",
              "\n",
              "    [theme=dark] .colab-df-convert {\n",
              "      background-color: #3B4455;\n",
              "      fill: #D2E3FC;\n",
              "    }\n",
              "\n",
              "    [theme=dark] .colab-df-convert:hover {\n",
              "      background-color: #434B5C;\n",
              "      box-shadow: 0px 1px 3px 1px rgba(0, 0, 0, 0.15);\n",
              "      filter: drop-shadow(0px 1px 2px rgba(0, 0, 0, 0.3));\n",
              "      fill: #FFFFFF;\n",
              "    }\n",
              "  </style>\n",
              "\n",
              "    <script>\n",
              "      const buttonEl =\n",
              "        document.querySelector('#df-51061bdc-ef4d-4fbe-b419-fedf40322898 button.colab-df-convert');\n",
              "      buttonEl.style.display =\n",
              "        google.colab.kernel.accessAllowed ? 'block' : 'none';\n",
              "\n",
              "      async function convertToInteractive(key) {\n",
              "        const element = document.querySelector('#df-51061bdc-ef4d-4fbe-b419-fedf40322898');\n",
              "        const dataTable =\n",
              "          await google.colab.kernel.invokeFunction('convertToInteractive',\n",
              "                                                    [key], {});\n",
              "        if (!dataTable) return;\n",
              "\n",
              "        const docLinkHtml = 'Like what you see? Visit the ' +\n",
              "          '<a target=\"_blank\" href=https://colab.research.google.com/notebooks/data_table.ipynb>data table notebook</a>'\n",
              "          + ' to learn more about interactive tables.';\n",
              "        element.innerHTML = '';\n",
              "        dataTable['output_type'] = 'display_data';\n",
              "        await google.colab.output.renderOutput(dataTable, element);\n",
              "        const docLink = document.createElement('div');\n",
              "        docLink.innerHTML = docLinkHtml;\n",
              "        element.appendChild(docLink);\n",
              "      }\n",
              "    </script>\n",
              "  </div>\n",
              "\n",
              "\n",
              "    <div id=\"df-157e616c-a64e-48c3-a9fa-4af5398c0ecc\">\n",
              "      <button class=\"colab-df-quickchart\" onclick=\"quickchart('df-157e616c-a64e-48c3-a9fa-4af5398c0ecc')\"\n",
              "                title=\"Suggest charts\"\n",
              "                style=\"display:none;\">\n",
              "\n",
              "<svg xmlns=\"http://www.w3.org/2000/svg\" height=\"24px\"viewBox=\"0 0 24 24\"\n",
              "     width=\"24px\">\n",
              "    <g>\n",
              "        <path d=\"M19 3H5c-1.1 0-2 .9-2 2v14c0 1.1.9 2 2 2h14c1.1 0 2-.9 2-2V5c0-1.1-.9-2-2-2zM9 17H7v-7h2v7zm4 0h-2V7h2v10zm4 0h-2v-4h2v4z\"/>\n",
              "    </g>\n",
              "</svg>\n",
              "      </button>\n",
              "\n",
              "<style>\n",
              "  .colab-df-quickchart {\n",
              "      --bg-color: #E8F0FE;\n",
              "      --fill-color: #1967D2;\n",
              "      --hover-bg-color: #E2EBFA;\n",
              "      --hover-fill-color: #174EA6;\n",
              "      --disabled-fill-color: #AAA;\n",
              "      --disabled-bg-color: #DDD;\n",
              "  }\n",
              "\n",
              "  [theme=dark] .colab-df-quickchart {\n",
              "      --bg-color: #3B4455;\n",
              "      --fill-color: #D2E3FC;\n",
              "      --hover-bg-color: #434B5C;\n",
              "      --hover-fill-color: #FFFFFF;\n",
              "      --disabled-bg-color: #3B4455;\n",
              "      --disabled-fill-color: #666;\n",
              "  }\n",
              "\n",
              "  .colab-df-quickchart {\n",
              "    background-color: var(--bg-color);\n",
              "    border: none;\n",
              "    border-radius: 50%;\n",
              "    cursor: pointer;\n",
              "    display: none;\n",
              "    fill: var(--fill-color);\n",
              "    height: 32px;\n",
              "    padding: 0;\n",
              "    width: 32px;\n",
              "  }\n",
              "\n",
              "  .colab-df-quickchart:hover {\n",
              "    background-color: var(--hover-bg-color);\n",
              "    box-shadow: 0 1px 2px rgba(60, 64, 67, 0.3), 0 1px 3px 1px rgba(60, 64, 67, 0.15);\n",
              "    fill: var(--button-hover-fill-color);\n",
              "  }\n",
              "\n",
              "  .colab-df-quickchart-complete:disabled,\n",
              "  .colab-df-quickchart-complete:disabled:hover {\n",
              "    background-color: var(--disabled-bg-color);\n",
              "    fill: var(--disabled-fill-color);\n",
              "    box-shadow: none;\n",
              "  }\n",
              "\n",
              "  .colab-df-spinner {\n",
              "    border: 2px solid var(--fill-color);\n",
              "    border-color: transparent;\n",
              "    border-bottom-color: var(--fill-color);\n",
              "    animation:\n",
              "      spin 1s steps(1) infinite;\n",
              "  }\n",
              "\n",
              "  @keyframes spin {\n",
              "    0% {\n",
              "      border-color: transparent;\n",
              "      border-bottom-color: var(--fill-color);\n",
              "      border-left-color: var(--fill-color);\n",
              "    }\n",
              "    20% {\n",
              "      border-color: transparent;\n",
              "      border-left-color: var(--fill-color);\n",
              "      border-top-color: var(--fill-color);\n",
              "    }\n",
              "    30% {\n",
              "      border-color: transparent;\n",
              "      border-left-color: var(--fill-color);\n",
              "      border-top-color: var(--fill-color);\n",
              "      border-right-color: var(--fill-color);\n",
              "    }\n",
              "    40% {\n",
              "      border-color: transparent;\n",
              "      border-right-color: var(--fill-color);\n",
              "      border-top-color: var(--fill-color);\n",
              "    }\n",
              "    60% {\n",
              "      border-color: transparent;\n",
              "      border-right-color: var(--fill-color);\n",
              "    }\n",
              "    80% {\n",
              "      border-color: transparent;\n",
              "      border-right-color: var(--fill-color);\n",
              "      border-bottom-color: var(--fill-color);\n",
              "    }\n",
              "    90% {\n",
              "      border-color: transparent;\n",
              "      border-bottom-color: var(--fill-color);\n",
              "    }\n",
              "  }\n",
              "</style>\n",
              "\n",
              "      <script>\n",
              "        async function quickchart(key) {\n",
              "          const quickchartButtonEl =\n",
              "            document.querySelector('#' + key + ' button');\n",
              "          quickchartButtonEl.disabled = true;  // To prevent multiple clicks.\n",
              "          quickchartButtonEl.classList.add('colab-df-spinner');\n",
              "          try {\n",
              "            const charts = await google.colab.kernel.invokeFunction(\n",
              "                'suggestCharts', [key], {});\n",
              "          } catch (error) {\n",
              "            console.error('Error during call to suggestCharts:', error);\n",
              "          }\n",
              "          quickchartButtonEl.classList.remove('colab-df-spinner');\n",
              "          quickchartButtonEl.classList.add('colab-df-quickchart-complete');\n",
              "        }\n",
              "        (() => {\n",
              "          let quickchartButtonEl =\n",
              "            document.querySelector('#df-157e616c-a64e-48c3-a9fa-4af5398c0ecc button');\n",
              "          quickchartButtonEl.style.display =\n",
              "            google.colab.kernel.accessAllowed ? 'block' : 'none';\n",
              "        })();\n",
              "      </script>\n",
              "    </div>\n",
              "\n",
              "  <div id=\"id_18283018-0f6e-42b9-b27a-1edaf9ca3e44\">\n",
              "    <style>\n",
              "      .colab-df-generate {\n",
              "        background-color: #E8F0FE;\n",
              "        border: none;\n",
              "        border-radius: 50%;\n",
              "        cursor: pointer;\n",
              "        display: none;\n",
              "        fill: #1967D2;\n",
              "        height: 32px;\n",
              "        padding: 0 0 0 0;\n",
              "        width: 32px;\n",
              "      }\n",
              "\n",
              "      .colab-df-generate:hover {\n",
              "        background-color: #E2EBFA;\n",
              "        box-shadow: 0px 1px 2px rgba(60, 64, 67, 0.3), 0px 1px 3px 1px rgba(60, 64, 67, 0.15);\n",
              "        fill: #174EA6;\n",
              "      }\n",
              "\n",
              "      [theme=dark] .colab-df-generate {\n",
              "        background-color: #3B4455;\n",
              "        fill: #D2E3FC;\n",
              "      }\n",
              "\n",
              "      [theme=dark] .colab-df-generate:hover {\n",
              "        background-color: #434B5C;\n",
              "        box-shadow: 0px 1px 3px 1px rgba(0, 0, 0, 0.15);\n",
              "        filter: drop-shadow(0px 1px 2px rgba(0, 0, 0, 0.3));\n",
              "        fill: #FFFFFF;\n",
              "      }\n",
              "    </style>\n",
              "    <button class=\"colab-df-generate\" onclick=\"generateWithVariable('df_results_2')\"\n",
              "            title=\"Generate code using this dataframe.\"\n",
              "            style=\"display:none;\">\n",
              "\n",
              "  <svg xmlns=\"http://www.w3.org/2000/svg\" height=\"24px\"viewBox=\"0 0 24 24\"\n",
              "       width=\"24px\">\n",
              "    <path d=\"M7,19H8.4L18.45,9,17,7.55,7,17.6ZM5,21V16.75L18.45,3.32a2,2,0,0,1,2.83,0l1.4,1.43a1.91,1.91,0,0,1,.58,1.4,1.91,1.91,0,0,1-.58,1.4L9.25,21ZM18.45,9,17,7.55Zm-12,3A5.31,5.31,0,0,0,4.9,8.1,5.31,5.31,0,0,0,1,6.5,5.31,5.31,0,0,0,4.9,4.9,5.31,5.31,0,0,0,6.5,1,5.31,5.31,0,0,0,8.1,4.9,5.31,5.31,0,0,0,12,6.5,5.46,5.46,0,0,0,6.5,12Z\"/>\n",
              "  </svg>\n",
              "    </button>\n",
              "    <script>\n",
              "      (() => {\n",
              "      const buttonEl =\n",
              "        document.querySelector('#id_18283018-0f6e-42b9-b27a-1edaf9ca3e44 button.colab-df-generate');\n",
              "      buttonEl.style.display =\n",
              "        google.colab.kernel.accessAllowed ? 'block' : 'none';\n",
              "\n",
              "      buttonEl.onclick = () => {\n",
              "        google.colab.notebook.generateWithVariable('df_results_2');\n",
              "      }\n",
              "      })();\n",
              "    </script>\n",
              "  </div>\n",
              "\n",
              "    </div>\n",
              "  </div>\n"
            ],
            "application/vnd.google.colaboratory.intrinsic+json": {
              "type": "dataframe",
              "variable_name": "df_results_2",
              "summary": "{\n  \"name\": \"df_results_2\",\n  \"rows\": 3,\n  \"fields\": [\n    {\n      \"column\": \"Model\",\n      \"properties\": {\n        \"dtype\": \"string\",\n        \"num_unique_values\": 3,\n        \"samples\": [\n          \"Logistic Regression\",\n          \"Multinomial Naive Bayes\",\n          \"Random Forest Classifier\"\n        ],\n        \"semantic_type\": \"\",\n        \"description\": \"\"\n      }\n    },\n    {\n      \"column\": \"Train Accuracy (%)\",\n      \"properties\": {\n        \"dtype\": \"number\",\n        \"std\": 4.398105652816142,\n        \"min\": 88.2,\n        \"max\": 96.1,\n        \"num_unique_values\": 3,\n        \"samples\": [\n          96.1,\n          88.2,\n          95.5\n        ],\n        \"semantic_type\": \"\",\n        \"description\": \"\"\n      }\n    },\n    {\n      \"column\": \"Test Accuracy (%)\",\n      \"properties\": {\n        \"dtype\": \"number\",\n        \"std\": 2.6153393661244038,\n        \"min\": 89.7,\n        \"max\": 94.5,\n        \"num_unique_values\": 3,\n        \"samples\": [\n          93.9,\n          89.7,\n          94.5\n        ],\n        \"semantic_type\": \"\",\n        \"description\": \"\"\n      }\n    },\n    {\n      \"column\": \"Precision (%)\",\n      \"properties\": {\n        \"dtype\": \"number\",\n        \"std\": 0.7549834435270754,\n        \"min\": 96.2,\n        \"max\": 97.7,\n        \"num_unique_values\": 3,\n        \"samples\": [\n          96.8,\n          97.7,\n          96.2\n        ],\n        \"semantic_type\": \"\",\n        \"description\": \"\"\n      }\n    },\n    {\n      \"column\": \"Recall (%)\",\n      \"properties\": {\n        \"dtype\": \"number\",\n        \"std\": 5.006329327294932,\n        \"min\": 89.9,\n        \"max\": 98.9,\n        \"num_unique_values\": 3,\n        \"samples\": [\n          98.2,\n          89.9,\n          98.9\n        ],\n        \"semantic_type\": \"\",\n        \"description\": \"\"\n      }\n    }\n  ]\n}"
            }
          },
          "metadata": {},
          "execution_count": 107
        }
      ]
    },
    {
      "cell_type": "code",
      "source": [
        "# highest precision accuracy in descending order by model\n",
        "prec_df = (\n",
        "    df_results_2\n",
        "      .groupby('Model', as_index=False)['Precision (%)']\n",
        "      .max()\n",
        "      .sort_values('Precision (%)', ascending=False)\n",
        ")\n",
        "prec_df"
      ],
      "metadata": {
        "colab": {
          "base_uri": "https://localhost:8080/",
          "height": 144
        },
        "id": "wO8K5yyylwtY",
        "outputId": "762c045e-c0fa-4843-e1c7-2a4e50da248a"
      },
      "execution_count": 135,
      "outputs": [
        {
          "output_type": "execute_result",
          "data": {
            "text/plain": [
              "                      Model  Precision (%)\n",
              "1   Multinomial Naive Bayes           97.7\n",
              "0       Logistic Regression           96.8\n",
              "2  Random Forest Classifier           96.2"
            ],
            "text/html": [
              "\n",
              "  <div id=\"df-6f76665c-e0cd-4d49-a822-4e11efb42b20\" class=\"colab-df-container\">\n",
              "    <div>\n",
              "<style scoped>\n",
              "    .dataframe tbody tr th:only-of-type {\n",
              "        vertical-align: middle;\n",
              "    }\n",
              "\n",
              "    .dataframe tbody tr th {\n",
              "        vertical-align: top;\n",
              "    }\n",
              "\n",
              "    .dataframe thead th {\n",
              "        text-align: right;\n",
              "    }\n",
              "</style>\n",
              "<table border=\"1\" class=\"dataframe\">\n",
              "  <thead>\n",
              "    <tr style=\"text-align: right;\">\n",
              "      <th></th>\n",
              "      <th>Model</th>\n",
              "      <th>Precision (%)</th>\n",
              "    </tr>\n",
              "  </thead>\n",
              "  <tbody>\n",
              "    <tr>\n",
              "      <th>1</th>\n",
              "      <td>Multinomial Naive Bayes</td>\n",
              "      <td>97.7</td>\n",
              "    </tr>\n",
              "    <tr>\n",
              "      <th>0</th>\n",
              "      <td>Logistic Regression</td>\n",
              "      <td>96.8</td>\n",
              "    </tr>\n",
              "    <tr>\n",
              "      <th>2</th>\n",
              "      <td>Random Forest Classifier</td>\n",
              "      <td>96.2</td>\n",
              "    </tr>\n",
              "  </tbody>\n",
              "</table>\n",
              "</div>\n",
              "    <div class=\"colab-df-buttons\">\n",
              "\n",
              "  <div class=\"colab-df-container\">\n",
              "    <button class=\"colab-df-convert\" onclick=\"convertToInteractive('df-6f76665c-e0cd-4d49-a822-4e11efb42b20')\"\n",
              "            title=\"Convert this dataframe to an interactive table.\"\n",
              "            style=\"display:none;\">\n",
              "\n",
              "  <svg xmlns=\"http://www.w3.org/2000/svg\" height=\"24px\" viewBox=\"0 -960 960 960\">\n",
              "    <path d=\"M120-120v-720h720v720H120Zm60-500h600v-160H180v160Zm220 220h160v-160H400v160Zm0 220h160v-160H400v160ZM180-400h160v-160H180v160Zm440 0h160v-160H620v160ZM180-180h160v-160H180v160Zm440 0h160v-160H620v160Z\"/>\n",
              "  </svg>\n",
              "    </button>\n",
              "\n",
              "  <style>\n",
              "    .colab-df-container {\n",
              "      display:flex;\n",
              "      gap: 12px;\n",
              "    }\n",
              "\n",
              "    .colab-df-convert {\n",
              "      background-color: #E8F0FE;\n",
              "      border: none;\n",
              "      border-radius: 50%;\n",
              "      cursor: pointer;\n",
              "      display: none;\n",
              "      fill: #1967D2;\n",
              "      height: 32px;\n",
              "      padding: 0 0 0 0;\n",
              "      width: 32px;\n",
              "    }\n",
              "\n",
              "    .colab-df-convert:hover {\n",
              "      background-color: #E2EBFA;\n",
              "      box-shadow: 0px 1px 2px rgba(60, 64, 67, 0.3), 0px 1px 3px 1px rgba(60, 64, 67, 0.15);\n",
              "      fill: #174EA6;\n",
              "    }\n",
              "\n",
              "    .colab-df-buttons div {\n",
              "      margin-bottom: 4px;\n",
              "    }\n",
              "\n",
              "    [theme=dark] .colab-df-convert {\n",
              "      background-color: #3B4455;\n",
              "      fill: #D2E3FC;\n",
              "    }\n",
              "\n",
              "    [theme=dark] .colab-df-convert:hover {\n",
              "      background-color: #434B5C;\n",
              "      box-shadow: 0px 1px 3px 1px rgba(0, 0, 0, 0.15);\n",
              "      filter: drop-shadow(0px 1px 2px rgba(0, 0, 0, 0.3));\n",
              "      fill: #FFFFFF;\n",
              "    }\n",
              "  </style>\n",
              "\n",
              "    <script>\n",
              "      const buttonEl =\n",
              "        document.querySelector('#df-6f76665c-e0cd-4d49-a822-4e11efb42b20 button.colab-df-convert');\n",
              "      buttonEl.style.display =\n",
              "        google.colab.kernel.accessAllowed ? 'block' : 'none';\n",
              "\n",
              "      async function convertToInteractive(key) {\n",
              "        const element = document.querySelector('#df-6f76665c-e0cd-4d49-a822-4e11efb42b20');\n",
              "        const dataTable =\n",
              "          await google.colab.kernel.invokeFunction('convertToInteractive',\n",
              "                                                    [key], {});\n",
              "        if (!dataTable) return;\n",
              "\n",
              "        const docLinkHtml = 'Like what you see? Visit the ' +\n",
              "          '<a target=\"_blank\" href=https://colab.research.google.com/notebooks/data_table.ipynb>data table notebook</a>'\n",
              "          + ' to learn more about interactive tables.';\n",
              "        element.innerHTML = '';\n",
              "        dataTable['output_type'] = 'display_data';\n",
              "        await google.colab.output.renderOutput(dataTable, element);\n",
              "        const docLink = document.createElement('div');\n",
              "        docLink.innerHTML = docLinkHtml;\n",
              "        element.appendChild(docLink);\n",
              "      }\n",
              "    </script>\n",
              "  </div>\n",
              "\n",
              "\n",
              "    <div id=\"df-d3fa69f1-e6a5-477b-bd24-807d48d77cfc\">\n",
              "      <button class=\"colab-df-quickchart\" onclick=\"quickchart('df-d3fa69f1-e6a5-477b-bd24-807d48d77cfc')\"\n",
              "                title=\"Suggest charts\"\n",
              "                style=\"display:none;\">\n",
              "\n",
              "<svg xmlns=\"http://www.w3.org/2000/svg\" height=\"24px\"viewBox=\"0 0 24 24\"\n",
              "     width=\"24px\">\n",
              "    <g>\n",
              "        <path d=\"M19 3H5c-1.1 0-2 .9-2 2v14c0 1.1.9 2 2 2h14c1.1 0 2-.9 2-2V5c0-1.1-.9-2-2-2zM9 17H7v-7h2v7zm4 0h-2V7h2v10zm4 0h-2v-4h2v4z\"/>\n",
              "    </g>\n",
              "</svg>\n",
              "      </button>\n",
              "\n",
              "<style>\n",
              "  .colab-df-quickchart {\n",
              "      --bg-color: #E8F0FE;\n",
              "      --fill-color: #1967D2;\n",
              "      --hover-bg-color: #E2EBFA;\n",
              "      --hover-fill-color: #174EA6;\n",
              "      --disabled-fill-color: #AAA;\n",
              "      --disabled-bg-color: #DDD;\n",
              "  }\n",
              "\n",
              "  [theme=dark] .colab-df-quickchart {\n",
              "      --bg-color: #3B4455;\n",
              "      --fill-color: #D2E3FC;\n",
              "      --hover-bg-color: #434B5C;\n",
              "      --hover-fill-color: #FFFFFF;\n",
              "      --disabled-bg-color: #3B4455;\n",
              "      --disabled-fill-color: #666;\n",
              "  }\n",
              "\n",
              "  .colab-df-quickchart {\n",
              "    background-color: var(--bg-color);\n",
              "    border: none;\n",
              "    border-radius: 50%;\n",
              "    cursor: pointer;\n",
              "    display: none;\n",
              "    fill: var(--fill-color);\n",
              "    height: 32px;\n",
              "    padding: 0;\n",
              "    width: 32px;\n",
              "  }\n",
              "\n",
              "  .colab-df-quickchart:hover {\n",
              "    background-color: var(--hover-bg-color);\n",
              "    box-shadow: 0 1px 2px rgba(60, 64, 67, 0.3), 0 1px 3px 1px rgba(60, 64, 67, 0.15);\n",
              "    fill: var(--button-hover-fill-color);\n",
              "  }\n",
              "\n",
              "  .colab-df-quickchart-complete:disabled,\n",
              "  .colab-df-quickchart-complete:disabled:hover {\n",
              "    background-color: var(--disabled-bg-color);\n",
              "    fill: var(--disabled-fill-color);\n",
              "    box-shadow: none;\n",
              "  }\n",
              "\n",
              "  .colab-df-spinner {\n",
              "    border: 2px solid var(--fill-color);\n",
              "    border-color: transparent;\n",
              "    border-bottom-color: var(--fill-color);\n",
              "    animation:\n",
              "      spin 1s steps(1) infinite;\n",
              "  }\n",
              "\n",
              "  @keyframes spin {\n",
              "    0% {\n",
              "      border-color: transparent;\n",
              "      border-bottom-color: var(--fill-color);\n",
              "      border-left-color: var(--fill-color);\n",
              "    }\n",
              "    20% {\n",
              "      border-color: transparent;\n",
              "      border-left-color: var(--fill-color);\n",
              "      border-top-color: var(--fill-color);\n",
              "    }\n",
              "    30% {\n",
              "      border-color: transparent;\n",
              "      border-left-color: var(--fill-color);\n",
              "      border-top-color: var(--fill-color);\n",
              "      border-right-color: var(--fill-color);\n",
              "    }\n",
              "    40% {\n",
              "      border-color: transparent;\n",
              "      border-right-color: var(--fill-color);\n",
              "      border-top-color: var(--fill-color);\n",
              "    }\n",
              "    60% {\n",
              "      border-color: transparent;\n",
              "      border-right-color: var(--fill-color);\n",
              "    }\n",
              "    80% {\n",
              "      border-color: transparent;\n",
              "      border-right-color: var(--fill-color);\n",
              "      border-bottom-color: var(--fill-color);\n",
              "    }\n",
              "    90% {\n",
              "      border-color: transparent;\n",
              "      border-bottom-color: var(--fill-color);\n",
              "    }\n",
              "  }\n",
              "</style>\n",
              "\n",
              "      <script>\n",
              "        async function quickchart(key) {\n",
              "          const quickchartButtonEl =\n",
              "            document.querySelector('#' + key + ' button');\n",
              "          quickchartButtonEl.disabled = true;  // To prevent multiple clicks.\n",
              "          quickchartButtonEl.classList.add('colab-df-spinner');\n",
              "          try {\n",
              "            const charts = await google.colab.kernel.invokeFunction(\n",
              "                'suggestCharts', [key], {});\n",
              "          } catch (error) {\n",
              "            console.error('Error during call to suggestCharts:', error);\n",
              "          }\n",
              "          quickchartButtonEl.classList.remove('colab-df-spinner');\n",
              "          quickchartButtonEl.classList.add('colab-df-quickchart-complete');\n",
              "        }\n",
              "        (() => {\n",
              "          let quickchartButtonEl =\n",
              "            document.querySelector('#df-d3fa69f1-e6a5-477b-bd24-807d48d77cfc button');\n",
              "          quickchartButtonEl.style.display =\n",
              "            google.colab.kernel.accessAllowed ? 'block' : 'none';\n",
              "        })();\n",
              "      </script>\n",
              "    </div>\n",
              "\n",
              "  <div id=\"id_929451ef-a97b-4e69-99f2-15fb5e7780d5\">\n",
              "    <style>\n",
              "      .colab-df-generate {\n",
              "        background-color: #E8F0FE;\n",
              "        border: none;\n",
              "        border-radius: 50%;\n",
              "        cursor: pointer;\n",
              "        display: none;\n",
              "        fill: #1967D2;\n",
              "        height: 32px;\n",
              "        padding: 0 0 0 0;\n",
              "        width: 32px;\n",
              "      }\n",
              "\n",
              "      .colab-df-generate:hover {\n",
              "        background-color: #E2EBFA;\n",
              "        box-shadow: 0px 1px 2px rgba(60, 64, 67, 0.3), 0px 1px 3px 1px rgba(60, 64, 67, 0.15);\n",
              "        fill: #174EA6;\n",
              "      }\n",
              "\n",
              "      [theme=dark] .colab-df-generate {\n",
              "        background-color: #3B4455;\n",
              "        fill: #D2E3FC;\n",
              "      }\n",
              "\n",
              "      [theme=dark] .colab-df-generate:hover {\n",
              "        background-color: #434B5C;\n",
              "        box-shadow: 0px 1px 3px 1px rgba(0, 0, 0, 0.15);\n",
              "        filter: drop-shadow(0px 1px 2px rgba(0, 0, 0, 0.3));\n",
              "        fill: #FFFFFF;\n",
              "      }\n",
              "    </style>\n",
              "    <button class=\"colab-df-generate\" onclick=\"generateWithVariable('prec_df')\"\n",
              "            title=\"Generate code using this dataframe.\"\n",
              "            style=\"display:none;\">\n",
              "\n",
              "  <svg xmlns=\"http://www.w3.org/2000/svg\" height=\"24px\"viewBox=\"0 0 24 24\"\n",
              "       width=\"24px\">\n",
              "    <path d=\"M7,19H8.4L18.45,9,17,7.55,7,17.6ZM5,21V16.75L18.45,3.32a2,2,0,0,1,2.83,0l1.4,1.43a1.91,1.91,0,0,1,.58,1.4,1.91,1.91,0,0,1-.58,1.4L9.25,21ZM18.45,9,17,7.55Zm-12,3A5.31,5.31,0,0,0,4.9,8.1,5.31,5.31,0,0,0,1,6.5,5.31,5.31,0,0,0,4.9,4.9,5.31,5.31,0,0,0,6.5,1,5.31,5.31,0,0,0,8.1,4.9,5.31,5.31,0,0,0,12,6.5,5.46,5.46,0,0,0,6.5,12Z\"/>\n",
              "  </svg>\n",
              "    </button>\n",
              "    <script>\n",
              "      (() => {\n",
              "      const buttonEl =\n",
              "        document.querySelector('#id_929451ef-a97b-4e69-99f2-15fb5e7780d5 button.colab-df-generate');\n",
              "      buttonEl.style.display =\n",
              "        google.colab.kernel.accessAllowed ? 'block' : 'none';\n",
              "\n",
              "      buttonEl.onclick = () => {\n",
              "        google.colab.notebook.generateWithVariable('prec_df');\n",
              "      }\n",
              "      })();\n",
              "    </script>\n",
              "  </div>\n",
              "\n",
              "    </div>\n",
              "  </div>\n"
            ],
            "application/vnd.google.colaboratory.intrinsic+json": {
              "type": "dataframe",
              "variable_name": "prec_df",
              "summary": "{\n  \"name\": \"prec_df\",\n  \"rows\": 3,\n  \"fields\": [\n    {\n      \"column\": \"Model\",\n      \"properties\": {\n        \"dtype\": \"string\",\n        \"num_unique_values\": 3,\n        \"samples\": [\n          \"Multinomial Naive Bayes\",\n          \"Logistic Regression\",\n          \"Random Forest Classifier\"\n        ],\n        \"semantic_type\": \"\",\n        \"description\": \"\"\n      }\n    },\n    {\n      \"column\": \"Precision (%)\",\n      \"properties\": {\n        \"dtype\": \"number\",\n        \"std\": 0.7549834435270754,\n        \"min\": 96.2,\n        \"max\": 97.7,\n        \"num_unique_values\": 3,\n        \"samples\": [\n          97.7,\n          96.8,\n          96.2\n        ],\n        \"semantic_type\": \"\",\n        \"description\": \"\"\n      }\n    }\n  ]\n}"
            }
          },
          "metadata": {},
          "execution_count": 135
        }
      ]
    },
    {
      "cell_type": "code",
      "source": [
        "# highest test accuracy in descending order by model\n",
        "acc_df = (\n",
        "    df_results_2\n",
        "      .groupby('Model', as_index=False)['Test Accuracy (%)']\n",
        "      .min()\n",
        "      .sort_values('Test Accuracy (%)', ascending=False)\n",
        ")\n",
        "acc_df"
      ],
      "metadata": {
        "colab": {
          "base_uri": "https://localhost:8080/",
          "height": 144
        },
        "id": "IrO4cWfWjlkh",
        "outputId": "28999f66-d8b2-4100-fc48-30830b9fc48e"
      },
      "execution_count": 139,
      "outputs": [
        {
          "output_type": "execute_result",
          "data": {
            "text/plain": [
              "                      Model  Test Accuracy (%)\n",
              "2  Random Forest Classifier               94.5\n",
              "0       Logistic Regression               93.9\n",
              "1   Multinomial Naive Bayes               89.7"
            ],
            "text/html": [
              "\n",
              "  <div id=\"df-9aa0677f-65f4-4128-ad25-b7b56f67fe3b\" class=\"colab-df-container\">\n",
              "    <div>\n",
              "<style scoped>\n",
              "    .dataframe tbody tr th:only-of-type {\n",
              "        vertical-align: middle;\n",
              "    }\n",
              "\n",
              "    .dataframe tbody tr th {\n",
              "        vertical-align: top;\n",
              "    }\n",
              "\n",
              "    .dataframe thead th {\n",
              "        text-align: right;\n",
              "    }\n",
              "</style>\n",
              "<table border=\"1\" class=\"dataframe\">\n",
              "  <thead>\n",
              "    <tr style=\"text-align: right;\">\n",
              "      <th></th>\n",
              "      <th>Model</th>\n",
              "      <th>Test Accuracy (%)</th>\n",
              "    </tr>\n",
              "  </thead>\n",
              "  <tbody>\n",
              "    <tr>\n",
              "      <th>2</th>\n",
              "      <td>Random Forest Classifier</td>\n",
              "      <td>94.5</td>\n",
              "    </tr>\n",
              "    <tr>\n",
              "      <th>0</th>\n",
              "      <td>Logistic Regression</td>\n",
              "      <td>93.9</td>\n",
              "    </tr>\n",
              "    <tr>\n",
              "      <th>1</th>\n",
              "      <td>Multinomial Naive Bayes</td>\n",
              "      <td>89.7</td>\n",
              "    </tr>\n",
              "  </tbody>\n",
              "</table>\n",
              "</div>\n",
              "    <div class=\"colab-df-buttons\">\n",
              "\n",
              "  <div class=\"colab-df-container\">\n",
              "    <button class=\"colab-df-convert\" onclick=\"convertToInteractive('df-9aa0677f-65f4-4128-ad25-b7b56f67fe3b')\"\n",
              "            title=\"Convert this dataframe to an interactive table.\"\n",
              "            style=\"display:none;\">\n",
              "\n",
              "  <svg xmlns=\"http://www.w3.org/2000/svg\" height=\"24px\" viewBox=\"0 -960 960 960\">\n",
              "    <path d=\"M120-120v-720h720v720H120Zm60-500h600v-160H180v160Zm220 220h160v-160H400v160Zm0 220h160v-160H400v160ZM180-400h160v-160H180v160Zm440 0h160v-160H620v160ZM180-180h160v-160H180v160Zm440 0h160v-160H620v160Z\"/>\n",
              "  </svg>\n",
              "    </button>\n",
              "\n",
              "  <style>\n",
              "    .colab-df-container {\n",
              "      display:flex;\n",
              "      gap: 12px;\n",
              "    }\n",
              "\n",
              "    .colab-df-convert {\n",
              "      background-color: #E8F0FE;\n",
              "      border: none;\n",
              "      border-radius: 50%;\n",
              "      cursor: pointer;\n",
              "      display: none;\n",
              "      fill: #1967D2;\n",
              "      height: 32px;\n",
              "      padding: 0 0 0 0;\n",
              "      width: 32px;\n",
              "    }\n",
              "\n",
              "    .colab-df-convert:hover {\n",
              "      background-color: #E2EBFA;\n",
              "      box-shadow: 0px 1px 2px rgba(60, 64, 67, 0.3), 0px 1px 3px 1px rgba(60, 64, 67, 0.15);\n",
              "      fill: #174EA6;\n",
              "    }\n",
              "\n",
              "    .colab-df-buttons div {\n",
              "      margin-bottom: 4px;\n",
              "    }\n",
              "\n",
              "    [theme=dark] .colab-df-convert {\n",
              "      background-color: #3B4455;\n",
              "      fill: #D2E3FC;\n",
              "    }\n",
              "\n",
              "    [theme=dark] .colab-df-convert:hover {\n",
              "      background-color: #434B5C;\n",
              "      box-shadow: 0px 1px 3px 1px rgba(0, 0, 0, 0.15);\n",
              "      filter: drop-shadow(0px 1px 2px rgba(0, 0, 0, 0.3));\n",
              "      fill: #FFFFFF;\n",
              "    }\n",
              "  </style>\n",
              "\n",
              "    <script>\n",
              "      const buttonEl =\n",
              "        document.querySelector('#df-9aa0677f-65f4-4128-ad25-b7b56f67fe3b button.colab-df-convert');\n",
              "      buttonEl.style.display =\n",
              "        google.colab.kernel.accessAllowed ? 'block' : 'none';\n",
              "\n",
              "      async function convertToInteractive(key) {\n",
              "        const element = document.querySelector('#df-9aa0677f-65f4-4128-ad25-b7b56f67fe3b');\n",
              "        const dataTable =\n",
              "          await google.colab.kernel.invokeFunction('convertToInteractive',\n",
              "                                                    [key], {});\n",
              "        if (!dataTable) return;\n",
              "\n",
              "        const docLinkHtml = 'Like what you see? Visit the ' +\n",
              "          '<a target=\"_blank\" href=https://colab.research.google.com/notebooks/data_table.ipynb>data table notebook</a>'\n",
              "          + ' to learn more about interactive tables.';\n",
              "        element.innerHTML = '';\n",
              "        dataTable['output_type'] = 'display_data';\n",
              "        await google.colab.output.renderOutput(dataTable, element);\n",
              "        const docLink = document.createElement('div');\n",
              "        docLink.innerHTML = docLinkHtml;\n",
              "        element.appendChild(docLink);\n",
              "      }\n",
              "    </script>\n",
              "  </div>\n",
              "\n",
              "\n",
              "    <div id=\"df-3fad9f2a-6427-4b1a-b77c-e67d28f3800e\">\n",
              "      <button class=\"colab-df-quickchart\" onclick=\"quickchart('df-3fad9f2a-6427-4b1a-b77c-e67d28f3800e')\"\n",
              "                title=\"Suggest charts\"\n",
              "                style=\"display:none;\">\n",
              "\n",
              "<svg xmlns=\"http://www.w3.org/2000/svg\" height=\"24px\"viewBox=\"0 0 24 24\"\n",
              "     width=\"24px\">\n",
              "    <g>\n",
              "        <path d=\"M19 3H5c-1.1 0-2 .9-2 2v14c0 1.1.9 2 2 2h14c1.1 0 2-.9 2-2V5c0-1.1-.9-2-2-2zM9 17H7v-7h2v7zm4 0h-2V7h2v10zm4 0h-2v-4h2v4z\"/>\n",
              "    </g>\n",
              "</svg>\n",
              "      </button>\n",
              "\n",
              "<style>\n",
              "  .colab-df-quickchart {\n",
              "      --bg-color: #E8F0FE;\n",
              "      --fill-color: #1967D2;\n",
              "      --hover-bg-color: #E2EBFA;\n",
              "      --hover-fill-color: #174EA6;\n",
              "      --disabled-fill-color: #AAA;\n",
              "      --disabled-bg-color: #DDD;\n",
              "  }\n",
              "\n",
              "  [theme=dark] .colab-df-quickchart {\n",
              "      --bg-color: #3B4455;\n",
              "      --fill-color: #D2E3FC;\n",
              "      --hover-bg-color: #434B5C;\n",
              "      --hover-fill-color: #FFFFFF;\n",
              "      --disabled-bg-color: #3B4455;\n",
              "      --disabled-fill-color: #666;\n",
              "  }\n",
              "\n",
              "  .colab-df-quickchart {\n",
              "    background-color: var(--bg-color);\n",
              "    border: none;\n",
              "    border-radius: 50%;\n",
              "    cursor: pointer;\n",
              "    display: none;\n",
              "    fill: var(--fill-color);\n",
              "    height: 32px;\n",
              "    padding: 0;\n",
              "    width: 32px;\n",
              "  }\n",
              "\n",
              "  .colab-df-quickchart:hover {\n",
              "    background-color: var(--hover-bg-color);\n",
              "    box-shadow: 0 1px 2px rgba(60, 64, 67, 0.3), 0 1px 3px 1px rgba(60, 64, 67, 0.15);\n",
              "    fill: var(--button-hover-fill-color);\n",
              "  }\n",
              "\n",
              "  .colab-df-quickchart-complete:disabled,\n",
              "  .colab-df-quickchart-complete:disabled:hover {\n",
              "    background-color: var(--disabled-bg-color);\n",
              "    fill: var(--disabled-fill-color);\n",
              "    box-shadow: none;\n",
              "  }\n",
              "\n",
              "  .colab-df-spinner {\n",
              "    border: 2px solid var(--fill-color);\n",
              "    border-color: transparent;\n",
              "    border-bottom-color: var(--fill-color);\n",
              "    animation:\n",
              "      spin 1s steps(1) infinite;\n",
              "  }\n",
              "\n",
              "  @keyframes spin {\n",
              "    0% {\n",
              "      border-color: transparent;\n",
              "      border-bottom-color: var(--fill-color);\n",
              "      border-left-color: var(--fill-color);\n",
              "    }\n",
              "    20% {\n",
              "      border-color: transparent;\n",
              "      border-left-color: var(--fill-color);\n",
              "      border-top-color: var(--fill-color);\n",
              "    }\n",
              "    30% {\n",
              "      border-color: transparent;\n",
              "      border-left-color: var(--fill-color);\n",
              "      border-top-color: var(--fill-color);\n",
              "      border-right-color: var(--fill-color);\n",
              "    }\n",
              "    40% {\n",
              "      border-color: transparent;\n",
              "      border-right-color: var(--fill-color);\n",
              "      border-top-color: var(--fill-color);\n",
              "    }\n",
              "    60% {\n",
              "      border-color: transparent;\n",
              "      border-right-color: var(--fill-color);\n",
              "    }\n",
              "    80% {\n",
              "      border-color: transparent;\n",
              "      border-right-color: var(--fill-color);\n",
              "      border-bottom-color: var(--fill-color);\n",
              "    }\n",
              "    90% {\n",
              "      border-color: transparent;\n",
              "      border-bottom-color: var(--fill-color);\n",
              "    }\n",
              "  }\n",
              "</style>\n",
              "\n",
              "      <script>\n",
              "        async function quickchart(key) {\n",
              "          const quickchartButtonEl =\n",
              "            document.querySelector('#' + key + ' button');\n",
              "          quickchartButtonEl.disabled = true;  // To prevent multiple clicks.\n",
              "          quickchartButtonEl.classList.add('colab-df-spinner');\n",
              "          try {\n",
              "            const charts = await google.colab.kernel.invokeFunction(\n",
              "                'suggestCharts', [key], {});\n",
              "          } catch (error) {\n",
              "            console.error('Error during call to suggestCharts:', error);\n",
              "          }\n",
              "          quickchartButtonEl.classList.remove('colab-df-spinner');\n",
              "          quickchartButtonEl.classList.add('colab-df-quickchart-complete');\n",
              "        }\n",
              "        (() => {\n",
              "          let quickchartButtonEl =\n",
              "            document.querySelector('#df-3fad9f2a-6427-4b1a-b77c-e67d28f3800e button');\n",
              "          quickchartButtonEl.style.display =\n",
              "            google.colab.kernel.accessAllowed ? 'block' : 'none';\n",
              "        })();\n",
              "      </script>\n",
              "    </div>\n",
              "\n",
              "  <div id=\"id_e5c5cb21-1f7f-489b-a2c1-2c34efb2eb1d\">\n",
              "    <style>\n",
              "      .colab-df-generate {\n",
              "        background-color: #E8F0FE;\n",
              "        border: none;\n",
              "        border-radius: 50%;\n",
              "        cursor: pointer;\n",
              "        display: none;\n",
              "        fill: #1967D2;\n",
              "        height: 32px;\n",
              "        padding: 0 0 0 0;\n",
              "        width: 32px;\n",
              "      }\n",
              "\n",
              "      .colab-df-generate:hover {\n",
              "        background-color: #E2EBFA;\n",
              "        box-shadow: 0px 1px 2px rgba(60, 64, 67, 0.3), 0px 1px 3px 1px rgba(60, 64, 67, 0.15);\n",
              "        fill: #174EA6;\n",
              "      }\n",
              "\n",
              "      [theme=dark] .colab-df-generate {\n",
              "        background-color: #3B4455;\n",
              "        fill: #D2E3FC;\n",
              "      }\n",
              "\n",
              "      [theme=dark] .colab-df-generate:hover {\n",
              "        background-color: #434B5C;\n",
              "        box-shadow: 0px 1px 3px 1px rgba(0, 0, 0, 0.15);\n",
              "        filter: drop-shadow(0px 1px 2px rgba(0, 0, 0, 0.3));\n",
              "        fill: #FFFFFF;\n",
              "      }\n",
              "    </style>\n",
              "    <button class=\"colab-df-generate\" onclick=\"generateWithVariable('acc_df')\"\n",
              "            title=\"Generate code using this dataframe.\"\n",
              "            style=\"display:none;\">\n",
              "\n",
              "  <svg xmlns=\"http://www.w3.org/2000/svg\" height=\"24px\"viewBox=\"0 0 24 24\"\n",
              "       width=\"24px\">\n",
              "    <path d=\"M7,19H8.4L18.45,9,17,7.55,7,17.6ZM5,21V16.75L18.45,3.32a2,2,0,0,1,2.83,0l1.4,1.43a1.91,1.91,0,0,1,.58,1.4,1.91,1.91,0,0,1-.58,1.4L9.25,21ZM18.45,9,17,7.55Zm-12,3A5.31,5.31,0,0,0,4.9,8.1,5.31,5.31,0,0,0,1,6.5,5.31,5.31,0,0,0,4.9,4.9,5.31,5.31,0,0,0,6.5,1,5.31,5.31,0,0,0,8.1,4.9,5.31,5.31,0,0,0,12,6.5,5.46,5.46,0,0,0,6.5,12Z\"/>\n",
              "  </svg>\n",
              "    </button>\n",
              "    <script>\n",
              "      (() => {\n",
              "      const buttonEl =\n",
              "        document.querySelector('#id_e5c5cb21-1f7f-489b-a2c1-2c34efb2eb1d button.colab-df-generate');\n",
              "      buttonEl.style.display =\n",
              "        google.colab.kernel.accessAllowed ? 'block' : 'none';\n",
              "\n",
              "      buttonEl.onclick = () => {\n",
              "        google.colab.notebook.generateWithVariable('acc_df');\n",
              "      }\n",
              "      })();\n",
              "    </script>\n",
              "  </div>\n",
              "\n",
              "    </div>\n",
              "  </div>\n"
            ],
            "application/vnd.google.colaboratory.intrinsic+json": {
              "type": "dataframe",
              "variable_name": "acc_df",
              "summary": "{\n  \"name\": \"acc_df\",\n  \"rows\": 3,\n  \"fields\": [\n    {\n      \"column\": \"Model\",\n      \"properties\": {\n        \"dtype\": \"string\",\n        \"num_unique_values\": 3,\n        \"samples\": [\n          \"Random Forest Classifier\",\n          \"Logistic Regression\",\n          \"Multinomial Naive Bayes\"\n        ],\n        \"semantic_type\": \"\",\n        \"description\": \"\"\n      }\n    },\n    {\n      \"column\": \"Test Accuracy (%)\",\n      \"properties\": {\n        \"dtype\": \"number\",\n        \"std\": 2.6153393661244038,\n        \"min\": 89.7,\n        \"max\": 94.5,\n        \"num_unique_values\": 3,\n        \"samples\": [\n          94.5,\n          93.9,\n          89.7\n        ],\n        \"semantic_type\": \"\",\n        \"description\": \"\"\n      }\n    }\n  ]\n}"
            }
          },
          "metadata": {},
          "execution_count": 139
        }
      ]
    },
    {
      "cell_type": "code",
      "source": [
        "# highest recall in descending order by model\n",
        "acc_df = (\n",
        "    df_results_2\n",
        "      .groupby('Model', as_index=False)['Recall (%)']\n",
        "      .min()\n",
        "      .sort_values('Recall (%)', ascending=False)\n",
        ")\n",
        "acc_df"
      ],
      "metadata": {
        "colab": {
          "base_uri": "https://localhost:8080/",
          "height": 144
        },
        "id": "bgqamhA0noOM",
        "outputId": "b6e4cfcf-1716-4669-8e3b-82f636a0dfbf"
      },
      "execution_count": 140,
      "outputs": [
        {
          "output_type": "execute_result",
          "data": {
            "text/plain": [
              "                      Model  Recall (%)\n",
              "2  Random Forest Classifier        98.9\n",
              "0       Logistic Regression        98.2\n",
              "1   Multinomial Naive Bayes        89.9"
            ],
            "text/html": [
              "\n",
              "  <div id=\"df-d1804ab2-7bfd-4175-a8ed-1e97d45e2573\" class=\"colab-df-container\">\n",
              "    <div>\n",
              "<style scoped>\n",
              "    .dataframe tbody tr th:only-of-type {\n",
              "        vertical-align: middle;\n",
              "    }\n",
              "\n",
              "    .dataframe tbody tr th {\n",
              "        vertical-align: top;\n",
              "    }\n",
              "\n",
              "    .dataframe thead th {\n",
              "        text-align: right;\n",
              "    }\n",
              "</style>\n",
              "<table border=\"1\" class=\"dataframe\">\n",
              "  <thead>\n",
              "    <tr style=\"text-align: right;\">\n",
              "      <th></th>\n",
              "      <th>Model</th>\n",
              "      <th>Recall (%)</th>\n",
              "    </tr>\n",
              "  </thead>\n",
              "  <tbody>\n",
              "    <tr>\n",
              "      <th>2</th>\n",
              "      <td>Random Forest Classifier</td>\n",
              "      <td>98.9</td>\n",
              "    </tr>\n",
              "    <tr>\n",
              "      <th>0</th>\n",
              "      <td>Logistic Regression</td>\n",
              "      <td>98.2</td>\n",
              "    </tr>\n",
              "    <tr>\n",
              "      <th>1</th>\n",
              "      <td>Multinomial Naive Bayes</td>\n",
              "      <td>89.9</td>\n",
              "    </tr>\n",
              "  </tbody>\n",
              "</table>\n",
              "</div>\n",
              "    <div class=\"colab-df-buttons\">\n",
              "\n",
              "  <div class=\"colab-df-container\">\n",
              "    <button class=\"colab-df-convert\" onclick=\"convertToInteractive('df-d1804ab2-7bfd-4175-a8ed-1e97d45e2573')\"\n",
              "            title=\"Convert this dataframe to an interactive table.\"\n",
              "            style=\"display:none;\">\n",
              "\n",
              "  <svg xmlns=\"http://www.w3.org/2000/svg\" height=\"24px\" viewBox=\"0 -960 960 960\">\n",
              "    <path d=\"M120-120v-720h720v720H120Zm60-500h600v-160H180v160Zm220 220h160v-160H400v160Zm0 220h160v-160H400v160ZM180-400h160v-160H180v160Zm440 0h160v-160H620v160ZM180-180h160v-160H180v160Zm440 0h160v-160H620v160Z\"/>\n",
              "  </svg>\n",
              "    </button>\n",
              "\n",
              "  <style>\n",
              "    .colab-df-container {\n",
              "      display:flex;\n",
              "      gap: 12px;\n",
              "    }\n",
              "\n",
              "    .colab-df-convert {\n",
              "      background-color: #E8F0FE;\n",
              "      border: none;\n",
              "      border-radius: 50%;\n",
              "      cursor: pointer;\n",
              "      display: none;\n",
              "      fill: #1967D2;\n",
              "      height: 32px;\n",
              "      padding: 0 0 0 0;\n",
              "      width: 32px;\n",
              "    }\n",
              "\n",
              "    .colab-df-convert:hover {\n",
              "      background-color: #E2EBFA;\n",
              "      box-shadow: 0px 1px 2px rgba(60, 64, 67, 0.3), 0px 1px 3px 1px rgba(60, 64, 67, 0.15);\n",
              "      fill: #174EA6;\n",
              "    }\n",
              "\n",
              "    .colab-df-buttons div {\n",
              "      margin-bottom: 4px;\n",
              "    }\n",
              "\n",
              "    [theme=dark] .colab-df-convert {\n",
              "      background-color: #3B4455;\n",
              "      fill: #D2E3FC;\n",
              "    }\n",
              "\n",
              "    [theme=dark] .colab-df-convert:hover {\n",
              "      background-color: #434B5C;\n",
              "      box-shadow: 0px 1px 3px 1px rgba(0, 0, 0, 0.15);\n",
              "      filter: drop-shadow(0px 1px 2px rgba(0, 0, 0, 0.3));\n",
              "      fill: #FFFFFF;\n",
              "    }\n",
              "  </style>\n",
              "\n",
              "    <script>\n",
              "      const buttonEl =\n",
              "        document.querySelector('#df-d1804ab2-7bfd-4175-a8ed-1e97d45e2573 button.colab-df-convert');\n",
              "      buttonEl.style.display =\n",
              "        google.colab.kernel.accessAllowed ? 'block' : 'none';\n",
              "\n",
              "      async function convertToInteractive(key) {\n",
              "        const element = document.querySelector('#df-d1804ab2-7bfd-4175-a8ed-1e97d45e2573');\n",
              "        const dataTable =\n",
              "          await google.colab.kernel.invokeFunction('convertToInteractive',\n",
              "                                                    [key], {});\n",
              "        if (!dataTable) return;\n",
              "\n",
              "        const docLinkHtml = 'Like what you see? Visit the ' +\n",
              "          '<a target=\"_blank\" href=https://colab.research.google.com/notebooks/data_table.ipynb>data table notebook</a>'\n",
              "          + ' to learn more about interactive tables.';\n",
              "        element.innerHTML = '';\n",
              "        dataTable['output_type'] = 'display_data';\n",
              "        await google.colab.output.renderOutput(dataTable, element);\n",
              "        const docLink = document.createElement('div');\n",
              "        docLink.innerHTML = docLinkHtml;\n",
              "        element.appendChild(docLink);\n",
              "      }\n",
              "    </script>\n",
              "  </div>\n",
              "\n",
              "\n",
              "    <div id=\"df-effe67a1-9f03-4b51-ab90-a0ca2c5a4b03\">\n",
              "      <button class=\"colab-df-quickchart\" onclick=\"quickchart('df-effe67a1-9f03-4b51-ab90-a0ca2c5a4b03')\"\n",
              "                title=\"Suggest charts\"\n",
              "                style=\"display:none;\">\n",
              "\n",
              "<svg xmlns=\"http://www.w3.org/2000/svg\" height=\"24px\"viewBox=\"0 0 24 24\"\n",
              "     width=\"24px\">\n",
              "    <g>\n",
              "        <path d=\"M19 3H5c-1.1 0-2 .9-2 2v14c0 1.1.9 2 2 2h14c1.1 0 2-.9 2-2V5c0-1.1-.9-2-2-2zM9 17H7v-7h2v7zm4 0h-2V7h2v10zm4 0h-2v-4h2v4z\"/>\n",
              "    </g>\n",
              "</svg>\n",
              "      </button>\n",
              "\n",
              "<style>\n",
              "  .colab-df-quickchart {\n",
              "      --bg-color: #E8F0FE;\n",
              "      --fill-color: #1967D2;\n",
              "      --hover-bg-color: #E2EBFA;\n",
              "      --hover-fill-color: #174EA6;\n",
              "      --disabled-fill-color: #AAA;\n",
              "      --disabled-bg-color: #DDD;\n",
              "  }\n",
              "\n",
              "  [theme=dark] .colab-df-quickchart {\n",
              "      --bg-color: #3B4455;\n",
              "      --fill-color: #D2E3FC;\n",
              "      --hover-bg-color: #434B5C;\n",
              "      --hover-fill-color: #FFFFFF;\n",
              "      --disabled-bg-color: #3B4455;\n",
              "      --disabled-fill-color: #666;\n",
              "  }\n",
              "\n",
              "  .colab-df-quickchart {\n",
              "    background-color: var(--bg-color);\n",
              "    border: none;\n",
              "    border-radius: 50%;\n",
              "    cursor: pointer;\n",
              "    display: none;\n",
              "    fill: var(--fill-color);\n",
              "    height: 32px;\n",
              "    padding: 0;\n",
              "    width: 32px;\n",
              "  }\n",
              "\n",
              "  .colab-df-quickchart:hover {\n",
              "    background-color: var(--hover-bg-color);\n",
              "    box-shadow: 0 1px 2px rgba(60, 64, 67, 0.3), 0 1px 3px 1px rgba(60, 64, 67, 0.15);\n",
              "    fill: var(--button-hover-fill-color);\n",
              "  }\n",
              "\n",
              "  .colab-df-quickchart-complete:disabled,\n",
              "  .colab-df-quickchart-complete:disabled:hover {\n",
              "    background-color: var(--disabled-bg-color);\n",
              "    fill: var(--disabled-fill-color);\n",
              "    box-shadow: none;\n",
              "  }\n",
              "\n",
              "  .colab-df-spinner {\n",
              "    border: 2px solid var(--fill-color);\n",
              "    border-color: transparent;\n",
              "    border-bottom-color: var(--fill-color);\n",
              "    animation:\n",
              "      spin 1s steps(1) infinite;\n",
              "  }\n",
              "\n",
              "  @keyframes spin {\n",
              "    0% {\n",
              "      border-color: transparent;\n",
              "      border-bottom-color: var(--fill-color);\n",
              "      border-left-color: var(--fill-color);\n",
              "    }\n",
              "    20% {\n",
              "      border-color: transparent;\n",
              "      border-left-color: var(--fill-color);\n",
              "      border-top-color: var(--fill-color);\n",
              "    }\n",
              "    30% {\n",
              "      border-color: transparent;\n",
              "      border-left-color: var(--fill-color);\n",
              "      border-top-color: var(--fill-color);\n",
              "      border-right-color: var(--fill-color);\n",
              "    }\n",
              "    40% {\n",
              "      border-color: transparent;\n",
              "      border-right-color: var(--fill-color);\n",
              "      border-top-color: var(--fill-color);\n",
              "    }\n",
              "    60% {\n",
              "      border-color: transparent;\n",
              "      border-right-color: var(--fill-color);\n",
              "    }\n",
              "    80% {\n",
              "      border-color: transparent;\n",
              "      border-right-color: var(--fill-color);\n",
              "      border-bottom-color: var(--fill-color);\n",
              "    }\n",
              "    90% {\n",
              "      border-color: transparent;\n",
              "      border-bottom-color: var(--fill-color);\n",
              "    }\n",
              "  }\n",
              "</style>\n",
              "\n",
              "      <script>\n",
              "        async function quickchart(key) {\n",
              "          const quickchartButtonEl =\n",
              "            document.querySelector('#' + key + ' button');\n",
              "          quickchartButtonEl.disabled = true;  // To prevent multiple clicks.\n",
              "          quickchartButtonEl.classList.add('colab-df-spinner');\n",
              "          try {\n",
              "            const charts = await google.colab.kernel.invokeFunction(\n",
              "                'suggestCharts', [key], {});\n",
              "          } catch (error) {\n",
              "            console.error('Error during call to suggestCharts:', error);\n",
              "          }\n",
              "          quickchartButtonEl.classList.remove('colab-df-spinner');\n",
              "          quickchartButtonEl.classList.add('colab-df-quickchart-complete');\n",
              "        }\n",
              "        (() => {\n",
              "          let quickchartButtonEl =\n",
              "            document.querySelector('#df-effe67a1-9f03-4b51-ab90-a0ca2c5a4b03 button');\n",
              "          quickchartButtonEl.style.display =\n",
              "            google.colab.kernel.accessAllowed ? 'block' : 'none';\n",
              "        })();\n",
              "      </script>\n",
              "    </div>\n",
              "\n",
              "  <div id=\"id_70b30e30-22d5-48d8-9c55-addd8646d8f1\">\n",
              "    <style>\n",
              "      .colab-df-generate {\n",
              "        background-color: #E8F0FE;\n",
              "        border: none;\n",
              "        border-radius: 50%;\n",
              "        cursor: pointer;\n",
              "        display: none;\n",
              "        fill: #1967D2;\n",
              "        height: 32px;\n",
              "        padding: 0 0 0 0;\n",
              "        width: 32px;\n",
              "      }\n",
              "\n",
              "      .colab-df-generate:hover {\n",
              "        background-color: #E2EBFA;\n",
              "        box-shadow: 0px 1px 2px rgba(60, 64, 67, 0.3), 0px 1px 3px 1px rgba(60, 64, 67, 0.15);\n",
              "        fill: #174EA6;\n",
              "      }\n",
              "\n",
              "      [theme=dark] .colab-df-generate {\n",
              "        background-color: #3B4455;\n",
              "        fill: #D2E3FC;\n",
              "      }\n",
              "\n",
              "      [theme=dark] .colab-df-generate:hover {\n",
              "        background-color: #434B5C;\n",
              "        box-shadow: 0px 1px 3px 1px rgba(0, 0, 0, 0.15);\n",
              "        filter: drop-shadow(0px 1px 2px rgba(0, 0, 0, 0.3));\n",
              "        fill: #FFFFFF;\n",
              "      }\n",
              "    </style>\n",
              "    <button class=\"colab-df-generate\" onclick=\"generateWithVariable('acc_df')\"\n",
              "            title=\"Generate code using this dataframe.\"\n",
              "            style=\"display:none;\">\n",
              "\n",
              "  <svg xmlns=\"http://www.w3.org/2000/svg\" height=\"24px\"viewBox=\"0 0 24 24\"\n",
              "       width=\"24px\">\n",
              "    <path d=\"M7,19H8.4L18.45,9,17,7.55,7,17.6ZM5,21V16.75L18.45,3.32a2,2,0,0,1,2.83,0l1.4,1.43a1.91,1.91,0,0,1,.58,1.4,1.91,1.91,0,0,1-.58,1.4L9.25,21ZM18.45,9,17,7.55Zm-12,3A5.31,5.31,0,0,0,4.9,8.1,5.31,5.31,0,0,0,1,6.5,5.31,5.31,0,0,0,4.9,4.9,5.31,5.31,0,0,0,6.5,1,5.31,5.31,0,0,0,8.1,4.9,5.31,5.31,0,0,0,12,6.5,5.46,5.46,0,0,0,6.5,12Z\"/>\n",
              "  </svg>\n",
              "    </button>\n",
              "    <script>\n",
              "      (() => {\n",
              "      const buttonEl =\n",
              "        document.querySelector('#id_70b30e30-22d5-48d8-9c55-addd8646d8f1 button.colab-df-generate');\n",
              "      buttonEl.style.display =\n",
              "        google.colab.kernel.accessAllowed ? 'block' : 'none';\n",
              "\n",
              "      buttonEl.onclick = () => {\n",
              "        google.colab.notebook.generateWithVariable('acc_df');\n",
              "      }\n",
              "      })();\n",
              "    </script>\n",
              "  </div>\n",
              "\n",
              "    </div>\n",
              "  </div>\n"
            ],
            "application/vnd.google.colaboratory.intrinsic+json": {
              "type": "dataframe",
              "variable_name": "acc_df",
              "summary": "{\n  \"name\": \"acc_df\",\n  \"rows\": 3,\n  \"fields\": [\n    {\n      \"column\": \"Model\",\n      \"properties\": {\n        \"dtype\": \"string\",\n        \"num_unique_values\": 3,\n        \"samples\": [\n          \"Random Forest Classifier\",\n          \"Logistic Regression\",\n          \"Multinomial Naive Bayes\"\n        ],\n        \"semantic_type\": \"\",\n        \"description\": \"\"\n      }\n    },\n    {\n      \"column\": \"Recall (%)\",\n      \"properties\": {\n        \"dtype\": \"number\",\n        \"std\": 5.006329327294932,\n        \"min\": 89.9,\n        \"max\": 98.9,\n        \"num_unique_values\": 3,\n        \"samples\": [\n          98.9,\n          98.2,\n          89.9\n        ],\n        \"semantic_type\": \"\",\n        \"description\": \"\"\n      }\n    }\n  ]\n}"
            }
          },
          "metadata": {},
          "execution_count": 140
        }
      ]
    },
    {
      "cell_type": "code",
      "source": [
        "# easy dataset logistic ression model\n",
        "df_easy"
      ],
      "metadata": {
        "colab": {
          "base_uri": "https://localhost:8080/",
          "height": 89
        },
        "id": "7levgz4ApeMY",
        "outputId": "18b1cca1-27d1-448d-d63d-933d6cd85fc0"
      },
      "execution_count": 145,
      "outputs": [
        {
          "output_type": "execute_result",
          "data": {
            "text/plain": [
              "                 Model  Train Accuracy (%)  Test Accuracy (%)  Precision (%)  \\\n",
              "0  Logistic Regression                98.6               96.3           96.9   \n",
              "\n",
              "   Recall (%)  \n",
              "0        97.9  "
            ],
            "text/html": [
              "\n",
              "  <div id=\"df-7b9c661f-1648-440d-8980-b1c1fdd12b9c\" class=\"colab-df-container\">\n",
              "    <div>\n",
              "<style scoped>\n",
              "    .dataframe tbody tr th:only-of-type {\n",
              "        vertical-align: middle;\n",
              "    }\n",
              "\n",
              "    .dataframe tbody tr th {\n",
              "        vertical-align: top;\n",
              "    }\n",
              "\n",
              "    .dataframe thead th {\n",
              "        text-align: right;\n",
              "    }\n",
              "</style>\n",
              "<table border=\"1\" class=\"dataframe\">\n",
              "  <thead>\n",
              "    <tr style=\"text-align: right;\">\n",
              "      <th></th>\n",
              "      <th>Model</th>\n",
              "      <th>Train Accuracy (%)</th>\n",
              "      <th>Test Accuracy (%)</th>\n",
              "      <th>Precision (%)</th>\n",
              "      <th>Recall (%)</th>\n",
              "    </tr>\n",
              "  </thead>\n",
              "  <tbody>\n",
              "    <tr>\n",
              "      <th>0</th>\n",
              "      <td>Logistic Regression</td>\n",
              "      <td>98.6</td>\n",
              "      <td>96.3</td>\n",
              "      <td>96.9</td>\n",
              "      <td>97.9</td>\n",
              "    </tr>\n",
              "  </tbody>\n",
              "</table>\n",
              "</div>\n",
              "    <div class=\"colab-df-buttons\">\n",
              "\n",
              "  <div class=\"colab-df-container\">\n",
              "    <button class=\"colab-df-convert\" onclick=\"convertToInteractive('df-7b9c661f-1648-440d-8980-b1c1fdd12b9c')\"\n",
              "            title=\"Convert this dataframe to an interactive table.\"\n",
              "            style=\"display:none;\">\n",
              "\n",
              "  <svg xmlns=\"http://www.w3.org/2000/svg\" height=\"24px\" viewBox=\"0 -960 960 960\">\n",
              "    <path d=\"M120-120v-720h720v720H120Zm60-500h600v-160H180v160Zm220 220h160v-160H400v160Zm0 220h160v-160H400v160ZM180-400h160v-160H180v160Zm440 0h160v-160H620v160ZM180-180h160v-160H180v160Zm440 0h160v-160H620v160Z\"/>\n",
              "  </svg>\n",
              "    </button>\n",
              "\n",
              "  <style>\n",
              "    .colab-df-container {\n",
              "      display:flex;\n",
              "      gap: 12px;\n",
              "    }\n",
              "\n",
              "    .colab-df-convert {\n",
              "      background-color: #E8F0FE;\n",
              "      border: none;\n",
              "      border-radius: 50%;\n",
              "      cursor: pointer;\n",
              "      display: none;\n",
              "      fill: #1967D2;\n",
              "      height: 32px;\n",
              "      padding: 0 0 0 0;\n",
              "      width: 32px;\n",
              "    }\n",
              "\n",
              "    .colab-df-convert:hover {\n",
              "      background-color: #E2EBFA;\n",
              "      box-shadow: 0px 1px 2px rgba(60, 64, 67, 0.3), 0px 1px 3px 1px rgba(60, 64, 67, 0.15);\n",
              "      fill: #174EA6;\n",
              "    }\n",
              "\n",
              "    .colab-df-buttons div {\n",
              "      margin-bottom: 4px;\n",
              "    }\n",
              "\n",
              "    [theme=dark] .colab-df-convert {\n",
              "      background-color: #3B4455;\n",
              "      fill: #D2E3FC;\n",
              "    }\n",
              "\n",
              "    [theme=dark] .colab-df-convert:hover {\n",
              "      background-color: #434B5C;\n",
              "      box-shadow: 0px 1px 3px 1px rgba(0, 0, 0, 0.15);\n",
              "      filter: drop-shadow(0px 1px 2px rgba(0, 0, 0, 0.3));\n",
              "      fill: #FFFFFF;\n",
              "    }\n",
              "  </style>\n",
              "\n",
              "    <script>\n",
              "      const buttonEl =\n",
              "        document.querySelector('#df-7b9c661f-1648-440d-8980-b1c1fdd12b9c button.colab-df-convert');\n",
              "      buttonEl.style.display =\n",
              "        google.colab.kernel.accessAllowed ? 'block' : 'none';\n",
              "\n",
              "      async function convertToInteractive(key) {\n",
              "        const element = document.querySelector('#df-7b9c661f-1648-440d-8980-b1c1fdd12b9c');\n",
              "        const dataTable =\n",
              "          await google.colab.kernel.invokeFunction('convertToInteractive',\n",
              "                                                    [key], {});\n",
              "        if (!dataTable) return;\n",
              "\n",
              "        const docLinkHtml = 'Like what you see? Visit the ' +\n",
              "          '<a target=\"_blank\" href=https://colab.research.google.com/notebooks/data_table.ipynb>data table notebook</a>'\n",
              "          + ' to learn more about interactive tables.';\n",
              "        element.innerHTML = '';\n",
              "        dataTable['output_type'] = 'display_data';\n",
              "        await google.colab.output.renderOutput(dataTable, element);\n",
              "        const docLink = document.createElement('div');\n",
              "        docLink.innerHTML = docLinkHtml;\n",
              "        element.appendChild(docLink);\n",
              "      }\n",
              "    </script>\n",
              "  </div>\n",
              "\n",
              "\n",
              "  <div id=\"id_70bc7d31-cded-41bc-86cf-368534476993\">\n",
              "    <style>\n",
              "      .colab-df-generate {\n",
              "        background-color: #E8F0FE;\n",
              "        border: none;\n",
              "        border-radius: 50%;\n",
              "        cursor: pointer;\n",
              "        display: none;\n",
              "        fill: #1967D2;\n",
              "        height: 32px;\n",
              "        padding: 0 0 0 0;\n",
              "        width: 32px;\n",
              "      }\n",
              "\n",
              "      .colab-df-generate:hover {\n",
              "        background-color: #E2EBFA;\n",
              "        box-shadow: 0px 1px 2px rgba(60, 64, 67, 0.3), 0px 1px 3px 1px rgba(60, 64, 67, 0.15);\n",
              "        fill: #174EA6;\n",
              "      }\n",
              "\n",
              "      [theme=dark] .colab-df-generate {\n",
              "        background-color: #3B4455;\n",
              "        fill: #D2E3FC;\n",
              "      }\n",
              "\n",
              "      [theme=dark] .colab-df-generate:hover {\n",
              "        background-color: #434B5C;\n",
              "        box-shadow: 0px 1px 3px 1px rgba(0, 0, 0, 0.15);\n",
              "        filter: drop-shadow(0px 1px 2px rgba(0, 0, 0, 0.3));\n",
              "        fill: #FFFFFF;\n",
              "      }\n",
              "    </style>\n",
              "    <button class=\"colab-df-generate\" onclick=\"generateWithVariable('df_easy')\"\n",
              "            title=\"Generate code using this dataframe.\"\n",
              "            style=\"display:none;\">\n",
              "\n",
              "  <svg xmlns=\"http://www.w3.org/2000/svg\" height=\"24px\"viewBox=\"0 0 24 24\"\n",
              "       width=\"24px\">\n",
              "    <path d=\"M7,19H8.4L18.45,9,17,7.55,7,17.6ZM5,21V16.75L18.45,3.32a2,2,0,0,1,2.83,0l1.4,1.43a1.91,1.91,0,0,1,.58,1.4,1.91,1.91,0,0,1-.58,1.4L9.25,21ZM18.45,9,17,7.55Zm-12,3A5.31,5.31,0,0,0,4.9,8.1,5.31,5.31,0,0,0,1,6.5,5.31,5.31,0,0,0,4.9,4.9,5.31,5.31,0,0,0,6.5,1,5.31,5.31,0,0,0,8.1,4.9,5.31,5.31,0,0,0,12,6.5,5.46,5.46,0,0,0,6.5,12Z\"/>\n",
              "  </svg>\n",
              "    </button>\n",
              "    <script>\n",
              "      (() => {\n",
              "      const buttonEl =\n",
              "        document.querySelector('#id_70bc7d31-cded-41bc-86cf-368534476993 button.colab-df-generate');\n",
              "      buttonEl.style.display =\n",
              "        google.colab.kernel.accessAllowed ? 'block' : 'none';\n",
              "\n",
              "      buttonEl.onclick = () => {\n",
              "        google.colab.notebook.generateWithVariable('df_easy');\n",
              "      }\n",
              "      })();\n",
              "    </script>\n",
              "  </div>\n",
              "\n",
              "    </div>\n",
              "  </div>\n"
            ],
            "application/vnd.google.colaboratory.intrinsic+json": {
              "type": "dataframe",
              "variable_name": "df_easy",
              "summary": "{\n  \"name\": \"df_easy\",\n  \"rows\": 1,\n  \"fields\": [\n    {\n      \"column\": \"Model\",\n      \"properties\": {\n        \"dtype\": \"string\",\n        \"num_unique_values\": 1,\n        \"samples\": [\n          \"Logistic Regression\"\n        ],\n        \"semantic_type\": \"\",\n        \"description\": \"\"\n      }\n    },\n    {\n      \"column\": \"Train Accuracy (%)\",\n      \"properties\": {\n        \"dtype\": \"number\",\n        \"std\": null,\n        \"min\": 98.6,\n        \"max\": 98.6,\n        \"num_unique_values\": 1,\n        \"samples\": [\n          98.6\n        ],\n        \"semantic_type\": \"\",\n        \"description\": \"\"\n      }\n    },\n    {\n      \"column\": \"Test Accuracy (%)\",\n      \"properties\": {\n        \"dtype\": \"number\",\n        \"std\": null,\n        \"min\": 96.3,\n        \"max\": 96.3,\n        \"num_unique_values\": 1,\n        \"samples\": [\n          96.3\n        ],\n        \"semantic_type\": \"\",\n        \"description\": \"\"\n      }\n    },\n    {\n      \"column\": \"Precision (%)\",\n      \"properties\": {\n        \"dtype\": \"number\",\n        \"std\": null,\n        \"min\": 96.9,\n        \"max\": 96.9,\n        \"num_unique_values\": 1,\n        \"samples\": [\n          96.9\n        ],\n        \"semantic_type\": \"\",\n        \"description\": \"\"\n      }\n    },\n    {\n      \"column\": \"Recall (%)\",\n      \"properties\": {\n        \"dtype\": \"number\",\n        \"std\": null,\n        \"min\": 97.9,\n        \"max\": 97.9,\n        \"num_unique_values\": 1,\n        \"samples\": [\n          97.9\n        ],\n        \"semantic_type\": \"\",\n        \"description\": \"\"\n      }\n    }\n  ]\n}"
            }
          },
          "metadata": {},
          "execution_count": 145
        }
      ]
    },
    {
      "cell_type": "code",
      "source": [
        "# random forest classifier\n",
        "df_results_2[2:]"
      ],
      "metadata": {
        "colab": {
          "base_uri": "https://localhost:8080/",
          "height": 81
        },
        "id": "vHvD0_uopGZY",
        "outputId": "b0ef71b6-c6f8-4471-bb39-4538aa89c8c9"
      },
      "execution_count": 143,
      "outputs": [
        {
          "output_type": "execute_result",
          "data": {
            "text/plain": [
              "                      Model  Train Accuracy (%)  Test Accuracy (%)  \\\n",
              "2  Random Forest Classifier                95.5               94.5   \n",
              "\n",
              "   Precision (%)  Recall (%)  \n",
              "2           96.2        98.9  "
            ],
            "text/html": [
              "\n",
              "  <div id=\"df-7dc0a44e-c590-4d82-9fd7-a35a17a4e53f\" class=\"colab-df-container\">\n",
              "    <div>\n",
              "<style scoped>\n",
              "    .dataframe tbody tr th:only-of-type {\n",
              "        vertical-align: middle;\n",
              "    }\n",
              "\n",
              "    .dataframe tbody tr th {\n",
              "        vertical-align: top;\n",
              "    }\n",
              "\n",
              "    .dataframe thead th {\n",
              "        text-align: right;\n",
              "    }\n",
              "</style>\n",
              "<table border=\"1\" class=\"dataframe\">\n",
              "  <thead>\n",
              "    <tr style=\"text-align: right;\">\n",
              "      <th></th>\n",
              "      <th>Model</th>\n",
              "      <th>Train Accuracy (%)</th>\n",
              "      <th>Test Accuracy (%)</th>\n",
              "      <th>Precision (%)</th>\n",
              "      <th>Recall (%)</th>\n",
              "    </tr>\n",
              "  </thead>\n",
              "  <tbody>\n",
              "    <tr>\n",
              "      <th>2</th>\n",
              "      <td>Random Forest Classifier</td>\n",
              "      <td>95.5</td>\n",
              "      <td>94.5</td>\n",
              "      <td>96.2</td>\n",
              "      <td>98.9</td>\n",
              "    </tr>\n",
              "  </tbody>\n",
              "</table>\n",
              "</div>\n",
              "    <div class=\"colab-df-buttons\">\n",
              "\n",
              "  <div class=\"colab-df-container\">\n",
              "    <button class=\"colab-df-convert\" onclick=\"convertToInteractive('df-7dc0a44e-c590-4d82-9fd7-a35a17a4e53f')\"\n",
              "            title=\"Convert this dataframe to an interactive table.\"\n",
              "            style=\"display:none;\">\n",
              "\n",
              "  <svg xmlns=\"http://www.w3.org/2000/svg\" height=\"24px\" viewBox=\"0 -960 960 960\">\n",
              "    <path d=\"M120-120v-720h720v720H120Zm60-500h600v-160H180v160Zm220 220h160v-160H400v160Zm0 220h160v-160H400v160ZM180-400h160v-160H180v160Zm440 0h160v-160H620v160ZM180-180h160v-160H180v160Zm440 0h160v-160H620v160Z\"/>\n",
              "  </svg>\n",
              "    </button>\n",
              "\n",
              "  <style>\n",
              "    .colab-df-container {\n",
              "      display:flex;\n",
              "      gap: 12px;\n",
              "    }\n",
              "\n",
              "    .colab-df-convert {\n",
              "      background-color: #E8F0FE;\n",
              "      border: none;\n",
              "      border-radius: 50%;\n",
              "      cursor: pointer;\n",
              "      display: none;\n",
              "      fill: #1967D2;\n",
              "      height: 32px;\n",
              "      padding: 0 0 0 0;\n",
              "      width: 32px;\n",
              "    }\n",
              "\n",
              "    .colab-df-convert:hover {\n",
              "      background-color: #E2EBFA;\n",
              "      box-shadow: 0px 1px 2px rgba(60, 64, 67, 0.3), 0px 1px 3px 1px rgba(60, 64, 67, 0.15);\n",
              "      fill: #174EA6;\n",
              "    }\n",
              "\n",
              "    .colab-df-buttons div {\n",
              "      margin-bottom: 4px;\n",
              "    }\n",
              "\n",
              "    [theme=dark] .colab-df-convert {\n",
              "      background-color: #3B4455;\n",
              "      fill: #D2E3FC;\n",
              "    }\n",
              "\n",
              "    [theme=dark] .colab-df-convert:hover {\n",
              "      background-color: #434B5C;\n",
              "      box-shadow: 0px 1px 3px 1px rgba(0, 0, 0, 0.15);\n",
              "      filter: drop-shadow(0px 1px 2px rgba(0, 0, 0, 0.3));\n",
              "      fill: #FFFFFF;\n",
              "    }\n",
              "  </style>\n",
              "\n",
              "    <script>\n",
              "      const buttonEl =\n",
              "        document.querySelector('#df-7dc0a44e-c590-4d82-9fd7-a35a17a4e53f button.colab-df-convert');\n",
              "      buttonEl.style.display =\n",
              "        google.colab.kernel.accessAllowed ? 'block' : 'none';\n",
              "\n",
              "      async function convertToInteractive(key) {\n",
              "        const element = document.querySelector('#df-7dc0a44e-c590-4d82-9fd7-a35a17a4e53f');\n",
              "        const dataTable =\n",
              "          await google.colab.kernel.invokeFunction('convertToInteractive',\n",
              "                                                    [key], {});\n",
              "        if (!dataTable) return;\n",
              "\n",
              "        const docLinkHtml = 'Like what you see? Visit the ' +\n",
              "          '<a target=\"_blank\" href=https://colab.research.google.com/notebooks/data_table.ipynb>data table notebook</a>'\n",
              "          + ' to learn more about interactive tables.';\n",
              "        element.innerHTML = '';\n",
              "        dataTable['output_type'] = 'display_data';\n",
              "        await google.colab.output.renderOutput(dataTable, element);\n",
              "        const docLink = document.createElement('div');\n",
              "        docLink.innerHTML = docLinkHtml;\n",
              "        element.appendChild(docLink);\n",
              "      }\n",
              "    </script>\n",
              "  </div>\n",
              "\n",
              "\n",
              "    </div>\n",
              "  </div>\n"
            ],
            "application/vnd.google.colaboratory.intrinsic+json": {
              "type": "dataframe",
              "summary": "{\n  \"name\": \"df_results_2[2:]\",\n  \"rows\": 1,\n  \"fields\": [\n    {\n      \"column\": \"Model\",\n      \"properties\": {\n        \"dtype\": \"string\",\n        \"num_unique_values\": 1,\n        \"samples\": [\n          \"Random Forest Classifier\"\n        ],\n        \"semantic_type\": \"\",\n        \"description\": \"\"\n      }\n    },\n    {\n      \"column\": \"Train Accuracy (%)\",\n      \"properties\": {\n        \"dtype\": \"number\",\n        \"std\": null,\n        \"min\": 95.5,\n        \"max\": 95.5,\n        \"num_unique_values\": 1,\n        \"samples\": [\n          95.5\n        ],\n        \"semantic_type\": \"\",\n        \"description\": \"\"\n      }\n    },\n    {\n      \"column\": \"Test Accuracy (%)\",\n      \"properties\": {\n        \"dtype\": \"number\",\n        \"std\": null,\n        \"min\": 94.5,\n        \"max\": 94.5,\n        \"num_unique_values\": 1,\n        \"samples\": [\n          94.5\n        ],\n        \"semantic_type\": \"\",\n        \"description\": \"\"\n      }\n    },\n    {\n      \"column\": \"Precision (%)\",\n      \"properties\": {\n        \"dtype\": \"number\",\n        \"std\": null,\n        \"min\": 96.2,\n        \"max\": 96.2,\n        \"num_unique_values\": 1,\n        \"samples\": [\n          96.2\n        ],\n        \"semantic_type\": \"\",\n        \"description\": \"\"\n      }\n    },\n    {\n      \"column\": \"Recall (%)\",\n      \"properties\": {\n        \"dtype\": \"number\",\n        \"std\": null,\n        \"min\": 98.9,\n        \"max\": 98.9,\n        \"num_unique_values\": 1,\n        \"samples\": [\n          98.9\n        ],\n        \"semantic_type\": \"\",\n        \"description\": \"\"\n      }\n    }\n  ]\n}"
            }
          },
          "metadata": {},
          "execution_count": 143
        }
      ]
    },
    {
      "cell_type": "markdown",
      "source": [
        "* Satisfying close to the easy dataset metrics!"
      ],
      "metadata": {
        "id": "ekdjZ15GsRct"
      }
    },
    {
      "cell_type": "markdown",
      "source": [
        "## 🧾 **Summary**\n",
        "\n",
        "\n",
        "\n",
        "\n",
        "\n",
        "\n",
        "\n",
        "\n"
      ],
      "metadata": {
        "id": "sn3343Gge7wo"
      }
    },
    {
      "cell_type": "markdown",
      "source": [
        "### 🔥 **Random Forest Classifier**\n",
        "Based on the statistics summaries in the above DataFrames, the Random Forest classifier maintains the best trade-off for the **Hard Dataset**:\n",
        "\n",
        "* ✅ **Highest test accuracy**\n",
        "  * (94.5% vs. 93.9% for LR and 89.7% for NB)\n",
        "\n",
        "* 🔍 **Strongest recall**\n",
        "  * (98.9%—catch nearly every spam)\n",
        "\n",
        "* 👍 **Very good precision**\n",
        "  * (96.2%—still avoid most false-positives)\n",
        "\n",
        "* ↔️ **Reasonable generalization gap**\n",
        "  * (95.5% train → 94.5% test)\n",
        "\n",
        "While NB edges out on precision (97.7%) and LR on recall (98.2%), Random Forest gives **optimal performance across all categories** **without sacrificing** much performance in any one metric, while also being close enough to the performance of the easy dataset, that the differences are marginal."
      ],
      "metadata": {
        "id": "y3zOMCLJqfnj"
      }
    },
    {
      "cell_type": "markdown",
      "source": [
        "# **Appendix**"
      ],
      "metadata": {
        "id": "rpFEQx4lE05j"
      }
    },
    {
      "cell_type": "markdown",
      "source": [
        "## ✅ **Precision / Recall Disambiguation**\n",
        "\n",
        "**Precision** = TP / (TP + FP): of all emails flagged **spam**, how many truly were spam?\n",
        "\n",
        "**Recall** = TP / (TP + FN): of all **actual** spam emails, how many did it catch?"
      ],
      "metadata": {
        "id": "fj4I_1umD6He"
      }
    },
    {
      "cell_type": "markdown",
      "source": [
        "### 📥 **Precision** (When classified as “spam,” how often is it right?)\n",
        "\n",
        "  * Of all the emails the model **flags as spam**, precision is the ***percentage that are actually spam.***\n",
        "\n",
        "  * **High precision** means it ***rarely mis-labels*** a good (ham) email as spam."
      ],
      "metadata": {
        "id": "GC6G1axCEN7t"
      }
    },
    {
      "cell_type": "markdown",
      "source": [
        "### 📥 **Recall** (Of all the real spam out there, how many did it catch?)\n",
        "\n",
        "  * Of all the **actual spam** emails **in the inbox**, recall is the ***percentage the model successfully flags***.\n",
        "\n",
        "  * **High recall** means it ***misses very few spam messages***—even if it accidentally catches a bit more ham."
      ],
      "metadata": {
        "id": "qEn_bLoQEfbe"
      }
    },
    {
      "cell_type": "markdown",
      "source": [
        "### **Plain Summary**\n",
        "📥 **Precision:** “If the model quarantines 100 emails as spam, how many of those 100 are truly spam?”\n",
        "\n",
        "📤 **Recall:** “If there are 100 spam emails in total, how many did the filter actually catch?”"
      ],
      "metadata": {
        "id": "kIVhuiV3Elxi"
      }
    },
    {
      "cell_type": "markdown",
      "source": [
        "### **Further Explanation**\n",
        "Spam = Positive\n",
        "\n",
        "* 🟢✅ **TP** (True Positives): actual spam correctly labeled spam\n",
        "\n",
        "* 🔴✅ **FP** (False Positives): actual ham incorrectly labeled spam\n",
        "\n",
        "* 🔴❌ **FN** (False Negatives): actual spam missed (labeled ham)\n",
        "\n",
        "* 🟢❌ **TN** (True Negatives): actual ham correctly labeled ham\n",
        "\n"
      ],
      "metadata": {
        "id": "cV0mqML2Eswv"
      }
    },
    {
      "cell_type": "markdown",
      "source": [
        "\n",
        "\n",
        "```\n",
        "                Predicted\n",
        "               | Spam | Ham\n",
        "        ───────────────────\n",
        "Actual | Spam  |  TP  |  FN\n",
        "       | Ham   |  FP  |  TN\n",
        "       \n",
        "```\n",
        "\n"
      ],
      "metadata": {
        "id": "iKdsE1YpFQ1o"
      }
    },
    {
      "cell_type": "markdown",
      "source": [
        "### **Note on Precision/Recall Trade-off for Spam Detection**\n",
        "\n",
        "According to ChatGPT, In most spam‐filtering scenarios, **precision** tends to be the more critical metric:\n",
        "\n",
        "* **Precision** (97.7%) tells you “of all the emails we flagged as spam, 97.7% truly were spam.”\n",
        "\n",
        "  * A **high precision** means very few ham messages get mis-labeled and sent to the spam folder by mistake. Losing legitimate mail is usually more painful for users than letting a few spam messages slip through.\n",
        "\n",
        "* **Recall** (89.9%) tells you “of all the actual spam emails, we caught 89.9%.”\n",
        "\n",
        "  * A **slightly lower recall** means you’ll miss about 10% of spam (it lands in the inbox), which is annoying but generally less harmful than false positives.\n",
        "\n",
        "Because **false positives** (**ham** → **spam**) risk losing or hiding important mail, you’ll typically **optimize** for          **precision first**.\n",
        "\n",
        "You can then **tune the decision threshold** (or explore cost-sensitive training) to nudge recall higher without letting precision drop below an acceptable floor."
      ],
      "metadata": {
        "id": "nXoFdMJaWKqu"
      }
    },
    {
      "cell_type": "code",
      "source": [],
      "metadata": {
        "id": "NLvtX21tsrkT"
      },
      "execution_count": null,
      "outputs": []
    },
    {
      "cell_type": "markdown",
      "source": [
        "*Thank You*"
      ],
      "metadata": {
        "id": "zDdZva2gsopu"
      }
    },
    {
      "cell_type": "code",
      "source": [],
      "metadata": {
        "id": "-SRXQTYtmyNv"
      },
      "execution_count": null,
      "outputs": []
    }
  ]
}