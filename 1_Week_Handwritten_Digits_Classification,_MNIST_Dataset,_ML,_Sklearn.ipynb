{
  "nbformat": 4,
  "nbformat_minor": 0,
  "metadata": {
    "colab": {
      "provenance": [],
      "authorship_tag": "ABX9TyPCEGtldFAk7VnidKe+XLuc",
      "include_colab_link": true
    },
    "kernelspec": {
      "name": "python3",
      "display_name": "Python 3"
    },
    "language_info": {
      "name": "python"
    }
  },
  "cells": [
    {
      "cell_type": "markdown",
      "metadata": {
        "id": "view-in-github",
        "colab_type": "text"
      },
      "source": [
        "<a href=\"https://colab.research.google.com/github/aaronhowellai/machine-learning-projects/blob/main/1_Week_Handwritten_Digits_Classification%2C_MNIST_Dataset%2C_ML%2C_Sklearn.ipynb\" target=\"_parent\"><img src=\"https://colab.research.google.com/assets/colab-badge.svg\" alt=\"Open In Colab\"/></a>"
      ]
    },
    {
      "cell_type": "markdown",
      "source": [
        "# **1-Week Machine Learning Project for Handwritten Digits Classification** using Scikit-learn\n",
        "\n",
        "An End-to-end Machine Learning Project based on a code-along example project outlined in **Chapter 3** of **\"Hands-on Machine Learning with Scikit-Learn, Keras & TensorFlow\" by Aurélien Géron.**\n",
        "\n",
        "\n",
        "*The project outline in the book encourages the reader to engage with the sample project in such a way that you conduct your own investigation as well as following the example and understand the results yourself to form individual reflections and conclusions. This notebook is the result of that process.*"
      ],
      "metadata": {
        "id": "hRkAl2Zm_mE_"
      }
    },
    {
      "cell_type": "markdown",
      "source": [
        "### **MNIST dataset containing 70,000 small images of handwritten digits**\n",
        "\n",
        "Using the famous MNIST dataset containing 70,000 small images of handwritten digits, with the guidance of Chapter 3 \"Classification\" in Hands-on Machine Learning with Scikit-Learn, Keras & TensorFlow by Aurélien Géron, I applied techniques and methods such as Multi-class Classification, Binary Classification, Precision/Recall (F1 Score), Cross Validation, Random Forest Classification and more."
      ],
      "metadata": {
        "id": "SvkjdQCMAUbR"
      }
    },
    {
      "cell_type": "markdown",
      "source": [
        "\n",
        "\n",
        "---\n",
        "\n"
      ],
      "metadata": {
        "id": "SSWK64EYBQ1n"
      }
    },
    {
      "cell_type": "markdown",
      "source": [
        "# **Contents** <a name=\"contents\"></a>\n",
        "\n",
        "*(Click to be directed to listed content in notebook)*\n",
        "\n",
        "1. [**Problem Definition**](#problem-definition)\n",
        "2. [**Project Setup**](#project-setup)\n",
        "3. [**Exploratory Data Analysis**](#eda)\n",
        "4. [**Data Cleaning**](#data-cleaning)\n",
        "5. [**Binary Classification**](#binary-classification)\n",
        "6. [**Multiclass Classification**](#multiclass-classification)\n",
        "7. [**Project Conclusion**](#conclusion)"
      ],
      "metadata": {
        "id": "QivVFaLQBUko"
      }
    },
    {
      "cell_type": "markdown",
      "source": [
        "\n",
        "\n",
        "---\n",
        "\n"
      ],
      "metadata": {
        "id": "uhD3CqHzBU6q"
      }
    },
    {
      "cell_type": "markdown",
      "source": [
        "# **Project Setup** <a name=\"project-setup\"></a>\n",
        "* Importing Packages\n",
        "* Defining Utilities\n",
        "* Download the Data"
      ],
      "metadata": {
        "id": "-tYrfbM7A4YX"
      }
    },
    {
      "cell_type": "markdown",
      "source": [
        "## **Importing Packages**"
      ],
      "metadata": {
        "id": "n_KbcTthBGx-"
      }
    },
    {
      "cell_type": "code",
      "execution_count": 1,
      "metadata": {
        "id": "w7Hfn-Gs_KeV"
      },
      "outputs": [],
      "source": [
        "# import packages necessary for project\n",
        "import matplotlib.pyplot as plt\n",
        "import matplotlib.patches as patches\n",
        "from matplotlib.patches import FancyArrowPatch\n",
        "import numpy as np\n",
        "import seaborn as sns\n",
        "import pandas as pd\n",
        "import sys\n",
        "import os\n",
        "from pathlib import Path\n",
        "from scipy.ndimage import shift\n",
        "# extras\n",
        "import tarfile\n",
        "import urllib.request\n",
        "\n",
        "# machine learning packages\n",
        "import sklearn\n",
        "# settings\n",
        "from packaging import version\n",
        "assert version.parse(sklearn.__version__) >= version.parse(\"1.0.1\")\n",
        "# models, model operations, hyperparameter optimization\n",
        "from sklearn.base import BaseEstimator, ClassifierMixin, clone\n",
        "from sklearn.linear_model import SGDClassifier\n",
        "from sklearn.model_selection import train_test_split\n",
        "from sklearn.model_selection import cross_val_score\n",
        "from sklearn.model_selection import cross_val_predict\n",
        "from sklearn.model_selection import StratifiedKFold\n",
        "from sklearn.model_selection import GridSearchCV\n",
        "from sklearn.dummy import DummyClassifier\n",
        "from sklearn.ensemble import RandomForestClassifier\n",
        "from sklearn.svm import SVC\n",
        "from sklearn.multiclass import OneVsRestClassifier\n",
        "from sklearn.neighbors import KNeighborsClassifier\n",
        "from sklearn.multioutput import ClassifierChain\n",
        "# checks, inspection, metrics, estimators\n",
        "from sklearn.metrics import confusion_matrix\n",
        "from sklearn.metrics import ConfusionMatrixDisplay\n",
        "from sklearn.metrics import precision_score, recall_score\n",
        "from sklearn.metrics import precision_recall_curve\n",
        "from sklearn.metrics import f1_score\n",
        "from sklearn.metrics import roc_curve\n",
        "from sklearn.metrics import roc_auc_score\n",
        "# dataset, data treatments\n",
        "from sklearn.datasets import fetch_openml\n",
        "from sklearn.compose import ColumnTransformer\n",
        "# imputation\n",
        "from sklearn.impute import KNNImputer\n",
        "from sklearn.impute import SimpleImputer\n",
        "# // preprocessing\n",
        "# encoders\n",
        "from sklearn.preprocessing import OrdinalEncoder, OneHotEncoder\n",
        "# scalers\n",
        "from sklearn.preprocessing import StandardScaler\n",
        "# pipeline operations\n",
        "from sklearn.pipeline import Pipeline\n",
        "from sklearn.pipeline import make_pipeline\n",
        "# error predictions"
      ]
    },
    {
      "cell_type": "markdown",
      "source": [
        "## **Defining Utilities** <a name=\"utilities\"></a>"
      ],
      "metadata": {
        "id": "kwKiHhyPL4wt"
      }
    },
    {
      "cell_type": "code",
      "source": [
        "# (1) plot image data\n",
        "def plot_digit(image_data):\n",
        "  image = image_data.reshape(28, 28)\n",
        "  plt.imshow(image, cmap='binary')\n",
        "  plt.axis('off')\n",
        "\n",
        "# +--------------------------------------------------------------------------------------------------------------------------------------+\n",
        "\n",
        "# (2) plotting settings\n",
        "plt.rc('font',size=14)\n",
        "plt.rc('axes',labelsize=14, titlesize=14)\n",
        "plt.rc('legend',fontsize=14)\n",
        "plt.rc('xtick',labelsize=10)\n",
        "plt.rc('ytick',labelsize=10)\n",
        "\n",
        "# +--------------------------------------------------------------------------------------------------------------------------------------+\n",
        "\n",
        "# (3) enable dark mode for plots\n",
        "plt.style.use('dark_background')\n",
        "\n",
        "# +--------------------------------------------------------------------------------------------------------------------------------------+\n",
        "\n",
        "# (4) set random seed value\n",
        "np.random.seed(42)\n",
        "random_state_val = 42\n",
        "\n",
        "# +--------------------------------------------------------------------------------------------------------------------------------------+\n",
        "\n",
        "# (5) set test_size value\n",
        "test_size_val = .2\n",
        "\n",
        "# +--------------------------------------------------------------------------------------------------------------------------------------+\n",
        "\n",
        "# (6) custom cross-validation estimator with stratifiedKfold (for bespoke control)\n",
        "class StratifiedKFoldCV(BaseEstimator, ClassifierMixin):\n",
        "  def __init__(self,\n",
        "               base_estimator,\n",
        "               n_splits=3,\n",
        "               random_state=None,\n",
        "               shuffle=False\n",
        "               ):\n",
        "    self.base_estimator = base_estimator\n",
        "    self.n_splits = n_splits\n",
        "    self.random_state = random_state\n",
        "    self.shuffle = shuffle\n",
        "    self.scores_ = []\n",
        "\n",
        "  def fit(self, X, y):\n",
        "    skf = StratifiedKFold(\n",
        "        n_splits=self.n_splits,\n",
        "        random_state=self.random_state,\n",
        "        shuffle=self.shuffle\n",
        "    )\n",
        "    self.scores_ = []\n",
        "\n",
        "    for train_index, test_index in skf.split(X, y):\n",
        "      X_train, y_train = X[train_index], y[train_index]\n",
        "      X_test, y_test = X[test_index], y[test_index]\n",
        "\n",
        "      clf = clone(self.base_estimator)\n",
        "      clf.fit(X_train, y_train)\n",
        "      score = clf.score(X_test, y_test) # accuracy\n",
        "      self.scores_.append(score)\n",
        "\n",
        "    return self\n",
        "\n",
        "  def predict(self, X):\n",
        "    raise NotImplementedError(\"This estimator is for cross-validation only.\")\n",
        "\n",
        "  def score(self, X=None, y=None):\n",
        "    return np.mean(self.scores_)"
      ],
      "metadata": {
        "id": "MiROuNnfL-i4"
      },
      "execution_count": 2,
      "outputs": []
    },
    {
      "cell_type": "markdown",
      "source": [
        "# **Exploratory Data Analysis** <a name=\"eda\"></a>\n",
        "[Scroll back to contents ↑](#contents)"
      ],
      "metadata": {
        "id": "yAvMpsD9R6th"
      }
    },
    {
      "cell_type": "markdown",
      "source": [
        "## **Download the Data**"
      ],
      "metadata": {
        "id": "quISQrVYRg0Q"
      }
    },
    {
      "cell_type": "code",
      "source": [
        "# download the data\n",
        "mnist = fetch_openml('mnist_784',as_frame=False) # set numpy arrays as default"
      ],
      "metadata": {
        "id": "mkkYzEhsRlcW"
      },
      "execution_count": 3,
      "outputs": []
    },
    {
      "cell_type": "markdown",
      "source": [
        "## **Observe the condition of the data**"
      ],
      "metadata": {
        "id": "ggov0IgLSPJK"
      }
    },
    {
      "cell_type": "code",
      "source": [
        "# describe\n",
        "print(mnist.DESCR)"
      ],
      "metadata": {
        "colab": {
          "base_uri": "https://localhost:8080/"
        },
        "id": "R-4qL112SXDM",
        "outputId": "ef2504d6-9e49-4d88-ea0e-0f3ed364f1fc"
      },
      "execution_count": 4,
      "outputs": [
        {
          "output_type": "stream",
          "name": "stdout",
          "text": [
            "**Author**: Yann LeCun, Corinna Cortes, Christopher J.C. Burges  \n",
            "**Source**: [MNIST Website](http://yann.lecun.com/exdb/mnist/) - Date unknown  \n",
            "**Please cite**:  \n",
            "\n",
            "The MNIST database of handwritten digits with 784 features, raw data available at: http://yann.lecun.com/exdb/mnist/. It can be split in a training set of the first 60,000 examples, and a test set of 10,000 examples  \n",
            "\n",
            "It is a subset of a larger set available from NIST. The digits have been size-normalized and centered in a fixed-size image. It is a good database for people who want to try learning techniques and pattern recognition methods on real-world data while spending minimal efforts on preprocessing and formatting. The original black and white (bilevel) images from NIST were size normalized to fit in a 20x20 pixel box while preserving their aspect ratio. The resulting images contain grey levels as a result of the anti-aliasing technique used by the normalization algorithm. the images were centered in a 28x28 image by computing the center of mass of the pixels, and translating the image so as to position this point at the center of the 28x28 field.  \n",
            "\n",
            "With some classification methods (particularly template-based methods, such as SVM and K-nearest neighbors), the error rate improves when the digits are centered by bounding box rather than center of mass. If you do this kind of pre-processing, you should report it in your publications. The MNIST database was constructed from NIST's NIST originally designated SD-3 as their training set and SD-1 as their test set. However, SD-3 is much cleaner and easier to recognize than SD-1. The reason for this can be found on the fact that SD-3 was collected among Census Bureau employees, while SD-1 was collected among high-school students. Drawing sensible conclusions from learning experiments requires that the result be independent of the choice of training set and test among the complete set of samples. Therefore it was necessary to build a new database by mixing NIST's datasets.  \n",
            "\n",
            "The MNIST training set is composed of 30,000 patterns from SD-3 and 30,000 patterns from SD-1. Our test set was composed of 5,000 patterns from SD-3 and 5,000 patterns from SD-1. The 60,000 pattern training set contained examples from approximately 250 writers. We made sure that the sets of writers of the training set and test set were disjoint. SD-1 contains 58,527 digit images written by 500 different writers. In contrast to SD-3, where blocks of data from each writer appeared in sequence, the data in SD-1 is scrambled. Writer identities for SD-1 is available and we used this information to unscramble the writers. We then split SD-1 in two: characters written by the first 250 writers went into our new training set. The remaining 250 writers were placed in our test set. Thus we had two sets with nearly 30,000 examples each. The new training set was completed with enough examples from SD-3, starting at pattern # 0, to make a full set of 60,000 training patterns. Similarly, the new test set was completed with SD-3 examples starting at pattern # 35,000 to make a full set with 60,000 test patterns. Only a subset of 10,000 test images (5,000 from SD-1 and 5,000 from SD-3) is available on this site. The full 60,000 sample training set is available.\n",
            "\n",
            "Downloaded from openml.org.\n"
          ]
        }
      ]
    },
    {
      "cell_type": "code",
      "source": [
        "# set data and target\n",
        "X, y = mnist.data, mnist.target\n",
        "X"
      ],
      "metadata": {
        "colab": {
          "base_uri": "https://localhost:8080/"
        },
        "id": "EqKX7HSlZOuy",
        "outputId": "e78fd0ee-8a92-42ca-aa84-8d4bdb390659"
      },
      "execution_count": 5,
      "outputs": [
        {
          "output_type": "execute_result",
          "data": {
            "text/plain": [
              "array([[0, 0, 0, ..., 0, 0, 0],\n",
              "       [0, 0, 0, ..., 0, 0, 0],\n",
              "       [0, 0, 0, ..., 0, 0, 0],\n",
              "       ...,\n",
              "       [0, 0, 0, ..., 0, 0, 0],\n",
              "       [0, 0, 0, ..., 0, 0, 0],\n",
              "       [0, 0, 0, ..., 0, 0, 0]])"
            ]
          },
          "metadata": {},
          "execution_count": 5
        }
      ]
    },
    {
      "cell_type": "code",
      "source": [
        "# array size\n",
        "X.shape"
      ],
      "metadata": {
        "colab": {
          "base_uri": "https://localhost:8080/"
        },
        "id": "lzgYDbp2ZNqU",
        "outputId": "1e5187d6-20af-42ae-a883-c27e8ecc1034"
      },
      "execution_count": 6,
      "outputs": [
        {
          "output_type": "execute_result",
          "data": {
            "text/plain": [
              "(70000, 784)"
            ]
          },
          "metadata": {},
          "execution_count": 6
        }
      ]
    },
    {
      "cell_type": "code",
      "source": [
        "# observe y\n",
        "y"
      ],
      "metadata": {
        "colab": {
          "base_uri": "https://localhost:8080/"
        },
        "id": "xMZ1VFGZZNmd",
        "outputId": "9b397912-72fe-49f2-8b75-2cb833b1038e"
      },
      "execution_count": 7,
      "outputs": [
        {
          "output_type": "execute_result",
          "data": {
            "text/plain": [
              "array(['5', '0', '4', ..., '4', '5', '6'], dtype=object)"
            ]
          },
          "metadata": {},
          "execution_count": 7
        }
      ]
    },
    {
      "cell_type": "code",
      "source": [
        "# y array size\n",
        "y.shape"
      ],
      "metadata": {
        "colab": {
          "base_uri": "https://localhost:8080/"
        },
        "id": "dqA_8yBaZNZI",
        "outputId": "62dfa9e4-5cb0-4f8e-e6b6-856f1aa7f784"
      },
      "execution_count": 8,
      "outputs": [
        {
          "output_type": "execute_result",
          "data": {
            "text/plain": [
              "(70000,)"
            ]
          },
          "metadata": {},
          "execution_count": 8
        }
      ]
    },
    {
      "cell_type": "code",
      "source": [
        "# view a digit instance\n",
        "some_digit = X[0]\n",
        "plot_digit(some_digit)\n",
        "plt.show()"
      ],
      "metadata": {
        "colab": {
          "base_uri": "https://localhost:8080/",
          "height": 406
        },
        "id": "0m52PdjwaWmk",
        "outputId": "8ab1caeb-20ef-416c-c7de-322722ebe2d6"
      },
      "execution_count": 9,
      "outputs": [
        {
          "output_type": "display_data",
          "data": {
            "text/plain": [
              "<Figure size 640x480 with 1 Axes>"
            ],
            "image/png": "[encoded data removed]"
          },
          "metadata": {}
        }
      ]
    },
    {
      "cell_type": "code",
      "source": [
        "# view the label for this instance\n",
        "y[0]"
      ],
      "metadata": {
        "colab": {
          "base_uri": "https://localhost:8080/",
          "height": 36
        },
        "id": "sZEesbNdaWf5",
        "outputId": "3a852961-d4b5-4e7b-9cd9-0146957c86ce"
      },
      "execution_count": 10,
      "outputs": [
        {
          "output_type": "execute_result",
          "data": {
            "text/plain": [
              "'5'"
            ],
            "application/vnd.google.colaboratory.intrinsic+json": {
              "type": "string"
            }
          },
          "metadata": {},
          "execution_count": 10
        }
      ]
    },
    {
      "cell_type": "code",
      "source": [
        "# define the train-test split (the first 60,000 images are already defined as the training set and pre-shuffled)\n",
        "X_train, X_test, y_train, y_test = X[:60000], X[60000:], y[:60000], y[60000:]"
      ],
      "metadata": {
        "id": "i4o1JsQvbLYo"
      },
      "execution_count": 11,
      "outputs": []
    },
    {
      "cell_type": "code",
      "source": [
        "# digits from the MNIST dataset\n",
        "plt.figure(figsize=(9, 9))\n",
        "for idx, image_data in enumerate(X[:100]):\n",
        "  plt.subplot(10,10, idx + 1)\n",
        "  plot_digit(image_data)\n",
        "plt.subplots_adjust(wspace=0, hspace=0)\n",
        "plt.show()"
      ],
      "metadata": {
        "colab": {
          "base_uri": "https://localhost:8080/",
          "height": 729
        },
        "id": "VDe8HvK3aWag",
        "outputId": "e76cb60e-c058-461e-85e7-2b48832bc809"
      },
      "execution_count": 12,
      "outputs": [
        {
          "output_type": "display_data",
          "data": {
            "text/plain": [
              "<Figure size 900x900 with 100 Axes>"
            ],
            "image/png": "[encoded data removed]"
          },
          "metadata": {}
        }
      ]
    },
    {
      "cell_type": "markdown",
      "source": [
        "# **Binary Classification** <a name=\"binary-classification\"></a>\n",
        "[Scroll back to contents ↑](#contents)"
      ],
      "metadata": {
        "id": "VYKn1oAGVUxV"
      }
    },
    {
      "cell_type": "markdown",
      "source": [
        "## **Training a Binary Classifier**\n",
        "To start simply, the model will only be trained to detect the digit of 5."
      ],
      "metadata": {
        "id": "92Mre5sYd1MF"
      }
    },
    {
      "cell_type": "code",
      "source": [
        "# 5 detector (2 classes: 5 and not 5)\n",
        "y_train_5 = (y_train == '5')\n",
        "y_test_5 = (y_test == '5')"
      ],
      "metadata": {
        "id": "T2hILA1bVXhy"
      },
      "execution_count": 13,
      "outputs": []
    },
    {
      "cell_type": "markdown",
      "source": [
        "## **Stochastic Gradient Descent Classifier** (Early Benchmark)\n",
        "This Binary Classifier is capable of handling very large datasets efficiently, in part because SGD deals with training instances independently, one at a time, making it suitable also for *online learning*."
      ],
      "metadata": {
        "id": "ck6hgH-XefnQ"
      }
    },
    {
      "cell_type": "code",
      "source": [
        "# initialize predictor\n",
        "sgd_clf = SGDClassifier(random_state=random_state_val)\n",
        "sgd_clf.fit(X_train, y_train_5)"
      ],
      "metadata": {
        "colab": {
          "base_uri": "https://localhost:8080/",
          "height": 81
        },
        "id": "iXqsMXosfCfe",
        "outputId": "4f58337d-919f-48d5-e4ed-ceac630b6ce5"
      },
      "execution_count": 14,
      "outputs": [
        {
          "output_type": "execute_result",
          "data": {
            "text/plain": [
              "SGDClassifier(random_state=42)"
            ],
            "text/html": [
              "<style>#sk-container-id-1 {\n",
              "  /* Definition of color scheme common for light and dark mode */\n",
              "  --sklearn-color-text: #000;\n",
              "  --sklearn-color-text-muted: #666;\n",
              "  --sklearn-color-line: gray;\n",
              "  /* Definition of color scheme for unfitted estimators */\n",
              "  --sklearn-color-unfitted-level-0: #fff5e6;\n",
              "  --sklearn-color-unfitted-level-1: #f6e4d2;\n",
              "  --sklearn-color-unfitted-level-2: #ffe0b3;\n",
              "  --sklearn-color-unfitted-level-3: chocolate;\n",
              "  /* Definition of color scheme for fitted estimators */\n",
              "  --sklearn-color-fitted-level-0: #f0f8ff;\n",
              "  --sklearn-color-fitted-level-1: #d4ebff;\n",
              "  --sklearn-color-fitted-level-2: #b3dbfd;\n",
              "  --sklearn-color-fitted-level-3: cornflowerblue;\n",
              "\n",
              "  /* Specific color for light theme */\n",
              "  --sklearn-color-text-on-default-background: var(--sg-text-color, var(--theme-code-foreground, var(--jp-content-font-color1, black)));\n",
              "  --sklearn-color-background: var(--sg-background-color, var(--theme-background, var(--jp-layout-color0, white)));\n",
              "  --sklearn-color-border-box: var(--sg-text-color, var(--theme-code-foreground, var(--jp-content-font-color1, black)));\n",
              "  --sklearn-color-icon: #696969;\n",
              "\n",
              "  @media (prefers-color-scheme: dark) {\n",
              "    /* Redefinition of color scheme for dark theme */\n",
              "    --sklearn-color-text-on-default-background: var(--sg-text-color, var(--theme-code-foreground, var(--jp-content-font-color1, white)));\n",
              "    --sklearn-color-background: var(--sg-background-color, var(--theme-background, var(--jp-layout-color0, #111)));\n",
              "    --sklearn-color-border-box: var(--sg-text-color, var(--theme-code-foreground, var(--jp-content-font-color1, white)));\n",
              "    --sklearn-color-icon: #878787;\n",
              "  }\n",
              "}\n",
              "\n",
              "#sk-container-id-1 {\n",
              "  color: var(--sklearn-color-text);\n",
              "}\n",
              "\n",
              "#sk-container-id-1 pre {\n",
              "  padding: 0;\n",
              "}\n",
              "\n",
              "#sk-container-id-1 input.sk-hidden--visually {\n",
              "  border: 0;\n",
              "  clip: rect(1px 1px 1px 1px);\n",
              "  clip: rect(1px, 1px, 1px, 1px);\n",
              "  height: 1px;\n",
              "  margin: -1px;\n",
              "  overflow: hidden;\n",
              "  padding: 0;\n",
              "  position: absolute;\n",
              "  width: 1px;\n",
              "}\n",
              "\n",
              "#sk-container-id-1 div.sk-dashed-wrapped {\n",
              "  border: 1px dashed var(--sklearn-color-line);\n",
              "  margin: 0 0.4em 0.5em 0.4em;\n",
              "  box-sizing: border-box;\n",
              "  padding-bottom: 0.4em;\n",
              "  background-color: var(--sklearn-color-background);\n",
              "}\n",
              "\n",
              "#sk-container-id-1 div.sk-container {\n",
              "  /* jupyter's `normalize.less` sets `[hidden] { display: none; }`\n",
              "     but bootstrap.min.css set `[hidden] { display: none !important; }`\n",
              "     so we also need the `!important` here to be able to override the\n",
              "     default hidden behavior on the sphinx rendered scikit-learn.org.\n",
              "     See: https://github.com/scikit-learn/scikit-learn/issues/21755 */\n",
              "  display: inline-block !important;\n",
              "  position: relative;\n",
              "}\n",
              "\n",
              "#sk-container-id-1 div.sk-text-repr-fallback {\n",
              "  display: none;\n",
              "}\n",
              "\n",
              "div.sk-parallel-item,\n",
              "div.sk-serial,\n",
              "div.sk-item {\n",
              "  /* draw centered vertical line to link estimators */\n",
              "  background-image: linear-gradient(var(--sklearn-color-text-on-default-background), var(--sklearn-color-text-on-default-background));\n",
              "  background-size: 2px 100%;\n",
              "  background-repeat: no-repeat;\n",
              "  background-position: center center;\n",
              "}\n",
              "\n",
              "/* Parallel-specific style estimator block */\n",
              "\n",
              "#sk-container-id-1 div.sk-parallel-item::after {\n",
              "  content: \"\";\n",
              "  width: 100%;\n",
              "  border-bottom: 2px solid var(--sklearn-color-text-on-default-background);\n",
              "  flex-grow: 1;\n",
              "}\n",
              "\n",
              "#sk-container-id-1 div.sk-parallel {\n",
              "  display: flex;\n",
              "  align-items: stretch;\n",
              "  justify-content: center;\n",
              "  background-color: var(--sklearn-color-background);\n",
              "  position: relative;\n",
              "}\n",
              "\n",
              "#sk-container-id-1 div.sk-parallel-item {\n",
              "  display: flex;\n",
              "  flex-direction: column;\n",
              "}\n",
              "\n",
              "#sk-container-id-1 div.sk-parallel-item:first-child::after {\n",
              "  align-self: flex-end;\n",
              "  width: 50%;\n",
              "}\n",
              "\n",
              "#sk-container-id-1 div.sk-parallel-item:last-child::after {\n",
              "  align-self: flex-start;\n",
              "  width: 50%;\n",
              "}\n",
              "\n",
              "#sk-container-id-1 div.sk-parallel-item:only-child::after {\n",
              "  width: 0;\n",
              "}\n",
              "\n",
              "/* Serial-specific style estimator block */\n",
              "\n",
              "#sk-container-id-1 div.sk-serial {\n",
              "  display: flex;\n",
              "  flex-direction: column;\n",
              "  align-items: center;\n",
              "  background-color: var(--sklearn-color-background);\n",
              "  padding-right: 1em;\n",
              "  padding-left: 1em;\n",
              "}\n",
              "\n",
              "\n",
              "/* Toggleable style: style used for estimator/Pipeline/ColumnTransformer box that is\n",
              "clickable and can be expanded/collapsed.\n",
              "- Pipeline and ColumnTransformer use this feature and define the default style\n",
              "- Estimators will overwrite some part of the style using the `sk-estimator` class\n",
              "*/\n",
              "\n",
              "/* Pipeline and ColumnTransformer style (default) */\n",
              "\n",
              "#sk-container-id-1 div.sk-toggleable {\n",
              "  /* Default theme specific background. It is overwritten whether we have a\n",
              "  specific estimator or a Pipeline/ColumnTransformer */\n",
              "  background-color: var(--sklearn-color-background);\n",
              "}\n",
              "\n",
              "/* Toggleable label */\n",
              "#sk-container-id-1 label.sk-toggleable__label {\n",
              "  cursor: pointer;\n",
              "  display: flex;\n",
              "  width: 100%;\n",
              "  margin-bottom: 0;\n",
              "  padding: 0.5em;\n",
              "  box-sizing: border-box;\n",
              "  text-align: center;\n",
              "  align-items: start;\n",
              "  justify-content: space-between;\n",
              "  gap: 0.5em;\n",
              "}\n",
              "\n",
              "#sk-container-id-1 label.sk-toggleable__label .caption {\n",
              "  font-size: 0.6rem;\n",
              "  font-weight: lighter;\n",
              "  color: var(--sklearn-color-text-muted);\n",
              "}\n",
              "\n",
              "#sk-container-id-1 label.sk-toggleable__label-arrow:before {\n",
              "  /* Arrow on the left of the label */\n",
              "  content: \"▸\";\n",
              "  float: left;\n",
              "  margin-right: 0.25em;\n",
              "  color: var(--sklearn-color-icon);\n",
              "}\n",
              "\n",
              "#sk-container-id-1 label.sk-toggleable__label-arrow:hover:before {\n",
              "  color: var(--sklearn-color-text);\n",
              "}\n",
              "\n",
              "/* Toggleable content - dropdown */\n",
              "\n",
              "#sk-container-id-1 div.sk-toggleable__content {\n",
              "  max-height: 0;\n",
              "  max-width: 0;\n",
              "  overflow: hidden;\n",
              "  text-align: left;\n",
              "  /* unfitted */\n",
              "  background-color: var(--sklearn-color-unfitted-level-0);\n",
              "}\n",
              "\n",
              "#sk-container-id-1 div.sk-toggleable__content.fitted {\n",
              "  /* fitted */\n",
              "  background-color: var(--sklearn-color-fitted-level-0);\n",
              "}\n",
              "\n",
              "#sk-container-id-1 div.sk-toggleable__content pre {\n",
              "  margin: 0.2em;\n",
              "  border-radius: 0.25em;\n",
              "  color: var(--sklearn-color-text);\n",
              "  /* unfitted */\n",
              "  background-color: var(--sklearn-color-unfitted-level-0);\n",
              "}\n",
              "\n",
              "#sk-container-id-1 div.sk-toggleable__content.fitted pre {\n",
              "  /* unfitted */\n",
              "  background-color: var(--sklearn-color-fitted-level-0);\n",
              "}\n",
              "\n",
              "#sk-container-id-1 input.sk-toggleable__control:checked~div.sk-toggleable__content {\n",
              "  /* Expand drop-down */\n",
              "  max-height: 200px;\n",
              "  max-width: 100%;\n",
              "  overflow: auto;\n",
              "}\n",
              "\n",
              "#sk-container-id-1 input.sk-toggleable__control:checked~label.sk-toggleable__label-arrow:before {\n",
              "  content: \"▾\";\n",
              "}\n",
              "\n",
              "/* Pipeline/ColumnTransformer-specific style */\n",
              "\n",
              "#sk-container-id-1 div.sk-label input.sk-toggleable__control:checked~label.sk-toggleable__label {\n",
              "  color: var(--sklearn-color-text);\n",
              "  background-color: var(--sklearn-color-unfitted-level-2);\n",
              "}\n",
              "\n",
              "#sk-container-id-1 div.sk-label.fitted input.sk-toggleable__control:checked~label.sk-toggleable__label {\n",
              "  background-color: var(--sklearn-color-fitted-level-2);\n",
              "}\n",
              "\n",
              "/* Estimator-specific style */\n",
              "\n",
              "/* Colorize estimator box */\n",
              "#sk-container-id-1 div.sk-estimator input.sk-toggleable__control:checked~label.sk-toggleable__label {\n",
              "  /* unfitted */\n",
              "  background-color: var(--sklearn-color-unfitted-level-2);\n",
              "}\n",
              "\n",
              "#sk-container-id-1 div.sk-estimator.fitted input.sk-toggleable__control:checked~label.sk-toggleable__label {\n",
              "  /* fitted */\n",
              "  background-color: var(--sklearn-color-fitted-level-2);\n",
              "}\n",
              "\n",
              "#sk-container-id-1 div.sk-label label.sk-toggleable__label,\n",
              "#sk-container-id-1 div.sk-label label {\n",
              "  /* The background is the default theme color */\n",
              "  color: var(--sklearn-color-text-on-default-background);\n",
              "}\n",
              "\n",
              "/* On hover, darken the color of the background */\n",
              "#sk-container-id-1 div.sk-label:hover label.sk-toggleable__label {\n",
              "  color: var(--sklearn-color-text);\n",
              "  background-color: var(--sklearn-color-unfitted-level-2);\n",
              "}\n",
              "\n",
              "/* Label box, darken color on hover, fitted */\n",
              "#sk-container-id-1 div.sk-label.fitted:hover label.sk-toggleable__label.fitted {\n",
              "  color: var(--sklearn-color-text);\n",
              "  background-color: var(--sklearn-color-fitted-level-2);\n",
              "}\n",
              "\n",
              "/* Estimator label */\n",
              "\n",
              "#sk-container-id-1 div.sk-label label {\n",
              "  font-family: monospace;\n",
              "  font-weight: bold;\n",
              "  display: inline-block;\n",
              "  line-height: 1.2em;\n",
              "}\n",
              "\n",
              "#sk-container-id-1 div.sk-label-container {\n",
              "  text-align: center;\n",
              "}\n",
              "\n",
              "/* Estimator-specific */\n",
              "#sk-container-id-1 div.sk-estimator {\n",
              "  font-family: monospace;\n",
              "  border: 1px dotted var(--sklearn-color-border-box);\n",
              "  border-radius: 0.25em;\n",
              "  box-sizing: border-box;\n",
              "  margin-bottom: 0.5em;\n",
              "  /* unfitted */\n",
              "  background-color: var(--sklearn-color-unfitted-level-0);\n",
              "}\n",
              "\n",
              "#sk-container-id-1 div.sk-estimator.fitted {\n",
              "  /* fitted */\n",
              "  background-color: var(--sklearn-color-fitted-level-0);\n",
              "}\n",
              "\n",
              "/* on hover */\n",
              "#sk-container-id-1 div.sk-estimator:hover {\n",
              "  /* unfitted */\n",
              "  background-color: var(--sklearn-color-unfitted-level-2);\n",
              "}\n",
              "\n",
              "#sk-container-id-1 div.sk-estimator.fitted:hover {\n",
              "  /* fitted */\n",
              "  background-color: var(--sklearn-color-fitted-level-2);\n",
              "}\n",
              "\n",
              "/* Specification for estimator info (e.g. \"i\" and \"?\") */\n",
              "\n",
              "/* Common style for \"i\" and \"?\" */\n",
              "\n",
              ".sk-estimator-doc-link,\n",
              "a:link.sk-estimator-doc-link,\n",
              "a:visited.sk-estimator-doc-link {\n",
              "  float: right;\n",
              "  font-size: smaller;\n",
              "  line-height: 1em;\n",
              "  font-family: monospace;\n",
              "  background-color: var(--sklearn-color-background);\n",
              "  border-radius: 1em;\n",
              "  height: 1em;\n",
              "  width: 1em;\n",
              "  text-decoration: none !important;\n",
              "  margin-left: 0.5em;\n",
              "  text-align: center;\n",
              "  /* unfitted */\n",
              "  border: var(--sklearn-color-unfitted-level-1) 1pt solid;\n",
              "  color: var(--sklearn-color-unfitted-level-1);\n",
              "}\n",
              "\n",
              ".sk-estimator-doc-link.fitted,\n",
              "a:link.sk-estimator-doc-link.fitted,\n",
              "a:visited.sk-estimator-doc-link.fitted {\n",
              "  /* fitted */\n",
              "  border: var(--sklearn-color-fitted-level-1) 1pt solid;\n",
              "  color: var(--sklearn-color-fitted-level-1);\n",
              "}\n",
              "\n",
              "/* On hover */\n",
              "div.sk-estimator:hover .sk-estimator-doc-link:hover,\n",
              ".sk-estimator-doc-link:hover,\n",
              "div.sk-label-container:hover .sk-estimator-doc-link:hover,\n",
              ".sk-estimator-doc-link:hover {\n",
              "  /* unfitted */\n",
              "  background-color: var(--sklearn-color-unfitted-level-3);\n",
              "  color: var(--sklearn-color-background);\n",
              "  text-decoration: none;\n",
              "}\n",
              "\n",
              "div.sk-estimator.fitted:hover .sk-estimator-doc-link.fitted:hover,\n",
              ".sk-estimator-doc-link.fitted:hover,\n",
              "div.sk-label-container:hover .sk-estimator-doc-link.fitted:hover,\n",
              ".sk-estimator-doc-link.fitted:hover {\n",
              "  /* fitted */\n",
              "  background-color: var(--sklearn-color-fitted-level-3);\n",
              "  color: var(--sklearn-color-background);\n",
              "  text-decoration: none;\n",
              "}\n",
              "\n",
              "/* Span, style for the box shown on hovering the info icon */\n",
              ".sk-estimator-doc-link span {\n",
              "  display: none;\n",
              "  z-index: 9999;\n",
              "  position: relative;\n",
              "  font-weight: normal;\n",
              "  right: .2ex;\n",
              "  padding: .5ex;\n",
              "  margin: .5ex;\n",
              "  width: min-content;\n",
              "  min-width: 20ex;\n",
              "  max-width: 50ex;\n",
              "  color: var(--sklearn-color-text);\n",
              "  box-shadow: 2pt 2pt 4pt #999;\n",
              "  /* unfitted */\n",
              "  background: var(--sklearn-color-unfitted-level-0);\n",
              "  border: .5pt solid var(--sklearn-color-unfitted-level-3);\n",
              "}\n",
              "\n",
              ".sk-estimator-doc-link.fitted span {\n",
              "  /* fitted */\n",
              "  background: var(--sklearn-color-fitted-level-0);\n",
              "  border: var(--sklearn-color-fitted-level-3);\n",
              "}\n",
              "\n",
              ".sk-estimator-doc-link:hover span {\n",
              "  display: block;\n",
              "}\n",
              "\n",
              "/* \"?\"-specific style due to the `<a>` HTML tag */\n",
              "\n",
              "#sk-container-id-1 a.estimator_doc_link {\n",
              "  float: right;\n",
              "  font-size: 1rem;\n",
              "  line-height: 1em;\n",
              "  font-family: monospace;\n",
              "  background-color: var(--sklearn-color-background);\n",
              "  border-radius: 1rem;\n",
              "  height: 1rem;\n",
              "  width: 1rem;\n",
              "  text-decoration: none;\n",
              "  /* unfitted */\n",
              "  color: var(--sklearn-color-unfitted-level-1);\n",
              "  border: var(--sklearn-color-unfitted-level-1) 1pt solid;\n",
              "}\n",
              "\n",
              "#sk-container-id-1 a.estimator_doc_link.fitted {\n",
              "  /* fitted */\n",
              "  border: var(--sklearn-color-fitted-level-1) 1pt solid;\n",
              "  color: var(--sklearn-color-fitted-level-1);\n",
              "}\n",
              "\n",
              "/* On hover */\n",
              "#sk-container-id-1 a.estimator_doc_link:hover {\n",
              "  /* unfitted */\n",
              "  background-color: var(--sklearn-color-unfitted-level-3);\n",
              "  color: var(--sklearn-color-background);\n",
              "  text-decoration: none;\n",
              "}\n",
              "\n",
              "#sk-container-id-1 a.estimator_doc_link.fitted:hover {\n",
              "  /* fitted */\n",
              "  background-color: var(--sklearn-color-fitted-level-3);\n",
              "}\n",
              "</style><div id=\"sk-container-id-1\" class=\"sk-top-container\"><div class=\"sk-text-repr-fallback\"><pre>SGDClassifier(random_state=42)</pre><b>In a Jupyter environment, please rerun this cell to show the HTML representation or trust the notebook. <br />On GitHub, the HTML representation is unable to render, please try loading this page with nbviewer.org.</b></div><div class=\"sk-container\" hidden><div class=\"sk-item\"><div class=\"sk-estimator fitted sk-toggleable\"><input class=\"sk-toggleable__control sk-hidden--visually\" id=\"sk-estimator-id-1\" type=\"checkbox\" checked><label for=\"sk-estimator-id-1\" class=\"sk-toggleable__label fitted sk-toggleable__label-arrow\"><div><div>SGDClassifier</div></div><div><a class=\"sk-estimator-doc-link fitted\" rel=\"noreferrer\" target=\"_blank\" href=\"https://scikit-learn.org/1.6/modules/generated/sklearn.linear_model.SGDClassifier.html\">?<span>Documentation for SGDClassifier</span></a><span class=\"sk-estimator-doc-link fitted\">i<span>Fitted</span></span></div></label><div class=\"sk-toggleable__content fitted\"><pre>SGDClassifier(random_state=42)</pre></div> </div></div></div></div>"
            ]
          },
          "metadata": {},
          "execution_count": 14
        }
      ]
    },
    {
      "cell_type": "code",
      "source": [
        "# run prediction\n",
        "sgd_clf.predict([some_digit])"
      ],
      "metadata": {
        "colab": {
          "base_uri": "https://localhost:8080/"
        },
        "id": "YwWXp5zSfm6N",
        "outputId": "7cb43c7a-c46b-46e8-da53-9f0af3a3eb14"
      },
      "execution_count": 15,
      "outputs": [
        {
          "output_type": "execute_result",
          "data": {
            "text/plain": [
              "array([ True])"
            ]
          },
          "metadata": {},
          "execution_count": 15
        }
      ]
    },
    {
      "cell_type": "markdown",
      "source": [
        "### **Performance Measures**: *with k-fold Cross-Validation*"
      ],
      "metadata": {
        "id": "hbkFx_lEuQVR"
      }
    },
    {
      "cell_type": "code",
      "source": [
        "# evaluate performance measures\n",
        "cross_val_score(sgd_clf, X_train, y_train_5, cv=3, scoring=\"accuracy\")"
      ],
      "metadata": {
        "colab": {
          "base_uri": "https://localhost:8080/"
        },
        "id": "6I5kq5PHuX5a",
        "outputId": "a28c38a8-b2ae-4756-ff5c-698198c6c816"
      },
      "execution_count": 16,
      "outputs": [
        {
          "output_type": "execute_result",
          "data": {
            "text/plain": [
              "array([0.95035, 0.96035, 0.9604 ])"
            ]
          },
          "metadata": {},
          "execution_count": 16
        }
      ]
    },
    {
      "cell_type": "markdown",
      "source": [
        "### **Misrepresentative Results**\n",
        "Because it is **unlikely** that the model has achieved 95%+ accuracy accross all cross-validation folds, I can investigate this result with a dummy classifier and reveal whether accuracy as a performance measure is appopriate for classification tasks.  "
      ],
      "metadata": {
        "id": "ZC2JXSrEvuzE"
      }
    },
    {
      "cell_type": "code",
      "source": [
        "# use a dummy classifier: that classifies every single image in the most frequent class (in this case: non-5)\n",
        "dummy_clf = DummyClassifier()\n",
        "dummy_clf.fit(X_train, y_train_5)\n",
        "print(any(dummy_clf.predict(X_train)))"
      ],
      "metadata": {
        "colab": {
          "base_uri": "https://localhost:8080/"
        },
        "id": "PUzpfLp4xD4c",
        "outputId": "2a889465-edd8-4fed-c792-08631bf434ed"
      },
      "execution_count": 17,
      "outputs": [
        {
          "output_type": "stream",
          "name": "stdout",
          "text": [
            "False\n"
          ]
        }
      ]
    },
    {
      "cell_type": "markdown",
      "source": [
        "*( no 5s are detected )*"
      ],
      "metadata": {
        "id": "D-jko42AxxK4"
      }
    },
    {
      "cell_type": "markdown",
      "source": [
        "### **Re-evaluate Performance**\n",
        "Below shows like in the example in the [*book*](https://www.oreilly.com/library/view/hands-on-machine-learning/9781492032632/), that accuracy is measured on the fact that only around 10% of the sample data images are 5s, so statistically speaking, the model will predict correctly or 90% of cases."
      ],
      "metadata": {
        "id": "l6wICGU4yDn5"
      }
    },
    {
      "cell_type": "code",
      "source": [
        "# cross-validation with dummy classifier\n",
        "cross_val_score(\n",
        "    dummy_clf,\n",
        "    X_train,\n",
        "    y_train_5,\n",
        "    cv=3,\n",
        "    scoring=\"accuracy\"\n",
        "    )"
      ],
      "metadata": {
        "colab": {
          "base_uri": "https://localhost:8080/"
        },
        "id": "j-GjLFzExDs0",
        "outputId": "4207b71a-9fb8-48af-909a-50ababaf7396"
      },
      "execution_count": 18,
      "outputs": [
        {
          "output_type": "execute_result",
          "data": {
            "text/plain": [
              "array([0.90965, 0.90965, 0.90965])"
            ]
          },
          "metadata": {},
          "execution_count": 18
        }
      ]
    },
    {
      "cell_type": "markdown",
      "source": [
        "This result demonstrates why ***accuracy is generally not the preferred performance measure for classifiers***, especially when dealing with skewed datasets (when some classes are far more represented than others)."
      ],
      "metadata": {
        "id": "s0f-tThQz39K"
      }
    },
    {
      "cell_type": "markdown",
      "source": [
        "### **Implementing Cross-Validation Manually**\n",
        "Occassionally, it is necessary to to gain more control over the cross-validation than the standard solution from frameworks - Scikit-Learn in this case.\n",
        "\n",
        "This refers to the user-defined estimator class object defined as utility no. \"6\" in the [\"Defining Utilities\"](#utilities) section."
      ],
      "metadata": {
        "id": "Ga3dHdPN4RpV"
      }
    },
    {
      "cell_type": "code",
      "source": [
        "# manual cross-validation estimator\n",
        "splits = 3\n",
        "evaluator = StratifiedKFoldCV(SGDClassifier(random_state=random_state_val), n_splits=splits)\n",
        "evaluator.fit(X_train, y_train_5)\n",
        "print(\"Fold Scores:\", evaluator.scores_)\n",
        "print(\"Mean accuracy:\", evaluator.score())"
      ],
      "metadata": {
        "colab": {
          "base_uri": "https://localhost:8080/"
        },
        "id": "VmGaN69I44Zb",
        "outputId": "38e53057-d5ed-4c8f-ad2b-d077843139c8"
      },
      "execution_count": 19,
      "outputs": [
        {
          "output_type": "stream",
          "name": "stdout",
          "text": [
            "Fold Scores: [0.95035, 0.96035, 0.9604]\n",
            "Mean accuracy: 0.9570333333333334\n"
          ]
        }
      ]
    },
    {
      "cell_type": "markdown",
      "source": [
        "### **Implementing a Confusion Matrix**\n",
        "A much better way to evaluate the performance of a classifier is to use a ***confusion matrix***."
      ],
      "metadata": {
        "id": "tSyTHLHr3pos"
      }
    },
    {
      "cell_type": "code",
      "source": [
        "# initialize confusion matrix\n",
        "y_train_pred = cross_val_predict(\n",
        "    sgd_clf,\n",
        "    X_train,\n",
        "    y_train_5,\n",
        "    cv=3\n",
        "    )\n",
        "cm = confusion_matrix(y_train_5, y_train_pred)\n",
        "cm"
      ],
      "metadata": {
        "colab": {
          "base_uri": "https://localhost:8080/"
        },
        "id": "Xybfy_IkxDrK",
        "outputId": "400aa82e-30e9-41c1-8605-d3e109f6d6e9"
      },
      "execution_count": 20,
      "outputs": [
        {
          "output_type": "execute_result",
          "data": {
            "text/plain": [
              "array([[53892,   687],\n",
              "       [ 1891,  3530]])"
            ]
          },
          "metadata": {},
          "execution_count": 20
        }
      ]
    },
    {
      "cell_type": "markdown",
      "source": [
        "The results show that in the top left-hand corner, **53892** instances were **correctly classified as non-5**s (true negative class), and in the bottom right-hand corner, **3530** instances were **classified correctly as positives** (true positives).\n",
        "\n",
        "However in the bottom-left, **1891** instances were classified **as false negatives** (incorrectly predicted as non-5s), while the last **687** instances were **incorrectly** concluded as **false positives.**"
      ],
      "metadata": {
        "id": "pKS_9TOSNzRH"
      }
    },
    {
      "cell_type": "code",
      "source": [
        "# perfect classification example\n",
        "y_train_perfect_predictions = y_train_5\n",
        "cm2 = confusion_matrix(y_train_5, y_train_perfect_predictions)\n",
        "cm2"
      ],
      "metadata": {
        "colab": {
          "base_uri": "https://localhost:8080/"
        },
        "id": "CyiQfpgIx-38",
        "outputId": "d30363b0-4330-4b7b-c028-14a6e2cc96af"
      },
      "execution_count": 21,
      "outputs": [
        {
          "output_type": "execute_result",
          "data": {
            "text/plain": [
              "array([[54579,     0],\n",
              "       [    0,  5421]])"
            ]
          },
          "metadata": {},
          "execution_count": 21
        }
      ]
    },
    {
      "cell_type": "code",
      "source": [
        "# all training instances\n",
        "print(sum(cm2.ravel())==60000)"
      ],
      "metadata": {
        "colab": {
          "base_uri": "https://localhost:8080/"
        },
        "id": "pYHibc8Fx-0P",
        "outputId": "fcf14470-9c92-4f68-8e87-8d3879ffb3f7"
      },
      "execution_count": 22,
      "outputs": [
        {
          "output_type": "stream",
          "name": "stdout",
          "text": [
            "True\n"
          ]
        }
      ]
    },
    {
      "cell_type": "markdown",
      "source": [
        "### **Precision & Recall**\n",
        "(Classifier Metrics)"
      ],
      "metadata": {
        "id": "W2CxruAeqgvh"
      }
    },
    {
      "cell_type": "code",
      "source": [
        "# precision ----------------------------------------------------------------------------+"
      ],
      "metadata": {
        "id": "i9EhQZvMxRcs"
      },
      "execution_count": 23,
      "outputs": []
    },
    {
      "cell_type": "markdown",
      "source": [
        "> *Precision =* $\\frac{TP}{TP+FP}$\n",
        "\n",
        "*(Accuracy of positive predictions)*\n",
        "\n",
        "\n",
        "\n"
      ],
      "metadata": {
        "id": "oCFtKQB4pZSf"
      }
    },
    {
      "cell_type": "markdown",
      "source": [
        "*This is what is computed below with `precision_score()`*\n",
        "### $\\frac{3530}{(3530 + 687)} ↓$\n"
      ],
      "metadata": {
        "id": "W1gY_UIIwwDC"
      }
    },
    {
      "cell_type": "code",
      "source": [
        "# precision score\n",
        "precision = precision_score(y_train_5, y_train_pred)\n",
        "print(\"Precision Score:\",round(precision,3))"
      ],
      "metadata": {
        "colab": {
          "base_uri": "https://localhost:8080/"
        },
        "id": "mxDVIommu1im",
        "outputId": "59f4717c-fb47-4edf-fe5d-b2bdbc59117d"
      },
      "execution_count": 24,
      "outputs": [
        {
          "output_type": "stream",
          "name": "stdout",
          "text": [
            "Precision Score: 0.837\n"
          ]
        }
      ]
    },
    {
      "cell_type": "code",
      "source": [
        "# manual precision score\n",
        "manual_precision = cm[1,1] / (cm[0,1] + cm[1,1])\n",
        "print(\"Manual Precision Score:\",round(manual_precision,3))"
      ],
      "metadata": {
        "colab": {
          "base_uri": "https://localhost:8080/"
        },
        "id": "-rLtYKTfvh1k",
        "outputId": "27afbc60-7b00-4b5d-908c-7ebf67da230e"
      },
      "execution_count": 25,
      "outputs": [
        {
          "output_type": "stream",
          "name": "stdout",
          "text": [
            "Manual Precision Score: 0.837\n"
          ]
        }
      ]
    },
    {
      "cell_type": "code",
      "source": [
        "# recall --------------------------------------------------------------------------------+"
      ],
      "metadata": {
        "id": "wH8dzFDvxwa4"
      },
      "execution_count": 26,
      "outputs": []
    },
    {
      "cell_type": "markdown",
      "source": [
        "> *Recall =* $\\frac{TP}{TP+FN}$\n",
        "\n",
        "*(Metric: Sensitivity, True Positive Rate)*\n",
        "\n",
        "\n",
        "\n"
      ],
      "metadata": {
        "id": "N3hI5H1brkWE"
      }
    },
    {
      "cell_type": "markdown",
      "source": [
        "*This is what is computed below with `recall_score()`*\n",
        "### $\\frac{3530}{(3530 + 1891)} ↓$"
      ],
      "metadata": {
        "id": "iwc_QHYqxiwA"
      }
    },
    {
      "cell_type": "code",
      "source": [
        "# recall score\n",
        "recall = recall_score(y_train_5, y_train_pred)\n",
        "print(\"Recall Score:\",round(recall,3))"
      ],
      "metadata": {
        "colab": {
          "base_uri": "https://localhost:8080/"
        },
        "id": "0rz8-EvjqokY",
        "outputId": "ace52674-4a69-4e14-a12e-9619c2528087"
      },
      "execution_count": 27,
      "outputs": [
        {
          "output_type": "stream",
          "name": "stdout",
          "text": [
            "Recall Score: 0.651\n"
          ]
        }
      ]
    },
    {
      "cell_type": "code",
      "source": [
        "# manual recall score\n",
        "manual_recall = cm[1,1] / (cm[1,0] + cm[1,1])\n",
        "print(\"Manual Recall Score:\",round(manual_recall,3))"
      ],
      "metadata": {
        "colab": {
          "base_uri": "https://localhost:8080/"
        },
        "id": "uJQNTyQazCz1",
        "outputId": "f04386cf-a9b9-48de-c578-87f227eecd35"
      },
      "execution_count": 28,
      "outputs": [
        {
          "output_type": "stream",
          "name": "stdout",
          "text": [
            "Manual Recall Score: 0.651\n"
          ]
        }
      ]
    },
    {
      "cell_type": "markdown",
      "source": [
        "#### **Summary of Precision & Recall**\n",
        "* When the classifier claims an image instance represents a 5, it is correct 83.7% off the time, and only detects 65.1% of the 5s in the entire sample."
      ],
      "metadata": {
        "id": "-NP_MiOt04Yt"
      }
    },
    {
      "cell_type": "markdown",
      "source": [
        "### **F1 Score**\n",
        "(Harmonic mean of precision & recall)"
      ],
      "metadata": {
        "id": "exNEJunA0p-b"
      }
    },
    {
      "cell_type": "markdown",
      "source": [
        "### $F_1 = \\frac{2}{\\frac{1}{\\text{precision}}+\\frac{1}{\\text{recall}}} = 2 × \\frac{\\text{precision} \\space × \\space \\text{recall}}{\\text{precision}\\space+\\space \\text{recall}} = \\frac{TP}{TP \\space + \\space \\frac{FN \\space + \\space FP}{2}}$"
      ],
      "metadata": {
        "id": "_YaSCEafL_m-"
      }
    },
    {
      "cell_type": "code",
      "source": [
        "# implement f1 score\n",
        "f1 = f1_score(y_train_5, y_train_pred)\n",
        "print(\"F1 score:\",round(f1,3))"
      ],
      "metadata": {
        "colab": {
          "base_uri": "https://localhost:8080/"
        },
        "id": "pxqyY4RSzCwe",
        "outputId": "61e9f7d4-dc46-4f85-89f2-669eb050d64a"
      },
      "execution_count": 29,
      "outputs": [
        {
          "output_type": "stream",
          "name": "stdout",
          "text": [
            "F1 score: 0.733\n"
          ]
        }
      ]
    },
    {
      "cell_type": "code",
      "source": [
        "# manual f1 score\n",
        "manual_f1 = cm[1,1] / (cm[1,1] + (cm[1,0] + cm[0,1]) / 2)\n",
        "print(\"Manual F1 score:\",round(manual_f1,3))"
      ],
      "metadata": {
        "colab": {
          "base_uri": "https://localhost:8080/"
        },
        "id": "a6q5-495zCtv",
        "outputId": "46c3ccb3-99a6-4125-c013-716d00e08bd7"
      },
      "execution_count": 30,
      "outputs": [
        {
          "output_type": "stream",
          "name": "stdout",
          "text": [
            "Manual F1 score: 0.733\n"
          ]
        }
      ]
    },
    {
      "cell_type": "markdown",
      "source": [
        "### **Precision/Recall Trade-off**"
      ],
      "metadata": {
        "id": "ecrv49APcQ91"
      }
    },
    {
      "cell_type": "code",
      "source": [
        "# decision threshold\n",
        "y_scores = sgd_clf.decision_function([some_digit])\n",
        "y_scores"
      ],
      "metadata": {
        "id": "Kd3lgFqGcYAa",
        "colab": {
          "base_uri": "https://localhost:8080/"
        },
        "outputId": "c38c63fc-db8d-4d44-d801-b6663ab2740f"
      },
      "execution_count": 31,
      "outputs": [
        {
          "output_type": "execute_result",
          "data": {
            "text/plain": [
              "array([2164.22030239])"
            ]
          },
          "metadata": {},
          "execution_count": 31
        }
      ]
    },
    {
      "cell_type": "code",
      "source": [
        "# zero threshod: where the classifier detects 5s\n",
        "threshold = 0\n",
        "y_some_digit_pred = (y_scores > threshold)\n",
        "y_some_digit_pred"
      ],
      "metadata": {
        "colab": {
          "base_uri": "https://localhost:8080/"
        },
        "id": "x0EO5ACM8_AW",
        "outputId": "f5fc1d3c-1808-4c9a-f1b4-c97962902d14"
      },
      "execution_count": 32,
      "outputs": [
        {
          "output_type": "execute_result",
          "data": {
            "text/plain": [
              "array([ True])"
            ]
          },
          "metadata": {},
          "execution_count": 32
        }
      ]
    },
    {
      "cell_type": "code",
      "source": [
        "# raising the threshold (decreases recall)\n",
        "threshold = 3000\n",
        "y_some_digit_pred = (y_scores > threshold)\n",
        "y_some_digit_pred"
      ],
      "metadata": {
        "colab": {
          "base_uri": "https://localhost:8080/"
        },
        "id": "14N1DwLm9c2w",
        "outputId": "57e501f8-f02d-4315-eac2-9f07cc888b43"
      },
      "execution_count": 33,
      "outputs": [
        {
          "output_type": "execute_result",
          "data": {
            "text/plain": [
              "array([False])"
            ]
          },
          "metadata": {},
          "execution_count": 33
        }
      ]
    },
    {
      "cell_type": "code",
      "source": [
        "# deciding what threshold to use, using cross validation\n",
        "y_scores = cross_val_predict(sgd_clf, X_train, y_train_5, cv=3, method=\"decision_function\")"
      ],
      "metadata": {
        "id": "OBtJkgH9-l5Z"
      },
      "execution_count": 34,
      "outputs": []
    },
    {
      "cell_type": "code",
      "source": [
        "# plot the precision and recall as functions of the threshold value\n",
        "plt.figure(figsize=(12, 6))\n",
        "precisions, recalls, thresholds = precision_recall_curve(y_train_5, y_scores)\n",
        "plt.plot(thresholds, precisions[:-1], \"b--\", label=\"Precision\", linewidth=2)\n",
        "plt.plot(thresholds, recalls[:-1], \"g-\", label=\"Recall\", linewidth=2)\n",
        "plt.vlines(threshold, 0, 1.0, \"white\", \"dotted\", label=\"threshold\")\n",
        "\n",
        "threshold_index = np.argmin(np.abs(thresholds - threshold))\n",
        "plt.plot(threshold, precisions[threshold_index], \"bo\")\n",
        "plt.plot(threshold, recalls[threshold_index], \"go\")\n",
        "\n",
        "plt.title(\"Precision and Recall vs Decision Threshold\\n\")\n",
        "plt.grid(alpha=.3)\n",
        "plt.legend(loc='center right')\n",
        "plt.xlim([-40000,40000])\n",
        "plt.ylim([0.0,1.0])\n",
        "plt.show()"
      ],
      "metadata": {
        "colab": {
          "base_uri": "https://localhost:8080/",
          "height": 568
        },
        "id": "4AJljfY4_VId",
        "outputId": "16dd17f6-0568-4d30-db3d-19c9552f49ba"
      },
      "execution_count": 35,
      "outputs": [
        {
          "output_type": "display_data",
          "data": {
            "text/plain": [
              "<Figure size 1200x600 with 1 Axes>"
            ],
            "image/png": "[encoded data removed]"
          },
          "metadata": {}
        }
      ]
    },
    {
      "cell_type": "code",
      "source": [
        "# plotting directly against recall to examine point of diminishing returns past threshold=3000\n",
        "plt.figure(figsize=(10, 6))\n",
        "plt.plot(recalls, precisions, \"b-\", linewidth=2, label=\"Precision/Recall curve\")\n",
        "\n",
        "threshold_index = np.argmin(np.abs(thresholds - threshold))\n",
        "\n",
        "# get precision and recall at that index\n",
        "prec_at_threshold = precisions[threshold_index]\n",
        "recall_at_threshold = recalls[threshold_index]\n",
        "\n",
        "# add horizontal & vertical dotted lines\n",
        "plt.axhline(y=prec_at_threshold, color=\"white\", linestyle=\"dotted\", label=None, alpha=.5)\n",
        "plt.axvline(x=recall_at_threshold, color=\"white\", linestyle=\"dotted\", label=None, alpha=.5)\n",
        "\n",
        "# add convergence dot\n",
        "plt.plot(recall_at_threshold, prec_at_threshold, \"wo\")  # white circle\n",
        "\n",
        "# annotate the dot\n",
        "plt.annotate(\n",
        "    \"Point at threshold 3,000\",\n",
        "    xy=(recall_at_threshold, prec_at_threshold),\n",
        "    xytext=(recall_at_threshold + 0.1, prec_at_threshold - 0.1),\n",
        "    arrowprops=dict(facecolor='white', shrink=0.05, width=1, headwidth=6),\n",
        "    color=\"white\"\n",
        ")\n",
        "\n",
        "plt.xlim([0.0,1.0])\n",
        "plt.ylim([0.0,1.0])\n",
        "plt.grid(alpha=.3)\n",
        "plt.xlabel(\"Recall\")\n",
        "plt.ylabel(\"Precision\")\n",
        "plt.legend(loc = \"lower left\")\n",
        "plt.title(\"Precision vs Recall at 3,000 Decision Threshold \\n\")\n",
        "plt.show()"
      ],
      "metadata": {
        "colab": {
          "base_uri": "https://localhost:8080/",
          "height": 592
        },
        "id": "1Avqd-bhFXg4",
        "outputId": "94091ba9-5be9-4dd7-d3ea-312ed0d210a4"
      },
      "execution_count": 36,
      "outputs": [
        {
          "output_type": "display_data",
          "data": {
            "text/plain": [
              "<Figure size 1000x600 with 1 Axes>"
            ],
            "image/png": "[encoded data removed]"
          },
          "metadata": {}
        }
      ]
    },
    {
      "cell_type": "markdown",
      "source": [
        "* *↑ Precision drops dramatically at 80% recall and seems to hit a point of diminishing returns in terms of trade-off at 60% recall*"
      ],
      "metadata": {
        "id": "3qiJxpjvNYvz"
      }
    },
    {
      "cell_type": "code",
      "source": [
        "# finding the lowest threshold for 90% precision\n",
        "idx_for_90_prec = (precisions >= .9).argmax()\n",
        "threshold_for_90_prec = float(thresholds[idx_for_90_prec])\n",
        "threshold_for_90_prec\n"
      ],
      "metadata": {
        "colab": {
          "base_uri": "https://localhost:8080/"
        },
        "id": "bBWVvbPsON11",
        "outputId": "e0da1628-899e-4861-97c8-b2bf03900e14"
      },
      "execution_count": 37,
      "outputs": [
        {
          "output_type": "execute_result",
          "data": {
            "text/plain": [
              "3370.0194991439557"
            ]
          },
          "metadata": {},
          "execution_count": 37
        }
      ]
    },
    {
      "cell_type": "code",
      "source": [
        "# evaluate predictions using this threshold\n",
        "y_train_pred_90 = (y_scores >= threshold_for_90_prec)\n",
        "\n",
        "# checking the scores\n",
        "print(f\"Precision: {precision_score(y_train_5, y_train_pred_90):.2f}\")\n",
        "print(f\"Recall: {recall_score(y_train_5, y_train_pred_90):.2f}\")"
      ],
      "metadata": {
        "colab": {
          "base_uri": "https://localhost:8080/"
        },
        "id": "ymzN5VZ4PI7Y",
        "outputId": "20b589cb-d189-4e38-8cdd-4946d3fbf9b6"
      },
      "execution_count": 38,
      "outputs": [
        {
          "output_type": "stream",
          "name": "stdout",
          "text": [
            "Precision: 0.90\n",
            "Recall: 0.48\n"
          ]
        }
      ]
    },
    {
      "cell_type": "markdown",
      "source": [
        "### **ROC Curve**\n",
        "\n",
        "Receiver operating characteristic curve: another common tool used with binary classifiers. In contrast to the Precision/recall curve, the ROC curve plots the *True Positive Rate* (recall) against the *False Positive Rate* (FPR), also known as Fall-out: the ratio of negative instances that are incorrectly classified as positive.\n",
        "\n",
        "### $\\text{FPR} = 1 - \\text{TNR}$\n",
        "\n",
        "TNR = True Negative Rate, *Specificity*"
      ],
      "metadata": {
        "id": "qVVVPQrQY395"
      }
    },
    {
      "cell_type": "code",
      "source": [
        "# roc curve: plotting TPR against FPR\n",
        "fpr, tpr, thresholds = roc_curve(y_train_5, y_scores)\n",
        "\n",
        "plt.figure(figsize=(8,6))\n",
        "idx_for_threshold_at_90 = (thresholds <= threshold_for_90_prec).argmax()\n",
        "tpr_90,fpr_90 = tpr[idx_for_threshold_at_90], fpr[idx_for_threshold_at_90]\n",
        "\n",
        "plt.plot(fpr,tpr, \"b-\", linewidth=2, label=\"ROC Curve\")\n",
        "plt.plot([0,1], [0,1], \"w:\", alpha=.5, label=\"Random Classifier's ROC Curve\")\n",
        "plt.plot([fpr_90],[tpr_90], \"wo\", label=\"Threshold for 90% precision\")\n",
        "\n",
        "plt.xlim([0.0,1.0])\n",
        "plt.ylim([0.0,1.0])\n",
        "plt.ylabel(\"True Positive Rate (Recall)\")\n",
        "plt.xlabel(\"False Positive Rate (Fall-out)\")\n",
        "plt.grid(alpha=.3)\n",
        "plt.legend(loc=\"lower right\")\n",
        "plt.title(\"Recall (TPR) vs Fall-out (FPR) with ROC Curve\")\n",
        "plt.show()"
      ],
      "metadata": {
        "colab": {
          "base_uri": "https://localhost:8080/",
          "height": 570
        },
        "id": "8302Ez2hXk8N",
        "outputId": "c387e189-73d2-48a1-d736-309427ac533c"
      },
      "execution_count": 39,
      "outputs": [
        {
          "output_type": "display_data",
          "data": {
            "text/plain": [
              "<Figure size 800x600 with 1 Axes>"
            ],
            "image/png": "[encoded data removed]"
          },
          "metadata": {}
        }
      ]
    },
    {
      "cell_type": "markdown",
      "source": [
        "* *↑ As seen above, there is a trade-off associated with the increase of the True Positive Rate (recall), where Fall-out gets signifcantly worse past an 80% Recall, where it appears to range between 3-5%. The Random Classifier's linear vector demonstrates no proportional adjustment to adjust for trade-off, which is not good.*"
      ],
      "metadata": {
        "id": "JZn4NN3kw80x"
      }
    },
    {
      "cell_type": "code",
      "source": [
        "# comparing classifiers with auc (area under curve) score, with the auc ideality score being equal to 1.0\n",
        "print(f\"ROC Area Under Curve Score: {float(roc_auc_score(y_train_5, y_scores)):.2f}\")"
      ],
      "metadata": {
        "colab": {
          "base_uri": "https://localhost:8080/"
        },
        "id": "9SYEv2M8zlny",
        "outputId": "d98c8bec-61d8-4728-fa99-baa01a3807b0"
      },
      "execution_count": 40,
      "outputs": [
        {
          "output_type": "stream",
          "name": "stdout",
          "text": [
            "ROC Area Under Curve Score: 0.96\n"
          ]
        }
      ]
    },
    {
      "cell_type": "markdown",
      "source": [
        "*Note to self:*\n",
        "\n",
        "### **When to use the ROC Curve vs Precision-Recall Curve**\n",
        "\n",
        "* When the positive class is rare or the false positives are more important than false negatives, the **Precision Recall curve** is preferable to plot for the performance measure, otherwise the **ROC curve** is preferable.\n",
        "\n",
        "-------\n",
        "\n",
        "* For Tumor classification, because the positive class is rare it is better to use the **Precision-recall curve** to avoid misdiagnosis. According to ChatGPT \"*It's more informative about real-world performance when false negatives are dangerous and positives are rare.*\" This is with the caveat that context needs to be added to get information on True Negatives which are really important also, which can be done with a Confusion Matrix, F1 Scores and ROC AUC Score.\n",
        "\n",
        "-------\n",
        "\n",
        "* In this case, the ROC Curve presented the clasifier in a far more favourable fashion than the PR Curve, because the are few positives of the 5 class compared to the negatives. The PR curve class's area could be far closer to the right of the graph, nearing an AUC closer to 1.0."
      ],
      "metadata": {
        "id": "BPeDwoyv0uiR"
      }
    },
    {
      "cell_type": "markdown",
      "source": [
        "## **Using a `RandomForestClassifier` to compare its PR Curve and F1 Score to the `SGDClassifier`**"
      ],
      "metadata": {
        "id": "to9a-mfQ6adS"
      }
    },
    {
      "cell_type": "code",
      "source": [
        "# random forest classifier\n",
        "forest_clf = RandomForestClassifier(random_state=random_state_val)\n",
        "\n",
        "# train the rf classifier model and assign scores to each instance using \"predict_proba\" as its decision function\n",
        "y_probas_forest = cross_val_predict(forest_clf, X_train, y_train_5, cv=3,\n",
        "                                    method=\"predict_proba\")\n",
        "y_probas_forest[:2]"
      ],
      "metadata": {
        "colab": {
          "base_uri": "https://localhost:8080/"
        },
        "id": "0flpTq6p7ZdK",
        "outputId": "49b3e6f0-cf24-4622-d2e9-c5ad8522f60e"
      },
      "execution_count": 41,
      "outputs": [
        {
          "output_type": "execute_result",
          "data": {
            "text/plain": [
              "array([[0.11, 0.89],\n",
              "       [0.99, 0.01]])"
            ]
          },
          "metadata": {},
          "execution_count": 41
        }
      ]
    },
    {
      "cell_type": "markdown",
      "source": [
        "* *The caveat here is that these are estimated probabilities in a portion of the dataset where 94% of instances are positive.*"
      ],
      "metadata": {
        "id": "FjIEiJhvGHfS"
      }
    },
    {
      "cell_type": "code",
      "source": [
        "# precision x recall curve function with positive class\n",
        "y_scores_forest = y_probas_forest[:, 1]\n",
        "precisions_forest, recalls_forest, thresholds_forest = precision_recall_curve(\n",
        "    y_train_5, y_scores_forest\n",
        ")\n",
        "\n",
        "# plot the pr curve\n",
        "plt.figure(figsize=(6,4))\n",
        "plt.plot(recalls_forest, precisions_forest, \"b-\", linewidth=2,\n",
        "         label=\"Random Forest\")\n",
        "plt.plot(recalls, precisions, \"g--\", linewidth=2, label=\"SGD\")\n",
        "\n",
        "plt.xlim([0.0,1.0])\n",
        "plt.ylim([0.0,1.0])\n",
        "plt.ylabel(\"Precision\")\n",
        "plt.xlabel(\"Recall\")\n",
        "plt.grid(alpha=.3)\n",
        "plt.legend(loc=\"lower left\")\n",
        "plt.title(\"Precision-Recall Curve Comparison \\n\")\n",
        "plt.show()"
      ],
      "metadata": {
        "colab": {
          "base_uri": "https://localhost:8080/",
          "height": 438
        },
        "id": "sIkcumv9F9Wg",
        "outputId": "b7f532cd-cce4-4381-bbe3-a40c3043cef1"
      },
      "execution_count": 42,
      "outputs": [
        {
          "output_type": "display_data",
          "data": {
            "text/plain": [
              "<Figure size 600x400 with 1 Axes>"
            ],
            "image/png": "[encoded data removed]"
          },
          "metadata": {}
        }
      ]
    },
    {
      "cell_type": "markdown",
      "source": [
        "* *The Precision-Recall curve on the `RandomForestClassifier` is clearly superior to the `SGDClassifier`, as seen in the graph, as the area under the curve nears much closer to 1.0.*"
      ],
      "metadata": {
        "id": "B1vN8kYxUzpf"
      }
    },
    {
      "cell_type": "code",
      "source": [
        "# measuring the performance of the random forest classifier numerically\n",
        "y_train_pred_forest = y_probas_forest[:,1] >= 0.5 # positive probability more than or equal to 50%\n",
        "print(f\"F1 Score: {f1_score(y_train_5, y_train_pred_forest):.3f}\")\n",
        "print(f\"ROC AUC Score: {roc_auc_score(y_train_5, y_scores_forest):.3f}\")\n",
        "print(f\"Precision Score: {precision_score(y_train_5, y_train_pred_forest):.3f}\")\n",
        "print(f\"Recall Score: {recall_score(y_train_5, y_train_pred_forest):.3f}\")"
      ],
      "metadata": {
        "colab": {
          "base_uri": "https://localhost:8080/"
        },
        "id": "WwLmTfACUwkq",
        "outputId": "ff885489-99c1-4134-d770-bf6e34ed3108"
      },
      "execution_count": 43,
      "outputs": [
        {
          "output_type": "stream",
          "name": "stdout",
          "text": [
            "F1 Score: 0.927\n",
            "ROC AUC Score: 0.998\n",
            "Precision Score: 0.990\n",
            "Recall Score: 0.873\n"
          ]
        }
      ]
    },
    {
      "cell_type": "markdown",
      "source": [
        "### **Conclusion**: Random Forest vs SGD Classifier for 5's\n",
        "* *With a satisfactory set of results of **99% Precision, 87% Recall**, and strong scores on the F1 and ROC AUC scores, the experiment to compare methods in Binary Classification can be concluded now that I have explored and applied the concepts below successfully:*\n",
        "\n",
        "1. Binary Classification Model Selection\n",
        "2. Binary Classification Training\n",
        "3. Selecting Appropriate Performance Measures\n",
        "4. Evaluation using Cross-Validation\n",
        "5. Precision-Recall Trade-offs\n",
        "6. Comparative Peformance Measures between Classifier Models"
      ],
      "metadata": {
        "id": "caMqgOfGX6Eu"
      }
    },
    {
      "cell_type": "markdown",
      "source": [
        "# **Multilabel Classification** <a name=\"multiclass-classification\"></a>\n",
        "[Scroll back to contents ↑](#contents)\n",
        "* Now that I have experimented with Binary Classifiers for just identifying 5's, I want to look at outputting multiple classes with a few different models to compare performance.\n",
        "* Because I will be looking at outputting multiple binary tags, it will be classed as \"Multilabel Classification\"."
      ],
      "metadata": {
        "id": "W3G2YHSjVb8t"
      }
    },
    {
      "cell_type": "markdown",
      "source": [
        "## **Experiment with** `KNeighboursClassifier`\n",
        "* The code below creates a `y_multilabel` array containing two target labels for each digit image.\n",
        "1. The first indiates whether or not the digit is large (7,8,9)\n",
        "2. The second indicates whether the image is odd or even\n",
        "* Then creates a KNeighboursClassifier instance\n",
        "* Finally, fits the model instance using the multiple targets array."
      ],
      "metadata": {
        "id": "dTWyLjfrphPb"
      }
    },
    {
      "cell_type": "code",
      "source": [
        "# example with kneighbours classifier\n",
        "y_train_large = (y_train >= '7')\n",
        "y_train_odd = (y_train.astype('int8') % 2 == 1)\n",
        "y_multilabel = np.c_[y_train_large, y_train_odd]\n",
        "knn_clf = KNeighborsClassifier()\n",
        "knn_clf.fit(X_train, y_multilabel)"
      ],
      "metadata": {
        "id": "IcBMyI5pVjYH",
        "colab": {
          "base_uri": "https://localhost:8080/",
          "height": 81
        },
        "outputId": "b7c62332-2ee0-4911-c69e-a41788898b02"
      },
      "execution_count": 46,
      "outputs": [
        {
          "output_type": "execute_result",
          "data": {
            "text/plain": [
              "KNeighborsClassifier()"
            ],
            "text/html": [
              "<style>#sk-container-id-2 {\n",
              "  /* Definition of color scheme common for light and dark mode */\n",
              "  --sklearn-color-text: #000;\n",
              "  --sklearn-color-text-muted: #666;\n",
              "  --sklearn-color-line: gray;\n",
              "  /* Definition of color scheme for unfitted estimators */\n",
              "  --sklearn-color-unfitted-level-0: #fff5e6;\n",
              "  --sklearn-color-unfitted-level-1: #f6e4d2;\n",
              "  --sklearn-color-unfitted-level-2: #ffe0b3;\n",
              "  --sklearn-color-unfitted-level-3: chocolate;\n",
              "  /* Definition of color scheme for fitted estimators */\n",
              "  --sklearn-color-fitted-level-0: #f0f8ff;\n",
              "  --sklearn-color-fitted-level-1: #d4ebff;\n",
              "  --sklearn-color-fitted-level-2: #b3dbfd;\n",
              "  --sklearn-color-fitted-level-3: cornflowerblue;\n",
              "\n",
              "  /* Specific color for light theme */\n",
              "  --sklearn-color-text-on-default-background: var(--sg-text-color, var(--theme-code-foreground, var(--jp-content-font-color1, black)));\n",
              "  --sklearn-color-background: var(--sg-background-color, var(--theme-background, var(--jp-layout-color0, white)));\n",
              "  --sklearn-color-border-box: var(--sg-text-color, var(--theme-code-foreground, var(--jp-content-font-color1, black)));\n",
              "  --sklearn-color-icon: #696969;\n",
              "\n",
              "  @media (prefers-color-scheme: dark) {\n",
              "    /* Redefinition of color scheme for dark theme */\n",
              "    --sklearn-color-text-on-default-background: var(--sg-text-color, var(--theme-code-foreground, var(--jp-content-font-color1, white)));\n",
              "    --sklearn-color-background: var(--sg-background-color, var(--theme-background, var(--jp-layout-color0, #111)));\n",
              "    --sklearn-color-border-box: var(--sg-text-color, var(--theme-code-foreground, var(--jp-content-font-color1, white)));\n",
              "    --sklearn-color-icon: #878787;\n",
              "  }\n",
              "}\n",
              "\n",
              "#sk-container-id-2 {\n",
              "  color: var(--sklearn-color-text);\n",
              "}\n",
              "\n",
              "#sk-container-id-2 pre {\n",
              "  padding: 0;\n",
              "}\n",
              "\n",
              "#sk-container-id-2 input.sk-hidden--visually {\n",
              "  border: 0;\n",
              "  clip: rect(1px 1px 1px 1px);\n",
              "  clip: rect(1px, 1px, 1px, 1px);\n",
              "  height: 1px;\n",
              "  margin: -1px;\n",
              "  overflow: hidden;\n",
              "  padding: 0;\n",
              "  position: absolute;\n",
              "  width: 1px;\n",
              "}\n",
              "\n",
              "#sk-container-id-2 div.sk-dashed-wrapped {\n",
              "  border: 1px dashed var(--sklearn-color-line);\n",
              "  margin: 0 0.4em 0.5em 0.4em;\n",
              "  box-sizing: border-box;\n",
              "  padding-bottom: 0.4em;\n",
              "  background-color: var(--sklearn-color-background);\n",
              "}\n",
              "\n",
              "#sk-container-id-2 div.sk-container {\n",
              "  /* jupyter's `normalize.less` sets `[hidden] { display: none; }`\n",
              "     but bootstrap.min.css set `[hidden] { display: none !important; }`\n",
              "     so we also need the `!important` here to be able to override the\n",
              "     default hidden behavior on the sphinx rendered scikit-learn.org.\n",
              "     See: https://github.com/scikit-learn/scikit-learn/issues/21755 */\n",
              "  display: inline-block !important;\n",
              "  position: relative;\n",
              "}\n",
              "\n",
              "#sk-container-id-2 div.sk-text-repr-fallback {\n",
              "  display: none;\n",
              "}\n",
              "\n",
              "div.sk-parallel-item,\n",
              "div.sk-serial,\n",
              "div.sk-item {\n",
              "  /* draw centered vertical line to link estimators */\n",
              "  background-image: linear-gradient(var(--sklearn-color-text-on-default-background), var(--sklearn-color-text-on-default-background));\n",
              "  background-size: 2px 100%;\n",
              "  background-repeat: no-repeat;\n",
              "  background-position: center center;\n",
              "}\n",
              "\n",
              "/* Parallel-specific style estimator block */\n",
              "\n",
              "#sk-container-id-2 div.sk-parallel-item::after {\n",
              "  content: \"\";\n",
              "  width: 100%;\n",
              "  border-bottom: 2px solid var(--sklearn-color-text-on-default-background);\n",
              "  flex-grow: 1;\n",
              "}\n",
              "\n",
              "#sk-container-id-2 div.sk-parallel {\n",
              "  display: flex;\n",
              "  align-items: stretch;\n",
              "  justify-content: center;\n",
              "  background-color: var(--sklearn-color-background);\n",
              "  position: relative;\n",
              "}\n",
              "\n",
              "#sk-container-id-2 div.sk-parallel-item {\n",
              "  display: flex;\n",
              "  flex-direction: column;\n",
              "}\n",
              "\n",
              "#sk-container-id-2 div.sk-parallel-item:first-child::after {\n",
              "  align-self: flex-end;\n",
              "  width: 50%;\n",
              "}\n",
              "\n",
              "#sk-container-id-2 div.sk-parallel-item:last-child::after {\n",
              "  align-self: flex-start;\n",
              "  width: 50%;\n",
              "}\n",
              "\n",
              "#sk-container-id-2 div.sk-parallel-item:only-child::after {\n",
              "  width: 0;\n",
              "}\n",
              "\n",
              "/* Serial-specific style estimator block */\n",
              "\n",
              "#sk-container-id-2 div.sk-serial {\n",
              "  display: flex;\n",
              "  flex-direction: column;\n",
              "  align-items: center;\n",
              "  background-color: var(--sklearn-color-background);\n",
              "  padding-right: 1em;\n",
              "  padding-left: 1em;\n",
              "}\n",
              "\n",
              "\n",
              "/* Toggleable style: style used for estimator/Pipeline/ColumnTransformer box that is\n",
              "clickable and can be expanded/collapsed.\n",
              "- Pipeline and ColumnTransformer use this feature and define the default style\n",
              "- Estimators will overwrite some part of the style using the `sk-estimator` class\n",
              "*/\n",
              "\n",
              "/* Pipeline and ColumnTransformer style (default) */\n",
              "\n",
              "#sk-container-id-2 div.sk-toggleable {\n",
              "  /* Default theme specific background. It is overwritten whether we have a\n",
              "  specific estimator or a Pipeline/ColumnTransformer */\n",
              "  background-color: var(--sklearn-color-background);\n",
              "}\n",
              "\n",
              "/* Toggleable label */\n",
              "#sk-container-id-2 label.sk-toggleable__label {\n",
              "  cursor: pointer;\n",
              "  display: flex;\n",
              "  width: 100%;\n",
              "  margin-bottom: 0;\n",
              "  padding: 0.5em;\n",
              "  box-sizing: border-box;\n",
              "  text-align: center;\n",
              "  align-items: start;\n",
              "  justify-content: space-between;\n",
              "  gap: 0.5em;\n",
              "}\n",
              "\n",
              "#sk-container-id-2 label.sk-toggleable__label .caption {\n",
              "  font-size: 0.6rem;\n",
              "  font-weight: lighter;\n",
              "  color: var(--sklearn-color-text-muted);\n",
              "}\n",
              "\n",
              "#sk-container-id-2 label.sk-toggleable__label-arrow:before {\n",
              "  /* Arrow on the left of the label */\n",
              "  content: \"▸\";\n",
              "  float: left;\n",
              "  margin-right: 0.25em;\n",
              "  color: var(--sklearn-color-icon);\n",
              "}\n",
              "\n",
              "#sk-container-id-2 label.sk-toggleable__label-arrow:hover:before {\n",
              "  color: var(--sklearn-color-text);\n",
              "}\n",
              "\n",
              "/* Toggleable content - dropdown */\n",
              "\n",
              "#sk-container-id-2 div.sk-toggleable__content {\n",
              "  max-height: 0;\n",
              "  max-width: 0;\n",
              "  overflow: hidden;\n",
              "  text-align: left;\n",
              "  /* unfitted */\n",
              "  background-color: var(--sklearn-color-unfitted-level-0);\n",
              "}\n",
              "\n",
              "#sk-container-id-2 div.sk-toggleable__content.fitted {\n",
              "  /* fitted */\n",
              "  background-color: var(--sklearn-color-fitted-level-0);\n",
              "}\n",
              "\n",
              "#sk-container-id-2 div.sk-toggleable__content pre {\n",
              "  margin: 0.2em;\n",
              "  border-radius: 0.25em;\n",
              "  color: var(--sklearn-color-text);\n",
              "  /* unfitted */\n",
              "  background-color: var(--sklearn-color-unfitted-level-0);\n",
              "}\n",
              "\n",
              "#sk-container-id-2 div.sk-toggleable__content.fitted pre {\n",
              "  /* unfitted */\n",
              "  background-color: var(--sklearn-color-fitted-level-0);\n",
              "}\n",
              "\n",
              "#sk-container-id-2 input.sk-toggleable__control:checked~div.sk-toggleable__content {\n",
              "  /* Expand drop-down */\n",
              "  max-height: 200px;\n",
              "  max-width: 100%;\n",
              "  overflow: auto;\n",
              "}\n",
              "\n",
              "#sk-container-id-2 input.sk-toggleable__control:checked~label.sk-toggleable__label-arrow:before {\n",
              "  content: \"▾\";\n",
              "}\n",
              "\n",
              "/* Pipeline/ColumnTransformer-specific style */\n",
              "\n",
              "#sk-container-id-2 div.sk-label input.sk-toggleable__control:checked~label.sk-toggleable__label {\n",
              "  color: var(--sklearn-color-text);\n",
              "  background-color: var(--sklearn-color-unfitted-level-2);\n",
              "}\n",
              "\n",
              "#sk-container-id-2 div.sk-label.fitted input.sk-toggleable__control:checked~label.sk-toggleable__label {\n",
              "  background-color: var(--sklearn-color-fitted-level-2);\n",
              "}\n",
              "\n",
              "/* Estimator-specific style */\n",
              "\n",
              "/* Colorize estimator box */\n",
              "#sk-container-id-2 div.sk-estimator input.sk-toggleable__control:checked~label.sk-toggleable__label {\n",
              "  /* unfitted */\n",
              "  background-color: var(--sklearn-color-unfitted-level-2);\n",
              "}\n",
              "\n",
              "#sk-container-id-2 div.sk-estimator.fitted input.sk-toggleable__control:checked~label.sk-toggleable__label {\n",
              "  /* fitted */\n",
              "  background-color: var(--sklearn-color-fitted-level-2);\n",
              "}\n",
              "\n",
              "#sk-container-id-2 div.sk-label label.sk-toggleable__label,\n",
              "#sk-container-id-2 div.sk-label label {\n",
              "  /* The background is the default theme color */\n",
              "  color: var(--sklearn-color-text-on-default-background);\n",
              "}\n",
              "\n",
              "/* On hover, darken the color of the background */\n",
              "#sk-container-id-2 div.sk-label:hover label.sk-toggleable__label {\n",
              "  color: var(--sklearn-color-text);\n",
              "  background-color: var(--sklearn-color-unfitted-level-2);\n",
              "}\n",
              "\n",
              "/* Label box, darken color on hover, fitted */\n",
              "#sk-container-id-2 div.sk-label.fitted:hover label.sk-toggleable__label.fitted {\n",
              "  color: var(--sklearn-color-text);\n",
              "  background-color: var(--sklearn-color-fitted-level-2);\n",
              "}\n",
              "\n",
              "/* Estimator label */\n",
              "\n",
              "#sk-container-id-2 div.sk-label label {\n",
              "  font-family: monospace;\n",
              "  font-weight: bold;\n",
              "  display: inline-block;\n",
              "  line-height: 1.2em;\n",
              "}\n",
              "\n",
              "#sk-container-id-2 div.sk-label-container {\n",
              "  text-align: center;\n",
              "}\n",
              "\n",
              "/* Estimator-specific */\n",
              "#sk-container-id-2 div.sk-estimator {\n",
              "  font-family: monospace;\n",
              "  border: 1px dotted var(--sklearn-color-border-box);\n",
              "  border-radius: 0.25em;\n",
              "  box-sizing: border-box;\n",
              "  margin-bottom: 0.5em;\n",
              "  /* unfitted */\n",
              "  background-color: var(--sklearn-color-unfitted-level-0);\n",
              "}\n",
              "\n",
              "#sk-container-id-2 div.sk-estimator.fitted {\n",
              "  /* fitted */\n",
              "  background-color: var(--sklearn-color-fitted-level-0);\n",
              "}\n",
              "\n",
              "/* on hover */\n",
              "#sk-container-id-2 div.sk-estimator:hover {\n",
              "  /* unfitted */\n",
              "  background-color: var(--sklearn-color-unfitted-level-2);\n",
              "}\n",
              "\n",
              "#sk-container-id-2 div.sk-estimator.fitted:hover {\n",
              "  /* fitted */\n",
              "  background-color: var(--sklearn-color-fitted-level-2);\n",
              "}\n",
              "\n",
              "/* Specification for estimator info (e.g. \"i\" and \"?\") */\n",
              "\n",
              "/* Common style for \"i\" and \"?\" */\n",
              "\n",
              ".sk-estimator-doc-link,\n",
              "a:link.sk-estimator-doc-link,\n",
              "a:visited.sk-estimator-doc-link {\n",
              "  float: right;\n",
              "  font-size: smaller;\n",
              "  line-height: 1em;\n",
              "  font-family: monospace;\n",
              "  background-color: var(--sklearn-color-background);\n",
              "  border-radius: 1em;\n",
              "  height: 1em;\n",
              "  width: 1em;\n",
              "  text-decoration: none !important;\n",
              "  margin-left: 0.5em;\n",
              "  text-align: center;\n",
              "  /* unfitted */\n",
              "  border: var(--sklearn-color-unfitted-level-1) 1pt solid;\n",
              "  color: var(--sklearn-color-unfitted-level-1);\n",
              "}\n",
              "\n",
              ".sk-estimator-doc-link.fitted,\n",
              "a:link.sk-estimator-doc-link.fitted,\n",
              "a:visited.sk-estimator-doc-link.fitted {\n",
              "  /* fitted */\n",
              "  border: var(--sklearn-color-fitted-level-1) 1pt solid;\n",
              "  color: var(--sklearn-color-fitted-level-1);\n",
              "}\n",
              "\n",
              "/* On hover */\n",
              "div.sk-estimator:hover .sk-estimator-doc-link:hover,\n",
              ".sk-estimator-doc-link:hover,\n",
              "div.sk-label-container:hover .sk-estimator-doc-link:hover,\n",
              ".sk-estimator-doc-link:hover {\n",
              "  /* unfitted */\n",
              "  background-color: var(--sklearn-color-unfitted-level-3);\n",
              "  color: var(--sklearn-color-background);\n",
              "  text-decoration: none;\n",
              "}\n",
              "\n",
              "div.sk-estimator.fitted:hover .sk-estimator-doc-link.fitted:hover,\n",
              ".sk-estimator-doc-link.fitted:hover,\n",
              "div.sk-label-container:hover .sk-estimator-doc-link.fitted:hover,\n",
              ".sk-estimator-doc-link.fitted:hover {\n",
              "  /* fitted */\n",
              "  background-color: var(--sklearn-color-fitted-level-3);\n",
              "  color: var(--sklearn-color-background);\n",
              "  text-decoration: none;\n",
              "}\n",
              "\n",
              "/* Span, style for the box shown on hovering the info icon */\n",
              ".sk-estimator-doc-link span {\n",
              "  display: none;\n",
              "  z-index: 9999;\n",
              "  position: relative;\n",
              "  font-weight: normal;\n",
              "  right: .2ex;\n",
              "  padding: .5ex;\n",
              "  margin: .5ex;\n",
              "  width: min-content;\n",
              "  min-width: 20ex;\n",
              "  max-width: 50ex;\n",
              "  color: var(--sklearn-color-text);\n",
              "  box-shadow: 2pt 2pt 4pt #999;\n",
              "  /* unfitted */\n",
              "  background: var(--sklearn-color-unfitted-level-0);\n",
              "  border: .5pt solid var(--sklearn-color-unfitted-level-3);\n",
              "}\n",
              "\n",
              ".sk-estimator-doc-link.fitted span {\n",
              "  /* fitted */\n",
              "  background: var(--sklearn-color-fitted-level-0);\n",
              "  border: var(--sklearn-color-fitted-level-3);\n",
              "}\n",
              "\n",
              ".sk-estimator-doc-link:hover span {\n",
              "  display: block;\n",
              "}\n",
              "\n",
              "/* \"?\"-specific style due to the `<a>` HTML tag */\n",
              "\n",
              "#sk-container-id-2 a.estimator_doc_link {\n",
              "  float: right;\n",
              "  font-size: 1rem;\n",
              "  line-height: 1em;\n",
              "  font-family: monospace;\n",
              "  background-color: var(--sklearn-color-background);\n",
              "  border-radius: 1rem;\n",
              "  height: 1rem;\n",
              "  width: 1rem;\n",
              "  text-decoration: none;\n",
              "  /* unfitted */\n",
              "  color: var(--sklearn-color-unfitted-level-1);\n",
              "  border: var(--sklearn-color-unfitted-level-1) 1pt solid;\n",
              "}\n",
              "\n",
              "#sk-container-id-2 a.estimator_doc_link.fitted {\n",
              "  /* fitted */\n",
              "  border: var(--sklearn-color-fitted-level-1) 1pt solid;\n",
              "  color: var(--sklearn-color-fitted-level-1);\n",
              "}\n",
              "\n",
              "/* On hover */\n",
              "#sk-container-id-2 a.estimator_doc_link:hover {\n",
              "  /* unfitted */\n",
              "  background-color: var(--sklearn-color-unfitted-level-3);\n",
              "  color: var(--sklearn-color-background);\n",
              "  text-decoration: none;\n",
              "}\n",
              "\n",
              "#sk-container-id-2 a.estimator_doc_link.fitted:hover {\n",
              "  /* fitted */\n",
              "  background-color: var(--sklearn-color-fitted-level-3);\n",
              "}\n",
              "</style><div id=\"sk-container-id-2\" class=\"sk-top-container\"><div class=\"sk-text-repr-fallback\"><pre>KNeighborsClassifier()</pre><b>In a Jupyter environment, please rerun this cell to show the HTML representation or trust the notebook. <br />On GitHub, the HTML representation is unable to render, please try loading this page with nbviewer.org.</b></div><div class=\"sk-container\" hidden><div class=\"sk-item\"><div class=\"sk-estimator fitted sk-toggleable\"><input class=\"sk-toggleable__control sk-hidden--visually\" id=\"sk-estimator-id-2\" type=\"checkbox\" checked><label for=\"sk-estimator-id-2\" class=\"sk-toggleable__label fitted sk-toggleable__label-arrow\"><div><div>KNeighborsClassifier</div></div><div><a class=\"sk-estimator-doc-link fitted\" rel=\"noreferrer\" target=\"_blank\" href=\"https://scikit-learn.org/1.6/modules/generated/sklearn.neighbors.KNeighborsClassifier.html\">?<span>Documentation for KNeighborsClassifier</span></a><span class=\"sk-estimator-doc-link fitted\">i<span>Fitted</span></span></div></label><div class=\"sk-toggleable__content fitted\"><pre>KNeighborsClassifier()</pre></div> </div></div></div></div>"
            ]
          },
          "metadata": {},
          "execution_count": 46
        }
      ]
    },
    {
      "cell_type": "code",
      "source": [
        "# make predictions\n",
        "knn_clf.predict([some_digit])"
      ],
      "metadata": {
        "colab": {
          "base_uri": "https://localhost:8080/"
        },
        "id": "Kva1b9r1pd8o",
        "outputId": "77072708-58ed-44e0-e1a3-8c9f08d64f6a"
      },
      "execution_count": 47,
      "outputs": [
        {
          "output_type": "execute_result",
          "data": {
            "text/plain": [
              "array([[False,  True]])"
            ]
          },
          "metadata": {},
          "execution_count": 47
        }
      ]
    },
    {
      "cell_type": "markdown",
      "source": [
        "* 5' or `some_digit` is not large, but is odd, which is correct."
      ],
      "metadata": {
        "id": "PVSlFy4UrjBH"
      }
    },
    {
      "cell_type": "code",
      "source": [
        "# computing the average f1 score across all labels\n",
        "y_train_knn_pred = cross_val_predict(knn_clf,\n",
        "                                     X_train,\n",
        "                                     y_multilabel,\n",
        "                                     cv=3,\n",
        "                                     )\n",
        "f1_score(y_multilabel, y_train_knn_pred, average='macro')"
      ],
      "metadata": {
        "colab": {
          "base_uri": "https://localhost:8080/"
        },
        "id": "sS0c9p9btHCE",
        "outputId": "67bd4f06-c528-40a1-bc24-28bfab957160"
      },
      "execution_count": 48,
      "outputs": [
        {
          "output_type": "execute_result",
          "data": {
            "text/plain": [
              "0.9764102655606048"
            ]
          },
          "metadata": {},
          "execution_count": 48
        }
      ]
    },
    {
      "cell_type": "markdown",
      "source": [
        "## **Weighted Label F1 Score vs Unweighted**\n",
        "* This approach assumes that all labels are equally important.\n",
        "* The code below shows each label with adjusted weights equal to its *support:* the number of instances with that target label."
      ],
      "metadata": {
        "id": "cN7QiksTwe2B"
      }
    },
    {
      "cell_type": "code",
      "source": [
        "# weighted labels equal to its support vs unweighted\n",
        "f1_weighted = f1_score(y_multilabel, y_train_knn_pred, average='weighted')\n",
        "f1_averaged = f1_score(y_multilabel, y_train_knn_pred, average='macro')\n",
        "\n",
        "print(\n",
        "    f\"Weighted F1 Score: {f1_weighted:.3f}\\n\"\n",
        "    f\"Averaged F1 Score: {f1_averaged:.3f}\"\n",
        ")"
      ],
      "metadata": {
        "colab": {
          "base_uri": "https://localhost:8080/"
        },
        "id": "t3CRC9YvvlJ3",
        "outputId": "d084fdf3-071f-4eb7-eb1e-6c5eada91e47"
      },
      "execution_count": 52,
      "outputs": [
        {
          "output_type": "stream",
          "name": "stdout",
          "text": [
            "Weighted F1 Score: 0.978\n",
            "Averaged F1 Score: 0.976\n"
          ]
        }
      ]
    },
    {
      "cell_type": "markdown",
      "source": [
        "* The weighted F1 Score shows marginally better performance"
      ],
      "metadata": {
        "id": "XY1a0eFqy8GJ"
      }
    },
    {
      "cell_type": "markdown",
      "source": [
        "## **Chain Classifiers:** For Models Without Native Multilabel Support\n",
        "* When a model makes a prediction, it uses the input features plus all the predictions of the models that comf before it in the chain."
      ],
      "metadata": {
        "id": "4sADPtlGy72o"
      }
    },
    {
      "cell_type": "code",
      "source": [
        "# chain classifier using the cross-validation strategy with the first 2000 images of the MNIST Dataset\n",
        "chain_clf = ClassifierChain(\n",
        "    SVC(),\n",
        "    cv=3,\n",
        "    random_state=random_state_val\n",
        ")\n",
        "chain_clf.fit(X_train[:2000], y_multilabel[:2000])\n",
        "\n",
        "# make predictions\n",
        "chain_clf.predict([some_digit])"
      ],
      "metadata": {
        "colab": {
          "base_uri": "https://localhost:8080/"
        },
        "id": "rIw444Io14QI",
        "outputId": "e2c34c60-dfbc-4e19-c594-33529e2ab840"
      },
      "execution_count": 53,
      "outputs": [
        {
          "output_type": "execute_result",
          "data": {
            "text/plain": [
              "array([[0., 1.]])"
            ]
          },
          "metadata": {},
          "execution_count": 53
        }
      ]
    },
    {
      "cell_type": "markdown",
      "source": [
        "* The results are the One-hot encoded version of the Multilabel Classifier"
      ],
      "metadata": {
        "id": "i-8yn0Br2mvR"
      }
    },
    {
      "cell_type": "markdown",
      "source": [
        "# **Multioutput Classification**\n",
        "* Often called Multiclass Classification, each output can have more than 2 possible values.\n",
        "* To explore the concept, below build a system that removes noise from images. It will take a noisy image as input and aim to output a clean digit image, represented as an array of pixel intensities like the MNIST images.\n",
        "* The classifiers output will be multilabel (one label per pixel) and each label can have pixel range values from 0 to 255."
      ],
      "metadata": {
        "id": "_D7rlr0k24xZ"
      }
    },
    {
      "cell_type": "code",
      "source": [
        "# create training and test sets by taking the MNIST images and adding noise to their pixel intensities with random numbers, with the target being the original images\n",
        "np.random.seed(random_state_val)\n",
        "noise1 = np.random.randint(0, 100, (len(X_train), 784))\n",
        "noise2 = np.random.randint(0, 100, (len(X_test), 784))\n",
        "X_train_mod = X_train + noise1\n",
        "X_test_mod = X_test + noise2\n",
        "y_train_mod = X_train\n",
        "y_test_mod = X_test"
      ],
      "metadata": {
        "id": "flin3dcf3Ahp"
      },
      "execution_count": 69,
      "outputs": []
    },
    {
      "cell_type": "code",
      "source": [
        "# train a classifier to denoise image\n",
        "knn_clf = KNeighborsClassifier()\n",
        "knn_clf.fit(X_train_mod, y_train_mod)\n",
        "clean_digit = knn_clf.predict([X_test_mod[0]]) # first image\n",
        "plot_digit(clean_digit)\n",
        "plt.show()"
      ],
      "metadata": {
        "colab": {
          "base_uri": "https://localhost:8080/",
          "height": 406
        },
        "id": "CmFV-Xyx3AYL",
        "outputId": "d56acaaa-c353-4f7c-9fe8-a2c3f84a7dd1"
      },
      "execution_count": 70,
      "outputs": [
        {
          "output_type": "display_data",
          "data": {
            "text/plain": [
              "<Figure size 640x480 with 1 Axes>"
            ],
            "image/png": "[encoded data removed]"
          },
          "metadata": {}
        }
      ]
    },
    {
      "cell_type": "markdown",
      "source": [
        "* The noise has been successfully removed and displays digit 7"
      ],
      "metadata": {
        "id": "Q8cGbQ1d9vmg"
      }
    },
    {
      "cell_type": "markdown",
      "source": [
        "# **KNeighbours Classifier with 97%+ Accuracy On Test Set**"
      ],
      "metadata": {
        "id": "JUjiUHB1ANqo"
      }
    },
    {
      "cell_type": "code",
      "source": [
        "knn = _clf = KNeighborsClassifier()\n",
        "knn_clf.fit(X_train, y_train)\n",
        "baseline_accuracy = knn_clf.score(X_test, y_test)\n",
        "baseline_accuracy"
      ],
      "metadata": {
        "colab": {
          "base_uri": "https://localhost:8080/"
        },
        "id": "DQ_P-z-pAYFj",
        "outputId": "d4305a90-a013-45e7-c727-dd3cc06d9dde"
      },
      "execution_count": 72,
      "outputs": [
        {
          "output_type": "execute_result",
          "data": {
            "text/plain": [
              "0.9688"
            ]
          },
          "metadata": {},
          "execution_count": 72
        }
      ]
    },
    {
      "cell_type": "code",
      "source": [
        "# tune hyperparameters, training on first 10,000 images\n",
        "param_grid = [\n",
        "    {'weights':[\"uniform\", \"distance\"], \"n_neighbors\": [3,4,5,6]}\n",
        "]\n",
        "\n",
        "knn_clf = KNeighborsClassifier()\n",
        "grid_search = GridSearchCV(\n",
        "    knn_clf, param_grid, cv=5\n",
        ")\n",
        "grid_search.fit(\n",
        "    X_train[:10_000],\n",
        "    y_train[:10_000]\n",
        ")"
      ],
      "metadata": {
        "colab": {
          "base_uri": "https://localhost:8080/",
          "height": 167
        },
        "id": "ALVv5-RiEojq",
        "outputId": "e3b070bf-f20f-4b45-b88d-11abda382dea"
      },
      "execution_count": 75,
      "outputs": [
        {
          "output_type": "execute_result",
          "data": {
            "text/plain": [
              "GridSearchCV(cv=5, estimator=KNeighborsClassifier(),\n",
              "             param_grid=[{'n_neighbors': [3, 4, 5, 6],\n",
              "                          'weights': ['uniform', 'distance']}])"
            ],
            "text/html": [
              "<style>#sk-container-id-3 {\n",
              "  /* Definition of color scheme common for light and dark mode */\n",
              "  --sklearn-color-text: #000;\n",
              "  --sklearn-color-text-muted: #666;\n",
              "  --sklearn-color-line: gray;\n",
              "  /* Definition of color scheme for unfitted estimators */\n",
              "  --sklearn-color-unfitted-level-0: #fff5e6;\n",
              "  --sklearn-color-unfitted-level-1: #f6e4d2;\n",
              "  --sklearn-color-unfitted-level-2: #ffe0b3;\n",
              "  --sklearn-color-unfitted-level-3: chocolate;\n",
              "  /* Definition of color scheme for fitted estimators */\n",
              "  --sklearn-color-fitted-level-0: #f0f8ff;\n",
              "  --sklearn-color-fitted-level-1: #d4ebff;\n",
              "  --sklearn-color-fitted-level-2: #b3dbfd;\n",
              "  --sklearn-color-fitted-level-3: cornflowerblue;\n",
              "\n",
              "  /* Specific color for light theme */\n",
              "  --sklearn-color-text-on-default-background: var(--sg-text-color, var(--theme-code-foreground, var(--jp-content-font-color1, black)));\n",
              "  --sklearn-color-background: var(--sg-background-color, var(--theme-background, var(--jp-layout-color0, white)));\n",
              "  --sklearn-color-border-box: var(--sg-text-color, var(--theme-code-foreground, var(--jp-content-font-color1, black)));\n",
              "  --sklearn-color-icon: #696969;\n",
              "\n",
              "  @media (prefers-color-scheme: dark) {\n",
              "    /* Redefinition of color scheme for dark theme */\n",
              "    --sklearn-color-text-on-default-background: var(--sg-text-color, var(--theme-code-foreground, var(--jp-content-font-color1, white)));\n",
              "    --sklearn-color-background: var(--sg-background-color, var(--theme-background, var(--jp-layout-color0, #111)));\n",
              "    --sklearn-color-border-box: var(--sg-text-color, var(--theme-code-foreground, var(--jp-content-font-color1, white)));\n",
              "    --sklearn-color-icon: #878787;\n",
              "  }\n",
              "}\n",
              "\n",
              "#sk-container-id-3 {\n",
              "  color: var(--sklearn-color-text);\n",
              "}\n",
              "\n",
              "#sk-container-id-3 pre {\n",
              "  padding: 0;\n",
              "}\n",
              "\n",
              "#sk-container-id-3 input.sk-hidden--visually {\n",
              "  border: 0;\n",
              "  clip: rect(1px 1px 1px 1px);\n",
              "  clip: rect(1px, 1px, 1px, 1px);\n",
              "  height: 1px;\n",
              "  margin: -1px;\n",
              "  overflow: hidden;\n",
              "  padding: 0;\n",
              "  position: absolute;\n",
              "  width: 1px;\n",
              "}\n",
              "\n",
              "#sk-container-id-3 div.sk-dashed-wrapped {\n",
              "  border: 1px dashed var(--sklearn-color-line);\n",
              "  margin: 0 0.4em 0.5em 0.4em;\n",
              "  box-sizing: border-box;\n",
              "  padding-bottom: 0.4em;\n",
              "  background-color: var(--sklearn-color-background);\n",
              "}\n",
              "\n",
              "#sk-container-id-3 div.sk-container {\n",
              "  /* jupyter's `normalize.less` sets `[hidden] { display: none; }`\n",
              "     but bootstrap.min.css set `[hidden] { display: none !important; }`\n",
              "     so we also need the `!important` here to be able to override the\n",
              "     default hidden behavior on the sphinx rendered scikit-learn.org.\n",
              "     See: https://github.com/scikit-learn/scikit-learn/issues/21755 */\n",
              "  display: inline-block !important;\n",
              "  position: relative;\n",
              "}\n",
              "\n",
              "#sk-container-id-3 div.sk-text-repr-fallback {\n",
              "  display: none;\n",
              "}\n",
              "\n",
              "div.sk-parallel-item,\n",
              "div.sk-serial,\n",
              "div.sk-item {\n",
              "  /* draw centered vertical line to link estimators */\n",
              "  background-image: linear-gradient(var(--sklearn-color-text-on-default-background), var(--sklearn-color-text-on-default-background));\n",
              "  background-size: 2px 100%;\n",
              "  background-repeat: no-repeat;\n",
              "  background-position: center center;\n",
              "}\n",
              "\n",
              "/* Parallel-specific style estimator block */\n",
              "\n",
              "#sk-container-id-3 div.sk-parallel-item::after {\n",
              "  content: \"\";\n",
              "  width: 100%;\n",
              "  border-bottom: 2px solid var(--sklearn-color-text-on-default-background);\n",
              "  flex-grow: 1;\n",
              "}\n",
              "\n",
              "#sk-container-id-3 div.sk-parallel {\n",
              "  display: flex;\n",
              "  align-items: stretch;\n",
              "  justify-content: center;\n",
              "  background-color: var(--sklearn-color-background);\n",
              "  position: relative;\n",
              "}\n",
              "\n",
              "#sk-container-id-3 div.sk-parallel-item {\n",
              "  display: flex;\n",
              "  flex-direction: column;\n",
              "}\n",
              "\n",
              "#sk-container-id-3 div.sk-parallel-item:first-child::after {\n",
              "  align-self: flex-end;\n",
              "  width: 50%;\n",
              "}\n",
              "\n",
              "#sk-container-id-3 div.sk-parallel-item:last-child::after {\n",
              "  align-self: flex-start;\n",
              "  width: 50%;\n",
              "}\n",
              "\n",
              "#sk-container-id-3 div.sk-parallel-item:only-child::after {\n",
              "  width: 0;\n",
              "}\n",
              "\n",
              "/* Serial-specific style estimator block */\n",
              "\n",
              "#sk-container-id-3 div.sk-serial {\n",
              "  display: flex;\n",
              "  flex-direction: column;\n",
              "  align-items: center;\n",
              "  background-color: var(--sklearn-color-background);\n",
              "  padding-right: 1em;\n",
              "  padding-left: 1em;\n",
              "}\n",
              "\n",
              "\n",
              "/* Toggleable style: style used for estimator/Pipeline/ColumnTransformer box that is\n",
              "clickable and can be expanded/collapsed.\n",
              "- Pipeline and ColumnTransformer use this feature and define the default style\n",
              "- Estimators will overwrite some part of the style using the `sk-estimator` class\n",
              "*/\n",
              "\n",
              "/* Pipeline and ColumnTransformer style (default) */\n",
              "\n",
              "#sk-container-id-3 div.sk-toggleable {\n",
              "  /* Default theme specific background. It is overwritten whether we have a\n",
              "  specific estimator or a Pipeline/ColumnTransformer */\n",
              "  background-color: var(--sklearn-color-background);\n",
              "}\n",
              "\n",
              "/* Toggleable label */\n",
              "#sk-container-id-3 label.sk-toggleable__label {\n",
              "  cursor: pointer;\n",
              "  display: flex;\n",
              "  width: 100%;\n",
              "  margin-bottom: 0;\n",
              "  padding: 0.5em;\n",
              "  box-sizing: border-box;\n",
              "  text-align: center;\n",
              "  align-items: start;\n",
              "  justify-content: space-between;\n",
              "  gap: 0.5em;\n",
              "}\n",
              "\n",
              "#sk-container-id-3 label.sk-toggleable__label .caption {\n",
              "  font-size: 0.6rem;\n",
              "  font-weight: lighter;\n",
              "  color: var(--sklearn-color-text-muted);\n",
              "}\n",
              "\n",
              "#sk-container-id-3 label.sk-toggleable__label-arrow:before {\n",
              "  /* Arrow on the left of the label */\n",
              "  content: \"▸\";\n",
              "  float: left;\n",
              "  margin-right: 0.25em;\n",
              "  color: var(--sklearn-color-icon);\n",
              "}\n",
              "\n",
              "#sk-container-id-3 label.sk-toggleable__label-arrow:hover:before {\n",
              "  color: var(--sklearn-color-text);\n",
              "}\n",
              "\n",
              "/* Toggleable content - dropdown */\n",
              "\n",
              "#sk-container-id-3 div.sk-toggleable__content {\n",
              "  max-height: 0;\n",
              "  max-width: 0;\n",
              "  overflow: hidden;\n",
              "  text-align: left;\n",
              "  /* unfitted */\n",
              "  background-color: var(--sklearn-color-unfitted-level-0);\n",
              "}\n",
              "\n",
              "#sk-container-id-3 div.sk-toggleable__content.fitted {\n",
              "  /* fitted */\n",
              "  background-color: var(--sklearn-color-fitted-level-0);\n",
              "}\n",
              "\n",
              "#sk-container-id-3 div.sk-toggleable__content pre {\n",
              "  margin: 0.2em;\n",
              "  border-radius: 0.25em;\n",
              "  color: var(--sklearn-color-text);\n",
              "  /* unfitted */\n",
              "  background-color: var(--sklearn-color-unfitted-level-0);\n",
              "}\n",
              "\n",
              "#sk-container-id-3 div.sk-toggleable__content.fitted pre {\n",
              "  /* unfitted */\n",
              "  background-color: var(--sklearn-color-fitted-level-0);\n",
              "}\n",
              "\n",
              "#sk-container-id-3 input.sk-toggleable__control:checked~div.sk-toggleable__content {\n",
              "  /* Expand drop-down */\n",
              "  max-height: 200px;\n",
              "  max-width: 100%;\n",
              "  overflow: auto;\n",
              "}\n",
              "\n",
              "#sk-container-id-3 input.sk-toggleable__control:checked~label.sk-toggleable__label-arrow:before {\n",
              "  content: \"▾\";\n",
              "}\n",
              "\n",
              "/* Pipeline/ColumnTransformer-specific style */\n",
              "\n",
              "#sk-container-id-3 div.sk-label input.sk-toggleable__control:checked~label.sk-toggleable__label {\n",
              "  color: var(--sklearn-color-text);\n",
              "  background-color: var(--sklearn-color-unfitted-level-2);\n",
              "}\n",
              "\n",
              "#sk-container-id-3 div.sk-label.fitted input.sk-toggleable__control:checked~label.sk-toggleable__label {\n",
              "  background-color: var(--sklearn-color-fitted-level-2);\n",
              "}\n",
              "\n",
              "/* Estimator-specific style */\n",
              "\n",
              "/* Colorize estimator box */\n",
              "#sk-container-id-3 div.sk-estimator input.sk-toggleable__control:checked~label.sk-toggleable__label {\n",
              "  /* unfitted */\n",
              "  background-color: var(--sklearn-color-unfitted-level-2);\n",
              "}\n",
              "\n",
              "#sk-container-id-3 div.sk-estimator.fitted input.sk-toggleable__control:checked~label.sk-toggleable__label {\n",
              "  /* fitted */\n",
              "  background-color: var(--sklearn-color-fitted-level-2);\n",
              "}\n",
              "\n",
              "#sk-container-id-3 div.sk-label label.sk-toggleable__label,\n",
              "#sk-container-id-3 div.sk-label label {\n",
              "  /* The background is the default theme color */\n",
              "  color: var(--sklearn-color-text-on-default-background);\n",
              "}\n",
              "\n",
              "/* On hover, darken the color of the background */\n",
              "#sk-container-id-3 div.sk-label:hover label.sk-toggleable__label {\n",
              "  color: var(--sklearn-color-text);\n",
              "  background-color: var(--sklearn-color-unfitted-level-2);\n",
              "}\n",
              "\n",
              "/* Label box, darken color on hover, fitted */\n",
              "#sk-container-id-3 div.sk-label.fitted:hover label.sk-toggleable__label.fitted {\n",
              "  color: var(--sklearn-color-text);\n",
              "  background-color: var(--sklearn-color-fitted-level-2);\n",
              "}\n",
              "\n",
              "/* Estimator label */\n",
              "\n",
              "#sk-container-id-3 div.sk-label label {\n",
              "  font-family: monospace;\n",
              "  font-weight: bold;\n",
              "  display: inline-block;\n",
              "  line-height: 1.2em;\n",
              "}\n",
              "\n",
              "#sk-container-id-3 div.sk-label-container {\n",
              "  text-align: center;\n",
              "}\n",
              "\n",
              "/* Estimator-specific */\n",
              "#sk-container-id-3 div.sk-estimator {\n",
              "  font-family: monospace;\n",
              "  border: 1px dotted var(--sklearn-color-border-box);\n",
              "  border-radius: 0.25em;\n",
              "  box-sizing: border-box;\n",
              "  margin-bottom: 0.5em;\n",
              "  /* unfitted */\n",
              "  background-color: var(--sklearn-color-unfitted-level-0);\n",
              "}\n",
              "\n",
              "#sk-container-id-3 div.sk-estimator.fitted {\n",
              "  /* fitted */\n",
              "  background-color: var(--sklearn-color-fitted-level-0);\n",
              "}\n",
              "\n",
              "/* on hover */\n",
              "#sk-container-id-3 div.sk-estimator:hover {\n",
              "  /* unfitted */\n",
              "  background-color: var(--sklearn-color-unfitted-level-2);\n",
              "}\n",
              "\n",
              "#sk-container-id-3 div.sk-estimator.fitted:hover {\n",
              "  /* fitted */\n",
              "  background-color: var(--sklearn-color-fitted-level-2);\n",
              "}\n",
              "\n",
              "/* Specification for estimator info (e.g. \"i\" and \"?\") */\n",
              "\n",
              "/* Common style for \"i\" and \"?\" */\n",
              "\n",
              ".sk-estimator-doc-link,\n",
              "a:link.sk-estimator-doc-link,\n",
              "a:visited.sk-estimator-doc-link {\n",
              "  float: right;\n",
              "  font-size: smaller;\n",
              "  line-height: 1em;\n",
              "  font-family: monospace;\n",
              "  background-color: var(--sklearn-color-background);\n",
              "  border-radius: 1em;\n",
              "  height: 1em;\n",
              "  width: 1em;\n",
              "  text-decoration: none !important;\n",
              "  margin-left: 0.5em;\n",
              "  text-align: center;\n",
              "  /* unfitted */\n",
              "  border: var(--sklearn-color-unfitted-level-1) 1pt solid;\n",
              "  color: var(--sklearn-color-unfitted-level-1);\n",
              "}\n",
              "\n",
              ".sk-estimator-doc-link.fitted,\n",
              "a:link.sk-estimator-doc-link.fitted,\n",
              "a:visited.sk-estimator-doc-link.fitted {\n",
              "  /* fitted */\n",
              "  border: var(--sklearn-color-fitted-level-1) 1pt solid;\n",
              "  color: var(--sklearn-color-fitted-level-1);\n",
              "}\n",
              "\n",
              "/* On hover */\n",
              "div.sk-estimator:hover .sk-estimator-doc-link:hover,\n",
              ".sk-estimator-doc-link:hover,\n",
              "div.sk-label-container:hover .sk-estimator-doc-link:hover,\n",
              ".sk-estimator-doc-link:hover {\n",
              "  /* unfitted */\n",
              "  background-color: var(--sklearn-color-unfitted-level-3);\n",
              "  color: var(--sklearn-color-background);\n",
              "  text-decoration: none;\n",
              "}\n",
              "\n",
              "div.sk-estimator.fitted:hover .sk-estimator-doc-link.fitted:hover,\n",
              ".sk-estimator-doc-link.fitted:hover,\n",
              "div.sk-label-container:hover .sk-estimator-doc-link.fitted:hover,\n",
              ".sk-estimator-doc-link.fitted:hover {\n",
              "  /* fitted */\n",
              "  background-color: var(--sklearn-color-fitted-level-3);\n",
              "  color: var(--sklearn-color-background);\n",
              "  text-decoration: none;\n",
              "}\n",
              "\n",
              "/* Span, style for the box shown on hovering the info icon */\n",
              ".sk-estimator-doc-link span {\n",
              "  display: none;\n",
              "  z-index: 9999;\n",
              "  position: relative;\n",
              "  font-weight: normal;\n",
              "  right: .2ex;\n",
              "  padding: .5ex;\n",
              "  margin: .5ex;\n",
              "  width: min-content;\n",
              "  min-width: 20ex;\n",
              "  max-width: 50ex;\n",
              "  color: var(--sklearn-color-text);\n",
              "  box-shadow: 2pt 2pt 4pt #999;\n",
              "  /* unfitted */\n",
              "  background: var(--sklearn-color-unfitted-level-0);\n",
              "  border: .5pt solid var(--sklearn-color-unfitted-level-3);\n",
              "}\n",
              "\n",
              ".sk-estimator-doc-link.fitted span {\n",
              "  /* fitted */\n",
              "  background: var(--sklearn-color-fitted-level-0);\n",
              "  border: var(--sklearn-color-fitted-level-3);\n",
              "}\n",
              "\n",
              ".sk-estimator-doc-link:hover span {\n",
              "  display: block;\n",
              "}\n",
              "\n",
              "/* \"?\"-specific style due to the `<a>` HTML tag */\n",
              "\n",
              "#sk-container-id-3 a.estimator_doc_link {\n",
              "  float: right;\n",
              "  font-size: 1rem;\n",
              "  line-height: 1em;\n",
              "  font-family: monospace;\n",
              "  background-color: var(--sklearn-color-background);\n",
              "  border-radius: 1rem;\n",
              "  height: 1rem;\n",
              "  width: 1rem;\n",
              "  text-decoration: none;\n",
              "  /* unfitted */\n",
              "  color: var(--sklearn-color-unfitted-level-1);\n",
              "  border: var(--sklearn-color-unfitted-level-1) 1pt solid;\n",
              "}\n",
              "\n",
              "#sk-container-id-3 a.estimator_doc_link.fitted {\n",
              "  /* fitted */\n",
              "  border: var(--sklearn-color-fitted-level-1) 1pt solid;\n",
              "  color: var(--sklearn-color-fitted-level-1);\n",
              "}\n",
              "\n",
              "/* On hover */\n",
              "#sk-container-id-3 a.estimator_doc_link:hover {\n",
              "  /* unfitted */\n",
              "  background-color: var(--sklearn-color-unfitted-level-3);\n",
              "  color: var(--sklearn-color-background);\n",
              "  text-decoration: none;\n",
              "}\n",
              "\n",
              "#sk-container-id-3 a.estimator_doc_link.fitted:hover {\n",
              "  /* fitted */\n",
              "  background-color: var(--sklearn-color-fitted-level-3);\n",
              "}\n",
              "</style><div id=\"sk-container-id-3\" class=\"sk-top-container\"><div class=\"sk-text-repr-fallback\"><pre>GridSearchCV(cv=5, estimator=KNeighborsClassifier(),\n",
              "             param_grid=[{&#x27;n_neighbors&#x27;: [3, 4, 5, 6],\n",
              "                          &#x27;weights&#x27;: [&#x27;uniform&#x27;, &#x27;distance&#x27;]}])</pre><b>In a Jupyter environment, please rerun this cell to show the HTML representation or trust the notebook. <br />On GitHub, the HTML representation is unable to render, please try loading this page with nbviewer.org.</b></div><div class=\"sk-container\" hidden><div class=\"sk-item sk-dashed-wrapped\"><div class=\"sk-label-container\"><div class=\"sk-label fitted sk-toggleable\"><input class=\"sk-toggleable__control sk-hidden--visually\" id=\"sk-estimator-id-3\" type=\"checkbox\" ><label for=\"sk-estimator-id-3\" class=\"sk-toggleable__label fitted sk-toggleable__label-arrow\"><div><div>GridSearchCV</div></div><div><a class=\"sk-estimator-doc-link fitted\" rel=\"noreferrer\" target=\"_blank\" href=\"https://scikit-learn.org/1.6/modules/generated/sklearn.model_selection.GridSearchCV.html\">?<span>Documentation for GridSearchCV</span></a><span class=\"sk-estimator-doc-link fitted\">i<span>Fitted</span></span></div></label><div class=\"sk-toggleable__content fitted\"><pre>GridSearchCV(cv=5, estimator=KNeighborsClassifier(),\n",
              "             param_grid=[{&#x27;n_neighbors&#x27;: [3, 4, 5, 6],\n",
              "                          &#x27;weights&#x27;: [&#x27;uniform&#x27;, &#x27;distance&#x27;]}])</pre></div> </div></div><div class=\"sk-parallel\"><div class=\"sk-parallel-item\"><div class=\"sk-item\"><div class=\"sk-label-container\"><div class=\"sk-label fitted sk-toggleable\"><input class=\"sk-toggleable__control sk-hidden--visually\" id=\"sk-estimator-id-4\" type=\"checkbox\" ><label for=\"sk-estimator-id-4\" class=\"sk-toggleable__label fitted sk-toggleable__label-arrow\"><div><div>best_estimator_: KNeighborsClassifier</div></div></label><div class=\"sk-toggleable__content fitted\"><pre>KNeighborsClassifier(n_neighbors=4, weights=&#x27;distance&#x27;)</pre></div> </div></div><div class=\"sk-serial\"><div class=\"sk-item\"><div class=\"sk-estimator fitted sk-toggleable\"><input class=\"sk-toggleable__control sk-hidden--visually\" id=\"sk-estimator-id-5\" type=\"checkbox\" ><label for=\"sk-estimator-id-5\" class=\"sk-toggleable__label fitted sk-toggleable__label-arrow\"><div><div>KNeighborsClassifier</div></div><div><a class=\"sk-estimator-doc-link fitted\" rel=\"noreferrer\" target=\"_blank\" href=\"https://scikit-learn.org/1.6/modules/generated/sklearn.neighbors.KNeighborsClassifier.html\">?<span>Documentation for KNeighborsClassifier</span></a></div></label><div class=\"sk-toggleable__content fitted\"><pre>KNeighborsClassifier(n_neighbors=4, weights=&#x27;distance&#x27;)</pre></div> </div></div></div></div></div></div></div></div></div>"
            ]
          },
          "metadata": {},
          "execution_count": 75
        }
      ]
    },
    {
      "cell_type": "code",
      "source": [
        "# view the best hyperparameters\n",
        "grid_search.best_params_"
      ],
      "metadata": {
        "colab": {
          "base_uri": "https://localhost:8080/"
        },
        "id": "TW-HuE3ZF7pN",
        "outputId": "4cf68a36-fc3d-432b-e375-9bc0402a067b"
      },
      "execution_count": 76,
      "outputs": [
        {
          "output_type": "execute_result",
          "data": {
            "text/plain": [
              "{'n_neighbors': 4, 'weights': 'distance'}"
            ]
          },
          "metadata": {},
          "execution_count": 76
        }
      ]
    },
    {
      "cell_type": "code",
      "source": [
        "# view accuracy score\n",
        "prev_score = baseline_accuracy\n",
        "current_score = grid_search.best_score_\n",
        "\n",
        "print(\n",
        "    f\"Previous Accuracy Score: {prev_score:.3f}\\n\"\n",
        "    f\"Current Accuracy Score: {current_score:.3f}\"\n",
        ")"
      ],
      "metadata": {
        "colab": {
          "base_uri": "https://localhost:8080/"
        },
        "id": "d0WqUj8AGNfH",
        "outputId": "d71fd581-2792-4876-8a82-b60a5b3403a9"
      },
      "execution_count": 79,
      "outputs": [
        {
          "output_type": "stream",
          "name": "stdout",
          "text": [
            "Previous Accuracy Score: 0.969\n",
            "Current Accuracy Score: 0.944\n"
          ]
        }
      ]
    },
    {
      "cell_type": "code",
      "source": [
        "# difference in accuracy\n",
        "delta = abs(current_score - prev_score)\n",
        "delta.round(3)"
      ],
      "metadata": {
        "colab": {
          "base_uri": "https://localhost:8080/"
        },
        "id": "Uo3Vyv7SHFHe",
        "outputId": "8bf98840-09d7-41ee-a7bb-07820030253c"
      },
      "execution_count": 81,
      "outputs": [
        {
          "output_type": "execute_result",
          "data": {
            "text/plain": [
              "np.float64(0.025)"
            ]
          },
          "metadata": {},
          "execution_count": 81
        }
      ]
    },
    {
      "cell_type": "markdown",
      "source": [
        "* Performance drops by 2.5% because of the training occuring on only the first 10,000 images"
      ],
      "metadata": {
        "id": "qDI6cntBGYSw"
      }
    },
    {
      "cell_type": "code",
      "source": [
        "# train again on the full training set\n",
        "grid_search.best_estimator_.fit(X_train, y_train)\n",
        "tuned_accuracy = grid_search.score(X_test, y_test)"
      ],
      "metadata": {
        "id": "cRfwpGSHHiK2"
      },
      "execution_count": 82,
      "outputs": []
    },
    {
      "cell_type": "code",
      "source": [
        "print(\n",
        "    f\"Baseline Accuracy Score: {prev_score:.3f}\\n\"\n",
        "    f\"Hyperparameter Tuned Accuracy Score on Test Set: {tuned_accuracy:.3f}\\n\"\n",
        "    f\"Absolute Percentage Difference: {(abs(prev_score-tuned_accuracy))*1000:.1f}%!\")"
      ],
      "metadata": {
        "colab": {
          "base_uri": "https://localhost:8080/"
        },
        "id": "iKQNRBJkIyFv",
        "outputId": "06278dca-3289-414a-8cf3-bc26dfe00b2a"
      },
      "execution_count": 97,
      "outputs": [
        {
          "output_type": "stream",
          "name": "stdout",
          "text": [
            "Baseline Accuracy Score: 0.969\n",
            "Hyperparameter Tuned Accuracy Score on Test Set: 0.971\n",
            "Absolute Percentage Difference: 2.6%!\n"
          ]
        }
      ]
    },
    {
      "cell_type": "markdown",
      "source": [
        "* There was a 2.6% increase in accuracy from the baseline!"
      ],
      "metadata": {
        "id": "H-x_CCsiKqI0"
      }
    },
    {
      "cell_type": "markdown",
      "source": [
        "# **Project Conclusion** <a name=\"conclusion\"></a>\n",
        "[Scroll back to contents ↑](#contents)\n",
        "* Completed Exploratory Data Analysis on the MNIST dataset\n",
        "* Explored how to select good performance metrics for classification tasks\n",
        "* Learned how to select the appropriate precision/recall trade-off\n",
        "* Compared different classifiers such as the SGDClassifier, SVC and KNeighbors models\n",
        "* Explored methods of evaluating results with Binary, Multilabel and Multiclass classifiers\n",
        "* Built classification systems for a variety of tasks such as image denoising, and True/False label comparisons."
      ],
      "metadata": {
        "id": "-k6gq4MkVucj"
      }
    }
  ]
}